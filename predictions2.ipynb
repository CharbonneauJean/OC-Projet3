{
 "cells": [
  {
   "cell_type": "code",
   "execution_count": 1,
   "metadata": {},
   "outputs": [],
   "source": [
    "import pandas as pd\n",
    "from MLUtils import DataAnalysis, DataEngineering\n",
    "\n",
    "import warnings\n",
    "warnings.filterwarnings(\"ignore\")"
   ]
  },
  {
   "cell_type": "code",
   "execution_count": 2,
   "metadata": {},
   "outputs": [],
   "source": [
    "# Importation du jeu de données\n",
    "df = pd.read_csv('data/2016_Building_Energy_Benchmarking.csv')"
   ]
  },
  {
   "cell_type": "code",
   "execution_count": 3,
   "metadata": {},
   "outputs": [
    {
     "name": "stdout",
     "output_type": "stream",
     "text": [
      "Nombre de colonnes supprimées :  5\n"
     ]
    },
    {
     "data": {
      "text/plain": [
       "['La colonne ThirdLargestPropertyUseType a été supprimée car elle ne contient que 17.65% de valeurs renseignées.',\n",
       " 'La colonne ThirdLargestPropertyUseTypeGFA a été supprimée car elle ne contient que 17.65% de valeurs renseignées.',\n",
       " 'La colonne YearsENERGYSTARCertified a été supprimée car elle ne contient que 3.52% de valeurs renseignées.',\n",
       " 'La colonne Comments a été supprimée car elle ne contient que 0.0% de valeurs renseignées.',\n",
       " 'La colonne Outlier a été supprimée car elle ne contient que 0.95% de valeurs renseignées.']"
      ]
     },
     "execution_count": 3,
     "metadata": {},
     "output_type": "execute_result"
    }
   ],
   "source": [
    "(df, logs, n_columns_removed) = DataEngineering.remove_columns_by_percentage(df, 0.3)\n",
    "\n",
    "print(\"Nombre de colonnes supprimées : \", n_columns_removed)\n",
    "\n",
    "logs"
   ]
  },
  {
   "cell_type": "code",
   "execution_count": 4,
   "metadata": {},
   "outputs": [
    {
     "name": "stdout",
     "output_type": "stream",
     "text": [
      "<class 'pandas.core.frame.DataFrame'>\n",
      "RangeIndex: 3376 entries, 0 to 3375\n",
      "Data columns (total 41 columns):\n",
      " #   Column                           Non-Null Count  Dtype  \n",
      "---  ------                           --------------  -----  \n",
      " 0   OSEBuildingID                    3376 non-null   int64  \n",
      " 1   DataYear                         3376 non-null   int64  \n",
      " 2   BuildingType                     3376 non-null   object \n",
      " 3   PrimaryPropertyType              3376 non-null   object \n",
      " 4   PropertyName                     3376 non-null   object \n",
      " 5   Address                          3376 non-null   object \n",
      " 6   City                             3376 non-null   object \n",
      " 7   State                            3376 non-null   object \n",
      " 8   ZipCode                          3360 non-null   float64\n",
      " 9   TaxParcelIdentificationNumber    3376 non-null   object \n",
      " 10  CouncilDistrictCode              3376 non-null   int64  \n",
      " 11  Neighborhood                     3376 non-null   object \n",
      " 12  Latitude                         3376 non-null   float64\n",
      " 13  Longitude                        3376 non-null   float64\n",
      " 14  YearBuilt                        3376 non-null   int64  \n",
      " 15  NumberofBuildings                3368 non-null   float64\n",
      " 16  NumberofFloors                   3376 non-null   int64  \n",
      " 17  PropertyGFATotal                 3376 non-null   int64  \n",
      " 18  PropertyGFAParking               3376 non-null   int64  \n",
      " 19  PropertyGFABuilding(s)           3376 non-null   int64  \n",
      " 20  ListOfAllPropertyUseTypes        3367 non-null   object \n",
      " 21  LargestPropertyUseType           3356 non-null   object \n",
      " 22  LargestPropertyUseTypeGFA        3356 non-null   float64\n",
      " 23  SecondLargestPropertyUseType     1679 non-null   object \n",
      " 24  SecondLargestPropertyUseTypeGFA  1679 non-null   float64\n",
      " 25  ENERGYSTARScore                  2533 non-null   float64\n",
      " 26  SiteEUI(kBtu/sf)                 3369 non-null   float64\n",
      " 27  SiteEUIWN(kBtu/sf)               3370 non-null   float64\n",
      " 28  SourceEUI(kBtu/sf)               3367 non-null   float64\n",
      " 29  SourceEUIWN(kBtu/sf)             3367 non-null   float64\n",
      " 30  SiteEnergyUse(kBtu)              3371 non-null   float64\n",
      " 31  SiteEnergyUseWN(kBtu)            3370 non-null   float64\n",
      " 32  SteamUse(kBtu)                   3367 non-null   float64\n",
      " 33  Electricity(kWh)                 3367 non-null   float64\n",
      " 34  Electricity(kBtu)                3367 non-null   float64\n",
      " 35  NaturalGas(therms)               3367 non-null   float64\n",
      " 36  NaturalGas(kBtu)                 3367 non-null   float64\n",
      " 37  DefaultData                      3376 non-null   bool   \n",
      " 38  ComplianceStatus                 3376 non-null   object \n",
      " 39  TotalGHGEmissions                3367 non-null   float64\n",
      " 40  GHGEmissionsIntensity            3367 non-null   float64\n",
      "dtypes: bool(1), float64(20), int64(8), object(12)\n",
      "memory usage: 1.0+ MB\n"
     ]
    }
   ],
   "source": [
    "df.info()"
   ]
  },
  {
   "cell_type": "code",
   "execution_count": null,
   "metadata": {},
   "outputs": [],
   "source": []
  }
 ],
 "metadata": {
  "kernelspec": {
   "display_name": "oc-p3",
   "language": "python",
   "name": "python3"
  },
  "language_info": {
   "codemirror_mode": {
    "name": "ipython",
    "version": 3
   },
   "file_extension": ".py",
   "mimetype": "text/x-python",
   "name": "python",
   "nbconvert_exporter": "python",
   "pygments_lexer": "ipython3",
   "version": "3.10.13"
  }
 },
 "nbformat": 4,
 "nbformat_minor": 2
}
