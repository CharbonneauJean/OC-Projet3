{
 "cells": [
  {
   "cell_type": "markdown",
   "metadata": {},
   "source": [
    "# Projet 3 - Anticipez les besoins en consommation de bâtiments\n",
    "\n",
    "## Notebook de selections des variables importantes\n",
    "\n",
    "Le but de ce notebook est d'utiliser le dataset clean généré par l'analyse exploratoire, et de créer des modèles prédictifs pour les consommations énergétiques et l'émission de CO2."
   ]
  },
  {
   "cell_type": "code",
   "execution_count": 1,
   "metadata": {},
   "outputs": [],
   "source": [
    "import pandas as pd\n",
    "from MLUtils import DataAnalysis\n",
    "\n",
    "import warnings\n",
    "warnings.filterwarnings(\"ignore\")"
   ]
  },
  {
   "cell_type": "code",
   "execution_count": 2,
   "metadata": {},
   "outputs": [],
   "source": [
    "# Importation du jeu de données\n",
    "df = pd.read_csv('data/clean.csv')"
   ]
  },
  {
   "cell_type": "code",
   "execution_count": 3,
   "metadata": {},
   "outputs": [
    {
     "name": "stdout",
     "output_type": "stream",
     "text": [
      "<class 'pandas.core.frame.DataFrame'>\n",
      "RangeIndex: 3337 entries, 0 to 3336\n",
      "Data columns (total 32 columns):\n",
      " #   Column                              Non-Null Count  Dtype  \n",
      "---  ------                              --------------  -----  \n",
      " 0   BuildingType                        3337 non-null   int64  \n",
      " 1   PrimaryPropertyType                 3337 non-null   int64  \n",
      " 2   NumberofBuildings                   3337 non-null   float64\n",
      " 3   NumberofFloors                      3337 non-null   float64\n",
      " 4   PropertyGFAParking                  3337 non-null   int64  \n",
      " 5   ENERGYSTARScore                     2524 non-null   float64\n",
      " 6   SiteEUI(kBtu/sf)                    3337 non-null   float64\n",
      " 7   SiteEUIWN(kBtu/sf)                  3337 non-null   float64\n",
      " 8   SourceEUI(kBtu/sf)                  3337 non-null   float64\n",
      " 9   SourceEUIWN(kBtu/sf)                3337 non-null   float64\n",
      " 10  SiteEnergyUse(kBtu)                 3337 non-null   float64\n",
      " 11  SiteEnergyUseWN(kBtu)               3337 non-null   float64\n",
      " 12  SteamUse(kBtu)                      3337 non-null   float64\n",
      " 13  NaturalGas(therms)                  3337 non-null   float64\n",
      " 14  NaturalGas(kBtu)                    3337 non-null   float64\n",
      " 15  TotalGHGEmissions                   3337 non-null   float64\n",
      " 16  GHGEmissionsIntensity               3337 non-null   float64\n",
      " 17  Neighborhood_BALLARD                3337 non-null   float64\n",
      " 18  Neighborhood_CENTRAL                3337 non-null   float64\n",
      " 19  Neighborhood_DELRIDGE               3337 non-null   float64\n",
      " 20  Neighborhood_DOWNTOWN               3337 non-null   float64\n",
      " 21  Neighborhood_EAST                   3337 non-null   float64\n",
      " 22  Neighborhood_GREATER DUWAMISH       3337 non-null   float64\n",
      " 23  Neighborhood_LAKE UNION             3337 non-null   float64\n",
      " 24  Neighborhood_MAGNOLIA / QUEEN ANNE  3337 non-null   float64\n",
      " 25  Neighborhood_NORTH                  3337 non-null   float64\n",
      " 26  Neighborhood_NORTHEAST              3337 non-null   float64\n",
      " 27  Neighborhood_NORTHWEST              3337 non-null   float64\n",
      " 28  Neighborhood_SOUTHEAST              3337 non-null   float64\n",
      " 29  Neighborhood_SOUTHWEST              3337 non-null   float64\n",
      " 30  Age                                 3337 non-null   float64\n",
      " 31  EnergyUse_Age_Ratio                 3337 non-null   float64\n",
      "dtypes: float64(29), int64(3)\n",
      "memory usage: 834.4 KB\n"
     ]
    }
   ],
   "source": [
    "df.info()"
   ]
  },
  {
   "cell_type": "code",
   "execution_count": 4,
   "metadata": {},
   "outputs": [
    {
     "data": {
      "text/html": [
       "<div>\n",
       "<style scoped>\n",
       "    .dataframe tbody tr th:only-of-type {\n",
       "        vertical-align: middle;\n",
       "    }\n",
       "\n",
       "    .dataframe tbody tr th {\n",
       "        vertical-align: top;\n",
       "    }\n",
       "\n",
       "    .dataframe thead th {\n",
       "        text-align: right;\n",
       "    }\n",
       "</style>\n",
       "<table border=\"1\" class=\"dataframe\">\n",
       "  <thead>\n",
       "    <tr style=\"text-align: right;\">\n",
       "      <th></th>\n",
       "      <th>BuildingType</th>\n",
       "      <th>PrimaryPropertyType</th>\n",
       "      <th>NumberofBuildings</th>\n",
       "      <th>NumberofFloors</th>\n",
       "      <th>PropertyGFAParking</th>\n",
       "      <th>ENERGYSTARScore</th>\n",
       "      <th>SiteEUI(kBtu/sf)</th>\n",
       "      <th>SiteEUIWN(kBtu/sf)</th>\n",
       "      <th>SourceEUI(kBtu/sf)</th>\n",
       "      <th>SourceEUIWN(kBtu/sf)</th>\n",
       "      <th>...</th>\n",
       "      <th>Neighborhood_GREATER DUWAMISH</th>\n",
       "      <th>Neighborhood_LAKE UNION</th>\n",
       "      <th>Neighborhood_MAGNOLIA / QUEEN ANNE</th>\n",
       "      <th>Neighborhood_NORTH</th>\n",
       "      <th>Neighborhood_NORTHEAST</th>\n",
       "      <th>Neighborhood_NORTHWEST</th>\n",
       "      <th>Neighborhood_SOUTHEAST</th>\n",
       "      <th>Neighborhood_SOUTHWEST</th>\n",
       "      <th>Age</th>\n",
       "      <th>EnergyUse_Age_Ratio</th>\n",
       "    </tr>\n",
       "  </thead>\n",
       "  <tbody>\n",
       "    <tr>\n",
       "      <th>count</th>\n",
       "      <td>3337.000000</td>\n",
       "      <td>3337.000000</td>\n",
       "      <td>3337.000000</td>\n",
       "      <td>3337.000000</td>\n",
       "      <td>3337.000000</td>\n",
       "      <td>2524.000000</td>\n",
       "      <td>3337.000000</td>\n",
       "      <td>3337.000000</td>\n",
       "      <td>3337.000000</td>\n",
       "      <td>3337.000000</td>\n",
       "      <td>...</td>\n",
       "      <td>3337.000000</td>\n",
       "      <td>3337.000000</td>\n",
       "      <td>3337.000000</td>\n",
       "      <td>3337.000000</td>\n",
       "      <td>3337.000000</td>\n",
       "      <td>3337.000000</td>\n",
       "      <td>3337.000000</td>\n",
       "      <td>3337.000000</td>\n",
       "      <td>3337.000000</td>\n",
       "      <td>3337.000000</td>\n",
       "    </tr>\n",
       "    <tr>\n",
       "      <th>mean</th>\n",
       "      <td>0.492958</td>\n",
       "      <td>1.002098</td>\n",
       "      <td>1.107582</td>\n",
       "      <td>1.198690</td>\n",
       "      <td>8063.891819</td>\n",
       "      <td>67.947306</td>\n",
       "      <td>55.075187</td>\n",
       "      <td>57.418430</td>\n",
       "      <td>135.028289</td>\n",
       "      <td>138.631885</td>\n",
       "      <td>...</td>\n",
       "      <td>0.112376</td>\n",
       "      <td>0.074618</td>\n",
       "      <td>0.125562</td>\n",
       "      <td>0.054840</td>\n",
       "      <td>0.082709</td>\n",
       "      <td>0.065328</td>\n",
       "      <td>0.028169</td>\n",
       "      <td>0.048846</td>\n",
       "      <td>3.776772</td>\n",
       "      <td>15.107291</td>\n",
       "    </tr>\n",
       "    <tr>\n",
       "      <th>std</th>\n",
       "      <td>0.500025</td>\n",
       "      <td>1.221925</td>\n",
       "      <td>2.118095</td>\n",
       "      <td>1.029832</td>\n",
       "      <td>32475.541333</td>\n",
       "      <td>26.851849</td>\n",
       "      <td>56.393783</td>\n",
       "      <td>57.270796</td>\n",
       "      <td>139.534209</td>\n",
       "      <td>139.315264</td>\n",
       "      <td>...</td>\n",
       "      <td>0.315876</td>\n",
       "      <td>0.262813</td>\n",
       "      <td>0.331405</td>\n",
       "      <td>0.227701</td>\n",
       "      <td>0.275483</td>\n",
       "      <td>0.247141</td>\n",
       "      <td>0.165480</td>\n",
       "      <td>0.215579</td>\n",
       "      <td>0.711167</td>\n",
       "      <td>16.018430</td>\n",
       "    </tr>\n",
       "    <tr>\n",
       "      <th>min</th>\n",
       "      <td>0.000000</td>\n",
       "      <td>0.000000</td>\n",
       "      <td>0.000000</td>\n",
       "      <td>-9.210340</td>\n",
       "      <td>0.000000</td>\n",
       "      <td>1.000000</td>\n",
       "      <td>0.400000</td>\n",
       "      <td>0.000000</td>\n",
       "      <td>0.000000</td>\n",
       "      <td>-2.100000</td>\n",
       "      <td>...</td>\n",
       "      <td>0.000000</td>\n",
       "      <td>0.000000</td>\n",
       "      <td>0.000000</td>\n",
       "      <td>0.000000</td>\n",
       "      <td>0.000000</td>\n",
       "      <td>0.000000</td>\n",
       "      <td>0.000000</td>\n",
       "      <td>0.000000</td>\n",
       "      <td>2.079454</td>\n",
       "      <td>0.148073</td>\n",
       "    </tr>\n",
       "    <tr>\n",
       "      <th>25%</th>\n",
       "      <td>0.000000</td>\n",
       "      <td>0.000000</td>\n",
       "      <td>1.000000</td>\n",
       "      <td>0.693197</td>\n",
       "      <td>0.000000</td>\n",
       "      <td>53.000000</td>\n",
       "      <td>28.000000</td>\n",
       "      <td>29.500000</td>\n",
       "      <td>74.900002</td>\n",
       "      <td>78.699997</td>\n",
       "      <td>...</td>\n",
       "      <td>0.000000</td>\n",
       "      <td>0.000000</td>\n",
       "      <td>0.000000</td>\n",
       "      <td>0.000000</td>\n",
       "      <td>0.000000</td>\n",
       "      <td>0.000000</td>\n",
       "      <td>0.000000</td>\n",
       "      <td>0.000000</td>\n",
       "      <td>3.258100</td>\n",
       "      <td>7.483743</td>\n",
       "    </tr>\n",
       "    <tr>\n",
       "      <th>50%</th>\n",
       "      <td>0.000000</td>\n",
       "      <td>0.000000</td>\n",
       "      <td>1.000000</td>\n",
       "      <td>1.386319</td>\n",
       "      <td>0.000000</td>\n",
       "      <td>75.000000</td>\n",
       "      <td>38.799999</td>\n",
       "      <td>41.000000</td>\n",
       "      <td>96.500000</td>\n",
       "      <td>101.400002</td>\n",
       "      <td>...</td>\n",
       "      <td>0.000000</td>\n",
       "      <td>0.000000</td>\n",
       "      <td>0.000000</td>\n",
       "      <td>0.000000</td>\n",
       "      <td>0.000000</td>\n",
       "      <td>0.000000</td>\n",
       "      <td>0.000000</td>\n",
       "      <td>0.000000</td>\n",
       "      <td>3.891822</td>\n",
       "      <td>10.937659</td>\n",
       "    </tr>\n",
       "    <tr>\n",
       "      <th>75%</th>\n",
       "      <td>1.000000</td>\n",
       "      <td>2.000000</td>\n",
       "      <td>1.000000</td>\n",
       "      <td>1.609458</td>\n",
       "      <td>0.000000</td>\n",
       "      <td>90.000000</td>\n",
       "      <td>60.599998</td>\n",
       "      <td>64.500000</td>\n",
       "      <td>144.800003</td>\n",
       "      <td>149.000000</td>\n",
       "      <td>...</td>\n",
       "      <td>0.000000</td>\n",
       "      <td>0.000000</td>\n",
       "      <td>0.000000</td>\n",
       "      <td>0.000000</td>\n",
       "      <td>0.000000</td>\n",
       "      <td>0.000000</td>\n",
       "      <td>0.000000</td>\n",
       "      <td>0.000000</td>\n",
       "      <td>4.317489</td>\n",
       "      <td>16.393659</td>\n",
       "    </tr>\n",
       "    <tr>\n",
       "      <th>max</th>\n",
       "      <td>1.000000</td>\n",
       "      <td>3.000000</td>\n",
       "      <td>111.000000</td>\n",
       "      <td>4.595121</td>\n",
       "      <td>512608.000000</td>\n",
       "      <td>100.000000</td>\n",
       "      <td>834.400024</td>\n",
       "      <td>834.400024</td>\n",
       "      <td>2620.000000</td>\n",
       "      <td>2620.000000</td>\n",
       "      <td>...</td>\n",
       "      <td>1.000000</td>\n",
       "      <td>1.000000</td>\n",
       "      <td>1.000000</td>\n",
       "      <td>1.000000</td>\n",
       "      <td>1.000000</td>\n",
       "      <td>1.000000</td>\n",
       "      <td>1.000000</td>\n",
       "      <td>1.000000</td>\n",
       "      <td>4.812185</td>\n",
       "      <td>247.549479</td>\n",
       "    </tr>\n",
       "  </tbody>\n",
       "</table>\n",
       "<p>8 rows × 32 columns</p>\n",
       "</div>"
      ],
      "text/plain": [
       "       BuildingType  PrimaryPropertyType  NumberofBuildings  NumberofFloors  \\\n",
       "count   3337.000000          3337.000000        3337.000000     3337.000000   \n",
       "mean       0.492958             1.002098           1.107582        1.198690   \n",
       "std        0.500025             1.221925           2.118095        1.029832   \n",
       "min        0.000000             0.000000           0.000000       -9.210340   \n",
       "25%        0.000000             0.000000           1.000000        0.693197   \n",
       "50%        0.000000             0.000000           1.000000        1.386319   \n",
       "75%        1.000000             2.000000           1.000000        1.609458   \n",
       "max        1.000000             3.000000         111.000000        4.595121   \n",
       "\n",
       "       PropertyGFAParking  ENERGYSTARScore  SiteEUI(kBtu/sf)  \\\n",
       "count         3337.000000      2524.000000       3337.000000   \n",
       "mean          8063.891819        67.947306         55.075187   \n",
       "std          32475.541333        26.851849         56.393783   \n",
       "min              0.000000         1.000000          0.400000   \n",
       "25%              0.000000        53.000000         28.000000   \n",
       "50%              0.000000        75.000000         38.799999   \n",
       "75%              0.000000        90.000000         60.599998   \n",
       "max         512608.000000       100.000000        834.400024   \n",
       "\n",
       "       SiteEUIWN(kBtu/sf)  SourceEUI(kBtu/sf)  SourceEUIWN(kBtu/sf)  ...  \\\n",
       "count         3337.000000         3337.000000           3337.000000  ...   \n",
       "mean            57.418430          135.028289            138.631885  ...   \n",
       "std             57.270796          139.534209            139.315264  ...   \n",
       "min              0.000000            0.000000             -2.100000  ...   \n",
       "25%             29.500000           74.900002             78.699997  ...   \n",
       "50%             41.000000           96.500000            101.400002  ...   \n",
       "75%             64.500000          144.800003            149.000000  ...   \n",
       "max            834.400024         2620.000000           2620.000000  ...   \n",
       "\n",
       "       Neighborhood_GREATER DUWAMISH  Neighborhood_LAKE UNION  \\\n",
       "count                    3337.000000              3337.000000   \n",
       "mean                        0.112376                 0.074618   \n",
       "std                         0.315876                 0.262813   \n",
       "min                         0.000000                 0.000000   \n",
       "25%                         0.000000                 0.000000   \n",
       "50%                         0.000000                 0.000000   \n",
       "75%                         0.000000                 0.000000   \n",
       "max                         1.000000                 1.000000   \n",
       "\n",
       "       Neighborhood_MAGNOLIA / QUEEN ANNE  Neighborhood_NORTH  \\\n",
       "count                         3337.000000         3337.000000   \n",
       "mean                             0.125562            0.054840   \n",
       "std                              0.331405            0.227701   \n",
       "min                              0.000000            0.000000   \n",
       "25%                              0.000000            0.000000   \n",
       "50%                              0.000000            0.000000   \n",
       "75%                              0.000000            0.000000   \n",
       "max                              1.000000            1.000000   \n",
       "\n",
       "       Neighborhood_NORTHEAST  Neighborhood_NORTHWEST  Neighborhood_SOUTHEAST  \\\n",
       "count             3337.000000             3337.000000             3337.000000   \n",
       "mean                 0.082709                0.065328                0.028169   \n",
       "std                  0.275483                0.247141                0.165480   \n",
       "min                  0.000000                0.000000                0.000000   \n",
       "25%                  0.000000                0.000000                0.000000   \n",
       "50%                  0.000000                0.000000                0.000000   \n",
       "75%                  0.000000                0.000000                0.000000   \n",
       "max                  1.000000                1.000000                1.000000   \n",
       "\n",
       "       Neighborhood_SOUTHWEST          Age  EnergyUse_Age_Ratio  \n",
       "count             3337.000000  3337.000000          3337.000000  \n",
       "mean                 0.048846     3.776772            15.107291  \n",
       "std                  0.215579     0.711167            16.018430  \n",
       "min                  0.000000     2.079454             0.148073  \n",
       "25%                  0.000000     3.258100             7.483743  \n",
       "50%                  0.000000     3.891822            10.937659  \n",
       "75%                  0.000000     4.317489            16.393659  \n",
       "max                  1.000000     4.812185           247.549479  \n",
       "\n",
       "[8 rows x 32 columns]"
      ]
     },
     "execution_count": 4,
     "metadata": {},
     "output_type": "execute_result"
    }
   ],
   "source": [
    "df.describe()"
   ]
  },
  {
   "cell_type": "markdown",
   "metadata": {},
   "source": [
    "#### Normalisation des données avec MinMaxScaler"
   ]
  },
  {
   "cell_type": "code",
   "execution_count": 5,
   "metadata": {},
   "outputs": [
    {
     "data": {
      "text/html": [
       "<div>\n",
       "<style scoped>\n",
       "    .dataframe tbody tr th:only-of-type {\n",
       "        vertical-align: middle;\n",
       "    }\n",
       "\n",
       "    .dataframe tbody tr th {\n",
       "        vertical-align: top;\n",
       "    }\n",
       "\n",
       "    .dataframe thead th {\n",
       "        text-align: right;\n",
       "    }\n",
       "</style>\n",
       "<table border=\"1\" class=\"dataframe\">\n",
       "  <thead>\n",
       "    <tr style=\"text-align: right;\">\n",
       "      <th></th>\n",
       "      <th>BuildingType</th>\n",
       "      <th>PrimaryPropertyType</th>\n",
       "      <th>NumberofBuildings</th>\n",
       "      <th>NumberofFloors</th>\n",
       "      <th>PropertyGFAParking</th>\n",
       "      <th>ENERGYSTARScore</th>\n",
       "      <th>SiteEUI(kBtu/sf)</th>\n",
       "      <th>SiteEUIWN(kBtu/sf)</th>\n",
       "      <th>SourceEUI(kBtu/sf)</th>\n",
       "      <th>SourceEUIWN(kBtu/sf)</th>\n",
       "      <th>...</th>\n",
       "      <th>Neighborhood_LAKE UNION</th>\n",
       "      <th>Neighborhood_MAGNOLIA / QUEEN ANNE</th>\n",
       "      <th>Neighborhood_NORTH</th>\n",
       "      <th>Neighborhood_NORTHEAST</th>\n",
       "      <th>Neighborhood_NORTHWEST</th>\n",
       "      <th>Neighborhood_SOUTHEAST</th>\n",
       "      <th>Neighborhood_SOUTHWEST</th>\n",
       "      <th>Age</th>\n",
       "      <th>EnergyUse_Age_Ratio</th>\n",
       "      <th>index</th>\n",
       "    </tr>\n",
       "  </thead>\n",
       "  <tbody>\n",
       "    <tr>\n",
       "      <th>0</th>\n",
       "      <td>1.0</td>\n",
       "      <td>0.333333</td>\n",
       "      <td>0.009009</td>\n",
       "      <td>0.847147</td>\n",
       "      <td>0.000000</td>\n",
       "      <td>0.595960</td>\n",
       "      <td>0.097482</td>\n",
       "      <td>0.101031</td>\n",
       "      <td>0.069656</td>\n",
       "      <td>0.072881</td>\n",
       "      <td>...</td>\n",
       "      <td>0.0</td>\n",
       "      <td>0.0</td>\n",
       "      <td>0.0</td>\n",
       "      <td>0.0</td>\n",
       "      <td>0.0</td>\n",
       "      <td>0.0</td>\n",
       "      <td>0.0</td>\n",
       "      <td>0.909308</td>\n",
       "      <td>0.071752</td>\n",
       "      <td>0</td>\n",
       "    </tr>\n",
       "    <tr>\n",
       "      <th>1</th>\n",
       "      <td>1.0</td>\n",
       "      <td>0.333333</td>\n",
       "      <td>0.009009</td>\n",
       "      <td>0.840844</td>\n",
       "      <td>0.029387</td>\n",
       "      <td>0.606061</td>\n",
       "      <td>0.113189</td>\n",
       "      <td>0.117330</td>\n",
       "      <td>0.067214</td>\n",
       "      <td>0.069219</td>\n",
       "      <td>...</td>\n",
       "      <td>0.0</td>\n",
       "      <td>0.0</td>\n",
       "      <td>0.0</td>\n",
       "      <td>0.0</td>\n",
       "      <td>0.0</td>\n",
       "      <td>0.0</td>\n",
       "      <td>0.0</td>\n",
       "      <td>0.445118</td>\n",
       "      <td>0.115664</td>\n",
       "      <td>1</td>\n",
       "    </tr>\n",
       "    <tr>\n",
       "      <th>2</th>\n",
       "      <td>1.0</td>\n",
       "      <td>0.333333</td>\n",
       "      <td>0.009009</td>\n",
       "      <td>0.936145</td>\n",
       "      <td>0.383759</td>\n",
       "      <td>0.424242</td>\n",
       "      <td>0.114628</td>\n",
       "      <td>0.117090</td>\n",
       "      <td>0.092328</td>\n",
       "      <td>0.093894</td>\n",
       "      <td>...</td>\n",
       "      <td>0.0</td>\n",
       "      <td>0.0</td>\n",
       "      <td>0.0</td>\n",
       "      <td>0.0</td>\n",
       "      <td>0.0</td>\n",
       "      <td>0.0</td>\n",
       "      <td>0.0</td>\n",
       "      <td>0.698763</td>\n",
       "      <td>0.096678</td>\n",
       "      <td>2</td>\n",
       "    </tr>\n",
       "    <tr>\n",
       "      <th>3</th>\n",
       "      <td>1.0</td>\n",
       "      <td>0.333333</td>\n",
       "      <td>0.009009</td>\n",
       "      <td>0.833941</td>\n",
       "      <td>0.000000</td>\n",
       "      <td>0.555556</td>\n",
       "      <td>0.132374</td>\n",
       "      <td>0.135786</td>\n",
       "      <td>0.082519</td>\n",
       "      <td>0.086229</td>\n",
       "      <td>...</td>\n",
       "      <td>0.0</td>\n",
       "      <td>0.0</td>\n",
       "      <td>0.0</td>\n",
       "      <td>0.0</td>\n",
       "      <td>0.0</td>\n",
       "      <td>0.0</td>\n",
       "      <td>0.0</td>\n",
       "      <td>0.913100</td>\n",
       "      <td>0.097299</td>\n",
       "      <td>3</td>\n",
       "    </tr>\n",
       "    <tr>\n",
       "      <th>4</th>\n",
       "      <td>1.0</td>\n",
       "      <td>0.333333</td>\n",
       "      <td>0.009009</td>\n",
       "      <td>0.876517</td>\n",
       "      <td>0.120950</td>\n",
       "      <td>0.747475</td>\n",
       "      <td>0.137170</td>\n",
       "      <td>0.142258</td>\n",
       "      <td>0.080687</td>\n",
       "      <td>0.083025</td>\n",
       "      <td>...</td>\n",
       "      <td>0.0</td>\n",
       "      <td>0.0</td>\n",
       "      <td>0.0</td>\n",
       "      <td>0.0</td>\n",
       "      <td>0.0</td>\n",
       "      <td>0.0</td>\n",
       "      <td>0.0</td>\n",
       "      <td>0.615409</td>\n",
       "      <td>0.122772</td>\n",
       "      <td>4</td>\n",
       "    </tr>\n",
       "  </tbody>\n",
       "</table>\n",
       "<p>5 rows × 33 columns</p>\n",
       "</div>"
      ],
      "text/plain": [
       "   BuildingType  PrimaryPropertyType  NumberofBuildings  NumberofFloors  \\\n",
       "0           1.0             0.333333           0.009009        0.847147   \n",
       "1           1.0             0.333333           0.009009        0.840844   \n",
       "2           1.0             0.333333           0.009009        0.936145   \n",
       "3           1.0             0.333333           0.009009        0.833941   \n",
       "4           1.0             0.333333           0.009009        0.876517   \n",
       "\n",
       "   PropertyGFAParking  ENERGYSTARScore  SiteEUI(kBtu/sf)  SiteEUIWN(kBtu/sf)  \\\n",
       "0            0.000000         0.595960          0.097482            0.101031   \n",
       "1            0.029387         0.606061          0.113189            0.117330   \n",
       "2            0.383759         0.424242          0.114628            0.117090   \n",
       "3            0.000000         0.555556          0.132374            0.135786   \n",
       "4            0.120950         0.747475          0.137170            0.142258   \n",
       "\n",
       "   SourceEUI(kBtu/sf)  SourceEUIWN(kBtu/sf)  ...  Neighborhood_LAKE UNION  \\\n",
       "0            0.069656              0.072881  ...                      0.0   \n",
       "1            0.067214              0.069219  ...                      0.0   \n",
       "2            0.092328              0.093894  ...                      0.0   \n",
       "3            0.082519              0.086229  ...                      0.0   \n",
       "4            0.080687              0.083025  ...                      0.0   \n",
       "\n",
       "   Neighborhood_MAGNOLIA / QUEEN ANNE  Neighborhood_NORTH  \\\n",
       "0                                 0.0                 0.0   \n",
       "1                                 0.0                 0.0   \n",
       "2                                 0.0                 0.0   \n",
       "3                                 0.0                 0.0   \n",
       "4                                 0.0                 0.0   \n",
       "\n",
       "   Neighborhood_NORTHEAST  Neighborhood_NORTHWEST  Neighborhood_SOUTHEAST  \\\n",
       "0                     0.0                     0.0                     0.0   \n",
       "1                     0.0                     0.0                     0.0   \n",
       "2                     0.0                     0.0                     0.0   \n",
       "3                     0.0                     0.0                     0.0   \n",
       "4                     0.0                     0.0                     0.0   \n",
       "\n",
       "   Neighborhood_SOUTHWEST       Age  EnergyUse_Age_Ratio  index  \n",
       "0                     0.0  0.909308             0.071752      0  \n",
       "1                     0.0  0.445118             0.115664      1  \n",
       "2                     0.0  0.698763             0.096678      2  \n",
       "3                     0.0  0.913100             0.097299      3  \n",
       "4                     0.0  0.615409             0.122772      4  \n",
       "\n",
       "[5 rows x 33 columns]"
      ]
     },
     "execution_count": 5,
     "metadata": {},
     "output_type": "execute_result"
    }
   ],
   "source": [
    "from sklearn.preprocessing import MinMaxScaler\n",
    "import pandas as pd\n",
    "\n",
    "# Sélection des colonnes numériques\n",
    "numeric_columns = df.select_dtypes(include=['int64', 'float64']).columns\n",
    "\n",
    "# Sélection des colonnes non numériques\n",
    "non_numeric_columns = df.select_dtypes(exclude=['int64', 'float64']).columns\n",
    "\n",
    "# Création du scaler\n",
    "scaler = MinMaxScaler()\n",
    "\n",
    "# Application de la normalisation sur les colonnes numériques\n",
    "scaled_numeric_data = scaler.fit_transform(df[numeric_columns])\n",
    "\n",
    "# Création d'un DataFrame pour les données normalisées\n",
    "df_scaled_numeric = pd.DataFrame(scaled_numeric_data, columns=numeric_columns)\n",
    "\n",
    "# Combinaison des données numériques normalisées avec les données non numériques\n",
    "df_scaled = pd.concat([df_scaled_numeric, df[non_numeric_columns].reset_index()], axis=1)\n",
    "\n",
    "# Affichage des premières lignes pour vérifier la création de df_scaled\n",
    "df_scaled.head()\n",
    "\n"
   ]
  },
  {
   "cell_type": "code",
   "execution_count": 6,
   "metadata": {},
   "outputs": [
    {
     "name": "stdout",
     "output_type": "stream",
     "text": [
      "<class 'pandas.core.frame.DataFrame'>\n",
      "RangeIndex: 3337 entries, 0 to 3336\n",
      "Data columns (total 33 columns):\n",
      " #   Column                              Non-Null Count  Dtype  \n",
      "---  ------                              --------------  -----  \n",
      " 0   BuildingType                        3337 non-null   float64\n",
      " 1   PrimaryPropertyType                 3337 non-null   float64\n",
      " 2   NumberofBuildings                   3337 non-null   float64\n",
      " 3   NumberofFloors                      3337 non-null   float64\n",
      " 4   PropertyGFAParking                  3337 non-null   float64\n",
      " 5   ENERGYSTARScore                     2524 non-null   float64\n",
      " 6   SiteEUI(kBtu/sf)                    3337 non-null   float64\n",
      " 7   SiteEUIWN(kBtu/sf)                  3337 non-null   float64\n",
      " 8   SourceEUI(kBtu/sf)                  3337 non-null   float64\n",
      " 9   SourceEUIWN(kBtu/sf)                3337 non-null   float64\n",
      " 10  SiteEnergyUse(kBtu)                 3337 non-null   float64\n",
      " 11  SiteEnergyUseWN(kBtu)               3337 non-null   float64\n",
      " 12  SteamUse(kBtu)                      3337 non-null   float64\n",
      " 13  NaturalGas(therms)                  3337 non-null   float64\n",
      " 14  NaturalGas(kBtu)                    3337 non-null   float64\n",
      " 15  TotalGHGEmissions                   3337 non-null   float64\n",
      " 16  GHGEmissionsIntensity               3337 non-null   float64\n",
      " 17  Neighborhood_BALLARD                3337 non-null   float64\n",
      " 18  Neighborhood_CENTRAL                3337 non-null   float64\n",
      " 19  Neighborhood_DELRIDGE               3337 non-null   float64\n",
      " 20  Neighborhood_DOWNTOWN               3337 non-null   float64\n",
      " 21  Neighborhood_EAST                   3337 non-null   float64\n",
      " 22  Neighborhood_GREATER DUWAMISH       3337 non-null   float64\n",
      " 23  Neighborhood_LAKE UNION             3337 non-null   float64\n",
      " 24  Neighborhood_MAGNOLIA / QUEEN ANNE  3337 non-null   float64\n",
      " 25  Neighborhood_NORTH                  3337 non-null   float64\n",
      " 26  Neighborhood_NORTHEAST              3337 non-null   float64\n",
      " 27  Neighborhood_NORTHWEST              3337 non-null   float64\n",
      " 28  Neighborhood_SOUTHEAST              3337 non-null   float64\n",
      " 29  Neighborhood_SOUTHWEST              3337 non-null   float64\n",
      " 30  Age                                 3337 non-null   float64\n",
      " 31  EnergyUse_Age_Ratio                 3337 non-null   float64\n",
      " 32  index                               3337 non-null   int64  \n",
      "dtypes: float64(32), int64(1)\n",
      "memory usage: 860.4 KB\n"
     ]
    }
   ],
   "source": [
    "df_scaled.info()"
   ]
  },
  {
   "cell_type": "markdown",
   "metadata": {},
   "source": [
    "## Nous avons maintenant un dataframe contenant des colonnes normalisées."
   ]
  },
  {
   "cell_type": "markdown",
   "metadata": {},
   "source": [
    "Nous allons maintenant nous intéresser à la colonne energystarscore.\n",
    "\n",
    "Notre objectif sera de voir ses correlations avec les autres colonnes, et de décider s'il convient de la conserver ou non selon ce critère."
   ]
  },
  {
   "cell_type": "code",
   "execution_count": 7,
   "metadata": {},
   "outputs": [],
   "source": [
    "# Remove lines with an empty ENERGYSTARScore\n",
    "df_scaled = df_scaled.dropna(subset=['ENERGYSTARScore'])"
   ]
  },
  {
   "cell_type": "code",
   "execution_count": 8,
   "metadata": {},
   "outputs": [],
   "source": [
    "import pandas as pd\n",
    "from sklearn.model_selection import train_test_split\n",
    "\n",
    "# Séparation des caractéristiques et des cibles\n",
    "X_with_energy_star = df_scaled.drop(['SiteEnergyUse(kBtu)', 'TotalGHGEmissions'], axis=1)\n",
    "X_without_energy_star = df_scaled.drop(['SiteEnergyUse(kBtu)', 'TotalGHGEmissions', 'ENERGYSTARScore'], axis=1)\n",
    "\n",
    "# Cibles\n",
    "y_site_energy_use = df_scaled['SiteEnergyUse(kBtu)']\n",
    "y_total_ghg_emissions = df_scaled['TotalGHGEmissions']\n",
    "\n",
    "\n"
   ]
  },
  {
   "cell_type": "code",
   "execution_count": 9,
   "metadata": {},
   "outputs": [
    {
     "name": "stdout",
     "output_type": "stream",
     "text": [
      "MSE avec ENERGYSTARScore: 6.914882214571374e-07, sans ENERGYSTARScore: 6.83050149289074e-07\n",
      "MSE avec ENERGYSTARScore: 2.568030883957832e-06, sans ENERGYSTARScore: 1.1989059462400657e-06\n"
     ]
    }
   ],
   "source": [
    "from sklearn.linear_model import LinearRegression\n",
    "from sklearn.metrics import mean_squared_error\n",
    "\n",
    "# Séparation des ensembles d'apprentissage et de test\n",
    "X_train_with, X_test_with, y_train, y_test = train_test_split(X_with_energy_star, y_site_energy_use, test_size=0.2, random_state=42)\n",
    "X_train_without, X_test_without, _, _ = train_test_split(X_without_energy_star, y_site_energy_use, test_size=0.2, random_state=42)\n",
    "\n",
    "# Avec ENERGYSTARScore\n",
    "lin_reg_with = LinearRegression().fit(X_train_with, y_train)\n",
    "y_pred_with = lin_reg_with.predict(X_test_with)\n",
    "mse_with = mean_squared_error(y_test, y_pred_with)\n",
    "\n",
    "# Sans ENERGYSTARScore\n",
    "lin_reg_without = LinearRegression().fit(X_train_without, y_train)\n",
    "y_pred_without = lin_reg_without.predict(X_test_without)\n",
    "mse_without = mean_squared_error(y_test, y_pred_without)\n",
    "\n",
    "print(f\"MSE avec ENERGYSTARScore: {mse_with}, sans ENERGYSTARScore: {mse_without}\")\n",
    "\n",
    "from sklearn.tree import DecisionTreeRegressor\n",
    "\n",
    "# Avec ENERGYSTARScore\n",
    "tree_reg_with = DecisionTreeRegressor(random_state=42).fit(X_train_with, y_train)\n",
    "y_pred_with = tree_reg_with.predict(X_test_with)\n",
    "mse_with = mean_squared_error(y_test, y_pred_with)\n",
    "\n",
    "# Sans ENERGYSTARScore\n",
    "tree_reg_without = DecisionTreeRegressor(random_state=42).fit(X_train_without, y_train)\n",
    "y_pred_without = tree_reg_without.predict(X_test_without)\n",
    "mse_without = mean_squared_error(y_test, y_pred_without)\n",
    "\n",
    "print(f\"MSE avec ENERGYSTARScore: {mse_with}, sans ENERGYSTARScore: {mse_without}\")\n"
   ]
  },
  {
   "cell_type": "code",
   "execution_count": 10,
   "metadata": {},
   "outputs": [
    {
     "name": "stdout",
     "output_type": "stream",
     "text": [
      "MSE avec ENERGYSTARScore: 2.1231364342785522e-07, sans ENERGYSTARScore: 2.1268805926534396e-07\n",
      "MSE avec ENERGYSTARScore: 0.00029648261754656243, sans ENERGYSTARScore: 0.0007598804249569138\n"
     ]
    }
   ],
   "source": [
    "from sklearn.linear_model import LinearRegression\n",
    "from sklearn.metrics import mean_squared_error\n",
    "\n",
    "# Séparation des ensembles d'apprentissage et de test\n",
    "X_train_with, X_test_with, y_train, y_test = train_test_split(X_with_energy_star, y_total_ghg_emissions, test_size=0.2, random_state=42)\n",
    "X_train_without, X_test_without, _, _ = train_test_split(X_without_energy_star, y_total_ghg_emissions, test_size=0.2, random_state=42)\n",
    "\n",
    "# Avec ENERGYSTARScore\n",
    "lin_reg_with = LinearRegression().fit(X_train_with, y_train)\n",
    "y_pred_with = lin_reg_with.predict(X_test_with)\n",
    "mse_with = mean_squared_error(y_test, y_pred_with)\n",
    "\n",
    "# Sans ENERGYSTARScore\n",
    "lin_reg_without = LinearRegression().fit(X_train_without, y_train)\n",
    "y_pred_without = lin_reg_without.predict(X_test_without)\n",
    "mse_without = mean_squared_error(y_test, y_pred_without)\n",
    "\n",
    "print(f\"MSE avec ENERGYSTARScore: {mse_with}, sans ENERGYSTARScore: {mse_without}\")\n",
    "\n",
    "from sklearn.tree import DecisionTreeRegressor\n",
    "\n",
    "# Avec ENERGYSTARScore\n",
    "tree_reg_with = DecisionTreeRegressor(random_state=42).fit(X_train_with, y_train)\n",
    "y_pred_with = tree_reg_with.predict(X_test_with)\n",
    "mse_with = mean_squared_error(y_test, y_pred_with)\n",
    "\n",
    "# Sans ENERGYSTARScore\n",
    "tree_reg_without = DecisionTreeRegressor(random_state=42).fit(X_train_without, y_train)\n",
    "y_pred_without = tree_reg_without.predict(X_test_without)\n",
    "mse_without = mean_squared_error(y_test, y_pred_without)\n",
    "\n",
    "print(f\"MSE avec ENERGYSTARScore: {mse_with}, sans ENERGYSTARScore: {mse_without}\")"
   ]
  },
  {
   "cell_type": "markdown",
   "metadata": {},
   "source": [
    "### Nous constatons, selon notre analyse, que la colonne ENERGYSTARScore ne semble pas avoir d'importance, ni pour l'estimation de TotalEnergyUse, ni pour celui de TotalGHGEmission, que ce soit dans le cas d'une utilisation d'un modèle linéaire ou d'un modèle non-linéaire. En effet les valeurs MSE sont les mêmes avec ou sans cette colonne. Nous allons donc supprimer cette colonne pour la suite de notre analyse de modèles."
   ]
  },
  {
   "cell_type": "code",
   "execution_count": 11,
   "metadata": {},
   "outputs": [],
   "source": [
    "# remove the ENERGYSTARScore column\n",
    "df_scaled_without_energystarscore = df_scaled.drop('ENERGYSTARScore', axis=1)\n",
    "\n",
    "# drop the index column\n",
    "df_scaled_without_energystarscore = df_scaled_without_energystarscore.drop('index', axis=1)"
   ]
  },
  {
   "cell_type": "markdown",
   "metadata": {},
   "source": [
    "## Correlation des variables\n",
    "\n",
    "Nous allons maintenant faire un tableau de correlation en utilisant la méthode de Pearson des variables afin d'observer si les colonnes cibles sont correlés (ce que nous suspectons fortement)"
   ]
  },
  {
   "cell_type": "code",
   "execution_count": 12,
   "metadata": {},
   "outputs": [
    {
     "data": {
      "text/html": [
       "<div>\n",
       "<style scoped>\n",
       "    .dataframe tbody tr th:only-of-type {\n",
       "        vertical-align: middle;\n",
       "    }\n",
       "\n",
       "    .dataframe tbody tr th {\n",
       "        vertical-align: top;\n",
       "    }\n",
       "\n",
       "    .dataframe thead th {\n",
       "        text-align: right;\n",
       "    }\n",
       "</style>\n",
       "<table border=\"1\" class=\"dataframe\">\n",
       "  <thead>\n",
       "    <tr style=\"text-align: right;\">\n",
       "      <th></th>\n",
       "      <th>BuildingType</th>\n",
       "      <th>PrimaryPropertyType</th>\n",
       "      <th>NumberofBuildings</th>\n",
       "      <th>NumberofFloors</th>\n",
       "      <th>PropertyGFAParking</th>\n",
       "      <th>SiteEUI(kBtu/sf)</th>\n",
       "      <th>SiteEUIWN(kBtu/sf)</th>\n",
       "      <th>SourceEUI(kBtu/sf)</th>\n",
       "      <th>SourceEUIWN(kBtu/sf)</th>\n",
       "      <th>SiteEnergyUse(kBtu)</th>\n",
       "      <th>...</th>\n",
       "      <th>Neighborhood_GREATER DUWAMISH</th>\n",
       "      <th>Neighborhood_LAKE UNION</th>\n",
       "      <th>Neighborhood_MAGNOLIA / QUEEN ANNE</th>\n",
       "      <th>Neighborhood_NORTH</th>\n",
       "      <th>Neighborhood_NORTHEAST</th>\n",
       "      <th>Neighborhood_NORTHWEST</th>\n",
       "      <th>Neighborhood_SOUTHEAST</th>\n",
       "      <th>Neighborhood_SOUTHWEST</th>\n",
       "      <th>Age</th>\n",
       "      <th>EnergyUse_Age_Ratio</th>\n",
       "    </tr>\n",
       "  </thead>\n",
       "  <tbody>\n",
       "    <tr>\n",
       "      <th>BuildingType</th>\n",
       "      <td>1.000000</td>\n",
       "      <td>0.787884</td>\n",
       "      <td>-0.029649</td>\n",
       "      <td>-0.278710</td>\n",
       "      <td>0.175707</td>\n",
       "      <td>0.289604</td>\n",
       "      <td>0.286057</td>\n",
       "      <td>0.277347</td>\n",
       "      <td>0.268299</td>\n",
       "      <td>0.173161</td>\n",
       "      <td>...</td>\n",
       "      <td>0.306366</td>\n",
       "      <td>0.057988</td>\n",
       "      <td>-0.113706</td>\n",
       "      <td>-0.074019</td>\n",
       "      <td>-0.009380</td>\n",
       "      <td>-0.042743</td>\n",
       "      <td>0.010199</td>\n",
       "      <td>-0.093302</td>\n",
       "      <td>0.193001</td>\n",
       "      <td>0.252760</td>\n",
       "    </tr>\n",
       "    <tr>\n",
       "      <th>PrimaryPropertyType</th>\n",
       "      <td>0.787884</td>\n",
       "      <td>1.000000</td>\n",
       "      <td>-0.012790</td>\n",
       "      <td>-0.361152</td>\n",
       "      <td>0.040775</td>\n",
       "      <td>0.228689</td>\n",
       "      <td>0.230558</td>\n",
       "      <td>0.208384</td>\n",
       "      <td>0.202743</td>\n",
       "      <td>0.119240</td>\n",
       "      <td>...</td>\n",
       "      <td>0.438730</td>\n",
       "      <td>-0.012086</td>\n",
       "      <td>-0.102316</td>\n",
       "      <td>-0.071652</td>\n",
       "      <td>-0.014874</td>\n",
       "      <td>-0.019977</td>\n",
       "      <td>0.020544</td>\n",
       "      <td>-0.030901</td>\n",
       "      <td>0.168430</td>\n",
       "      <td>0.205635</td>\n",
       "    </tr>\n",
       "    <tr>\n",
       "      <th>NumberofBuildings</th>\n",
       "      <td>-0.029649</td>\n",
       "      <td>-0.012790</td>\n",
       "      <td>1.000000</td>\n",
       "      <td>0.007995</td>\n",
       "      <td>-0.008143</td>\n",
       "      <td>0.058790</td>\n",
       "      <td>0.055161</td>\n",
       "      <td>0.038309</td>\n",
       "      <td>0.034798</td>\n",
       "      <td>0.258180</td>\n",
       "      <td>...</td>\n",
       "      <td>-0.035029</td>\n",
       "      <td>-0.001920</td>\n",
       "      <td>-0.008516</td>\n",
       "      <td>0.010540</td>\n",
       "      <td>0.045570</td>\n",
       "      <td>0.065225</td>\n",
       "      <td>-0.001431</td>\n",
       "      <td>-0.013344</td>\n",
       "      <td>-0.026493</td>\n",
       "      <td>0.060383</td>\n",
       "    </tr>\n",
       "    <tr>\n",
       "      <th>NumberofFloors</th>\n",
       "      <td>-0.278710</td>\n",
       "      <td>-0.361152</td>\n",
       "      <td>0.007995</td>\n",
       "      <td>1.000000</td>\n",
       "      <td>0.269267</td>\n",
       "      <td>-0.032403</td>\n",
       "      <td>-0.044040</td>\n",
       "      <td>0.000469</td>\n",
       "      <td>-0.004573</td>\n",
       "      <td>0.157052</td>\n",
       "      <td>...</td>\n",
       "      <td>-0.272744</td>\n",
       "      <td>0.035168</td>\n",
       "      <td>0.033770</td>\n",
       "      <td>-0.033183</td>\n",
       "      <td>-0.124800</td>\n",
       "      <td>-0.049849</td>\n",
       "      <td>-0.051157</td>\n",
       "      <td>-0.008327</td>\n",
       "      <td>-0.178605</td>\n",
       "      <td>0.001307</td>\n",
       "    </tr>\n",
       "    <tr>\n",
       "      <th>PropertyGFAParking</th>\n",
       "      <td>0.175707</td>\n",
       "      <td>0.040775</td>\n",
       "      <td>-0.008143</td>\n",
       "      <td>0.269267</td>\n",
       "      <td>1.000000</td>\n",
       "      <td>0.102505</td>\n",
       "      <td>0.090696</td>\n",
       "      <td>0.137284</td>\n",
       "      <td>0.128858</td>\n",
       "      <td>0.240020</td>\n",
       "      <td>...</td>\n",
       "      <td>-0.071820</td>\n",
       "      <td>0.103397</td>\n",
       "      <td>-0.015734</td>\n",
       "      <td>-0.038063</td>\n",
       "      <td>-0.036777</td>\n",
       "      <td>-0.050260</td>\n",
       "      <td>-0.033250</td>\n",
       "      <td>-0.035118</td>\n",
       "      <td>-0.176548</td>\n",
       "      <td>0.141842</td>\n",
       "    </tr>\n",
       "    <tr>\n",
       "      <th>SiteEUI(kBtu/sf)</th>\n",
       "      <td>0.289604</td>\n",
       "      <td>0.228689</td>\n",
       "      <td>0.058790</td>\n",
       "      <td>-0.032403</td>\n",
       "      <td>0.102505</td>\n",
       "      <td>1.000000</td>\n",
       "      <td>0.995943</td>\n",
       "      <td>0.945074</td>\n",
       "      <td>0.943214</td>\n",
       "      <td>0.410142</td>\n",
       "      <td>...</td>\n",
       "      <td>-0.032165</td>\n",
       "      <td>0.024113</td>\n",
       "      <td>-0.032568</td>\n",
       "      <td>-0.040431</td>\n",
       "      <td>0.049470</td>\n",
       "      <td>-0.032347</td>\n",
       "      <td>-0.014246</td>\n",
       "      <td>-0.051638</td>\n",
       "      <td>0.029582</td>\n",
       "      <td>0.965069</td>\n",
       "    </tr>\n",
       "    <tr>\n",
       "      <th>SiteEUIWN(kBtu/sf)</th>\n",
       "      <td>0.286057</td>\n",
       "      <td>0.230558</td>\n",
       "      <td>0.055161</td>\n",
       "      <td>-0.044040</td>\n",
       "      <td>0.090696</td>\n",
       "      <td>0.995943</td>\n",
       "      <td>1.000000</td>\n",
       "      <td>0.932883</td>\n",
       "      <td>0.937769</td>\n",
       "      <td>0.400882</td>\n",
       "      <td>...</td>\n",
       "      <td>-0.027787</td>\n",
       "      <td>0.020397</td>\n",
       "      <td>-0.031924</td>\n",
       "      <td>-0.040626</td>\n",
       "      <td>0.049617</td>\n",
       "      <td>-0.032936</td>\n",
       "      <td>-0.012645</td>\n",
       "      <td>-0.052870</td>\n",
       "      <td>0.044357</td>\n",
       "      <td>0.957949</td>\n",
       "    </tr>\n",
       "    <tr>\n",
       "      <th>SourceEUI(kBtu/sf)</th>\n",
       "      <td>0.277347</td>\n",
       "      <td>0.208384</td>\n",
       "      <td>0.038309</td>\n",
       "      <td>0.000469</td>\n",
       "      <td>0.137284</td>\n",
       "      <td>0.945074</td>\n",
       "      <td>0.932883</td>\n",
       "      <td>1.000000</td>\n",
       "      <td>0.996715</td>\n",
       "      <td>0.381227</td>\n",
       "      <td>...</td>\n",
       "      <td>-0.036852</td>\n",
       "      <td>0.041214</td>\n",
       "      <td>-0.031926</td>\n",
       "      <td>-0.019651</td>\n",
       "      <td>0.054331</td>\n",
       "      <td>-0.033443</td>\n",
       "      <td>-0.014713</td>\n",
       "      <td>-0.041276</td>\n",
       "      <td>-0.025459</td>\n",
       "      <td>0.925386</td>\n",
       "    </tr>\n",
       "    <tr>\n",
       "      <th>SourceEUIWN(kBtu/sf)</th>\n",
       "      <td>0.268299</td>\n",
       "      <td>0.202743</td>\n",
       "      <td>0.034798</td>\n",
       "      <td>-0.004573</td>\n",
       "      <td>0.128858</td>\n",
       "      <td>0.943214</td>\n",
       "      <td>0.937769</td>\n",
       "      <td>0.996715</td>\n",
       "      <td>1.000000</td>\n",
       "      <td>0.374278</td>\n",
       "      <td>...</td>\n",
       "      <td>-0.037376</td>\n",
       "      <td>0.038982</td>\n",
       "      <td>-0.030781</td>\n",
       "      <td>-0.017723</td>\n",
       "      <td>0.055587</td>\n",
       "      <td>-0.033346</td>\n",
       "      <td>-0.013298</td>\n",
       "      <td>-0.041307</td>\n",
       "      <td>-0.018639</td>\n",
       "      <td>0.922361</td>\n",
       "    </tr>\n",
       "    <tr>\n",
       "      <th>SiteEnergyUse(kBtu)</th>\n",
       "      <td>0.173161</td>\n",
       "      <td>0.119240</td>\n",
       "      <td>0.258180</td>\n",
       "      <td>0.157052</td>\n",
       "      <td>0.240020</td>\n",
       "      <td>0.410142</td>\n",
       "      <td>0.400882</td>\n",
       "      <td>0.381227</td>\n",
       "      <td>0.374278</td>\n",
       "      <td>1.000000</td>\n",
       "      <td>...</td>\n",
       "      <td>-0.005358</td>\n",
       "      <td>0.002581</td>\n",
       "      <td>-0.054077</td>\n",
       "      <td>-0.032238</td>\n",
       "      <td>-0.009258</td>\n",
       "      <td>-0.025523</td>\n",
       "      <td>-0.018711</td>\n",
       "      <td>-0.038369</td>\n",
       "      <td>-0.060516</td>\n",
       "      <td>0.415816</td>\n",
       "    </tr>\n",
       "    <tr>\n",
       "      <th>SiteEnergyUseWN(kBtu)</th>\n",
       "      <td>0.170701</td>\n",
       "      <td>0.118862</td>\n",
       "      <td>0.253866</td>\n",
       "      <td>0.152358</td>\n",
       "      <td>0.235328</td>\n",
       "      <td>0.404278</td>\n",
       "      <td>0.399565</td>\n",
       "      <td>0.373877</td>\n",
       "      <td>0.371220</td>\n",
       "      <td>0.998115</td>\n",
       "      <td>...</td>\n",
       "      <td>-0.003034</td>\n",
       "      <td>0.002289</td>\n",
       "      <td>-0.053642</td>\n",
       "      <td>-0.031382</td>\n",
       "      <td>-0.008529</td>\n",
       "      <td>-0.024877</td>\n",
       "      <td>-0.017684</td>\n",
       "      <td>-0.038599</td>\n",
       "      <td>-0.058248</td>\n",
       "      <td>0.409667</td>\n",
       "    </tr>\n",
       "    <tr>\n",
       "      <th>SteamUse(kBtu)</th>\n",
       "      <td>0.061692</td>\n",
       "      <td>0.042443</td>\n",
       "      <td>0.280675</td>\n",
       "      <td>0.054360</td>\n",
       "      <td>0.021210</td>\n",
       "      <td>0.118630</td>\n",
       "      <td>0.114795</td>\n",
       "      <td>0.092244</td>\n",
       "      <td>0.089002</td>\n",
       "      <td>0.544490</td>\n",
       "      <td>...</td>\n",
       "      <td>-0.020599</td>\n",
       "      <td>-0.018540</td>\n",
       "      <td>-0.024343</td>\n",
       "      <td>-0.015515</td>\n",
       "      <td>-0.016421</td>\n",
       "      <td>-0.017345</td>\n",
       "      <td>-0.011197</td>\n",
       "      <td>-0.014198</td>\n",
       "      <td>0.008945</td>\n",
       "      <td>0.117755</td>\n",
       "    </tr>\n",
       "    <tr>\n",
       "      <th>NaturalGas(therms)</th>\n",
       "      <td>0.075539</td>\n",
       "      <td>0.074705</td>\n",
       "      <td>0.147235</td>\n",
       "      <td>0.031526</td>\n",
       "      <td>0.042443</td>\n",
       "      <td>0.231948</td>\n",
       "      <td>0.233106</td>\n",
       "      <td>0.142056</td>\n",
       "      <td>0.139542</td>\n",
       "      <td>0.707457</td>\n",
       "      <td>...</td>\n",
       "      <td>0.034085</td>\n",
       "      <td>-0.005314</td>\n",
       "      <td>-0.029935</td>\n",
       "      <td>-0.019223</td>\n",
       "      <td>0.014593</td>\n",
       "      <td>0.004968</td>\n",
       "      <td>-0.003172</td>\n",
       "      <td>-0.016536</td>\n",
       "      <td>-0.023352</td>\n",
       "      <td>0.231604</td>\n",
       "    </tr>\n",
       "    <tr>\n",
       "      <th>NaturalGas(kBtu)</th>\n",
       "      <td>0.075539</td>\n",
       "      <td>0.074705</td>\n",
       "      <td>0.147235</td>\n",
       "      <td>0.031526</td>\n",
       "      <td>0.042443</td>\n",
       "      <td>0.231948</td>\n",
       "      <td>0.233106</td>\n",
       "      <td>0.142056</td>\n",
       "      <td>0.139542</td>\n",
       "      <td>0.707457</td>\n",
       "      <td>...</td>\n",
       "      <td>0.034085</td>\n",
       "      <td>-0.005314</td>\n",
       "      <td>-0.029935</td>\n",
       "      <td>-0.019223</td>\n",
       "      <td>0.014593</td>\n",
       "      <td>0.004968</td>\n",
       "      <td>-0.003172</td>\n",
       "      <td>-0.016536</td>\n",
       "      <td>-0.023352</td>\n",
       "      <td>0.231604</td>\n",
       "    </tr>\n",
       "    <tr>\n",
       "      <th>TotalGHGEmissions</th>\n",
       "      <td>0.113952</td>\n",
       "      <td>0.092143</td>\n",
       "      <td>0.288639</td>\n",
       "      <td>0.080451</td>\n",
       "      <td>0.087306</td>\n",
       "      <td>0.287145</td>\n",
       "      <td>0.283917</td>\n",
       "      <td>0.213807</td>\n",
       "      <td>0.209149</td>\n",
       "      <td>0.920345</td>\n",
       "      <td>...</td>\n",
       "      <td>0.008837</td>\n",
       "      <td>-0.012268</td>\n",
       "      <td>-0.042179</td>\n",
       "      <td>-0.026397</td>\n",
       "      <td>-0.001585</td>\n",
       "      <td>-0.011319</td>\n",
       "      <td>-0.011629</td>\n",
       "      <td>-0.025408</td>\n",
       "      <td>-0.022309</td>\n",
       "      <td>0.287810</td>\n",
       "    </tr>\n",
       "    <tr>\n",
       "      <th>GHGEmissionsIntensity</th>\n",
       "      <td>0.206349</td>\n",
       "      <td>0.185547</td>\n",
       "      <td>0.101075</td>\n",
       "      <td>-0.090883</td>\n",
       "      <td>-0.045530</td>\n",
       "      <td>0.627167</td>\n",
       "      <td>0.643130</td>\n",
       "      <td>0.422368</td>\n",
       "      <td>0.425170</td>\n",
       "      <td>0.519683</td>\n",
       "      <td>...</td>\n",
       "      <td>0.018515</td>\n",
       "      <td>-0.044140</td>\n",
       "      <td>-0.039036</td>\n",
       "      <td>-0.055532</td>\n",
       "      <td>0.019478</td>\n",
       "      <td>-0.012754</td>\n",
       "      <td>-0.001704</td>\n",
       "      <td>-0.046558</td>\n",
       "      <td>0.156460</td>\n",
       "      <td>0.569895</td>\n",
       "    </tr>\n",
       "    <tr>\n",
       "      <th>Neighborhood_BALLARD</th>\n",
       "      <td>-0.001915</td>\n",
       "      <td>0.028361</td>\n",
       "      <td>0.009406</td>\n",
       "      <td>-0.025152</td>\n",
       "      <td>-0.029354</td>\n",
       "      <td>0.014726</td>\n",
       "      <td>0.013545</td>\n",
       "      <td>0.009513</td>\n",
       "      <td>0.006713</td>\n",
       "      <td>-0.014355</td>\n",
       "      <td>...</td>\n",
       "      <td>-0.064457</td>\n",
       "      <td>-0.058015</td>\n",
       "      <td>-0.076173</td>\n",
       "      <td>-0.048549</td>\n",
       "      <td>-0.060830</td>\n",
       "      <td>-0.054274</td>\n",
       "      <td>-0.035036</td>\n",
       "      <td>-0.044426</td>\n",
       "      <td>-0.062341</td>\n",
       "      <td>0.026375</td>\n",
       "    </tr>\n",
       "    <tr>\n",
       "      <th>Neighborhood_CENTRAL</th>\n",
       "      <td>-0.038596</td>\n",
       "      <td>-0.041042</td>\n",
       "      <td>0.009011</td>\n",
       "      <td>-0.018287</td>\n",
       "      <td>-0.034282</td>\n",
       "      <td>-0.006504</td>\n",
       "      <td>-0.004857</td>\n",
       "      <td>-0.012906</td>\n",
       "      <td>-0.011258</td>\n",
       "      <td>-0.012453</td>\n",
       "      <td>...</td>\n",
       "      <td>-0.065152</td>\n",
       "      <td>-0.058640</td>\n",
       "      <td>-0.076994</td>\n",
       "      <td>-0.049073</td>\n",
       "      <td>-0.061486</td>\n",
       "      <td>-0.054859</td>\n",
       "      <td>-0.035413</td>\n",
       "      <td>-0.044905</td>\n",
       "      <td>-0.001861</td>\n",
       "      <td>-0.007145</td>\n",
       "    </tr>\n",
       "    <tr>\n",
       "      <th>Neighborhood_DELRIDGE</th>\n",
       "      <td>0.015255</td>\n",
       "      <td>0.028185</td>\n",
       "      <td>0.016448</td>\n",
       "      <td>-0.079120</td>\n",
       "      <td>-0.038981</td>\n",
       "      <td>-0.002150</td>\n",
       "      <td>-0.001223</td>\n",
       "      <td>-0.006045</td>\n",
       "      <td>-0.004765</td>\n",
       "      <td>-0.015436</td>\n",
       "      <td>...</td>\n",
       "      <td>-0.053529</td>\n",
       "      <td>-0.048180</td>\n",
       "      <td>-0.063260</td>\n",
       "      <td>-0.040319</td>\n",
       "      <td>-0.050518</td>\n",
       "      <td>-0.045073</td>\n",
       "      <td>-0.029096</td>\n",
       "      <td>-0.036894</td>\n",
       "      <td>-0.043277</td>\n",
       "      <td>-0.001795</td>\n",
       "    </tr>\n",
       "    <tr>\n",
       "      <th>Neighborhood_DOWNTOWN</th>\n",
       "      <td>0.157122</td>\n",
       "      <td>-0.012286</td>\n",
       "      <td>-0.044672</td>\n",
       "      <td>0.329825</td>\n",
       "      <td>0.187680</td>\n",
       "      <td>0.086471</td>\n",
       "      <td>0.077450</td>\n",
       "      <td>0.101141</td>\n",
       "      <td>0.094609</td>\n",
       "      <td>0.142633</td>\n",
       "      <td>...</td>\n",
       "      <td>-0.141716</td>\n",
       "      <td>-0.127553</td>\n",
       "      <td>-0.167476</td>\n",
       "      <td>-0.106742</td>\n",
       "      <td>-0.133743</td>\n",
       "      <td>-0.119327</td>\n",
       "      <td>-0.077031</td>\n",
       "      <td>-0.097675</td>\n",
       "      <td>0.132520</td>\n",
       "      <td>0.058927</td>\n",
       "    </tr>\n",
       "    <tr>\n",
       "      <th>Neighborhood_EAST</th>\n",
       "      <td>-0.201541</td>\n",
       "      <td>-0.169940</td>\n",
       "      <td>-0.013637</td>\n",
       "      <td>0.070868</td>\n",
       "      <td>-0.019487</td>\n",
       "      <td>-0.005677</td>\n",
       "      <td>0.002005</td>\n",
       "      <td>-0.045226</td>\n",
       "      <td>-0.040338</td>\n",
       "      <td>0.005920</td>\n",
       "      <td>...</td>\n",
       "      <td>-0.133924</td>\n",
       "      <td>-0.120539</td>\n",
       "      <td>-0.158267</td>\n",
       "      <td>-0.100873</td>\n",
       "      <td>-0.126389</td>\n",
       "      <td>-0.112766</td>\n",
       "      <td>-0.072795</td>\n",
       "      <td>-0.092305</td>\n",
       "      <td>0.101905</td>\n",
       "      <td>-0.022852</td>\n",
       "    </tr>\n",
       "    <tr>\n",
       "      <th>Neighborhood_GREATER DUWAMISH</th>\n",
       "      <td>0.306366</td>\n",
       "      <td>0.438730</td>\n",
       "      <td>-0.035029</td>\n",
       "      <td>-0.272744</td>\n",
       "      <td>-0.071820</td>\n",
       "      <td>-0.032165</td>\n",
       "      <td>-0.027787</td>\n",
       "      <td>-0.036852</td>\n",
       "      <td>-0.037376</td>\n",
       "      <td>-0.005358</td>\n",
       "      <td>...</td>\n",
       "      <td>1.000000</td>\n",
       "      <td>-0.094577</td>\n",
       "      <td>-0.124179</td>\n",
       "      <td>-0.079146</td>\n",
       "      <td>-0.099167</td>\n",
       "      <td>-0.088478</td>\n",
       "      <td>-0.057116</td>\n",
       "      <td>-0.072424</td>\n",
       "      <td>0.094799</td>\n",
       "      <td>-0.048817</td>\n",
       "    </tr>\n",
       "    <tr>\n",
       "      <th>Neighborhood_LAKE UNION</th>\n",
       "      <td>0.057988</td>\n",
       "      <td>-0.012086</td>\n",
       "      <td>-0.001920</td>\n",
       "      <td>0.035168</td>\n",
       "      <td>0.103397</td>\n",
       "      <td>0.024113</td>\n",
       "      <td>0.020397</td>\n",
       "      <td>0.041214</td>\n",
       "      <td>0.038982</td>\n",
       "      <td>0.002581</td>\n",
       "      <td>...</td>\n",
       "      <td>-0.094577</td>\n",
       "      <td>1.000000</td>\n",
       "      <td>-0.111768</td>\n",
       "      <td>-0.071236</td>\n",
       "      <td>-0.089256</td>\n",
       "      <td>-0.079635</td>\n",
       "      <td>-0.051408</td>\n",
       "      <td>-0.065186</td>\n",
       "      <td>-0.166347</td>\n",
       "      <td>0.063102</td>\n",
       "    </tr>\n",
       "    <tr>\n",
       "      <th>Neighborhood_MAGNOLIA / QUEEN ANNE</th>\n",
       "      <td>-0.113706</td>\n",
       "      <td>-0.102316</td>\n",
       "      <td>-0.008516</td>\n",
       "      <td>0.033770</td>\n",
       "      <td>-0.015734</td>\n",
       "      <td>-0.032568</td>\n",
       "      <td>-0.031924</td>\n",
       "      <td>-0.031926</td>\n",
       "      <td>-0.030781</td>\n",
       "      <td>-0.054077</td>\n",
       "      <td>...</td>\n",
       "      <td>-0.124179</td>\n",
       "      <td>-0.111768</td>\n",
       "      <td>1.000000</td>\n",
       "      <td>-0.093533</td>\n",
       "      <td>-0.117193</td>\n",
       "      <td>-0.104561</td>\n",
       "      <td>-0.067498</td>\n",
       "      <td>-0.085588</td>\n",
       "      <td>-0.021316</td>\n",
       "      <td>-0.027112</td>\n",
       "    </tr>\n",
       "    <tr>\n",
       "      <th>Neighborhood_NORTH</th>\n",
       "      <td>-0.074019</td>\n",
       "      <td>-0.071652</td>\n",
       "      <td>0.010540</td>\n",
       "      <td>-0.033183</td>\n",
       "      <td>-0.038063</td>\n",
       "      <td>-0.040431</td>\n",
       "      <td>-0.040626</td>\n",
       "      <td>-0.019651</td>\n",
       "      <td>-0.017723</td>\n",
       "      <td>-0.032238</td>\n",
       "      <td>...</td>\n",
       "      <td>-0.079146</td>\n",
       "      <td>-0.071236</td>\n",
       "      <td>-0.093533</td>\n",
       "      <td>1.000000</td>\n",
       "      <td>-0.074693</td>\n",
       "      <td>-0.066642</td>\n",
       "      <td>-0.043020</td>\n",
       "      <td>-0.054550</td>\n",
       "      <td>-0.034375</td>\n",
       "      <td>-0.032670</td>\n",
       "    </tr>\n",
       "    <tr>\n",
       "      <th>Neighborhood_NORTHEAST</th>\n",
       "      <td>-0.009380</td>\n",
       "      <td>-0.014874</td>\n",
       "      <td>0.045570</td>\n",
       "      <td>-0.124800</td>\n",
       "      <td>-0.036777</td>\n",
       "      <td>0.049470</td>\n",
       "      <td>0.049617</td>\n",
       "      <td>0.054331</td>\n",
       "      <td>0.055587</td>\n",
       "      <td>-0.009258</td>\n",
       "      <td>...</td>\n",
       "      <td>-0.099167</td>\n",
       "      <td>-0.089256</td>\n",
       "      <td>-0.117193</td>\n",
       "      <td>-0.074693</td>\n",
       "      <td>1.000000</td>\n",
       "      <td>-0.083500</td>\n",
       "      <td>-0.053903</td>\n",
       "      <td>-0.068349</td>\n",
       "      <td>-0.028354</td>\n",
       "      <td>0.051112</td>\n",
       "    </tr>\n",
       "    <tr>\n",
       "      <th>Neighborhood_NORTHWEST</th>\n",
       "      <td>-0.042743</td>\n",
       "      <td>-0.019977</td>\n",
       "      <td>0.065225</td>\n",
       "      <td>-0.049849</td>\n",
       "      <td>-0.050260</td>\n",
       "      <td>-0.032347</td>\n",
       "      <td>-0.032936</td>\n",
       "      <td>-0.033443</td>\n",
       "      <td>-0.033346</td>\n",
       "      <td>-0.025523</td>\n",
       "      <td>...</td>\n",
       "      <td>-0.088478</td>\n",
       "      <td>-0.079635</td>\n",
       "      <td>-0.104561</td>\n",
       "      <td>-0.066642</td>\n",
       "      <td>-0.083500</td>\n",
       "      <td>1.000000</td>\n",
       "      <td>-0.048093</td>\n",
       "      <td>-0.060982</td>\n",
       "      <td>-0.041723</td>\n",
       "      <td>-0.030894</td>\n",
       "    </tr>\n",
       "    <tr>\n",
       "      <th>Neighborhood_SOUTHEAST</th>\n",
       "      <td>0.010199</td>\n",
       "      <td>0.020544</td>\n",
       "      <td>-0.001431</td>\n",
       "      <td>-0.051157</td>\n",
       "      <td>-0.033250</td>\n",
       "      <td>-0.014246</td>\n",
       "      <td>-0.012645</td>\n",
       "      <td>-0.014713</td>\n",
       "      <td>-0.013298</td>\n",
       "      <td>-0.018711</td>\n",
       "      <td>...</td>\n",
       "      <td>-0.057116</td>\n",
       "      <td>-0.051408</td>\n",
       "      <td>-0.067498</td>\n",
       "      <td>-0.043020</td>\n",
       "      <td>-0.053903</td>\n",
       "      <td>-0.048093</td>\n",
       "      <td>1.000000</td>\n",
       "      <td>-0.039366</td>\n",
       "      <td>-0.024340</td>\n",
       "      <td>-0.008953</td>\n",
       "    </tr>\n",
       "    <tr>\n",
       "      <th>Neighborhood_SOUTHWEST</th>\n",
       "      <td>-0.093302</td>\n",
       "      <td>-0.030901</td>\n",
       "      <td>-0.013344</td>\n",
       "      <td>-0.008327</td>\n",
       "      <td>-0.035118</td>\n",
       "      <td>-0.051638</td>\n",
       "      <td>-0.052870</td>\n",
       "      <td>-0.041276</td>\n",
       "      <td>-0.041307</td>\n",
       "      <td>-0.038369</td>\n",
       "      <td>...</td>\n",
       "      <td>-0.072424</td>\n",
       "      <td>-0.065186</td>\n",
       "      <td>-0.085588</td>\n",
       "      <td>-0.054550</td>\n",
       "      <td>-0.068349</td>\n",
       "      <td>-0.060982</td>\n",
       "      <td>-0.039366</td>\n",
       "      <td>1.000000</td>\n",
       "      <td>-0.050336</td>\n",
       "      <td>-0.037227</td>\n",
       "    </tr>\n",
       "    <tr>\n",
       "      <th>Age</th>\n",
       "      <td>0.193001</td>\n",
       "      <td>0.168430</td>\n",
       "      <td>-0.026493</td>\n",
       "      <td>-0.178605</td>\n",
       "      <td>-0.176548</td>\n",
       "      <td>0.029582</td>\n",
       "      <td>0.044357</td>\n",
       "      <td>-0.025459</td>\n",
       "      <td>-0.018639</td>\n",
       "      <td>-0.060516</td>\n",
       "      <td>...</td>\n",
       "      <td>0.094799</td>\n",
       "      <td>-0.166347</td>\n",
       "      <td>-0.021316</td>\n",
       "      <td>-0.034375</td>\n",
       "      <td>-0.028354</td>\n",
       "      <td>-0.041723</td>\n",
       "      <td>-0.024340</td>\n",
       "      <td>-0.050336</td>\n",
       "      <td>1.000000</td>\n",
       "      <td>-0.178040</td>\n",
       "    </tr>\n",
       "    <tr>\n",
       "      <th>EnergyUse_Age_Ratio</th>\n",
       "      <td>0.252760</td>\n",
       "      <td>0.205635</td>\n",
       "      <td>0.060383</td>\n",
       "      <td>0.001307</td>\n",
       "      <td>0.141842</td>\n",
       "      <td>0.965069</td>\n",
       "      <td>0.957949</td>\n",
       "      <td>0.925386</td>\n",
       "      <td>0.922361</td>\n",
       "      <td>0.415816</td>\n",
       "      <td>...</td>\n",
       "      <td>-0.048817</td>\n",
       "      <td>0.063102</td>\n",
       "      <td>-0.027112</td>\n",
       "      <td>-0.032670</td>\n",
       "      <td>0.051112</td>\n",
       "      <td>-0.030894</td>\n",
       "      <td>-0.008953</td>\n",
       "      <td>-0.037227</td>\n",
       "      <td>-0.178040</td>\n",
       "      <td>1.000000</td>\n",
       "    </tr>\n",
       "  </tbody>\n",
       "</table>\n",
       "<p>31 rows × 31 columns</p>\n",
       "</div>"
      ],
      "text/plain": [
       "                                    BuildingType  PrimaryPropertyType  \\\n",
       "BuildingType                            1.000000             0.787884   \n",
       "PrimaryPropertyType                     0.787884             1.000000   \n",
       "NumberofBuildings                      -0.029649            -0.012790   \n",
       "NumberofFloors                         -0.278710            -0.361152   \n",
       "PropertyGFAParking                      0.175707             0.040775   \n",
       "SiteEUI(kBtu/sf)                        0.289604             0.228689   \n",
       "SiteEUIWN(kBtu/sf)                      0.286057             0.230558   \n",
       "SourceEUI(kBtu/sf)                      0.277347             0.208384   \n",
       "SourceEUIWN(kBtu/sf)                    0.268299             0.202743   \n",
       "SiteEnergyUse(kBtu)                     0.173161             0.119240   \n",
       "SiteEnergyUseWN(kBtu)                   0.170701             0.118862   \n",
       "SteamUse(kBtu)                          0.061692             0.042443   \n",
       "NaturalGas(therms)                      0.075539             0.074705   \n",
       "NaturalGas(kBtu)                        0.075539             0.074705   \n",
       "TotalGHGEmissions                       0.113952             0.092143   \n",
       "GHGEmissionsIntensity                   0.206349             0.185547   \n",
       "Neighborhood_BALLARD                   -0.001915             0.028361   \n",
       "Neighborhood_CENTRAL                   -0.038596            -0.041042   \n",
       "Neighborhood_DELRIDGE                   0.015255             0.028185   \n",
       "Neighborhood_DOWNTOWN                   0.157122            -0.012286   \n",
       "Neighborhood_EAST                      -0.201541            -0.169940   \n",
       "Neighborhood_GREATER DUWAMISH           0.306366             0.438730   \n",
       "Neighborhood_LAKE UNION                 0.057988            -0.012086   \n",
       "Neighborhood_MAGNOLIA / QUEEN ANNE     -0.113706            -0.102316   \n",
       "Neighborhood_NORTH                     -0.074019            -0.071652   \n",
       "Neighborhood_NORTHEAST                 -0.009380            -0.014874   \n",
       "Neighborhood_NORTHWEST                 -0.042743            -0.019977   \n",
       "Neighborhood_SOUTHEAST                  0.010199             0.020544   \n",
       "Neighborhood_SOUTHWEST                 -0.093302            -0.030901   \n",
       "Age                                     0.193001             0.168430   \n",
       "EnergyUse_Age_Ratio                     0.252760             0.205635   \n",
       "\n",
       "                                    NumberofBuildings  NumberofFloors  \\\n",
       "BuildingType                                -0.029649       -0.278710   \n",
       "PrimaryPropertyType                         -0.012790       -0.361152   \n",
       "NumberofBuildings                            1.000000        0.007995   \n",
       "NumberofFloors                               0.007995        1.000000   \n",
       "PropertyGFAParking                          -0.008143        0.269267   \n",
       "SiteEUI(kBtu/sf)                             0.058790       -0.032403   \n",
       "SiteEUIWN(kBtu/sf)                           0.055161       -0.044040   \n",
       "SourceEUI(kBtu/sf)                           0.038309        0.000469   \n",
       "SourceEUIWN(kBtu/sf)                         0.034798       -0.004573   \n",
       "SiteEnergyUse(kBtu)                          0.258180        0.157052   \n",
       "SiteEnergyUseWN(kBtu)                        0.253866        0.152358   \n",
       "SteamUse(kBtu)                               0.280675        0.054360   \n",
       "NaturalGas(therms)                           0.147235        0.031526   \n",
       "NaturalGas(kBtu)                             0.147235        0.031526   \n",
       "TotalGHGEmissions                            0.288639        0.080451   \n",
       "GHGEmissionsIntensity                        0.101075       -0.090883   \n",
       "Neighborhood_BALLARD                         0.009406       -0.025152   \n",
       "Neighborhood_CENTRAL                         0.009011       -0.018287   \n",
       "Neighborhood_DELRIDGE                        0.016448       -0.079120   \n",
       "Neighborhood_DOWNTOWN                       -0.044672        0.329825   \n",
       "Neighborhood_EAST                           -0.013637        0.070868   \n",
       "Neighborhood_GREATER DUWAMISH               -0.035029       -0.272744   \n",
       "Neighborhood_LAKE UNION                     -0.001920        0.035168   \n",
       "Neighborhood_MAGNOLIA / QUEEN ANNE          -0.008516        0.033770   \n",
       "Neighborhood_NORTH                           0.010540       -0.033183   \n",
       "Neighborhood_NORTHEAST                       0.045570       -0.124800   \n",
       "Neighborhood_NORTHWEST                       0.065225       -0.049849   \n",
       "Neighborhood_SOUTHEAST                      -0.001431       -0.051157   \n",
       "Neighborhood_SOUTHWEST                      -0.013344       -0.008327   \n",
       "Age                                         -0.026493       -0.178605   \n",
       "EnergyUse_Age_Ratio                          0.060383        0.001307   \n",
       "\n",
       "                                    PropertyGFAParking  SiteEUI(kBtu/sf)  \\\n",
       "BuildingType                                  0.175707          0.289604   \n",
       "PrimaryPropertyType                           0.040775          0.228689   \n",
       "NumberofBuildings                            -0.008143          0.058790   \n",
       "NumberofFloors                                0.269267         -0.032403   \n",
       "PropertyGFAParking                            1.000000          0.102505   \n",
       "SiteEUI(kBtu/sf)                              0.102505          1.000000   \n",
       "SiteEUIWN(kBtu/sf)                            0.090696          0.995943   \n",
       "SourceEUI(kBtu/sf)                            0.137284          0.945074   \n",
       "SourceEUIWN(kBtu/sf)                          0.128858          0.943214   \n",
       "SiteEnergyUse(kBtu)                           0.240020          0.410142   \n",
       "SiteEnergyUseWN(kBtu)                         0.235328          0.404278   \n",
       "SteamUse(kBtu)                                0.021210          0.118630   \n",
       "NaturalGas(therms)                            0.042443          0.231948   \n",
       "NaturalGas(kBtu)                              0.042443          0.231948   \n",
       "TotalGHGEmissions                             0.087306          0.287145   \n",
       "GHGEmissionsIntensity                        -0.045530          0.627167   \n",
       "Neighborhood_BALLARD                         -0.029354          0.014726   \n",
       "Neighborhood_CENTRAL                         -0.034282         -0.006504   \n",
       "Neighborhood_DELRIDGE                        -0.038981         -0.002150   \n",
       "Neighborhood_DOWNTOWN                         0.187680          0.086471   \n",
       "Neighborhood_EAST                            -0.019487         -0.005677   \n",
       "Neighborhood_GREATER DUWAMISH                -0.071820         -0.032165   \n",
       "Neighborhood_LAKE UNION                       0.103397          0.024113   \n",
       "Neighborhood_MAGNOLIA / QUEEN ANNE           -0.015734         -0.032568   \n",
       "Neighborhood_NORTH                           -0.038063         -0.040431   \n",
       "Neighborhood_NORTHEAST                       -0.036777          0.049470   \n",
       "Neighborhood_NORTHWEST                       -0.050260         -0.032347   \n",
       "Neighborhood_SOUTHEAST                       -0.033250         -0.014246   \n",
       "Neighborhood_SOUTHWEST                       -0.035118         -0.051638   \n",
       "Age                                          -0.176548          0.029582   \n",
       "EnergyUse_Age_Ratio                           0.141842          0.965069   \n",
       "\n",
       "                                    SiteEUIWN(kBtu/sf)  SourceEUI(kBtu/sf)  \\\n",
       "BuildingType                                  0.286057            0.277347   \n",
       "PrimaryPropertyType                           0.230558            0.208384   \n",
       "NumberofBuildings                             0.055161            0.038309   \n",
       "NumberofFloors                               -0.044040            0.000469   \n",
       "PropertyGFAParking                            0.090696            0.137284   \n",
       "SiteEUI(kBtu/sf)                              0.995943            0.945074   \n",
       "SiteEUIWN(kBtu/sf)                            1.000000            0.932883   \n",
       "SourceEUI(kBtu/sf)                            0.932883            1.000000   \n",
       "SourceEUIWN(kBtu/sf)                          0.937769            0.996715   \n",
       "SiteEnergyUse(kBtu)                           0.400882            0.381227   \n",
       "SiteEnergyUseWN(kBtu)                         0.399565            0.373877   \n",
       "SteamUse(kBtu)                                0.114795            0.092244   \n",
       "NaturalGas(therms)                            0.233106            0.142056   \n",
       "NaturalGas(kBtu)                              0.233106            0.142056   \n",
       "TotalGHGEmissions                             0.283917            0.213807   \n",
       "GHGEmissionsIntensity                         0.643130            0.422368   \n",
       "Neighborhood_BALLARD                          0.013545            0.009513   \n",
       "Neighborhood_CENTRAL                         -0.004857           -0.012906   \n",
       "Neighborhood_DELRIDGE                        -0.001223           -0.006045   \n",
       "Neighborhood_DOWNTOWN                         0.077450            0.101141   \n",
       "Neighborhood_EAST                             0.002005           -0.045226   \n",
       "Neighborhood_GREATER DUWAMISH                -0.027787           -0.036852   \n",
       "Neighborhood_LAKE UNION                       0.020397            0.041214   \n",
       "Neighborhood_MAGNOLIA / QUEEN ANNE           -0.031924           -0.031926   \n",
       "Neighborhood_NORTH                           -0.040626           -0.019651   \n",
       "Neighborhood_NORTHEAST                        0.049617            0.054331   \n",
       "Neighborhood_NORTHWEST                       -0.032936           -0.033443   \n",
       "Neighborhood_SOUTHEAST                       -0.012645           -0.014713   \n",
       "Neighborhood_SOUTHWEST                       -0.052870           -0.041276   \n",
       "Age                                           0.044357           -0.025459   \n",
       "EnergyUse_Age_Ratio                           0.957949            0.925386   \n",
       "\n",
       "                                    SourceEUIWN(kBtu/sf)  SiteEnergyUse(kBtu)  \\\n",
       "BuildingType                                    0.268299             0.173161   \n",
       "PrimaryPropertyType                             0.202743             0.119240   \n",
       "NumberofBuildings                               0.034798             0.258180   \n",
       "NumberofFloors                                 -0.004573             0.157052   \n",
       "PropertyGFAParking                              0.128858             0.240020   \n",
       "SiteEUI(kBtu/sf)                                0.943214             0.410142   \n",
       "SiteEUIWN(kBtu/sf)                              0.937769             0.400882   \n",
       "SourceEUI(kBtu/sf)                              0.996715             0.381227   \n",
       "SourceEUIWN(kBtu/sf)                            1.000000             0.374278   \n",
       "SiteEnergyUse(kBtu)                             0.374278             1.000000   \n",
       "SiteEnergyUseWN(kBtu)                           0.371220             0.998115   \n",
       "SteamUse(kBtu)                                  0.089002             0.544490   \n",
       "NaturalGas(therms)                              0.139542             0.707457   \n",
       "NaturalGas(kBtu)                                0.139542             0.707457   \n",
       "TotalGHGEmissions                               0.209149             0.920345   \n",
       "GHGEmissionsIntensity                           0.425170             0.519683   \n",
       "Neighborhood_BALLARD                            0.006713            -0.014355   \n",
       "Neighborhood_CENTRAL                           -0.011258            -0.012453   \n",
       "Neighborhood_DELRIDGE                          -0.004765            -0.015436   \n",
       "Neighborhood_DOWNTOWN                           0.094609             0.142633   \n",
       "Neighborhood_EAST                              -0.040338             0.005920   \n",
       "Neighborhood_GREATER DUWAMISH                  -0.037376            -0.005358   \n",
       "Neighborhood_LAKE UNION                         0.038982             0.002581   \n",
       "Neighborhood_MAGNOLIA / QUEEN ANNE             -0.030781            -0.054077   \n",
       "Neighborhood_NORTH                             -0.017723            -0.032238   \n",
       "Neighborhood_NORTHEAST                          0.055587            -0.009258   \n",
       "Neighborhood_NORTHWEST                         -0.033346            -0.025523   \n",
       "Neighborhood_SOUTHEAST                         -0.013298            -0.018711   \n",
       "Neighborhood_SOUTHWEST                         -0.041307            -0.038369   \n",
       "Age                                            -0.018639            -0.060516   \n",
       "EnergyUse_Age_Ratio                             0.922361             0.415816   \n",
       "\n",
       "                                    ...  Neighborhood_GREATER DUWAMISH  \\\n",
       "BuildingType                        ...                       0.306366   \n",
       "PrimaryPropertyType                 ...                       0.438730   \n",
       "NumberofBuildings                   ...                      -0.035029   \n",
       "NumberofFloors                      ...                      -0.272744   \n",
       "PropertyGFAParking                  ...                      -0.071820   \n",
       "SiteEUI(kBtu/sf)                    ...                      -0.032165   \n",
       "SiteEUIWN(kBtu/sf)                  ...                      -0.027787   \n",
       "SourceEUI(kBtu/sf)                  ...                      -0.036852   \n",
       "SourceEUIWN(kBtu/sf)                ...                      -0.037376   \n",
       "SiteEnergyUse(kBtu)                 ...                      -0.005358   \n",
       "SiteEnergyUseWN(kBtu)               ...                      -0.003034   \n",
       "SteamUse(kBtu)                      ...                      -0.020599   \n",
       "NaturalGas(therms)                  ...                       0.034085   \n",
       "NaturalGas(kBtu)                    ...                       0.034085   \n",
       "TotalGHGEmissions                   ...                       0.008837   \n",
       "GHGEmissionsIntensity               ...                       0.018515   \n",
       "Neighborhood_BALLARD                ...                      -0.064457   \n",
       "Neighborhood_CENTRAL                ...                      -0.065152   \n",
       "Neighborhood_DELRIDGE               ...                      -0.053529   \n",
       "Neighborhood_DOWNTOWN               ...                      -0.141716   \n",
       "Neighborhood_EAST                   ...                      -0.133924   \n",
       "Neighborhood_GREATER DUWAMISH       ...                       1.000000   \n",
       "Neighborhood_LAKE UNION             ...                      -0.094577   \n",
       "Neighborhood_MAGNOLIA / QUEEN ANNE  ...                      -0.124179   \n",
       "Neighborhood_NORTH                  ...                      -0.079146   \n",
       "Neighborhood_NORTHEAST              ...                      -0.099167   \n",
       "Neighborhood_NORTHWEST              ...                      -0.088478   \n",
       "Neighborhood_SOUTHEAST              ...                      -0.057116   \n",
       "Neighborhood_SOUTHWEST              ...                      -0.072424   \n",
       "Age                                 ...                       0.094799   \n",
       "EnergyUse_Age_Ratio                 ...                      -0.048817   \n",
       "\n",
       "                                    Neighborhood_LAKE UNION  \\\n",
       "BuildingType                                       0.057988   \n",
       "PrimaryPropertyType                               -0.012086   \n",
       "NumberofBuildings                                 -0.001920   \n",
       "NumberofFloors                                     0.035168   \n",
       "PropertyGFAParking                                 0.103397   \n",
       "SiteEUI(kBtu/sf)                                   0.024113   \n",
       "SiteEUIWN(kBtu/sf)                                 0.020397   \n",
       "SourceEUI(kBtu/sf)                                 0.041214   \n",
       "SourceEUIWN(kBtu/sf)                               0.038982   \n",
       "SiteEnergyUse(kBtu)                                0.002581   \n",
       "SiteEnergyUseWN(kBtu)                              0.002289   \n",
       "SteamUse(kBtu)                                    -0.018540   \n",
       "NaturalGas(therms)                                -0.005314   \n",
       "NaturalGas(kBtu)                                  -0.005314   \n",
       "TotalGHGEmissions                                 -0.012268   \n",
       "GHGEmissionsIntensity                             -0.044140   \n",
       "Neighborhood_BALLARD                              -0.058015   \n",
       "Neighborhood_CENTRAL                              -0.058640   \n",
       "Neighborhood_DELRIDGE                             -0.048180   \n",
       "Neighborhood_DOWNTOWN                             -0.127553   \n",
       "Neighborhood_EAST                                 -0.120539   \n",
       "Neighborhood_GREATER DUWAMISH                     -0.094577   \n",
       "Neighborhood_LAKE UNION                            1.000000   \n",
       "Neighborhood_MAGNOLIA / QUEEN ANNE                -0.111768   \n",
       "Neighborhood_NORTH                                -0.071236   \n",
       "Neighborhood_NORTHEAST                            -0.089256   \n",
       "Neighborhood_NORTHWEST                            -0.079635   \n",
       "Neighborhood_SOUTHEAST                            -0.051408   \n",
       "Neighborhood_SOUTHWEST                            -0.065186   \n",
       "Age                                               -0.166347   \n",
       "EnergyUse_Age_Ratio                                0.063102   \n",
       "\n",
       "                                    Neighborhood_MAGNOLIA / QUEEN ANNE  \\\n",
       "BuildingType                                                 -0.113706   \n",
       "PrimaryPropertyType                                          -0.102316   \n",
       "NumberofBuildings                                            -0.008516   \n",
       "NumberofFloors                                                0.033770   \n",
       "PropertyGFAParking                                           -0.015734   \n",
       "SiteEUI(kBtu/sf)                                             -0.032568   \n",
       "SiteEUIWN(kBtu/sf)                                           -0.031924   \n",
       "SourceEUI(kBtu/sf)                                           -0.031926   \n",
       "SourceEUIWN(kBtu/sf)                                         -0.030781   \n",
       "SiteEnergyUse(kBtu)                                          -0.054077   \n",
       "SiteEnergyUseWN(kBtu)                                        -0.053642   \n",
       "SteamUse(kBtu)                                               -0.024343   \n",
       "NaturalGas(therms)                                           -0.029935   \n",
       "NaturalGas(kBtu)                                             -0.029935   \n",
       "TotalGHGEmissions                                            -0.042179   \n",
       "GHGEmissionsIntensity                                        -0.039036   \n",
       "Neighborhood_BALLARD                                         -0.076173   \n",
       "Neighborhood_CENTRAL                                         -0.076994   \n",
       "Neighborhood_DELRIDGE                                        -0.063260   \n",
       "Neighborhood_DOWNTOWN                                        -0.167476   \n",
       "Neighborhood_EAST                                            -0.158267   \n",
       "Neighborhood_GREATER DUWAMISH                                -0.124179   \n",
       "Neighborhood_LAKE UNION                                      -0.111768   \n",
       "Neighborhood_MAGNOLIA / QUEEN ANNE                            1.000000   \n",
       "Neighborhood_NORTH                                           -0.093533   \n",
       "Neighborhood_NORTHEAST                                       -0.117193   \n",
       "Neighborhood_NORTHWEST                                       -0.104561   \n",
       "Neighborhood_SOUTHEAST                                       -0.067498   \n",
       "Neighborhood_SOUTHWEST                                       -0.085588   \n",
       "Age                                                          -0.021316   \n",
       "EnergyUse_Age_Ratio                                          -0.027112   \n",
       "\n",
       "                                    Neighborhood_NORTH  \\\n",
       "BuildingType                                 -0.074019   \n",
       "PrimaryPropertyType                          -0.071652   \n",
       "NumberofBuildings                             0.010540   \n",
       "NumberofFloors                               -0.033183   \n",
       "PropertyGFAParking                           -0.038063   \n",
       "SiteEUI(kBtu/sf)                             -0.040431   \n",
       "SiteEUIWN(kBtu/sf)                           -0.040626   \n",
       "SourceEUI(kBtu/sf)                           -0.019651   \n",
       "SourceEUIWN(kBtu/sf)                         -0.017723   \n",
       "SiteEnergyUse(kBtu)                          -0.032238   \n",
       "SiteEnergyUseWN(kBtu)                        -0.031382   \n",
       "SteamUse(kBtu)                               -0.015515   \n",
       "NaturalGas(therms)                           -0.019223   \n",
       "NaturalGas(kBtu)                             -0.019223   \n",
       "TotalGHGEmissions                            -0.026397   \n",
       "GHGEmissionsIntensity                        -0.055532   \n",
       "Neighborhood_BALLARD                         -0.048549   \n",
       "Neighborhood_CENTRAL                         -0.049073   \n",
       "Neighborhood_DELRIDGE                        -0.040319   \n",
       "Neighborhood_DOWNTOWN                        -0.106742   \n",
       "Neighborhood_EAST                            -0.100873   \n",
       "Neighborhood_GREATER DUWAMISH                -0.079146   \n",
       "Neighborhood_LAKE UNION                      -0.071236   \n",
       "Neighborhood_MAGNOLIA / QUEEN ANNE           -0.093533   \n",
       "Neighborhood_NORTH                            1.000000   \n",
       "Neighborhood_NORTHEAST                       -0.074693   \n",
       "Neighborhood_NORTHWEST                       -0.066642   \n",
       "Neighborhood_SOUTHEAST                       -0.043020   \n",
       "Neighborhood_SOUTHWEST                       -0.054550   \n",
       "Age                                          -0.034375   \n",
       "EnergyUse_Age_Ratio                          -0.032670   \n",
       "\n",
       "                                    Neighborhood_NORTHEAST  \\\n",
       "BuildingType                                     -0.009380   \n",
       "PrimaryPropertyType                              -0.014874   \n",
       "NumberofBuildings                                 0.045570   \n",
       "NumberofFloors                                   -0.124800   \n",
       "PropertyGFAParking                               -0.036777   \n",
       "SiteEUI(kBtu/sf)                                  0.049470   \n",
       "SiteEUIWN(kBtu/sf)                                0.049617   \n",
       "SourceEUI(kBtu/sf)                                0.054331   \n",
       "SourceEUIWN(kBtu/sf)                              0.055587   \n",
       "SiteEnergyUse(kBtu)                              -0.009258   \n",
       "SiteEnergyUseWN(kBtu)                            -0.008529   \n",
       "SteamUse(kBtu)                                   -0.016421   \n",
       "NaturalGas(therms)                                0.014593   \n",
       "NaturalGas(kBtu)                                  0.014593   \n",
       "TotalGHGEmissions                                -0.001585   \n",
       "GHGEmissionsIntensity                             0.019478   \n",
       "Neighborhood_BALLARD                             -0.060830   \n",
       "Neighborhood_CENTRAL                             -0.061486   \n",
       "Neighborhood_DELRIDGE                            -0.050518   \n",
       "Neighborhood_DOWNTOWN                            -0.133743   \n",
       "Neighborhood_EAST                                -0.126389   \n",
       "Neighborhood_GREATER DUWAMISH                    -0.099167   \n",
       "Neighborhood_LAKE UNION                          -0.089256   \n",
       "Neighborhood_MAGNOLIA / QUEEN ANNE               -0.117193   \n",
       "Neighborhood_NORTH                               -0.074693   \n",
       "Neighborhood_NORTHEAST                            1.000000   \n",
       "Neighborhood_NORTHWEST                           -0.083500   \n",
       "Neighborhood_SOUTHEAST                           -0.053903   \n",
       "Neighborhood_SOUTHWEST                           -0.068349   \n",
       "Age                                              -0.028354   \n",
       "EnergyUse_Age_Ratio                               0.051112   \n",
       "\n",
       "                                    Neighborhood_NORTHWEST  \\\n",
       "BuildingType                                     -0.042743   \n",
       "PrimaryPropertyType                              -0.019977   \n",
       "NumberofBuildings                                 0.065225   \n",
       "NumberofFloors                                   -0.049849   \n",
       "PropertyGFAParking                               -0.050260   \n",
       "SiteEUI(kBtu/sf)                                 -0.032347   \n",
       "SiteEUIWN(kBtu/sf)                               -0.032936   \n",
       "SourceEUI(kBtu/sf)                               -0.033443   \n",
       "SourceEUIWN(kBtu/sf)                             -0.033346   \n",
       "SiteEnergyUse(kBtu)                              -0.025523   \n",
       "SiteEnergyUseWN(kBtu)                            -0.024877   \n",
       "SteamUse(kBtu)                                   -0.017345   \n",
       "NaturalGas(therms)                                0.004968   \n",
       "NaturalGas(kBtu)                                  0.004968   \n",
       "TotalGHGEmissions                                -0.011319   \n",
       "GHGEmissionsIntensity                            -0.012754   \n",
       "Neighborhood_BALLARD                             -0.054274   \n",
       "Neighborhood_CENTRAL                             -0.054859   \n",
       "Neighborhood_DELRIDGE                            -0.045073   \n",
       "Neighborhood_DOWNTOWN                            -0.119327   \n",
       "Neighborhood_EAST                                -0.112766   \n",
       "Neighborhood_GREATER DUWAMISH                    -0.088478   \n",
       "Neighborhood_LAKE UNION                          -0.079635   \n",
       "Neighborhood_MAGNOLIA / QUEEN ANNE               -0.104561   \n",
       "Neighborhood_NORTH                               -0.066642   \n",
       "Neighborhood_NORTHEAST                           -0.083500   \n",
       "Neighborhood_NORTHWEST                            1.000000   \n",
       "Neighborhood_SOUTHEAST                           -0.048093   \n",
       "Neighborhood_SOUTHWEST                           -0.060982   \n",
       "Age                                              -0.041723   \n",
       "EnergyUse_Age_Ratio                              -0.030894   \n",
       "\n",
       "                                    Neighborhood_SOUTHEAST  \\\n",
       "BuildingType                                      0.010199   \n",
       "PrimaryPropertyType                               0.020544   \n",
       "NumberofBuildings                                -0.001431   \n",
       "NumberofFloors                                   -0.051157   \n",
       "PropertyGFAParking                               -0.033250   \n",
       "SiteEUI(kBtu/sf)                                 -0.014246   \n",
       "SiteEUIWN(kBtu/sf)                               -0.012645   \n",
       "SourceEUI(kBtu/sf)                               -0.014713   \n",
       "SourceEUIWN(kBtu/sf)                             -0.013298   \n",
       "SiteEnergyUse(kBtu)                              -0.018711   \n",
       "SiteEnergyUseWN(kBtu)                            -0.017684   \n",
       "SteamUse(kBtu)                                   -0.011197   \n",
       "NaturalGas(therms)                               -0.003172   \n",
       "NaturalGas(kBtu)                                 -0.003172   \n",
       "TotalGHGEmissions                                -0.011629   \n",
       "GHGEmissionsIntensity                            -0.001704   \n",
       "Neighborhood_BALLARD                             -0.035036   \n",
       "Neighborhood_CENTRAL                             -0.035413   \n",
       "Neighborhood_DELRIDGE                            -0.029096   \n",
       "Neighborhood_DOWNTOWN                            -0.077031   \n",
       "Neighborhood_EAST                                -0.072795   \n",
       "Neighborhood_GREATER DUWAMISH                    -0.057116   \n",
       "Neighborhood_LAKE UNION                          -0.051408   \n",
       "Neighborhood_MAGNOLIA / QUEEN ANNE               -0.067498   \n",
       "Neighborhood_NORTH                               -0.043020   \n",
       "Neighborhood_NORTHEAST                           -0.053903   \n",
       "Neighborhood_NORTHWEST                           -0.048093   \n",
       "Neighborhood_SOUTHEAST                            1.000000   \n",
       "Neighborhood_SOUTHWEST                           -0.039366   \n",
       "Age                                              -0.024340   \n",
       "EnergyUse_Age_Ratio                              -0.008953   \n",
       "\n",
       "                                    Neighborhood_SOUTHWEST       Age  \\\n",
       "BuildingType                                     -0.093302  0.193001   \n",
       "PrimaryPropertyType                              -0.030901  0.168430   \n",
       "NumberofBuildings                                -0.013344 -0.026493   \n",
       "NumberofFloors                                   -0.008327 -0.178605   \n",
       "PropertyGFAParking                               -0.035118 -0.176548   \n",
       "SiteEUI(kBtu/sf)                                 -0.051638  0.029582   \n",
       "SiteEUIWN(kBtu/sf)                               -0.052870  0.044357   \n",
       "SourceEUI(kBtu/sf)                               -0.041276 -0.025459   \n",
       "SourceEUIWN(kBtu/sf)                             -0.041307 -0.018639   \n",
       "SiteEnergyUse(kBtu)                              -0.038369 -0.060516   \n",
       "SiteEnergyUseWN(kBtu)                            -0.038599 -0.058248   \n",
       "SteamUse(kBtu)                                   -0.014198  0.008945   \n",
       "NaturalGas(therms)                               -0.016536 -0.023352   \n",
       "NaturalGas(kBtu)                                 -0.016536 -0.023352   \n",
       "TotalGHGEmissions                                -0.025408 -0.022309   \n",
       "GHGEmissionsIntensity                            -0.046558  0.156460   \n",
       "Neighborhood_BALLARD                             -0.044426 -0.062341   \n",
       "Neighborhood_CENTRAL                             -0.044905 -0.001861   \n",
       "Neighborhood_DELRIDGE                            -0.036894 -0.043277   \n",
       "Neighborhood_DOWNTOWN                            -0.097675  0.132520   \n",
       "Neighborhood_EAST                                -0.092305  0.101905   \n",
       "Neighborhood_GREATER DUWAMISH                    -0.072424  0.094799   \n",
       "Neighborhood_LAKE UNION                          -0.065186 -0.166347   \n",
       "Neighborhood_MAGNOLIA / QUEEN ANNE               -0.085588 -0.021316   \n",
       "Neighborhood_NORTH                               -0.054550 -0.034375   \n",
       "Neighborhood_NORTHEAST                           -0.068349 -0.028354   \n",
       "Neighborhood_NORTHWEST                           -0.060982 -0.041723   \n",
       "Neighborhood_SOUTHEAST                           -0.039366 -0.024340   \n",
       "Neighborhood_SOUTHWEST                            1.000000 -0.050336   \n",
       "Age                                              -0.050336  1.000000   \n",
       "EnergyUse_Age_Ratio                              -0.037227 -0.178040   \n",
       "\n",
       "                                    EnergyUse_Age_Ratio  \n",
       "BuildingType                                   0.252760  \n",
       "PrimaryPropertyType                            0.205635  \n",
       "NumberofBuildings                              0.060383  \n",
       "NumberofFloors                                 0.001307  \n",
       "PropertyGFAParking                             0.141842  \n",
       "SiteEUI(kBtu/sf)                               0.965069  \n",
       "SiteEUIWN(kBtu/sf)                             0.957949  \n",
       "SourceEUI(kBtu/sf)                             0.925386  \n",
       "SourceEUIWN(kBtu/sf)                           0.922361  \n",
       "SiteEnergyUse(kBtu)                            0.415816  \n",
       "SiteEnergyUseWN(kBtu)                          0.409667  \n",
       "SteamUse(kBtu)                                 0.117755  \n",
       "NaturalGas(therms)                             0.231604  \n",
       "NaturalGas(kBtu)                               0.231604  \n",
       "TotalGHGEmissions                              0.287810  \n",
       "GHGEmissionsIntensity                          0.569895  \n",
       "Neighborhood_BALLARD                           0.026375  \n",
       "Neighborhood_CENTRAL                          -0.007145  \n",
       "Neighborhood_DELRIDGE                         -0.001795  \n",
       "Neighborhood_DOWNTOWN                          0.058927  \n",
       "Neighborhood_EAST                             -0.022852  \n",
       "Neighborhood_GREATER DUWAMISH                 -0.048817  \n",
       "Neighborhood_LAKE UNION                        0.063102  \n",
       "Neighborhood_MAGNOLIA / QUEEN ANNE            -0.027112  \n",
       "Neighborhood_NORTH                            -0.032670  \n",
       "Neighborhood_NORTHEAST                         0.051112  \n",
       "Neighborhood_NORTHWEST                        -0.030894  \n",
       "Neighborhood_SOUTHEAST                        -0.008953  \n",
       "Neighborhood_SOUTHWEST                        -0.037227  \n",
       "Age                                           -0.178040  \n",
       "EnergyUse_Age_Ratio                            1.000000  \n",
       "\n",
       "[31 rows x 31 columns]"
      ]
     },
     "execution_count": 12,
     "metadata": {},
     "output_type": "execute_result"
    }
   ],
   "source": [
    "import pandas as pd\n",
    "import numpy as np\n",
    "\n",
    "# Calcul de la matrice de corrélation\n",
    "correlation_matrix = df_scaled_without_energystarscore.corr(method='pearson')\n",
    "\n",
    "correlation_matrix\n"
   ]
  },
  {
   "cell_type": "code",
   "execution_count": 13,
   "metadata": {},
   "outputs": [
    {
     "data": {
      "application/vnd.plotly.v1+json": {
       "config": {
        "plotlyServerURL": "https://plot.ly"
       },
       "data": [
        {
         "colorscale": [
          [
           0,
           "#440154"
          ],
          [
           0.1111111111111111,
           "#482878"
          ],
          [
           0.2222222222222222,
           "#3e4989"
          ],
          [
           0.3333333333333333,
           "#31688e"
          ],
          [
           0.4444444444444444,
           "#26828e"
          ],
          [
           0.5555555555555556,
           "#1f9e89"
          ],
          [
           0.6666666666666666,
           "#35b779"
          ],
          [
           0.7777777777777778,
           "#6ece58"
          ],
          [
           0.8888888888888888,
           "#b5de2b"
          ],
          [
           1,
           "#fde725"
          ]
         ],
         "reversescale": false,
         "showscale": true,
         "type": "heatmap",
         "x": [
          "BuildingType",
          "PrimaryPropertyType",
          "NumberofBuildings",
          "NumberofFloors",
          "PropertyGFAParking",
          "SiteEUI(kBtu/sf)",
          "SiteEUIWN(kBtu/sf)",
          "SourceEUI(kBtu/sf)",
          "SourceEUIWN(kBtu/sf)",
          "SiteEnergyUse(kBtu)",
          "SiteEnergyUseWN(kBtu)",
          "SteamUse(kBtu)",
          "NaturalGas(therms)",
          "NaturalGas(kBtu)",
          "TotalGHGEmissions",
          "GHGEmissionsIntensity",
          "Neighborhood_BALLARD",
          "Neighborhood_CENTRAL",
          "Neighborhood_DELRIDGE",
          "Neighborhood_DOWNTOWN",
          "Neighborhood_EAST",
          "Neighborhood_GREATER DUWAMISH",
          "Neighborhood_LAKE UNION",
          "Neighborhood_MAGNOLIA / QUEEN ANNE",
          "Neighborhood_NORTH",
          "Neighborhood_NORTHEAST",
          "Neighborhood_NORTHWEST",
          "Neighborhood_SOUTHEAST",
          "Neighborhood_SOUTHWEST",
          "Age",
          "EnergyUse_Age_Ratio"
         ],
         "y": [
          "BuildingType",
          "PrimaryPropertyType",
          "NumberofBuildings",
          "NumberofFloors",
          "PropertyGFAParking",
          "SiteEUI(kBtu/sf)",
          "SiteEUIWN(kBtu/sf)",
          "SourceEUI(kBtu/sf)",
          "SourceEUIWN(kBtu/sf)",
          "SiteEnergyUse(kBtu)",
          "SiteEnergyUseWN(kBtu)",
          "SteamUse(kBtu)",
          "NaturalGas(therms)",
          "NaturalGas(kBtu)",
          "TotalGHGEmissions",
          "GHGEmissionsIntensity",
          "Neighborhood_BALLARD",
          "Neighborhood_CENTRAL",
          "Neighborhood_DELRIDGE",
          "Neighborhood_DOWNTOWN",
          "Neighborhood_EAST",
          "Neighborhood_GREATER DUWAMISH",
          "Neighborhood_LAKE UNION",
          "Neighborhood_MAGNOLIA / QUEEN ANNE",
          "Neighborhood_NORTH",
          "Neighborhood_NORTHEAST",
          "Neighborhood_NORTHWEST",
          "Neighborhood_SOUTHEAST",
          "Neighborhood_SOUTHWEST",
          "Age",
          "EnergyUse_Age_Ratio"
         ],
         "z": [
          [
           1,
           0.7878837191332019,
           -0.029649183238017345,
           -0.2787098987564496,
           0.17570705675304188,
           0.28960371182863365,
           0.28605685699314387,
           0.27734739881271225,
           0.2682991341165202,
           0.1731606218150386,
           0.17070091154326217,
           0.06169190229114833,
           0.0755390574714164,
           0.07553905746370858,
           0.11395198117424112,
           0.20634903511363514,
           -0.0019151820017586725,
           -0.03859568477923217,
           0.01525460340454433,
           0.15712238873375034,
           -0.20154134280593866,
           0.30636576184316383,
           0.057988226663701764,
           -0.1137057462778811,
           -0.0740185917351829,
           -0.00937988976215889,
           -0.042742936291799795,
           0.010199112024224785,
           -0.09330163620874413,
           0.19300118047231818,
           0.2527601252018735
          ],
          [
           0.7878837191332019,
           1,
           -0.012789759787542695,
           -0.36115213899117493,
           0.04077457138287863,
           0.22868852384571475,
           0.23055756809134853,
           0.20838449866130332,
           0.20274253618252608,
           0.11924035331905493,
           0.11886248403720585,
           0.04244264051329102,
           0.07470535931812121,
           0.07470535931883224,
           0.09214339487375009,
           0.18554703508333403,
           0.02836109254832271,
           -0.04104234955773332,
           0.02818544334706846,
           -0.012285968004796399,
           -0.16994015422983308,
           0.43872980044391086,
           -0.012086374148682494,
           -0.10231592771613333,
           -0.07165214611058537,
           -0.014873842198049117,
           -0.019977057774499728,
           0.020544344111355205,
           -0.030901238432169697,
           0.16842965207317123,
           0.205634881575708
          ],
          [
           -0.029649183238017345,
           -0.012789759787542695,
           1,
           0.007994833851894423,
           -0.00814346316384292,
           0.05879029296707413,
           0.055160955539313945,
           0.03830858867308914,
           0.03479783670252282,
           0.25817994951182044,
           0.2538663788552004,
           0.2806754993662993,
           0.14723531212195717,
           0.14723531167947548,
           0.28863917934356575,
           0.10107456654661556,
           0.00940557782354655,
           0.00901131042134853,
           0.016448077026291613,
           -0.044671546807142755,
           -0.013636844714842007,
           -0.03502949523595797,
           -0.0019195289737200518,
           -0.008516039623290159,
           0.01053989408292797,
           0.0455698089380912,
           0.0652251081730667,
           -0.0014308885387812082,
           -0.013344310128702658,
           -0.02649288300500092,
           0.060383040682789525
          ],
          [
           -0.2787098987564496,
           -0.36115213899117493,
           0.007994833851894423,
           1,
           0.2692674071356461,
           -0.03240289455802482,
           -0.04404020966085612,
           0.0004687181159508446,
           -0.004572700026742326,
           0.15705216030926158,
           0.15235845310827228,
           0.05435956209495617,
           0.031525719674474366,
           0.03152571967287628,
           0.08045120027846182,
           -0.09088271724348203,
           -0.025152313155611578,
           -0.018287251917497402,
           -0.07911963251740045,
           0.32982534051407053,
           0.0708675872118937,
           -0.27274415608687647,
           0.035168376353869574,
           0.033769743299261946,
           -0.0331826811562609,
           -0.12480023578064572,
           -0.04984946302430836,
           -0.05115722540494538,
           -0.008327084429608183,
           -0.17860460238132636,
           0.001307092052744449
          ],
          [
           0.17570705675304188,
           0.04077457138287863,
           -0.00814346316384292,
           0.2692674071356461,
           1,
           0.10250510931468727,
           0.09069567559288394,
           0.13728413850992902,
           0.12885783337275555,
           0.24002045250010937,
           0.23532808794471433,
           0.021209703550932758,
           0.042443023153679586,
           0.042443023400077814,
           0.08730557768075933,
           -0.04552991082449117,
           -0.029354094975708477,
           -0.034282174845655974,
           -0.038981115053003564,
           0.1876795770070697,
           -0.019487037481362893,
           -0.07181955370718035,
           0.10339654704966256,
           -0.01573378013832705,
           -0.03806331436378371,
           -0.036776659705576115,
           -0.05025975643346213,
           -0.033249508388815234,
           -0.035118198867182,
           -0.1765484226332376,
           0.14184180925088288
          ],
          [
           0.28960371182863365,
           0.22868852384571475,
           0.05879029296707413,
           -0.03240289455802482,
           0.10250510931468727,
           1,
           0.9959428045080055,
           0.9450737384575841,
           0.9432140833354279,
           0.4101419011087213,
           0.4042782372026983,
           0.11862954589148506,
           0.23194803581463408,
           0.23194803583363555,
           0.28714503873042135,
           0.6271665240660287,
           0.014725577194980733,
           -0.0065037388316940455,
           -0.0021502077240849655,
           0.08647115338730886,
           -0.005677062631805716,
           -0.032165361878121336,
           0.024112866018665156,
           -0.032567648982010367,
           -0.04043103952440406,
           0.049469537501065995,
           -0.03234680585334101,
           -0.014246111798900712,
           -0.051637981980854925,
           0.029582250718248625,
           0.9650692144644619
          ],
          [
           0.28605685699314387,
           0.23055756809134853,
           0.055160955539313945,
           -0.04404020966085612,
           0.09069567559288394,
           0.9959428045080055,
           1,
           0.9328826523534821,
           0.9377688259715508,
           0.40088246808637656,
           0.399565449932088,
           0.11479502274279184,
           0.23310642264512796,
           0.23310642273786086,
           0.28391681502827093,
           0.6431297054439101,
           0.013544814968492809,
           -0.004856936094392901,
           -0.0012228363872242654,
           0.07745042318132085,
           0.0020049830862820268,
           -0.02778672300370936,
           0.02039714207842254,
           -0.03192444387513853,
           -0.040626044059511555,
           0.04961722862966693,
           -0.03293559615590415,
           -0.012645205619079664,
           -0.052869727992741374,
           0.044357033499163916,
           0.9579489464750196
          ],
          [
           0.27734739881271225,
           0.20838449866130332,
           0.03830858867308914,
           0.0004687181159508446,
           0.13728413850992902,
           0.9450737384575841,
           0.9328826523534821,
           1,
           0.9967145051256002,
           0.3812270038474806,
           0.3738774978107244,
           0.09224447949232295,
           0.14205554557018016,
           0.14205554541876173,
           0.2138071397569046,
           0.42236802241236254,
           0.009513116014945462,
           -0.012906373294664172,
           -0.00604540209485048,
           0.1011407096153121,
           -0.04522626189439647,
           -0.03685184504276977,
           0.04121414577810465,
           -0.03192603353632966,
           -0.01965103771952368,
           0.05433148287618774,
           -0.03344257012463554,
           -0.014712539252575235,
           -0.04127557212096601,
           -0.02545946472276576,
           0.9253862554467277
          ],
          [
           0.2682991341165202,
           0.20274253618252608,
           0.03479783670252282,
           -0.004572700026742326,
           0.12885783337275555,
           0.9432140833354279,
           0.9377688259715508,
           0.9967145051256002,
           1,
           0.374278390722841,
           0.37122025676846876,
           0.08900229526787497,
           0.13954170052444081,
           0.1395417004377583,
           0.20914860717538872,
           0.42517041867833805,
           0.006712630542559726,
           -0.011257817330230803,
           -0.0047649793202508405,
           0.09460880429099777,
           -0.040337796631385335,
           -0.03737569159715405,
           0.03898185534158908,
           -0.03078119362557252,
           -0.017723303344599147,
           0.05558738184918238,
           -0.033346274393833523,
           -0.013297701533820948,
           -0.04130713888513167,
           -0.018639010975349715,
           0.9223606815698646
          ],
          [
           0.1731606218150386,
           0.11924035331905493,
           0.25817994951182044,
           0.15705216030926158,
           0.24002045250010937,
           0.4101419011087213,
           0.40088246808637656,
           0.3812270038474806,
           0.374278390722841,
           1,
           0.9981151116972171,
           0.5444901160991399,
           0.7074567665401831,
           0.7074567663060267,
           0.9203448448853251,
           0.5196827107135122,
           -0.01435453687154085,
           -0.012452965390999307,
           -0.015436245272053008,
           0.1426329506244535,
           0.005919564170910066,
           -0.005358231714643681,
           0.0025807365621569674,
           -0.05407733777530037,
           -0.03223837769057606,
           -0.009258338094978811,
           -0.02552338884727371,
           -0.01871082125374538,
           -0.03836861055753708,
           -0.06051622403499593,
           0.41581582991548643
          ],
          [
           0.17070091154326217,
           0.11886248403720585,
           0.2538663788552004,
           0.15235845310827228,
           0.23532808794471433,
           0.4042782372026983,
           0.399565449932088,
           0.3738774978107244,
           0.37122025676846876,
           0.9981151116972171,
           1,
           0.538874251210594,
           0.717391909003193,
           0.7173919088238738,
           0.9230361601922283,
           0.5248689978936659,
           -0.016387701337920745,
           -0.011971355376327488,
           -0.014738200588774673,
           0.1379751025229973,
           0.007203642457611527,
           -0.0030342866460329122,
           0.0022886396112613955,
           -0.053642371881794645,
           -0.031382367717369665,
           -0.008529407139845633,
           -0.024877435383579206,
           -0.017684209230936276,
           -0.03859920389362561,
           -0.05824797291764441,
           0.4096671088679345
          ],
          [
           0.06169190229114833,
           0.04244264051329102,
           0.2806754993662993,
           0.05435956209495617,
           0.021209703550932758,
           0.11862954589148506,
           0.11479502274279184,
           0.09224447949232295,
           0.08900229526787497,
           0.5444901160991399,
           0.538874251210594,
           1,
           0.03603101498122787,
           0.036031014256278936,
           0.6552768213672838,
           0.24422196398261353,
           -0.012635783571772714,
           -0.012771989207321284,
           -0.010493629499213923,
           0.04110742283044646,
           0.07977266227288282,
           -0.02059911083522574,
           -0.018540380517244853,
           -0.024343450890654726,
           -0.015515443598577358,
           -0.016420553994234807,
           -0.017344764967353963,
           -0.011196750290552938,
           -0.014197579024021629,
           0.008944740446861596,
           0.11775545849325333
          ],
          [
           0.0755390574714164,
           0.07470535931812121,
           0.14723531212195717,
           0.031525719674474366,
           0.042443023153679586,
           0.23194803581463408,
           0.23310642264512796,
           0.14205554557018016,
           0.13954170052444081,
           0.7074567665401831,
           0.717391909003193,
           0.03603101498122787,
           1,
           0.9999999999999961,
           0.7717394377538273,
           0.5900927392856518,
           0.0015301029447916017,
           0.008427697492601692,
           -0.01300472291738866,
           0.01478424053634358,
           -0.0019267007807201898,
           0.03408536488418678,
           -0.005314086076005292,
           -0.02993458908429962,
           -0.019223487726468237,
           0.014593069241620805,
           0.004967577395889666,
           -0.0031723413338435678,
           -0.016535923883710904,
           -0.02335208786871325,
           0.23160357275680857
          ],
          [
           0.07553905746370858,
           0.07470535931883224,
           0.14723531167947548,
           0.03152571967287628,
           0.042443023400077814,
           0.23194803583363555,
           0.23310642273786086,
           0.14205554541876173,
           0.1395417004377583,
           0.7074567663060267,
           0.7173919088238738,
           0.036031014256278936,
           0.9999999999999961,
           1,
           0.7717394373268667,
           0.5900927394341107,
           0.001530102731740346,
           0.008427697562307688,
           -0.013004723037470675,
           0.014784240475788024,
           -0.0019267007233659858,
           0.03408536509812447,
           -0.005314085748593892,
           -0.029934589562376768,
           -0.019223487666365984,
           0.014593069591183937,
           0.004967577535404367,
           -0.003172341666751565,
           -0.016535924037338043,
           -0.023352088007334775,
           0.23160357264076126
          ],
          [
           0.11395198117424112,
           0.09214339487375009,
           0.28863917934356575,
           0.08045120027846182,
           0.08730557768075933,
           0.28714503873042135,
           0.28391681502827093,
           0.2138071397569046,
           0.20914860717538872,
           0.9203448448853251,
           0.9230361601922283,
           0.6552768213672838,
           0.7717394377538273,
           0.7717394373268667,
           1,
           0.592616670902353,
           -0.008672594585498667,
           -0.004249760340564635,
           -0.017137003607976233,
           0.06036105356388527,
           0.04157484979444586,
           0.008837068629870527,
           -0.012267664423752194,
           -0.04217917199016324,
           -0.02639702013912667,
           -0.0015852227175041098,
           -0.011319389810522792,
           -0.011628762186724803,
           -0.0254075744904714,
           -0.022309478203915507,
           0.2878100367228698
          ],
          [
           0.20634903511363514,
           0.18554703508333403,
           0.10107456654661556,
           -0.09088271724348203,
           -0.04552991082449117,
           0.6271665240660287,
           0.6431297054439101,
           0.42236802241236254,
           0.42517041867833805,
           0.5196827107135122,
           0.5248689978936659,
           0.24422196398261353,
           0.5900927392856518,
           0.5900927394341107,
           0.592616670902353,
           1,
           0.014519520067883995,
           0.00305786770422264,
           -0.024438535637900393,
           0.03341319446498362,
           0.08092567026736415,
           0.018515197718036096,
           -0.044140393876852896,
           -0.039036128673058106,
           -0.05553151729579441,
           0.019478466974633138,
           -0.012753595225534613,
           -0.0017036771559198996,
           -0.04655754944534097,
           0.15646019153274324,
           0.569894714359513
          ],
          [
           -0.0019151820017586725,
           0.02836109254832271,
           0.00940557782354655,
           -0.025152313155611578,
           -0.029354094975708477,
           0.014725577194980733,
           0.013544814968492809,
           0.009513116014945462,
           0.006712630542559726,
           -0.01435453687154085,
           -0.016387701337920745,
           -0.012635783571772714,
           0.0015301029447916017,
           0.001530102731740346,
           -0.008672594585498667,
           0.014519520067883995,
           1,
           -0.039964916958078286,
           -0.032835686338078464,
           -0.08693072638616005,
           -0.08215061261234084,
           -0.06445681565939168,
           -0.058014828834816255,
           -0.0761732552013424,
           -0.04854947846569159,
           -0.060830340668531095,
           -0.05427362021104236,
           -0.035035826314806125,
           -0.044425739600181036,
           -0.062341191069264175,
           0.026374746534670385
          ],
          [
           -0.03859568477923217,
           -0.04104234955773332,
           0.00901131042134853,
           -0.018287251917497402,
           -0.034282174845655974,
           -0.0065037388316940455,
           -0.004856936094392901,
           -0.012906373294664172,
           -0.011257817330230803,
           -0.012452965390999307,
           -0.011971355376327488,
           -0.012771989207321284,
           0.008427697492601692,
           0.008427697562307688,
           -0.004249760340564635,
           0.00305786770422264,
           -0.039964916958078286,
           1,
           -0.03318963395841783,
           -0.08786778381270378,
           -0.08303614348092614,
           -0.06515161875509673,
           -0.05864019144789095,
           -0.07699435399411377,
           -0.049072810677929034,
           -0.06148605269179688,
           -0.05485865499676649,
           -0.03541349003174718,
           -0.04490462055462202,
           -0.0018606778713278112,
           -0.00714488688302751
          ],
          [
           0.01525460340454433,
           0.02818544334706846,
           0.016448077026291613,
           -0.07911963251740045,
           -0.038981115053003564,
           -0.0021502077240849655,
           -0.0012228363872242654,
           -0.00604540209485048,
           -0.0047649793202508405,
           -0.015436245272053008,
           -0.014738200588774673,
           -0.010493629499213923,
           -0.01300472291738866,
           -0.013004723037470675,
           -0.017137003607976233,
           -0.024438535637900393,
           -0.032835686338078464,
           -0.03318963395841783,
           1,
           -0.07219329372115296,
           -0.06822355629872623,
           -0.053529402303136756,
           -0.04817953044185202,
           -0.06325954487045854,
           -0.04031884817472838,
           -0.050517726396684226,
           -0.04507257178320188,
           -0.029096175829387644,
           -0.0368942099193817,
           -0.04327741195757088,
           -0.0017952231790111079
          ],
          [
           0.15712238873375034,
           -0.012285968004796399,
           -0.044671546807142755,
           0.32982534051407053,
           0.1876795770070697,
           0.08647115338730886,
           0.07745042318132085,
           0.1011407096153121,
           0.09460880429099777,
           0.1426329506244535,
           0.1379751025229973,
           0.04110742283044646,
           0.01478424053634358,
           0.014784240475788024,
           0.06036105356388527,
           0.03341319446498362,
           -0.08693072638616005,
           -0.08786778381270378,
           -0.07219329372115296,
           1,
           -0.18061822264447955,
           -0.14171623450527115,
           -0.12755273439791875,
           -0.16747626743131616,
           -0.10674199780066347,
           -0.13374298334517593,
           -0.11932722723880619,
           -0.07703057197786929,
           -0.09767545087114542,
           0.13252048448561662,
           0.05892718518211858
          ],
          [
           -0.20154134280593866,
           -0.16994015422983308,
           -0.013636844714842007,
           0.0708675872118937,
           -0.019487037481362893,
           -0.005677062631805716,
           0.0020049830862820268,
           -0.04522626189439647,
           -0.040337796631385335,
           0.005919564170910066,
           0.007203642457611527,
           0.07977266227288282,
           -0.0019267007807201898,
           -0.0019267007233659858,
           0.04157484979444586,
           0.08092567026736415,
           -0.08215061261234084,
           -0.08303614348092614,
           -0.06822355629872623,
           -0.18061822264447955,
           1,
           -0.1339235960137529,
           -0.1205389130722421,
           -0.15826714603067196,
           -0.10087250935689522,
           -0.12638877496090398,
           -0.1127657069774658,
           -0.07279484413543848,
           -0.09230451026725418,
           0.10190500651852126,
           -0.022852402502050537
          ],
          [
           0.30636576184316383,
           0.43872980044391086,
           -0.03502949523595797,
           -0.27274415608687647,
           -0.07181955370718035,
           -0.032165361878121336,
           -0.02778672300370936,
           -0.03685184504276977,
           -0.03737569159715405,
           -0.005358231714643681,
           -0.0030342866460329122,
           -0.02059911083522574,
           0.03408536488418678,
           0.03408536509812447,
           0.008837068629870527,
           0.018515197718036096,
           -0.06445681565939168,
           -0.06515161875509673,
           -0.053529402303136756,
           -0.14171623450527115,
           -0.1339235960137529,
           1,
           -0.09457695143850707,
           -0.12417918664558562,
           -0.07914634515751545,
           -0.09916685597360365,
           -0.08847795720826562,
           -0.05711611514735377,
           -0.07242374236334136,
           0.09479946323051472,
           -0.04881665860445467
          ],
          [
           0.057988226663701764,
           -0.012086374148682494,
           -0.0019195289737200518,
           0.035168376353869574,
           0.10339654704966256,
           0.024112866018665156,
           0.02039714207842254,
           0.04121414577810465,
           0.03898185534158908,
           0.0025807365621569674,
           0.0022886396112613955,
           -0.018540380517244853,
           -0.005314086076005292,
           -0.005314085748593892,
           -0.012267664423752194,
           -0.044140393876852896,
           -0.058014828834816255,
           -0.05864019144789095,
           -0.04817953044185202,
           -0.12755273439791875,
           -0.1205389130722421,
           -0.09457695143850707,
           1,
           -0.11176838607975281,
           -0.07123624740443618,
           -0.08925585473841584,
           -0.07963523314921644,
           -0.05140777759629498,
           -0.06518551954208877,
           -0.1663469879005599,
           0.06310188523745085
          ],
          [
           -0.1137057462778811,
           -0.10231592771613333,
           -0.008516039623290159,
           0.033769743299261946,
           -0.01573378013832705,
           -0.032567648982010367,
           -0.03192444387513853,
           -0.03192603353632966,
           -0.03078119362557252,
           -0.05407733777530037,
           -0.053642371881794645,
           -0.024343450890654726,
           -0.02993458908429962,
           -0.029934589562376768,
           -0.04217917199016324,
           -0.039036128673058106,
           -0.0761732552013424,
           -0.07699435399411377,
           -0.06325954487045854,
           -0.16747626743131616,
           -0.15826714603067196,
           -0.12417918664558562,
           -0.11176838607975281,
           1,
           -0.0935329287719554,
           -0.11719260640346912,
           -0.10456076592013053,
           -0.06749822141725235,
           -0.08558834551851238,
           -0.02131626537532144,
           -0.027112081090321562
          ],
          [
           -0.0740185917351829,
           -0.07165214611058537,
           0.01053989408292797,
           -0.0331826811562609,
           -0.03806331436378371,
           -0.04043103952440406,
           -0.040626044059511555,
           -0.01965103771952368,
           -0.017723303344599147,
           -0.03223837769057606,
           -0.031382367717369665,
           -0.015515443598577358,
           -0.019223487726468237,
           -0.019223487666365984,
           -0.02639702013912667,
           -0.05553151729579441,
           -0.04854947846569159,
           -0.049072810677929034,
           -0.04031884817472838,
           -0.10674199780066347,
           -0.10087250935689522,
           -0.07914634515751545,
           -0.07123624740443618,
           -0.0935329287719554,
           1,
           -0.07469340657537292,
           -0.06664242771268795,
           -0.04302039394939258,
           -0.05455024242671414,
           -0.03437542550933715,
           -0.03267005051578446
          ],
          [
           -0.00937988976215889,
           -0.014873842198049117,
           0.0455698089380912,
           -0.12480023578064572,
           -0.036776659705576115,
           0.049469537501065995,
           0.04961722862966693,
           0.05433148287618774,
           0.05558738184918238,
           -0.009258338094978811,
           -0.008529407139845633,
           -0.016420553994234807,
           0.014593069241620805,
           0.014593069591183937,
           -0.0015852227175041098,
           0.019478466974633138,
           -0.060830340668531095,
           -0.06148605269179688,
           -0.050517726396684226,
           -0.13374298334517593,
           -0.12638877496090398,
           -0.09916685597360365,
           -0.08925585473841584,
           -0.11719260640346912,
           -0.07469340657537292,
           1,
           -0.08350000265410736,
           -0.05390264328967575,
           -0.06834903144660806,
           -0.02835367709060916,
           0.05111211554100291
          ],
          [
           -0.042742936291799795,
           -0.019977057774499728,
           0.0652251081730667,
           -0.04984946302430836,
           -0.05025975643346213,
           -0.03234680585334101,
           -0.03293559615590415,
           -0.03344257012463554,
           -0.033346274393833523,
           -0.02552338884727371,
           -0.024877435383579206,
           -0.017344764967353963,
           0.004967577395889666,
           0.004967577535404367,
           -0.011319389810522792,
           -0.012753595225534613,
           -0.05427362021104236,
           -0.05485865499676649,
           -0.04507257178320188,
           -0.11932722723880619,
           -0.1127657069774658,
           -0.08847795720826562,
           -0.07963523314921644,
           -0.10456076592013053,
           -0.06664242771268795,
           -0.08350000265410736,
           1,
           -0.048092638609676185,
           -0.060981893800980104,
           -0.041722629289207606,
           -0.030893650697690817
          ],
          [
           0.010199112024224785,
           0.020544344111355205,
           -0.0014308885387812082,
           -0.05115722540494538,
           -0.033249508388815234,
           -0.014246111798900712,
           -0.012645205619079664,
           -0.014712539252575235,
           -0.013297701533820948,
           -0.01871082125374538,
           -0.017684209230936276,
           -0.011196750290552938,
           -0.0031723413338435678,
           -0.003172341666751565,
           -0.011628762186724803,
           -0.0017036771559198996,
           -0.035035826314806125,
           -0.03541349003174718,
           -0.029096175829387644,
           -0.07703057197786929,
           -0.07279484413543848,
           -0.05711611514735377,
           -0.05140777759629498,
           -0.06749822141725235,
           -0.04302039394939258,
           -0.05390264328967575,
           -0.048092638609676185,
           1,
           -0.03936628939162592,
           -0.02433972359279409,
           -0.008952794157679349
          ],
          [
           -0.09330163620874413,
           -0.030901238432169697,
           -0.013344310128702658,
           -0.008327084429608183,
           -0.035118198867182,
           -0.051637981980854925,
           -0.052869727992741374,
           -0.04127557212096601,
           -0.04130713888513167,
           -0.03836861055753708,
           -0.03859920389362561,
           -0.014197579024021629,
           -0.016535923883710904,
           -0.016535924037338043,
           -0.0254075744904714,
           -0.04655754944534097,
           -0.044425739600181036,
           -0.04490462055462202,
           -0.0368942099193817,
           -0.09767545087114542,
           -0.09230451026725418,
           -0.07242374236334136,
           -0.06518551954208877,
           -0.08558834551851238,
           -0.05455024242671414,
           -0.06834903144660806,
           -0.060981893800980104,
           -0.03936628939162592,
           1,
           -0.0503364328723389,
           -0.03722707203171553
          ],
          [
           0.19300118047231818,
           0.16842965207317123,
           -0.02649288300500092,
           -0.17860460238132636,
           -0.1765484226332376,
           0.029582250718248625,
           0.044357033499163916,
           -0.02545946472276576,
           -0.018639010975349715,
           -0.06051622403499593,
           -0.05824797291764441,
           0.008944740446861596,
           -0.02335208786871325,
           -0.023352088007334775,
           -0.022309478203915507,
           0.15646019153274324,
           -0.062341191069264175,
           -0.0018606778713278112,
           -0.04327741195757088,
           0.13252048448561662,
           0.10190500651852126,
           0.09479946323051472,
           -0.1663469879005599,
           -0.02131626537532144,
           -0.03437542550933715,
           -0.02835367709060916,
           -0.041722629289207606,
           -0.02433972359279409,
           -0.0503364328723389,
           1,
           -0.1780403502291775
          ],
          [
           0.2527601252018735,
           0.205634881575708,
           0.060383040682789525,
           0.001307092052744449,
           0.14184180925088288,
           0.9650692144644619,
           0.9579489464750196,
           0.9253862554467277,
           0.9223606815698646,
           0.41581582991548643,
           0.4096671088679345,
           0.11775545849325333,
           0.23160357275680857,
           0.23160357264076126,
           0.2878100367228698,
           0.569894714359513,
           0.026374746534670385,
           -0.00714488688302751,
           -0.0017952231790111079,
           0.05892718518211858,
           -0.022852402502050537,
           -0.04881665860445467,
           0.06310188523745085,
           -0.027112081090321562,
           -0.03267005051578446,
           0.05111211554100291,
           -0.030893650697690817,
           -0.008952794157679349,
           -0.03722707203171553,
           -0.1780403502291775,
           1
          ]
         ]
        }
       ],
       "layout": {
        "annotations": [
         {
          "font": {
           "color": "#000000"
          },
          "showarrow": false,
          "text": "1.0",
          "x": "BuildingType",
          "xref": "x",
          "y": "BuildingType",
          "yref": "y"
         },
         {
          "font": {
           "color": "#000000"
          },
          "showarrow": false,
          "text": "0.79",
          "x": "PrimaryPropertyType",
          "xref": "x",
          "y": "BuildingType",
          "yref": "y"
         },
         {
          "font": {
           "color": "#FFFFFF"
          },
          "showarrow": false,
          "text": "-0.03",
          "x": "NumberofBuildings",
          "xref": "x",
          "y": "BuildingType",
          "yref": "y"
         },
         {
          "font": {
           "color": "#FFFFFF"
          },
          "showarrow": false,
          "text": "-0.28",
          "x": "NumberofFloors",
          "xref": "x",
          "y": "BuildingType",
          "yref": "y"
         },
         {
          "font": {
           "color": "#FFFFFF"
          },
          "showarrow": false,
          "text": "0.18",
          "x": "PropertyGFAParking",
          "xref": "x",
          "y": "BuildingType",
          "yref": "y"
         },
         {
          "font": {
           "color": "#FFFFFF"
          },
          "showarrow": false,
          "text": "0.29",
          "x": "SiteEUI(kBtu/sf)",
          "xref": "x",
          "y": "BuildingType",
          "yref": "y"
         },
         {
          "font": {
           "color": "#FFFFFF"
          },
          "showarrow": false,
          "text": "0.29",
          "x": "SiteEUIWN(kBtu/sf)",
          "xref": "x",
          "y": "BuildingType",
          "yref": "y"
         },
         {
          "font": {
           "color": "#FFFFFF"
          },
          "showarrow": false,
          "text": "0.28",
          "x": "SourceEUI(kBtu/sf)",
          "xref": "x",
          "y": "BuildingType",
          "yref": "y"
         },
         {
          "font": {
           "color": "#FFFFFF"
          },
          "showarrow": false,
          "text": "0.27",
          "x": "SourceEUIWN(kBtu/sf)",
          "xref": "x",
          "y": "BuildingType",
          "yref": "y"
         },
         {
          "font": {
           "color": "#FFFFFF"
          },
          "showarrow": false,
          "text": "0.17",
          "x": "SiteEnergyUse(kBtu)",
          "xref": "x",
          "y": "BuildingType",
          "yref": "y"
         },
         {
          "font": {
           "color": "#FFFFFF"
          },
          "showarrow": false,
          "text": "0.17",
          "x": "SiteEnergyUseWN(kBtu)",
          "xref": "x",
          "y": "BuildingType",
          "yref": "y"
         },
         {
          "font": {
           "color": "#FFFFFF"
          },
          "showarrow": false,
          "text": "0.06",
          "x": "SteamUse(kBtu)",
          "xref": "x",
          "y": "BuildingType",
          "yref": "y"
         },
         {
          "font": {
           "color": "#FFFFFF"
          },
          "showarrow": false,
          "text": "0.08",
          "x": "NaturalGas(therms)",
          "xref": "x",
          "y": "BuildingType",
          "yref": "y"
         },
         {
          "font": {
           "color": "#FFFFFF"
          },
          "showarrow": false,
          "text": "0.08",
          "x": "NaturalGas(kBtu)",
          "xref": "x",
          "y": "BuildingType",
          "yref": "y"
         },
         {
          "font": {
           "color": "#FFFFFF"
          },
          "showarrow": false,
          "text": "0.11",
          "x": "TotalGHGEmissions",
          "xref": "x",
          "y": "BuildingType",
          "yref": "y"
         },
         {
          "font": {
           "color": "#FFFFFF"
          },
          "showarrow": false,
          "text": "0.21",
          "x": "GHGEmissionsIntensity",
          "xref": "x",
          "y": "BuildingType",
          "yref": "y"
         },
         {
          "font": {
           "color": "#FFFFFF"
          },
          "showarrow": false,
          "text": "-0.0",
          "x": "Neighborhood_BALLARD",
          "xref": "x",
          "y": "BuildingType",
          "yref": "y"
         },
         {
          "font": {
           "color": "#FFFFFF"
          },
          "showarrow": false,
          "text": "-0.04",
          "x": "Neighborhood_CENTRAL",
          "xref": "x",
          "y": "BuildingType",
          "yref": "y"
         },
         {
          "font": {
           "color": "#FFFFFF"
          },
          "showarrow": false,
          "text": "0.02",
          "x": "Neighborhood_DELRIDGE",
          "xref": "x",
          "y": "BuildingType",
          "yref": "y"
         },
         {
          "font": {
           "color": "#FFFFFF"
          },
          "showarrow": false,
          "text": "0.16",
          "x": "Neighborhood_DOWNTOWN",
          "xref": "x",
          "y": "BuildingType",
          "yref": "y"
         },
         {
          "font": {
           "color": "#FFFFFF"
          },
          "showarrow": false,
          "text": "-0.2",
          "x": "Neighborhood_EAST",
          "xref": "x",
          "y": "BuildingType",
          "yref": "y"
         },
         {
          "font": {
           "color": "#FFFFFF"
          },
          "showarrow": false,
          "text": "0.31",
          "x": "Neighborhood_GREATER DUWAMISH",
          "xref": "x",
          "y": "BuildingType",
          "yref": "y"
         },
         {
          "font": {
           "color": "#FFFFFF"
          },
          "showarrow": false,
          "text": "0.06",
          "x": "Neighborhood_LAKE UNION",
          "xref": "x",
          "y": "BuildingType",
          "yref": "y"
         },
         {
          "font": {
           "color": "#FFFFFF"
          },
          "showarrow": false,
          "text": "-0.11",
          "x": "Neighborhood_MAGNOLIA / QUEEN ANNE",
          "xref": "x",
          "y": "BuildingType",
          "yref": "y"
         },
         {
          "font": {
           "color": "#FFFFFF"
          },
          "showarrow": false,
          "text": "-0.07",
          "x": "Neighborhood_NORTH",
          "xref": "x",
          "y": "BuildingType",
          "yref": "y"
         },
         {
          "font": {
           "color": "#FFFFFF"
          },
          "showarrow": false,
          "text": "-0.01",
          "x": "Neighborhood_NORTHEAST",
          "xref": "x",
          "y": "BuildingType",
          "yref": "y"
         },
         {
          "font": {
           "color": "#FFFFFF"
          },
          "showarrow": false,
          "text": "-0.04",
          "x": "Neighborhood_NORTHWEST",
          "xref": "x",
          "y": "BuildingType",
          "yref": "y"
         },
         {
          "font": {
           "color": "#FFFFFF"
          },
          "showarrow": false,
          "text": "0.01",
          "x": "Neighborhood_SOUTHEAST",
          "xref": "x",
          "y": "BuildingType",
          "yref": "y"
         },
         {
          "font": {
           "color": "#FFFFFF"
          },
          "showarrow": false,
          "text": "-0.09",
          "x": "Neighborhood_SOUTHWEST",
          "xref": "x",
          "y": "BuildingType",
          "yref": "y"
         },
         {
          "font": {
           "color": "#FFFFFF"
          },
          "showarrow": false,
          "text": "0.19",
          "x": "Age",
          "xref": "x",
          "y": "BuildingType",
          "yref": "y"
         },
         {
          "font": {
           "color": "#FFFFFF"
          },
          "showarrow": false,
          "text": "0.25",
          "x": "EnergyUse_Age_Ratio",
          "xref": "x",
          "y": "BuildingType",
          "yref": "y"
         },
         {
          "font": {
           "color": "#000000"
          },
          "showarrow": false,
          "text": "0.79",
          "x": "BuildingType",
          "xref": "x",
          "y": "PrimaryPropertyType",
          "yref": "y"
         },
         {
          "font": {
           "color": "#000000"
          },
          "showarrow": false,
          "text": "1.0",
          "x": "PrimaryPropertyType",
          "xref": "x",
          "y": "PrimaryPropertyType",
          "yref": "y"
         },
         {
          "font": {
           "color": "#FFFFFF"
          },
          "showarrow": false,
          "text": "-0.01",
          "x": "NumberofBuildings",
          "xref": "x",
          "y": "PrimaryPropertyType",
          "yref": "y"
         },
         {
          "font": {
           "color": "#FFFFFF"
          },
          "showarrow": false,
          "text": "-0.36",
          "x": "NumberofFloors",
          "xref": "x",
          "y": "PrimaryPropertyType",
          "yref": "y"
         },
         {
          "font": {
           "color": "#FFFFFF"
          },
          "showarrow": false,
          "text": "0.04",
          "x": "PropertyGFAParking",
          "xref": "x",
          "y": "PrimaryPropertyType",
          "yref": "y"
         },
         {
          "font": {
           "color": "#FFFFFF"
          },
          "showarrow": false,
          "text": "0.23",
          "x": "SiteEUI(kBtu/sf)",
          "xref": "x",
          "y": "PrimaryPropertyType",
          "yref": "y"
         },
         {
          "font": {
           "color": "#FFFFFF"
          },
          "showarrow": false,
          "text": "0.23",
          "x": "SiteEUIWN(kBtu/sf)",
          "xref": "x",
          "y": "PrimaryPropertyType",
          "yref": "y"
         },
         {
          "font": {
           "color": "#FFFFFF"
          },
          "showarrow": false,
          "text": "0.21",
          "x": "SourceEUI(kBtu/sf)",
          "xref": "x",
          "y": "PrimaryPropertyType",
          "yref": "y"
         },
         {
          "font": {
           "color": "#FFFFFF"
          },
          "showarrow": false,
          "text": "0.2",
          "x": "SourceEUIWN(kBtu/sf)",
          "xref": "x",
          "y": "PrimaryPropertyType",
          "yref": "y"
         },
         {
          "font": {
           "color": "#FFFFFF"
          },
          "showarrow": false,
          "text": "0.12",
          "x": "SiteEnergyUse(kBtu)",
          "xref": "x",
          "y": "PrimaryPropertyType",
          "yref": "y"
         },
         {
          "font": {
           "color": "#FFFFFF"
          },
          "showarrow": false,
          "text": "0.12",
          "x": "SiteEnergyUseWN(kBtu)",
          "xref": "x",
          "y": "PrimaryPropertyType",
          "yref": "y"
         },
         {
          "font": {
           "color": "#FFFFFF"
          },
          "showarrow": false,
          "text": "0.04",
          "x": "SteamUse(kBtu)",
          "xref": "x",
          "y": "PrimaryPropertyType",
          "yref": "y"
         },
         {
          "font": {
           "color": "#FFFFFF"
          },
          "showarrow": false,
          "text": "0.07",
          "x": "NaturalGas(therms)",
          "xref": "x",
          "y": "PrimaryPropertyType",
          "yref": "y"
         },
         {
          "font": {
           "color": "#FFFFFF"
          },
          "showarrow": false,
          "text": "0.07",
          "x": "NaturalGas(kBtu)",
          "xref": "x",
          "y": "PrimaryPropertyType",
          "yref": "y"
         },
         {
          "font": {
           "color": "#FFFFFF"
          },
          "showarrow": false,
          "text": "0.09",
          "x": "TotalGHGEmissions",
          "xref": "x",
          "y": "PrimaryPropertyType",
          "yref": "y"
         },
         {
          "font": {
           "color": "#FFFFFF"
          },
          "showarrow": false,
          "text": "0.19",
          "x": "GHGEmissionsIntensity",
          "xref": "x",
          "y": "PrimaryPropertyType",
          "yref": "y"
         },
         {
          "font": {
           "color": "#FFFFFF"
          },
          "showarrow": false,
          "text": "0.03",
          "x": "Neighborhood_BALLARD",
          "xref": "x",
          "y": "PrimaryPropertyType",
          "yref": "y"
         },
         {
          "font": {
           "color": "#FFFFFF"
          },
          "showarrow": false,
          "text": "-0.04",
          "x": "Neighborhood_CENTRAL",
          "xref": "x",
          "y": "PrimaryPropertyType",
          "yref": "y"
         },
         {
          "font": {
           "color": "#FFFFFF"
          },
          "showarrow": false,
          "text": "0.03",
          "x": "Neighborhood_DELRIDGE",
          "xref": "x",
          "y": "PrimaryPropertyType",
          "yref": "y"
         },
         {
          "font": {
           "color": "#FFFFFF"
          },
          "showarrow": false,
          "text": "-0.01",
          "x": "Neighborhood_DOWNTOWN",
          "xref": "x",
          "y": "PrimaryPropertyType",
          "yref": "y"
         },
         {
          "font": {
           "color": "#FFFFFF"
          },
          "showarrow": false,
          "text": "-0.17",
          "x": "Neighborhood_EAST",
          "xref": "x",
          "y": "PrimaryPropertyType",
          "yref": "y"
         },
         {
          "font": {
           "color": "#000000"
          },
          "showarrow": false,
          "text": "0.44",
          "x": "Neighborhood_GREATER DUWAMISH",
          "xref": "x",
          "y": "PrimaryPropertyType",
          "yref": "y"
         },
         {
          "font": {
           "color": "#FFFFFF"
          },
          "showarrow": false,
          "text": "-0.01",
          "x": "Neighborhood_LAKE UNION",
          "xref": "x",
          "y": "PrimaryPropertyType",
          "yref": "y"
         },
         {
          "font": {
           "color": "#FFFFFF"
          },
          "showarrow": false,
          "text": "-0.1",
          "x": "Neighborhood_MAGNOLIA / QUEEN ANNE",
          "xref": "x",
          "y": "PrimaryPropertyType",
          "yref": "y"
         },
         {
          "font": {
           "color": "#FFFFFF"
          },
          "showarrow": false,
          "text": "-0.07",
          "x": "Neighborhood_NORTH",
          "xref": "x",
          "y": "PrimaryPropertyType",
          "yref": "y"
         },
         {
          "font": {
           "color": "#FFFFFF"
          },
          "showarrow": false,
          "text": "-0.01",
          "x": "Neighborhood_NORTHEAST",
          "xref": "x",
          "y": "PrimaryPropertyType",
          "yref": "y"
         },
         {
          "font": {
           "color": "#FFFFFF"
          },
          "showarrow": false,
          "text": "-0.02",
          "x": "Neighborhood_NORTHWEST",
          "xref": "x",
          "y": "PrimaryPropertyType",
          "yref": "y"
         },
         {
          "font": {
           "color": "#FFFFFF"
          },
          "showarrow": false,
          "text": "0.02",
          "x": "Neighborhood_SOUTHEAST",
          "xref": "x",
          "y": "PrimaryPropertyType",
          "yref": "y"
         },
         {
          "font": {
           "color": "#FFFFFF"
          },
          "showarrow": false,
          "text": "-0.03",
          "x": "Neighborhood_SOUTHWEST",
          "xref": "x",
          "y": "PrimaryPropertyType",
          "yref": "y"
         },
         {
          "font": {
           "color": "#FFFFFF"
          },
          "showarrow": false,
          "text": "0.17",
          "x": "Age",
          "xref": "x",
          "y": "PrimaryPropertyType",
          "yref": "y"
         },
         {
          "font": {
           "color": "#FFFFFF"
          },
          "showarrow": false,
          "text": "0.21",
          "x": "EnergyUse_Age_Ratio",
          "xref": "x",
          "y": "PrimaryPropertyType",
          "yref": "y"
         },
         {
          "font": {
           "color": "#FFFFFF"
          },
          "showarrow": false,
          "text": "-0.03",
          "x": "BuildingType",
          "xref": "x",
          "y": "NumberofBuildings",
          "yref": "y"
         },
         {
          "font": {
           "color": "#FFFFFF"
          },
          "showarrow": false,
          "text": "-0.01",
          "x": "PrimaryPropertyType",
          "xref": "x",
          "y": "NumberofBuildings",
          "yref": "y"
         },
         {
          "font": {
           "color": "#000000"
          },
          "showarrow": false,
          "text": "1.0",
          "x": "NumberofBuildings",
          "xref": "x",
          "y": "NumberofBuildings",
          "yref": "y"
         },
         {
          "font": {
           "color": "#FFFFFF"
          },
          "showarrow": false,
          "text": "0.01",
          "x": "NumberofFloors",
          "xref": "x",
          "y": "NumberofBuildings",
          "yref": "y"
         },
         {
          "font": {
           "color": "#FFFFFF"
          },
          "showarrow": false,
          "text": "-0.01",
          "x": "PropertyGFAParking",
          "xref": "x",
          "y": "NumberofBuildings",
          "yref": "y"
         },
         {
          "font": {
           "color": "#FFFFFF"
          },
          "showarrow": false,
          "text": "0.06",
          "x": "SiteEUI(kBtu/sf)",
          "xref": "x",
          "y": "NumberofBuildings",
          "yref": "y"
         },
         {
          "font": {
           "color": "#FFFFFF"
          },
          "showarrow": false,
          "text": "0.06",
          "x": "SiteEUIWN(kBtu/sf)",
          "xref": "x",
          "y": "NumberofBuildings",
          "yref": "y"
         },
         {
          "font": {
           "color": "#FFFFFF"
          },
          "showarrow": false,
          "text": "0.04",
          "x": "SourceEUI(kBtu/sf)",
          "xref": "x",
          "y": "NumberofBuildings",
          "yref": "y"
         },
         {
          "font": {
           "color": "#FFFFFF"
          },
          "showarrow": false,
          "text": "0.03",
          "x": "SourceEUIWN(kBtu/sf)",
          "xref": "x",
          "y": "NumberofBuildings",
          "yref": "y"
         },
         {
          "font": {
           "color": "#FFFFFF"
          },
          "showarrow": false,
          "text": "0.26",
          "x": "SiteEnergyUse(kBtu)",
          "xref": "x",
          "y": "NumberofBuildings",
          "yref": "y"
         },
         {
          "font": {
           "color": "#FFFFFF"
          },
          "showarrow": false,
          "text": "0.25",
          "x": "SiteEnergyUseWN(kBtu)",
          "xref": "x",
          "y": "NumberofBuildings",
          "yref": "y"
         },
         {
          "font": {
           "color": "#FFFFFF"
          },
          "showarrow": false,
          "text": "0.28",
          "x": "SteamUse(kBtu)",
          "xref": "x",
          "y": "NumberofBuildings",
          "yref": "y"
         },
         {
          "font": {
           "color": "#FFFFFF"
          },
          "showarrow": false,
          "text": "0.15",
          "x": "NaturalGas(therms)",
          "xref": "x",
          "y": "NumberofBuildings",
          "yref": "y"
         },
         {
          "font": {
           "color": "#FFFFFF"
          },
          "showarrow": false,
          "text": "0.15",
          "x": "NaturalGas(kBtu)",
          "xref": "x",
          "y": "NumberofBuildings",
          "yref": "y"
         },
         {
          "font": {
           "color": "#FFFFFF"
          },
          "showarrow": false,
          "text": "0.29",
          "x": "TotalGHGEmissions",
          "xref": "x",
          "y": "NumberofBuildings",
          "yref": "y"
         },
         {
          "font": {
           "color": "#FFFFFF"
          },
          "showarrow": false,
          "text": "0.1",
          "x": "GHGEmissionsIntensity",
          "xref": "x",
          "y": "NumberofBuildings",
          "yref": "y"
         },
         {
          "font": {
           "color": "#FFFFFF"
          },
          "showarrow": false,
          "text": "0.01",
          "x": "Neighborhood_BALLARD",
          "xref": "x",
          "y": "NumberofBuildings",
          "yref": "y"
         },
         {
          "font": {
           "color": "#FFFFFF"
          },
          "showarrow": false,
          "text": "0.01",
          "x": "Neighborhood_CENTRAL",
          "xref": "x",
          "y": "NumberofBuildings",
          "yref": "y"
         },
         {
          "font": {
           "color": "#FFFFFF"
          },
          "showarrow": false,
          "text": "0.02",
          "x": "Neighborhood_DELRIDGE",
          "xref": "x",
          "y": "NumberofBuildings",
          "yref": "y"
         },
         {
          "font": {
           "color": "#FFFFFF"
          },
          "showarrow": false,
          "text": "-0.04",
          "x": "Neighborhood_DOWNTOWN",
          "xref": "x",
          "y": "NumberofBuildings",
          "yref": "y"
         },
         {
          "font": {
           "color": "#FFFFFF"
          },
          "showarrow": false,
          "text": "-0.01",
          "x": "Neighborhood_EAST",
          "xref": "x",
          "y": "NumberofBuildings",
          "yref": "y"
         },
         {
          "font": {
           "color": "#FFFFFF"
          },
          "showarrow": false,
          "text": "-0.04",
          "x": "Neighborhood_GREATER DUWAMISH",
          "xref": "x",
          "y": "NumberofBuildings",
          "yref": "y"
         },
         {
          "font": {
           "color": "#FFFFFF"
          },
          "showarrow": false,
          "text": "-0.0",
          "x": "Neighborhood_LAKE UNION",
          "xref": "x",
          "y": "NumberofBuildings",
          "yref": "y"
         },
         {
          "font": {
           "color": "#FFFFFF"
          },
          "showarrow": false,
          "text": "-0.01",
          "x": "Neighborhood_MAGNOLIA / QUEEN ANNE",
          "xref": "x",
          "y": "NumberofBuildings",
          "yref": "y"
         },
         {
          "font": {
           "color": "#FFFFFF"
          },
          "showarrow": false,
          "text": "0.01",
          "x": "Neighborhood_NORTH",
          "xref": "x",
          "y": "NumberofBuildings",
          "yref": "y"
         },
         {
          "font": {
           "color": "#FFFFFF"
          },
          "showarrow": false,
          "text": "0.05",
          "x": "Neighborhood_NORTHEAST",
          "xref": "x",
          "y": "NumberofBuildings",
          "yref": "y"
         },
         {
          "font": {
           "color": "#FFFFFF"
          },
          "showarrow": false,
          "text": "0.07",
          "x": "Neighborhood_NORTHWEST",
          "xref": "x",
          "y": "NumberofBuildings",
          "yref": "y"
         },
         {
          "font": {
           "color": "#FFFFFF"
          },
          "showarrow": false,
          "text": "-0.0",
          "x": "Neighborhood_SOUTHEAST",
          "xref": "x",
          "y": "NumberofBuildings",
          "yref": "y"
         },
         {
          "font": {
           "color": "#FFFFFF"
          },
          "showarrow": false,
          "text": "-0.01",
          "x": "Neighborhood_SOUTHWEST",
          "xref": "x",
          "y": "NumberofBuildings",
          "yref": "y"
         },
         {
          "font": {
           "color": "#FFFFFF"
          },
          "showarrow": false,
          "text": "-0.03",
          "x": "Age",
          "xref": "x",
          "y": "NumberofBuildings",
          "yref": "y"
         },
         {
          "font": {
           "color": "#FFFFFF"
          },
          "showarrow": false,
          "text": "0.06",
          "x": "EnergyUse_Age_Ratio",
          "xref": "x",
          "y": "NumberofBuildings",
          "yref": "y"
         },
         {
          "font": {
           "color": "#FFFFFF"
          },
          "showarrow": false,
          "text": "-0.28",
          "x": "BuildingType",
          "xref": "x",
          "y": "NumberofFloors",
          "yref": "y"
         },
         {
          "font": {
           "color": "#FFFFFF"
          },
          "showarrow": false,
          "text": "-0.36",
          "x": "PrimaryPropertyType",
          "xref": "x",
          "y": "NumberofFloors",
          "yref": "y"
         },
         {
          "font": {
           "color": "#FFFFFF"
          },
          "showarrow": false,
          "text": "0.01",
          "x": "NumberofBuildings",
          "xref": "x",
          "y": "NumberofFloors",
          "yref": "y"
         },
         {
          "font": {
           "color": "#000000"
          },
          "showarrow": false,
          "text": "1.0",
          "x": "NumberofFloors",
          "xref": "x",
          "y": "NumberofFloors",
          "yref": "y"
         },
         {
          "font": {
           "color": "#FFFFFF"
          },
          "showarrow": false,
          "text": "0.27",
          "x": "PropertyGFAParking",
          "xref": "x",
          "y": "NumberofFloors",
          "yref": "y"
         },
         {
          "font": {
           "color": "#FFFFFF"
          },
          "showarrow": false,
          "text": "-0.03",
          "x": "SiteEUI(kBtu/sf)",
          "xref": "x",
          "y": "NumberofFloors",
          "yref": "y"
         },
         {
          "font": {
           "color": "#FFFFFF"
          },
          "showarrow": false,
          "text": "-0.04",
          "x": "SiteEUIWN(kBtu/sf)",
          "xref": "x",
          "y": "NumberofFloors",
          "yref": "y"
         },
         {
          "font": {
           "color": "#FFFFFF"
          },
          "showarrow": false,
          "text": "0.0",
          "x": "SourceEUI(kBtu/sf)",
          "xref": "x",
          "y": "NumberofFloors",
          "yref": "y"
         },
         {
          "font": {
           "color": "#FFFFFF"
          },
          "showarrow": false,
          "text": "-0.0",
          "x": "SourceEUIWN(kBtu/sf)",
          "xref": "x",
          "y": "NumberofFloors",
          "yref": "y"
         },
         {
          "font": {
           "color": "#FFFFFF"
          },
          "showarrow": false,
          "text": "0.16",
          "x": "SiteEnergyUse(kBtu)",
          "xref": "x",
          "y": "NumberofFloors",
          "yref": "y"
         },
         {
          "font": {
           "color": "#FFFFFF"
          },
          "showarrow": false,
          "text": "0.15",
          "x": "SiteEnergyUseWN(kBtu)",
          "xref": "x",
          "y": "NumberofFloors",
          "yref": "y"
         },
         {
          "font": {
           "color": "#FFFFFF"
          },
          "showarrow": false,
          "text": "0.05",
          "x": "SteamUse(kBtu)",
          "xref": "x",
          "y": "NumberofFloors",
          "yref": "y"
         },
         {
          "font": {
           "color": "#FFFFFF"
          },
          "showarrow": false,
          "text": "0.03",
          "x": "NaturalGas(therms)",
          "xref": "x",
          "y": "NumberofFloors",
          "yref": "y"
         },
         {
          "font": {
           "color": "#FFFFFF"
          },
          "showarrow": false,
          "text": "0.03",
          "x": "NaturalGas(kBtu)",
          "xref": "x",
          "y": "NumberofFloors",
          "yref": "y"
         },
         {
          "font": {
           "color": "#FFFFFF"
          },
          "showarrow": false,
          "text": "0.08",
          "x": "TotalGHGEmissions",
          "xref": "x",
          "y": "NumberofFloors",
          "yref": "y"
         },
         {
          "font": {
           "color": "#FFFFFF"
          },
          "showarrow": false,
          "text": "-0.09",
          "x": "GHGEmissionsIntensity",
          "xref": "x",
          "y": "NumberofFloors",
          "yref": "y"
         },
         {
          "font": {
           "color": "#FFFFFF"
          },
          "showarrow": false,
          "text": "-0.03",
          "x": "Neighborhood_BALLARD",
          "xref": "x",
          "y": "NumberofFloors",
          "yref": "y"
         },
         {
          "font": {
           "color": "#FFFFFF"
          },
          "showarrow": false,
          "text": "-0.02",
          "x": "Neighborhood_CENTRAL",
          "xref": "x",
          "y": "NumberofFloors",
          "yref": "y"
         },
         {
          "font": {
           "color": "#FFFFFF"
          },
          "showarrow": false,
          "text": "-0.08",
          "x": "Neighborhood_DELRIDGE",
          "xref": "x",
          "y": "NumberofFloors",
          "yref": "y"
         },
         {
          "font": {
           "color": "#000000"
          },
          "showarrow": false,
          "text": "0.33",
          "x": "Neighborhood_DOWNTOWN",
          "xref": "x",
          "y": "NumberofFloors",
          "yref": "y"
         },
         {
          "font": {
           "color": "#FFFFFF"
          },
          "showarrow": false,
          "text": "0.07",
          "x": "Neighborhood_EAST",
          "xref": "x",
          "y": "NumberofFloors",
          "yref": "y"
         },
         {
          "font": {
           "color": "#FFFFFF"
          },
          "showarrow": false,
          "text": "-0.27",
          "x": "Neighborhood_GREATER DUWAMISH",
          "xref": "x",
          "y": "NumberofFloors",
          "yref": "y"
         },
         {
          "font": {
           "color": "#FFFFFF"
          },
          "showarrow": false,
          "text": "0.04",
          "x": "Neighborhood_LAKE UNION",
          "xref": "x",
          "y": "NumberofFloors",
          "yref": "y"
         },
         {
          "font": {
           "color": "#FFFFFF"
          },
          "showarrow": false,
          "text": "0.03",
          "x": "Neighborhood_MAGNOLIA / QUEEN ANNE",
          "xref": "x",
          "y": "NumberofFloors",
          "yref": "y"
         },
         {
          "font": {
           "color": "#FFFFFF"
          },
          "showarrow": false,
          "text": "-0.03",
          "x": "Neighborhood_NORTH",
          "xref": "x",
          "y": "NumberofFloors",
          "yref": "y"
         },
         {
          "font": {
           "color": "#FFFFFF"
          },
          "showarrow": false,
          "text": "-0.12",
          "x": "Neighborhood_NORTHEAST",
          "xref": "x",
          "y": "NumberofFloors",
          "yref": "y"
         },
         {
          "font": {
           "color": "#FFFFFF"
          },
          "showarrow": false,
          "text": "-0.05",
          "x": "Neighborhood_NORTHWEST",
          "xref": "x",
          "y": "NumberofFloors",
          "yref": "y"
         },
         {
          "font": {
           "color": "#FFFFFF"
          },
          "showarrow": false,
          "text": "-0.05",
          "x": "Neighborhood_SOUTHEAST",
          "xref": "x",
          "y": "NumberofFloors",
          "yref": "y"
         },
         {
          "font": {
           "color": "#FFFFFF"
          },
          "showarrow": false,
          "text": "-0.01",
          "x": "Neighborhood_SOUTHWEST",
          "xref": "x",
          "y": "NumberofFloors",
          "yref": "y"
         },
         {
          "font": {
           "color": "#FFFFFF"
          },
          "showarrow": false,
          "text": "-0.18",
          "x": "Age",
          "xref": "x",
          "y": "NumberofFloors",
          "yref": "y"
         },
         {
          "font": {
           "color": "#FFFFFF"
          },
          "showarrow": false,
          "text": "0.0",
          "x": "EnergyUse_Age_Ratio",
          "xref": "x",
          "y": "NumberofFloors",
          "yref": "y"
         },
         {
          "font": {
           "color": "#FFFFFF"
          },
          "showarrow": false,
          "text": "0.18",
          "x": "BuildingType",
          "xref": "x",
          "y": "PropertyGFAParking",
          "yref": "y"
         },
         {
          "font": {
           "color": "#FFFFFF"
          },
          "showarrow": false,
          "text": "0.04",
          "x": "PrimaryPropertyType",
          "xref": "x",
          "y": "PropertyGFAParking",
          "yref": "y"
         },
         {
          "font": {
           "color": "#FFFFFF"
          },
          "showarrow": false,
          "text": "-0.01",
          "x": "NumberofBuildings",
          "xref": "x",
          "y": "PropertyGFAParking",
          "yref": "y"
         },
         {
          "font": {
           "color": "#FFFFFF"
          },
          "showarrow": false,
          "text": "0.27",
          "x": "NumberofFloors",
          "xref": "x",
          "y": "PropertyGFAParking",
          "yref": "y"
         },
         {
          "font": {
           "color": "#000000"
          },
          "showarrow": false,
          "text": "1.0",
          "x": "PropertyGFAParking",
          "xref": "x",
          "y": "PropertyGFAParking",
          "yref": "y"
         },
         {
          "font": {
           "color": "#FFFFFF"
          },
          "showarrow": false,
          "text": "0.1",
          "x": "SiteEUI(kBtu/sf)",
          "xref": "x",
          "y": "PropertyGFAParking",
          "yref": "y"
         },
         {
          "font": {
           "color": "#FFFFFF"
          },
          "showarrow": false,
          "text": "0.09",
          "x": "SiteEUIWN(kBtu/sf)",
          "xref": "x",
          "y": "PropertyGFAParking",
          "yref": "y"
         },
         {
          "font": {
           "color": "#FFFFFF"
          },
          "showarrow": false,
          "text": "0.14",
          "x": "SourceEUI(kBtu/sf)",
          "xref": "x",
          "y": "PropertyGFAParking",
          "yref": "y"
         },
         {
          "font": {
           "color": "#FFFFFF"
          },
          "showarrow": false,
          "text": "0.13",
          "x": "SourceEUIWN(kBtu/sf)",
          "xref": "x",
          "y": "PropertyGFAParking",
          "yref": "y"
         },
         {
          "font": {
           "color": "#FFFFFF"
          },
          "showarrow": false,
          "text": "0.24",
          "x": "SiteEnergyUse(kBtu)",
          "xref": "x",
          "y": "PropertyGFAParking",
          "yref": "y"
         },
         {
          "font": {
           "color": "#FFFFFF"
          },
          "showarrow": false,
          "text": "0.24",
          "x": "SiteEnergyUseWN(kBtu)",
          "xref": "x",
          "y": "PropertyGFAParking",
          "yref": "y"
         },
         {
          "font": {
           "color": "#FFFFFF"
          },
          "showarrow": false,
          "text": "0.02",
          "x": "SteamUse(kBtu)",
          "xref": "x",
          "y": "PropertyGFAParking",
          "yref": "y"
         },
         {
          "font": {
           "color": "#FFFFFF"
          },
          "showarrow": false,
          "text": "0.04",
          "x": "NaturalGas(therms)",
          "xref": "x",
          "y": "PropertyGFAParking",
          "yref": "y"
         },
         {
          "font": {
           "color": "#FFFFFF"
          },
          "showarrow": false,
          "text": "0.04",
          "x": "NaturalGas(kBtu)",
          "xref": "x",
          "y": "PropertyGFAParking",
          "yref": "y"
         },
         {
          "font": {
           "color": "#FFFFFF"
          },
          "showarrow": false,
          "text": "0.09",
          "x": "TotalGHGEmissions",
          "xref": "x",
          "y": "PropertyGFAParking",
          "yref": "y"
         },
         {
          "font": {
           "color": "#FFFFFF"
          },
          "showarrow": false,
          "text": "-0.05",
          "x": "GHGEmissionsIntensity",
          "xref": "x",
          "y": "PropertyGFAParking",
          "yref": "y"
         },
         {
          "font": {
           "color": "#FFFFFF"
          },
          "showarrow": false,
          "text": "-0.03",
          "x": "Neighborhood_BALLARD",
          "xref": "x",
          "y": "PropertyGFAParking",
          "yref": "y"
         },
         {
          "font": {
           "color": "#FFFFFF"
          },
          "showarrow": false,
          "text": "-0.03",
          "x": "Neighborhood_CENTRAL",
          "xref": "x",
          "y": "PropertyGFAParking",
          "yref": "y"
         },
         {
          "font": {
           "color": "#FFFFFF"
          },
          "showarrow": false,
          "text": "-0.04",
          "x": "Neighborhood_DELRIDGE",
          "xref": "x",
          "y": "PropertyGFAParking",
          "yref": "y"
         },
         {
          "font": {
           "color": "#FFFFFF"
          },
          "showarrow": false,
          "text": "0.19",
          "x": "Neighborhood_DOWNTOWN",
          "xref": "x",
          "y": "PropertyGFAParking",
          "yref": "y"
         },
         {
          "font": {
           "color": "#FFFFFF"
          },
          "showarrow": false,
          "text": "-0.02",
          "x": "Neighborhood_EAST",
          "xref": "x",
          "y": "PropertyGFAParking",
          "yref": "y"
         },
         {
          "font": {
           "color": "#FFFFFF"
          },
          "showarrow": false,
          "text": "-0.07",
          "x": "Neighborhood_GREATER DUWAMISH",
          "xref": "x",
          "y": "PropertyGFAParking",
          "yref": "y"
         },
         {
          "font": {
           "color": "#FFFFFF"
          },
          "showarrow": false,
          "text": "0.1",
          "x": "Neighborhood_LAKE UNION",
          "xref": "x",
          "y": "PropertyGFAParking",
          "yref": "y"
         },
         {
          "font": {
           "color": "#FFFFFF"
          },
          "showarrow": false,
          "text": "-0.02",
          "x": "Neighborhood_MAGNOLIA / QUEEN ANNE",
          "xref": "x",
          "y": "PropertyGFAParking",
          "yref": "y"
         },
         {
          "font": {
           "color": "#FFFFFF"
          },
          "showarrow": false,
          "text": "-0.04",
          "x": "Neighborhood_NORTH",
          "xref": "x",
          "y": "PropertyGFAParking",
          "yref": "y"
         },
         {
          "font": {
           "color": "#FFFFFF"
          },
          "showarrow": false,
          "text": "-0.04",
          "x": "Neighborhood_NORTHEAST",
          "xref": "x",
          "y": "PropertyGFAParking",
          "yref": "y"
         },
         {
          "font": {
           "color": "#FFFFFF"
          },
          "showarrow": false,
          "text": "-0.05",
          "x": "Neighborhood_NORTHWEST",
          "xref": "x",
          "y": "PropertyGFAParking",
          "yref": "y"
         },
         {
          "font": {
           "color": "#FFFFFF"
          },
          "showarrow": false,
          "text": "-0.03",
          "x": "Neighborhood_SOUTHEAST",
          "xref": "x",
          "y": "PropertyGFAParking",
          "yref": "y"
         },
         {
          "font": {
           "color": "#FFFFFF"
          },
          "showarrow": false,
          "text": "-0.04",
          "x": "Neighborhood_SOUTHWEST",
          "xref": "x",
          "y": "PropertyGFAParking",
          "yref": "y"
         },
         {
          "font": {
           "color": "#FFFFFF"
          },
          "showarrow": false,
          "text": "-0.18",
          "x": "Age",
          "xref": "x",
          "y": "PropertyGFAParking",
          "yref": "y"
         },
         {
          "font": {
           "color": "#FFFFFF"
          },
          "showarrow": false,
          "text": "0.14",
          "x": "EnergyUse_Age_Ratio",
          "xref": "x",
          "y": "PropertyGFAParking",
          "yref": "y"
         },
         {
          "font": {
           "color": "#FFFFFF"
          },
          "showarrow": false,
          "text": "0.29",
          "x": "BuildingType",
          "xref": "x",
          "y": "SiteEUI(kBtu/sf)",
          "yref": "y"
         },
         {
          "font": {
           "color": "#FFFFFF"
          },
          "showarrow": false,
          "text": "0.23",
          "x": "PrimaryPropertyType",
          "xref": "x",
          "y": "SiteEUI(kBtu/sf)",
          "yref": "y"
         },
         {
          "font": {
           "color": "#FFFFFF"
          },
          "showarrow": false,
          "text": "0.06",
          "x": "NumberofBuildings",
          "xref": "x",
          "y": "SiteEUI(kBtu/sf)",
          "yref": "y"
         },
         {
          "font": {
           "color": "#FFFFFF"
          },
          "showarrow": false,
          "text": "-0.03",
          "x": "NumberofFloors",
          "xref": "x",
          "y": "SiteEUI(kBtu/sf)",
          "yref": "y"
         },
         {
          "font": {
           "color": "#FFFFFF"
          },
          "showarrow": false,
          "text": "0.1",
          "x": "PropertyGFAParking",
          "xref": "x",
          "y": "SiteEUI(kBtu/sf)",
          "yref": "y"
         },
         {
          "font": {
           "color": "#000000"
          },
          "showarrow": false,
          "text": "1.0",
          "x": "SiteEUI(kBtu/sf)",
          "xref": "x",
          "y": "SiteEUI(kBtu/sf)",
          "yref": "y"
         },
         {
          "font": {
           "color": "#000000"
          },
          "showarrow": false,
          "text": "1.0",
          "x": "SiteEUIWN(kBtu/sf)",
          "xref": "x",
          "y": "SiteEUI(kBtu/sf)",
          "yref": "y"
         },
         {
          "font": {
           "color": "#000000"
          },
          "showarrow": false,
          "text": "0.95",
          "x": "SourceEUI(kBtu/sf)",
          "xref": "x",
          "y": "SiteEUI(kBtu/sf)",
          "yref": "y"
         },
         {
          "font": {
           "color": "#000000"
          },
          "showarrow": false,
          "text": "0.94",
          "x": "SourceEUIWN(kBtu/sf)",
          "xref": "x",
          "y": "SiteEUI(kBtu/sf)",
          "yref": "y"
         },
         {
          "font": {
           "color": "#000000"
          },
          "showarrow": false,
          "text": "0.41",
          "x": "SiteEnergyUse(kBtu)",
          "xref": "x",
          "y": "SiteEUI(kBtu/sf)",
          "yref": "y"
         },
         {
          "font": {
           "color": "#000000"
          },
          "showarrow": false,
          "text": "0.4",
          "x": "SiteEnergyUseWN(kBtu)",
          "xref": "x",
          "y": "SiteEUI(kBtu/sf)",
          "yref": "y"
         },
         {
          "font": {
           "color": "#FFFFFF"
          },
          "showarrow": false,
          "text": "0.12",
          "x": "SteamUse(kBtu)",
          "xref": "x",
          "y": "SiteEUI(kBtu/sf)",
          "yref": "y"
         },
         {
          "font": {
           "color": "#FFFFFF"
          },
          "showarrow": false,
          "text": "0.23",
          "x": "NaturalGas(therms)",
          "xref": "x",
          "y": "SiteEUI(kBtu/sf)",
          "yref": "y"
         },
         {
          "font": {
           "color": "#FFFFFF"
          },
          "showarrow": false,
          "text": "0.23",
          "x": "NaturalGas(kBtu)",
          "xref": "x",
          "y": "SiteEUI(kBtu/sf)",
          "yref": "y"
         },
         {
          "font": {
           "color": "#FFFFFF"
          },
          "showarrow": false,
          "text": "0.29",
          "x": "TotalGHGEmissions",
          "xref": "x",
          "y": "SiteEUI(kBtu/sf)",
          "yref": "y"
         },
         {
          "font": {
           "color": "#000000"
          },
          "showarrow": false,
          "text": "0.63",
          "x": "GHGEmissionsIntensity",
          "xref": "x",
          "y": "SiteEUI(kBtu/sf)",
          "yref": "y"
         },
         {
          "font": {
           "color": "#FFFFFF"
          },
          "showarrow": false,
          "text": "0.01",
          "x": "Neighborhood_BALLARD",
          "xref": "x",
          "y": "SiteEUI(kBtu/sf)",
          "yref": "y"
         },
         {
          "font": {
           "color": "#FFFFFF"
          },
          "showarrow": false,
          "text": "-0.01",
          "x": "Neighborhood_CENTRAL",
          "xref": "x",
          "y": "SiteEUI(kBtu/sf)",
          "yref": "y"
         },
         {
          "font": {
           "color": "#FFFFFF"
          },
          "showarrow": false,
          "text": "-0.0",
          "x": "Neighborhood_DELRIDGE",
          "xref": "x",
          "y": "SiteEUI(kBtu/sf)",
          "yref": "y"
         },
         {
          "font": {
           "color": "#FFFFFF"
          },
          "showarrow": false,
          "text": "0.09",
          "x": "Neighborhood_DOWNTOWN",
          "xref": "x",
          "y": "SiteEUI(kBtu/sf)",
          "yref": "y"
         },
         {
          "font": {
           "color": "#FFFFFF"
          },
          "showarrow": false,
          "text": "-0.01",
          "x": "Neighborhood_EAST",
          "xref": "x",
          "y": "SiteEUI(kBtu/sf)",
          "yref": "y"
         },
         {
          "font": {
           "color": "#FFFFFF"
          },
          "showarrow": false,
          "text": "-0.03",
          "x": "Neighborhood_GREATER DUWAMISH",
          "xref": "x",
          "y": "SiteEUI(kBtu/sf)",
          "yref": "y"
         },
         {
          "font": {
           "color": "#FFFFFF"
          },
          "showarrow": false,
          "text": "0.02",
          "x": "Neighborhood_LAKE UNION",
          "xref": "x",
          "y": "SiteEUI(kBtu/sf)",
          "yref": "y"
         },
         {
          "font": {
           "color": "#FFFFFF"
          },
          "showarrow": false,
          "text": "-0.03",
          "x": "Neighborhood_MAGNOLIA / QUEEN ANNE",
          "xref": "x",
          "y": "SiteEUI(kBtu/sf)",
          "yref": "y"
         },
         {
          "font": {
           "color": "#FFFFFF"
          },
          "showarrow": false,
          "text": "-0.04",
          "x": "Neighborhood_NORTH",
          "xref": "x",
          "y": "SiteEUI(kBtu/sf)",
          "yref": "y"
         },
         {
          "font": {
           "color": "#FFFFFF"
          },
          "showarrow": false,
          "text": "0.05",
          "x": "Neighborhood_NORTHEAST",
          "xref": "x",
          "y": "SiteEUI(kBtu/sf)",
          "yref": "y"
         },
         {
          "font": {
           "color": "#FFFFFF"
          },
          "showarrow": false,
          "text": "-0.03",
          "x": "Neighborhood_NORTHWEST",
          "xref": "x",
          "y": "SiteEUI(kBtu/sf)",
          "yref": "y"
         },
         {
          "font": {
           "color": "#FFFFFF"
          },
          "showarrow": false,
          "text": "-0.01",
          "x": "Neighborhood_SOUTHEAST",
          "xref": "x",
          "y": "SiteEUI(kBtu/sf)",
          "yref": "y"
         },
         {
          "font": {
           "color": "#FFFFFF"
          },
          "showarrow": false,
          "text": "-0.05",
          "x": "Neighborhood_SOUTHWEST",
          "xref": "x",
          "y": "SiteEUI(kBtu/sf)",
          "yref": "y"
         },
         {
          "font": {
           "color": "#FFFFFF"
          },
          "showarrow": false,
          "text": "0.03",
          "x": "Age",
          "xref": "x",
          "y": "SiteEUI(kBtu/sf)",
          "yref": "y"
         },
         {
          "font": {
           "color": "#000000"
          },
          "showarrow": false,
          "text": "0.97",
          "x": "EnergyUse_Age_Ratio",
          "xref": "x",
          "y": "SiteEUI(kBtu/sf)",
          "yref": "y"
         },
         {
          "font": {
           "color": "#FFFFFF"
          },
          "showarrow": false,
          "text": "0.29",
          "x": "BuildingType",
          "xref": "x",
          "y": "SiteEUIWN(kBtu/sf)",
          "yref": "y"
         },
         {
          "font": {
           "color": "#FFFFFF"
          },
          "showarrow": false,
          "text": "0.23",
          "x": "PrimaryPropertyType",
          "xref": "x",
          "y": "SiteEUIWN(kBtu/sf)",
          "yref": "y"
         },
         {
          "font": {
           "color": "#FFFFFF"
          },
          "showarrow": false,
          "text": "0.06",
          "x": "NumberofBuildings",
          "xref": "x",
          "y": "SiteEUIWN(kBtu/sf)",
          "yref": "y"
         },
         {
          "font": {
           "color": "#FFFFFF"
          },
          "showarrow": false,
          "text": "-0.04",
          "x": "NumberofFloors",
          "xref": "x",
          "y": "SiteEUIWN(kBtu/sf)",
          "yref": "y"
         },
         {
          "font": {
           "color": "#FFFFFF"
          },
          "showarrow": false,
          "text": "0.09",
          "x": "PropertyGFAParking",
          "xref": "x",
          "y": "SiteEUIWN(kBtu/sf)",
          "yref": "y"
         },
         {
          "font": {
           "color": "#000000"
          },
          "showarrow": false,
          "text": "1.0",
          "x": "SiteEUI(kBtu/sf)",
          "xref": "x",
          "y": "SiteEUIWN(kBtu/sf)",
          "yref": "y"
         },
         {
          "font": {
           "color": "#000000"
          },
          "showarrow": false,
          "text": "1.0",
          "x": "SiteEUIWN(kBtu/sf)",
          "xref": "x",
          "y": "SiteEUIWN(kBtu/sf)",
          "yref": "y"
         },
         {
          "font": {
           "color": "#000000"
          },
          "showarrow": false,
          "text": "0.93",
          "x": "SourceEUI(kBtu/sf)",
          "xref": "x",
          "y": "SiteEUIWN(kBtu/sf)",
          "yref": "y"
         },
         {
          "font": {
           "color": "#000000"
          },
          "showarrow": false,
          "text": "0.94",
          "x": "SourceEUIWN(kBtu/sf)",
          "xref": "x",
          "y": "SiteEUIWN(kBtu/sf)",
          "yref": "y"
         },
         {
          "font": {
           "color": "#000000"
          },
          "showarrow": false,
          "text": "0.4",
          "x": "SiteEnergyUse(kBtu)",
          "xref": "x",
          "y": "SiteEUIWN(kBtu/sf)",
          "yref": "y"
         },
         {
          "font": {
           "color": "#000000"
          },
          "showarrow": false,
          "text": "0.4",
          "x": "SiteEnergyUseWN(kBtu)",
          "xref": "x",
          "y": "SiteEUIWN(kBtu/sf)",
          "yref": "y"
         },
         {
          "font": {
           "color": "#FFFFFF"
          },
          "showarrow": false,
          "text": "0.11",
          "x": "SteamUse(kBtu)",
          "xref": "x",
          "y": "SiteEUIWN(kBtu/sf)",
          "yref": "y"
         },
         {
          "font": {
           "color": "#FFFFFF"
          },
          "showarrow": false,
          "text": "0.23",
          "x": "NaturalGas(therms)",
          "xref": "x",
          "y": "SiteEUIWN(kBtu/sf)",
          "yref": "y"
         },
         {
          "font": {
           "color": "#FFFFFF"
          },
          "showarrow": false,
          "text": "0.23",
          "x": "NaturalGas(kBtu)",
          "xref": "x",
          "y": "SiteEUIWN(kBtu/sf)",
          "yref": "y"
         },
         {
          "font": {
           "color": "#FFFFFF"
          },
          "showarrow": false,
          "text": "0.28",
          "x": "TotalGHGEmissions",
          "xref": "x",
          "y": "SiteEUIWN(kBtu/sf)",
          "yref": "y"
         },
         {
          "font": {
           "color": "#000000"
          },
          "showarrow": false,
          "text": "0.64",
          "x": "GHGEmissionsIntensity",
          "xref": "x",
          "y": "SiteEUIWN(kBtu/sf)",
          "yref": "y"
         },
         {
          "font": {
           "color": "#FFFFFF"
          },
          "showarrow": false,
          "text": "0.01",
          "x": "Neighborhood_BALLARD",
          "xref": "x",
          "y": "SiteEUIWN(kBtu/sf)",
          "yref": "y"
         },
         {
          "font": {
           "color": "#FFFFFF"
          },
          "showarrow": false,
          "text": "-0.0",
          "x": "Neighborhood_CENTRAL",
          "xref": "x",
          "y": "SiteEUIWN(kBtu/sf)",
          "yref": "y"
         },
         {
          "font": {
           "color": "#FFFFFF"
          },
          "showarrow": false,
          "text": "-0.0",
          "x": "Neighborhood_DELRIDGE",
          "xref": "x",
          "y": "SiteEUIWN(kBtu/sf)",
          "yref": "y"
         },
         {
          "font": {
           "color": "#FFFFFF"
          },
          "showarrow": false,
          "text": "0.08",
          "x": "Neighborhood_DOWNTOWN",
          "xref": "x",
          "y": "SiteEUIWN(kBtu/sf)",
          "yref": "y"
         },
         {
          "font": {
           "color": "#FFFFFF"
          },
          "showarrow": false,
          "text": "0.0",
          "x": "Neighborhood_EAST",
          "xref": "x",
          "y": "SiteEUIWN(kBtu/sf)",
          "yref": "y"
         },
         {
          "font": {
           "color": "#FFFFFF"
          },
          "showarrow": false,
          "text": "-0.03",
          "x": "Neighborhood_GREATER DUWAMISH",
          "xref": "x",
          "y": "SiteEUIWN(kBtu/sf)",
          "yref": "y"
         },
         {
          "font": {
           "color": "#FFFFFF"
          },
          "showarrow": false,
          "text": "0.02",
          "x": "Neighborhood_LAKE UNION",
          "xref": "x",
          "y": "SiteEUIWN(kBtu/sf)",
          "yref": "y"
         },
         {
          "font": {
           "color": "#FFFFFF"
          },
          "showarrow": false,
          "text": "-0.03",
          "x": "Neighborhood_MAGNOLIA / QUEEN ANNE",
          "xref": "x",
          "y": "SiteEUIWN(kBtu/sf)",
          "yref": "y"
         },
         {
          "font": {
           "color": "#FFFFFF"
          },
          "showarrow": false,
          "text": "-0.04",
          "x": "Neighborhood_NORTH",
          "xref": "x",
          "y": "SiteEUIWN(kBtu/sf)",
          "yref": "y"
         },
         {
          "font": {
           "color": "#FFFFFF"
          },
          "showarrow": false,
          "text": "0.05",
          "x": "Neighborhood_NORTHEAST",
          "xref": "x",
          "y": "SiteEUIWN(kBtu/sf)",
          "yref": "y"
         },
         {
          "font": {
           "color": "#FFFFFF"
          },
          "showarrow": false,
          "text": "-0.03",
          "x": "Neighborhood_NORTHWEST",
          "xref": "x",
          "y": "SiteEUIWN(kBtu/sf)",
          "yref": "y"
         },
         {
          "font": {
           "color": "#FFFFFF"
          },
          "showarrow": false,
          "text": "-0.01",
          "x": "Neighborhood_SOUTHEAST",
          "xref": "x",
          "y": "SiteEUIWN(kBtu/sf)",
          "yref": "y"
         },
         {
          "font": {
           "color": "#FFFFFF"
          },
          "showarrow": false,
          "text": "-0.05",
          "x": "Neighborhood_SOUTHWEST",
          "xref": "x",
          "y": "SiteEUIWN(kBtu/sf)",
          "yref": "y"
         },
         {
          "font": {
           "color": "#FFFFFF"
          },
          "showarrow": false,
          "text": "0.04",
          "x": "Age",
          "xref": "x",
          "y": "SiteEUIWN(kBtu/sf)",
          "yref": "y"
         },
         {
          "font": {
           "color": "#000000"
          },
          "showarrow": false,
          "text": "0.96",
          "x": "EnergyUse_Age_Ratio",
          "xref": "x",
          "y": "SiteEUIWN(kBtu/sf)",
          "yref": "y"
         },
         {
          "font": {
           "color": "#FFFFFF"
          },
          "showarrow": false,
          "text": "0.28",
          "x": "BuildingType",
          "xref": "x",
          "y": "SourceEUI(kBtu/sf)",
          "yref": "y"
         },
         {
          "font": {
           "color": "#FFFFFF"
          },
          "showarrow": false,
          "text": "0.21",
          "x": "PrimaryPropertyType",
          "xref": "x",
          "y": "SourceEUI(kBtu/sf)",
          "yref": "y"
         },
         {
          "font": {
           "color": "#FFFFFF"
          },
          "showarrow": false,
          "text": "0.04",
          "x": "NumberofBuildings",
          "xref": "x",
          "y": "SourceEUI(kBtu/sf)",
          "yref": "y"
         },
         {
          "font": {
           "color": "#FFFFFF"
          },
          "showarrow": false,
          "text": "0.0",
          "x": "NumberofFloors",
          "xref": "x",
          "y": "SourceEUI(kBtu/sf)",
          "yref": "y"
         },
         {
          "font": {
           "color": "#FFFFFF"
          },
          "showarrow": false,
          "text": "0.14",
          "x": "PropertyGFAParking",
          "xref": "x",
          "y": "SourceEUI(kBtu/sf)",
          "yref": "y"
         },
         {
          "font": {
           "color": "#000000"
          },
          "showarrow": false,
          "text": "0.95",
          "x": "SiteEUI(kBtu/sf)",
          "xref": "x",
          "y": "SourceEUI(kBtu/sf)",
          "yref": "y"
         },
         {
          "font": {
           "color": "#000000"
          },
          "showarrow": false,
          "text": "0.93",
          "x": "SiteEUIWN(kBtu/sf)",
          "xref": "x",
          "y": "SourceEUI(kBtu/sf)",
          "yref": "y"
         },
         {
          "font": {
           "color": "#000000"
          },
          "showarrow": false,
          "text": "1.0",
          "x": "SourceEUI(kBtu/sf)",
          "xref": "x",
          "y": "SourceEUI(kBtu/sf)",
          "yref": "y"
         },
         {
          "font": {
           "color": "#000000"
          },
          "showarrow": false,
          "text": "1.0",
          "x": "SourceEUIWN(kBtu/sf)",
          "xref": "x",
          "y": "SourceEUI(kBtu/sf)",
          "yref": "y"
         },
         {
          "font": {
           "color": "#000000"
          },
          "showarrow": false,
          "text": "0.38",
          "x": "SiteEnergyUse(kBtu)",
          "xref": "x",
          "y": "SourceEUI(kBtu/sf)",
          "yref": "y"
         },
         {
          "font": {
           "color": "#000000"
          },
          "showarrow": false,
          "text": "0.37",
          "x": "SiteEnergyUseWN(kBtu)",
          "xref": "x",
          "y": "SourceEUI(kBtu/sf)",
          "yref": "y"
         },
         {
          "font": {
           "color": "#FFFFFF"
          },
          "showarrow": false,
          "text": "0.09",
          "x": "SteamUse(kBtu)",
          "xref": "x",
          "y": "SourceEUI(kBtu/sf)",
          "yref": "y"
         },
         {
          "font": {
           "color": "#FFFFFF"
          },
          "showarrow": false,
          "text": "0.14",
          "x": "NaturalGas(therms)",
          "xref": "x",
          "y": "SourceEUI(kBtu/sf)",
          "yref": "y"
         },
         {
          "font": {
           "color": "#FFFFFF"
          },
          "showarrow": false,
          "text": "0.14",
          "x": "NaturalGas(kBtu)",
          "xref": "x",
          "y": "SourceEUI(kBtu/sf)",
          "yref": "y"
         },
         {
          "font": {
           "color": "#FFFFFF"
          },
          "showarrow": false,
          "text": "0.21",
          "x": "TotalGHGEmissions",
          "xref": "x",
          "y": "SourceEUI(kBtu/sf)",
          "yref": "y"
         },
         {
          "font": {
           "color": "#000000"
          },
          "showarrow": false,
          "text": "0.42",
          "x": "GHGEmissionsIntensity",
          "xref": "x",
          "y": "SourceEUI(kBtu/sf)",
          "yref": "y"
         },
         {
          "font": {
           "color": "#FFFFFF"
          },
          "showarrow": false,
          "text": "0.01",
          "x": "Neighborhood_BALLARD",
          "xref": "x",
          "y": "SourceEUI(kBtu/sf)",
          "yref": "y"
         },
         {
          "font": {
           "color": "#FFFFFF"
          },
          "showarrow": false,
          "text": "-0.01",
          "x": "Neighborhood_CENTRAL",
          "xref": "x",
          "y": "SourceEUI(kBtu/sf)",
          "yref": "y"
         },
         {
          "font": {
           "color": "#FFFFFF"
          },
          "showarrow": false,
          "text": "-0.01",
          "x": "Neighborhood_DELRIDGE",
          "xref": "x",
          "y": "SourceEUI(kBtu/sf)",
          "yref": "y"
         },
         {
          "font": {
           "color": "#FFFFFF"
          },
          "showarrow": false,
          "text": "0.1",
          "x": "Neighborhood_DOWNTOWN",
          "xref": "x",
          "y": "SourceEUI(kBtu/sf)",
          "yref": "y"
         },
         {
          "font": {
           "color": "#FFFFFF"
          },
          "showarrow": false,
          "text": "-0.05",
          "x": "Neighborhood_EAST",
          "xref": "x",
          "y": "SourceEUI(kBtu/sf)",
          "yref": "y"
         },
         {
          "font": {
           "color": "#FFFFFF"
          },
          "showarrow": false,
          "text": "-0.04",
          "x": "Neighborhood_GREATER DUWAMISH",
          "xref": "x",
          "y": "SourceEUI(kBtu/sf)",
          "yref": "y"
         },
         {
          "font": {
           "color": "#FFFFFF"
          },
          "showarrow": false,
          "text": "0.04",
          "x": "Neighborhood_LAKE UNION",
          "xref": "x",
          "y": "SourceEUI(kBtu/sf)",
          "yref": "y"
         },
         {
          "font": {
           "color": "#FFFFFF"
          },
          "showarrow": false,
          "text": "-0.03",
          "x": "Neighborhood_MAGNOLIA / QUEEN ANNE",
          "xref": "x",
          "y": "SourceEUI(kBtu/sf)",
          "yref": "y"
         },
         {
          "font": {
           "color": "#FFFFFF"
          },
          "showarrow": false,
          "text": "-0.02",
          "x": "Neighborhood_NORTH",
          "xref": "x",
          "y": "SourceEUI(kBtu/sf)",
          "yref": "y"
         },
         {
          "font": {
           "color": "#FFFFFF"
          },
          "showarrow": false,
          "text": "0.05",
          "x": "Neighborhood_NORTHEAST",
          "xref": "x",
          "y": "SourceEUI(kBtu/sf)",
          "yref": "y"
         },
         {
          "font": {
           "color": "#FFFFFF"
          },
          "showarrow": false,
          "text": "-0.03",
          "x": "Neighborhood_NORTHWEST",
          "xref": "x",
          "y": "SourceEUI(kBtu/sf)",
          "yref": "y"
         },
         {
          "font": {
           "color": "#FFFFFF"
          },
          "showarrow": false,
          "text": "-0.01",
          "x": "Neighborhood_SOUTHEAST",
          "xref": "x",
          "y": "SourceEUI(kBtu/sf)",
          "yref": "y"
         },
         {
          "font": {
           "color": "#FFFFFF"
          },
          "showarrow": false,
          "text": "-0.04",
          "x": "Neighborhood_SOUTHWEST",
          "xref": "x",
          "y": "SourceEUI(kBtu/sf)",
          "yref": "y"
         },
         {
          "font": {
           "color": "#FFFFFF"
          },
          "showarrow": false,
          "text": "-0.03",
          "x": "Age",
          "xref": "x",
          "y": "SourceEUI(kBtu/sf)",
          "yref": "y"
         },
         {
          "font": {
           "color": "#000000"
          },
          "showarrow": false,
          "text": "0.93",
          "x": "EnergyUse_Age_Ratio",
          "xref": "x",
          "y": "SourceEUI(kBtu/sf)",
          "yref": "y"
         },
         {
          "font": {
           "color": "#FFFFFF"
          },
          "showarrow": false,
          "text": "0.27",
          "x": "BuildingType",
          "xref": "x",
          "y": "SourceEUIWN(kBtu/sf)",
          "yref": "y"
         },
         {
          "font": {
           "color": "#FFFFFF"
          },
          "showarrow": false,
          "text": "0.2",
          "x": "PrimaryPropertyType",
          "xref": "x",
          "y": "SourceEUIWN(kBtu/sf)",
          "yref": "y"
         },
         {
          "font": {
           "color": "#FFFFFF"
          },
          "showarrow": false,
          "text": "0.03",
          "x": "NumberofBuildings",
          "xref": "x",
          "y": "SourceEUIWN(kBtu/sf)",
          "yref": "y"
         },
         {
          "font": {
           "color": "#FFFFFF"
          },
          "showarrow": false,
          "text": "-0.0",
          "x": "NumberofFloors",
          "xref": "x",
          "y": "SourceEUIWN(kBtu/sf)",
          "yref": "y"
         },
         {
          "font": {
           "color": "#FFFFFF"
          },
          "showarrow": false,
          "text": "0.13",
          "x": "PropertyGFAParking",
          "xref": "x",
          "y": "SourceEUIWN(kBtu/sf)",
          "yref": "y"
         },
         {
          "font": {
           "color": "#000000"
          },
          "showarrow": false,
          "text": "0.94",
          "x": "SiteEUI(kBtu/sf)",
          "xref": "x",
          "y": "SourceEUIWN(kBtu/sf)",
          "yref": "y"
         },
         {
          "font": {
           "color": "#000000"
          },
          "showarrow": false,
          "text": "0.94",
          "x": "SiteEUIWN(kBtu/sf)",
          "xref": "x",
          "y": "SourceEUIWN(kBtu/sf)",
          "yref": "y"
         },
         {
          "font": {
           "color": "#000000"
          },
          "showarrow": false,
          "text": "1.0",
          "x": "SourceEUI(kBtu/sf)",
          "xref": "x",
          "y": "SourceEUIWN(kBtu/sf)",
          "yref": "y"
         },
         {
          "font": {
           "color": "#000000"
          },
          "showarrow": false,
          "text": "1.0",
          "x": "SourceEUIWN(kBtu/sf)",
          "xref": "x",
          "y": "SourceEUIWN(kBtu/sf)",
          "yref": "y"
         },
         {
          "font": {
           "color": "#000000"
          },
          "showarrow": false,
          "text": "0.37",
          "x": "SiteEnergyUse(kBtu)",
          "xref": "x",
          "y": "SourceEUIWN(kBtu/sf)",
          "yref": "y"
         },
         {
          "font": {
           "color": "#000000"
          },
          "showarrow": false,
          "text": "0.37",
          "x": "SiteEnergyUseWN(kBtu)",
          "xref": "x",
          "y": "SourceEUIWN(kBtu/sf)",
          "yref": "y"
         },
         {
          "font": {
           "color": "#FFFFFF"
          },
          "showarrow": false,
          "text": "0.09",
          "x": "SteamUse(kBtu)",
          "xref": "x",
          "y": "SourceEUIWN(kBtu/sf)",
          "yref": "y"
         },
         {
          "font": {
           "color": "#FFFFFF"
          },
          "showarrow": false,
          "text": "0.14",
          "x": "NaturalGas(therms)",
          "xref": "x",
          "y": "SourceEUIWN(kBtu/sf)",
          "yref": "y"
         },
         {
          "font": {
           "color": "#FFFFFF"
          },
          "showarrow": false,
          "text": "0.14",
          "x": "NaturalGas(kBtu)",
          "xref": "x",
          "y": "SourceEUIWN(kBtu/sf)",
          "yref": "y"
         },
         {
          "font": {
           "color": "#FFFFFF"
          },
          "showarrow": false,
          "text": "0.21",
          "x": "TotalGHGEmissions",
          "xref": "x",
          "y": "SourceEUIWN(kBtu/sf)",
          "yref": "y"
         },
         {
          "font": {
           "color": "#000000"
          },
          "showarrow": false,
          "text": "0.43",
          "x": "GHGEmissionsIntensity",
          "xref": "x",
          "y": "SourceEUIWN(kBtu/sf)",
          "yref": "y"
         },
         {
          "font": {
           "color": "#FFFFFF"
          },
          "showarrow": false,
          "text": "0.01",
          "x": "Neighborhood_BALLARD",
          "xref": "x",
          "y": "SourceEUIWN(kBtu/sf)",
          "yref": "y"
         },
         {
          "font": {
           "color": "#FFFFFF"
          },
          "showarrow": false,
          "text": "-0.01",
          "x": "Neighborhood_CENTRAL",
          "xref": "x",
          "y": "SourceEUIWN(kBtu/sf)",
          "yref": "y"
         },
         {
          "font": {
           "color": "#FFFFFF"
          },
          "showarrow": false,
          "text": "-0.0",
          "x": "Neighborhood_DELRIDGE",
          "xref": "x",
          "y": "SourceEUIWN(kBtu/sf)",
          "yref": "y"
         },
         {
          "font": {
           "color": "#FFFFFF"
          },
          "showarrow": false,
          "text": "0.09",
          "x": "Neighborhood_DOWNTOWN",
          "xref": "x",
          "y": "SourceEUIWN(kBtu/sf)",
          "yref": "y"
         },
         {
          "font": {
           "color": "#FFFFFF"
          },
          "showarrow": false,
          "text": "-0.04",
          "x": "Neighborhood_EAST",
          "xref": "x",
          "y": "SourceEUIWN(kBtu/sf)",
          "yref": "y"
         },
         {
          "font": {
           "color": "#FFFFFF"
          },
          "showarrow": false,
          "text": "-0.04",
          "x": "Neighborhood_GREATER DUWAMISH",
          "xref": "x",
          "y": "SourceEUIWN(kBtu/sf)",
          "yref": "y"
         },
         {
          "font": {
           "color": "#FFFFFF"
          },
          "showarrow": false,
          "text": "0.04",
          "x": "Neighborhood_LAKE UNION",
          "xref": "x",
          "y": "SourceEUIWN(kBtu/sf)",
          "yref": "y"
         },
         {
          "font": {
           "color": "#FFFFFF"
          },
          "showarrow": false,
          "text": "-0.03",
          "x": "Neighborhood_MAGNOLIA / QUEEN ANNE",
          "xref": "x",
          "y": "SourceEUIWN(kBtu/sf)",
          "yref": "y"
         },
         {
          "font": {
           "color": "#FFFFFF"
          },
          "showarrow": false,
          "text": "-0.02",
          "x": "Neighborhood_NORTH",
          "xref": "x",
          "y": "SourceEUIWN(kBtu/sf)",
          "yref": "y"
         },
         {
          "font": {
           "color": "#FFFFFF"
          },
          "showarrow": false,
          "text": "0.06",
          "x": "Neighborhood_NORTHEAST",
          "xref": "x",
          "y": "SourceEUIWN(kBtu/sf)",
          "yref": "y"
         },
         {
          "font": {
           "color": "#FFFFFF"
          },
          "showarrow": false,
          "text": "-0.03",
          "x": "Neighborhood_NORTHWEST",
          "xref": "x",
          "y": "SourceEUIWN(kBtu/sf)",
          "yref": "y"
         },
         {
          "font": {
           "color": "#FFFFFF"
          },
          "showarrow": false,
          "text": "-0.01",
          "x": "Neighborhood_SOUTHEAST",
          "xref": "x",
          "y": "SourceEUIWN(kBtu/sf)",
          "yref": "y"
         },
         {
          "font": {
           "color": "#FFFFFF"
          },
          "showarrow": false,
          "text": "-0.04",
          "x": "Neighborhood_SOUTHWEST",
          "xref": "x",
          "y": "SourceEUIWN(kBtu/sf)",
          "yref": "y"
         },
         {
          "font": {
           "color": "#FFFFFF"
          },
          "showarrow": false,
          "text": "-0.02",
          "x": "Age",
          "xref": "x",
          "y": "SourceEUIWN(kBtu/sf)",
          "yref": "y"
         },
         {
          "font": {
           "color": "#000000"
          },
          "showarrow": false,
          "text": "0.92",
          "x": "EnergyUse_Age_Ratio",
          "xref": "x",
          "y": "SourceEUIWN(kBtu/sf)",
          "yref": "y"
         },
         {
          "font": {
           "color": "#FFFFFF"
          },
          "showarrow": false,
          "text": "0.17",
          "x": "BuildingType",
          "xref": "x",
          "y": "SiteEnergyUse(kBtu)",
          "yref": "y"
         },
         {
          "font": {
           "color": "#FFFFFF"
          },
          "showarrow": false,
          "text": "0.12",
          "x": "PrimaryPropertyType",
          "xref": "x",
          "y": "SiteEnergyUse(kBtu)",
          "yref": "y"
         },
         {
          "font": {
           "color": "#FFFFFF"
          },
          "showarrow": false,
          "text": "0.26",
          "x": "NumberofBuildings",
          "xref": "x",
          "y": "SiteEnergyUse(kBtu)",
          "yref": "y"
         },
         {
          "font": {
           "color": "#FFFFFF"
          },
          "showarrow": false,
          "text": "0.16",
          "x": "NumberofFloors",
          "xref": "x",
          "y": "SiteEnergyUse(kBtu)",
          "yref": "y"
         },
         {
          "font": {
           "color": "#FFFFFF"
          },
          "showarrow": false,
          "text": "0.24",
          "x": "PropertyGFAParking",
          "xref": "x",
          "y": "SiteEnergyUse(kBtu)",
          "yref": "y"
         },
         {
          "font": {
           "color": "#000000"
          },
          "showarrow": false,
          "text": "0.41",
          "x": "SiteEUI(kBtu/sf)",
          "xref": "x",
          "y": "SiteEnergyUse(kBtu)",
          "yref": "y"
         },
         {
          "font": {
           "color": "#000000"
          },
          "showarrow": false,
          "text": "0.4",
          "x": "SiteEUIWN(kBtu/sf)",
          "xref": "x",
          "y": "SiteEnergyUse(kBtu)",
          "yref": "y"
         },
         {
          "font": {
           "color": "#000000"
          },
          "showarrow": false,
          "text": "0.38",
          "x": "SourceEUI(kBtu/sf)",
          "xref": "x",
          "y": "SiteEnergyUse(kBtu)",
          "yref": "y"
         },
         {
          "font": {
           "color": "#000000"
          },
          "showarrow": false,
          "text": "0.37",
          "x": "SourceEUIWN(kBtu/sf)",
          "xref": "x",
          "y": "SiteEnergyUse(kBtu)",
          "yref": "y"
         },
         {
          "font": {
           "color": "#000000"
          },
          "showarrow": false,
          "text": "1.0",
          "x": "SiteEnergyUse(kBtu)",
          "xref": "x",
          "y": "SiteEnergyUse(kBtu)",
          "yref": "y"
         },
         {
          "font": {
           "color": "#000000"
          },
          "showarrow": false,
          "text": "1.0",
          "x": "SiteEnergyUseWN(kBtu)",
          "xref": "x",
          "y": "SiteEnergyUse(kBtu)",
          "yref": "y"
         },
         {
          "font": {
           "color": "#000000"
          },
          "showarrow": false,
          "text": "0.54",
          "x": "SteamUse(kBtu)",
          "xref": "x",
          "y": "SiteEnergyUse(kBtu)",
          "yref": "y"
         },
         {
          "font": {
           "color": "#000000"
          },
          "showarrow": false,
          "text": "0.71",
          "x": "NaturalGas(therms)",
          "xref": "x",
          "y": "SiteEnergyUse(kBtu)",
          "yref": "y"
         },
         {
          "font": {
           "color": "#000000"
          },
          "showarrow": false,
          "text": "0.71",
          "x": "NaturalGas(kBtu)",
          "xref": "x",
          "y": "SiteEnergyUse(kBtu)",
          "yref": "y"
         },
         {
          "font": {
           "color": "#000000"
          },
          "showarrow": false,
          "text": "0.92",
          "x": "TotalGHGEmissions",
          "xref": "x",
          "y": "SiteEnergyUse(kBtu)",
          "yref": "y"
         },
         {
          "font": {
           "color": "#000000"
          },
          "showarrow": false,
          "text": "0.52",
          "x": "GHGEmissionsIntensity",
          "xref": "x",
          "y": "SiteEnergyUse(kBtu)",
          "yref": "y"
         },
         {
          "font": {
           "color": "#FFFFFF"
          },
          "showarrow": false,
          "text": "-0.01",
          "x": "Neighborhood_BALLARD",
          "xref": "x",
          "y": "SiteEnergyUse(kBtu)",
          "yref": "y"
         },
         {
          "font": {
           "color": "#FFFFFF"
          },
          "showarrow": false,
          "text": "-0.01",
          "x": "Neighborhood_CENTRAL",
          "xref": "x",
          "y": "SiteEnergyUse(kBtu)",
          "yref": "y"
         },
         {
          "font": {
           "color": "#FFFFFF"
          },
          "showarrow": false,
          "text": "-0.02",
          "x": "Neighborhood_DELRIDGE",
          "xref": "x",
          "y": "SiteEnergyUse(kBtu)",
          "yref": "y"
         },
         {
          "font": {
           "color": "#FFFFFF"
          },
          "showarrow": false,
          "text": "0.14",
          "x": "Neighborhood_DOWNTOWN",
          "xref": "x",
          "y": "SiteEnergyUse(kBtu)",
          "yref": "y"
         },
         {
          "font": {
           "color": "#FFFFFF"
          },
          "showarrow": false,
          "text": "0.01",
          "x": "Neighborhood_EAST",
          "xref": "x",
          "y": "SiteEnergyUse(kBtu)",
          "yref": "y"
         },
         {
          "font": {
           "color": "#FFFFFF"
          },
          "showarrow": false,
          "text": "-0.01",
          "x": "Neighborhood_GREATER DUWAMISH",
          "xref": "x",
          "y": "SiteEnergyUse(kBtu)",
          "yref": "y"
         },
         {
          "font": {
           "color": "#FFFFFF"
          },
          "showarrow": false,
          "text": "0.0",
          "x": "Neighborhood_LAKE UNION",
          "xref": "x",
          "y": "SiteEnergyUse(kBtu)",
          "yref": "y"
         },
         {
          "font": {
           "color": "#FFFFFF"
          },
          "showarrow": false,
          "text": "-0.05",
          "x": "Neighborhood_MAGNOLIA / QUEEN ANNE",
          "xref": "x",
          "y": "SiteEnergyUse(kBtu)",
          "yref": "y"
         },
         {
          "font": {
           "color": "#FFFFFF"
          },
          "showarrow": false,
          "text": "-0.03",
          "x": "Neighborhood_NORTH",
          "xref": "x",
          "y": "SiteEnergyUse(kBtu)",
          "yref": "y"
         },
         {
          "font": {
           "color": "#FFFFFF"
          },
          "showarrow": false,
          "text": "-0.01",
          "x": "Neighborhood_NORTHEAST",
          "xref": "x",
          "y": "SiteEnergyUse(kBtu)",
          "yref": "y"
         },
         {
          "font": {
           "color": "#FFFFFF"
          },
          "showarrow": false,
          "text": "-0.03",
          "x": "Neighborhood_NORTHWEST",
          "xref": "x",
          "y": "SiteEnergyUse(kBtu)",
          "yref": "y"
         },
         {
          "font": {
           "color": "#FFFFFF"
          },
          "showarrow": false,
          "text": "-0.02",
          "x": "Neighborhood_SOUTHEAST",
          "xref": "x",
          "y": "SiteEnergyUse(kBtu)",
          "yref": "y"
         },
         {
          "font": {
           "color": "#FFFFFF"
          },
          "showarrow": false,
          "text": "-0.04",
          "x": "Neighborhood_SOUTHWEST",
          "xref": "x",
          "y": "SiteEnergyUse(kBtu)",
          "yref": "y"
         },
         {
          "font": {
           "color": "#FFFFFF"
          },
          "showarrow": false,
          "text": "-0.06",
          "x": "Age",
          "xref": "x",
          "y": "SiteEnergyUse(kBtu)",
          "yref": "y"
         },
         {
          "font": {
           "color": "#000000"
          },
          "showarrow": false,
          "text": "0.42",
          "x": "EnergyUse_Age_Ratio",
          "xref": "x",
          "y": "SiteEnergyUse(kBtu)",
          "yref": "y"
         },
         {
          "font": {
           "color": "#FFFFFF"
          },
          "showarrow": false,
          "text": "0.17",
          "x": "BuildingType",
          "xref": "x",
          "y": "SiteEnergyUseWN(kBtu)",
          "yref": "y"
         },
         {
          "font": {
           "color": "#FFFFFF"
          },
          "showarrow": false,
          "text": "0.12",
          "x": "PrimaryPropertyType",
          "xref": "x",
          "y": "SiteEnergyUseWN(kBtu)",
          "yref": "y"
         },
         {
          "font": {
           "color": "#FFFFFF"
          },
          "showarrow": false,
          "text": "0.25",
          "x": "NumberofBuildings",
          "xref": "x",
          "y": "SiteEnergyUseWN(kBtu)",
          "yref": "y"
         },
         {
          "font": {
           "color": "#FFFFFF"
          },
          "showarrow": false,
          "text": "0.15",
          "x": "NumberofFloors",
          "xref": "x",
          "y": "SiteEnergyUseWN(kBtu)",
          "yref": "y"
         },
         {
          "font": {
           "color": "#FFFFFF"
          },
          "showarrow": false,
          "text": "0.24",
          "x": "PropertyGFAParking",
          "xref": "x",
          "y": "SiteEnergyUseWN(kBtu)",
          "yref": "y"
         },
         {
          "font": {
           "color": "#000000"
          },
          "showarrow": false,
          "text": "0.4",
          "x": "SiteEUI(kBtu/sf)",
          "xref": "x",
          "y": "SiteEnergyUseWN(kBtu)",
          "yref": "y"
         },
         {
          "font": {
           "color": "#000000"
          },
          "showarrow": false,
          "text": "0.4",
          "x": "SiteEUIWN(kBtu/sf)",
          "xref": "x",
          "y": "SiteEnergyUseWN(kBtu)",
          "yref": "y"
         },
         {
          "font": {
           "color": "#000000"
          },
          "showarrow": false,
          "text": "0.37",
          "x": "SourceEUI(kBtu/sf)",
          "xref": "x",
          "y": "SiteEnergyUseWN(kBtu)",
          "yref": "y"
         },
         {
          "font": {
           "color": "#000000"
          },
          "showarrow": false,
          "text": "0.37",
          "x": "SourceEUIWN(kBtu/sf)",
          "xref": "x",
          "y": "SiteEnergyUseWN(kBtu)",
          "yref": "y"
         },
         {
          "font": {
           "color": "#000000"
          },
          "showarrow": false,
          "text": "1.0",
          "x": "SiteEnergyUse(kBtu)",
          "xref": "x",
          "y": "SiteEnergyUseWN(kBtu)",
          "yref": "y"
         },
         {
          "font": {
           "color": "#000000"
          },
          "showarrow": false,
          "text": "1.0",
          "x": "SiteEnergyUseWN(kBtu)",
          "xref": "x",
          "y": "SiteEnergyUseWN(kBtu)",
          "yref": "y"
         },
         {
          "font": {
           "color": "#000000"
          },
          "showarrow": false,
          "text": "0.54",
          "x": "SteamUse(kBtu)",
          "xref": "x",
          "y": "SiteEnergyUseWN(kBtu)",
          "yref": "y"
         },
         {
          "font": {
           "color": "#000000"
          },
          "showarrow": false,
          "text": "0.72",
          "x": "NaturalGas(therms)",
          "xref": "x",
          "y": "SiteEnergyUseWN(kBtu)",
          "yref": "y"
         },
         {
          "font": {
           "color": "#000000"
          },
          "showarrow": false,
          "text": "0.72",
          "x": "NaturalGas(kBtu)",
          "xref": "x",
          "y": "SiteEnergyUseWN(kBtu)",
          "yref": "y"
         },
         {
          "font": {
           "color": "#000000"
          },
          "showarrow": false,
          "text": "0.92",
          "x": "TotalGHGEmissions",
          "xref": "x",
          "y": "SiteEnergyUseWN(kBtu)",
          "yref": "y"
         },
         {
          "font": {
           "color": "#000000"
          },
          "showarrow": false,
          "text": "0.52",
          "x": "GHGEmissionsIntensity",
          "xref": "x",
          "y": "SiteEnergyUseWN(kBtu)",
          "yref": "y"
         },
         {
          "font": {
           "color": "#FFFFFF"
          },
          "showarrow": false,
          "text": "-0.02",
          "x": "Neighborhood_BALLARD",
          "xref": "x",
          "y": "SiteEnergyUseWN(kBtu)",
          "yref": "y"
         },
         {
          "font": {
           "color": "#FFFFFF"
          },
          "showarrow": false,
          "text": "-0.01",
          "x": "Neighborhood_CENTRAL",
          "xref": "x",
          "y": "SiteEnergyUseWN(kBtu)",
          "yref": "y"
         },
         {
          "font": {
           "color": "#FFFFFF"
          },
          "showarrow": false,
          "text": "-0.01",
          "x": "Neighborhood_DELRIDGE",
          "xref": "x",
          "y": "SiteEnergyUseWN(kBtu)",
          "yref": "y"
         },
         {
          "font": {
           "color": "#FFFFFF"
          },
          "showarrow": false,
          "text": "0.14",
          "x": "Neighborhood_DOWNTOWN",
          "xref": "x",
          "y": "SiteEnergyUseWN(kBtu)",
          "yref": "y"
         },
         {
          "font": {
           "color": "#FFFFFF"
          },
          "showarrow": false,
          "text": "0.01",
          "x": "Neighborhood_EAST",
          "xref": "x",
          "y": "SiteEnergyUseWN(kBtu)",
          "yref": "y"
         },
         {
          "font": {
           "color": "#FFFFFF"
          },
          "showarrow": false,
          "text": "-0.0",
          "x": "Neighborhood_GREATER DUWAMISH",
          "xref": "x",
          "y": "SiteEnergyUseWN(kBtu)",
          "yref": "y"
         },
         {
          "font": {
           "color": "#FFFFFF"
          },
          "showarrow": false,
          "text": "0.0",
          "x": "Neighborhood_LAKE UNION",
          "xref": "x",
          "y": "SiteEnergyUseWN(kBtu)",
          "yref": "y"
         },
         {
          "font": {
           "color": "#FFFFFF"
          },
          "showarrow": false,
          "text": "-0.05",
          "x": "Neighborhood_MAGNOLIA / QUEEN ANNE",
          "xref": "x",
          "y": "SiteEnergyUseWN(kBtu)",
          "yref": "y"
         },
         {
          "font": {
           "color": "#FFFFFF"
          },
          "showarrow": false,
          "text": "-0.03",
          "x": "Neighborhood_NORTH",
          "xref": "x",
          "y": "SiteEnergyUseWN(kBtu)",
          "yref": "y"
         },
         {
          "font": {
           "color": "#FFFFFF"
          },
          "showarrow": false,
          "text": "-0.01",
          "x": "Neighborhood_NORTHEAST",
          "xref": "x",
          "y": "SiteEnergyUseWN(kBtu)",
          "yref": "y"
         },
         {
          "font": {
           "color": "#FFFFFF"
          },
          "showarrow": false,
          "text": "-0.02",
          "x": "Neighborhood_NORTHWEST",
          "xref": "x",
          "y": "SiteEnergyUseWN(kBtu)",
          "yref": "y"
         },
         {
          "font": {
           "color": "#FFFFFF"
          },
          "showarrow": false,
          "text": "-0.02",
          "x": "Neighborhood_SOUTHEAST",
          "xref": "x",
          "y": "SiteEnergyUseWN(kBtu)",
          "yref": "y"
         },
         {
          "font": {
           "color": "#FFFFFF"
          },
          "showarrow": false,
          "text": "-0.04",
          "x": "Neighborhood_SOUTHWEST",
          "xref": "x",
          "y": "SiteEnergyUseWN(kBtu)",
          "yref": "y"
         },
         {
          "font": {
           "color": "#FFFFFF"
          },
          "showarrow": false,
          "text": "-0.06",
          "x": "Age",
          "xref": "x",
          "y": "SiteEnergyUseWN(kBtu)",
          "yref": "y"
         },
         {
          "font": {
           "color": "#000000"
          },
          "showarrow": false,
          "text": "0.41",
          "x": "EnergyUse_Age_Ratio",
          "xref": "x",
          "y": "SiteEnergyUseWN(kBtu)",
          "yref": "y"
         },
         {
          "font": {
           "color": "#FFFFFF"
          },
          "showarrow": false,
          "text": "0.06",
          "x": "BuildingType",
          "xref": "x",
          "y": "SteamUse(kBtu)",
          "yref": "y"
         },
         {
          "font": {
           "color": "#FFFFFF"
          },
          "showarrow": false,
          "text": "0.04",
          "x": "PrimaryPropertyType",
          "xref": "x",
          "y": "SteamUse(kBtu)",
          "yref": "y"
         },
         {
          "font": {
           "color": "#FFFFFF"
          },
          "showarrow": false,
          "text": "0.28",
          "x": "NumberofBuildings",
          "xref": "x",
          "y": "SteamUse(kBtu)",
          "yref": "y"
         },
         {
          "font": {
           "color": "#FFFFFF"
          },
          "showarrow": false,
          "text": "0.05",
          "x": "NumberofFloors",
          "xref": "x",
          "y": "SteamUse(kBtu)",
          "yref": "y"
         },
         {
          "font": {
           "color": "#FFFFFF"
          },
          "showarrow": false,
          "text": "0.02",
          "x": "PropertyGFAParking",
          "xref": "x",
          "y": "SteamUse(kBtu)",
          "yref": "y"
         },
         {
          "font": {
           "color": "#FFFFFF"
          },
          "showarrow": false,
          "text": "0.12",
          "x": "SiteEUI(kBtu/sf)",
          "xref": "x",
          "y": "SteamUse(kBtu)",
          "yref": "y"
         },
         {
          "font": {
           "color": "#FFFFFF"
          },
          "showarrow": false,
          "text": "0.11",
          "x": "SiteEUIWN(kBtu/sf)",
          "xref": "x",
          "y": "SteamUse(kBtu)",
          "yref": "y"
         },
         {
          "font": {
           "color": "#FFFFFF"
          },
          "showarrow": false,
          "text": "0.09",
          "x": "SourceEUI(kBtu/sf)",
          "xref": "x",
          "y": "SteamUse(kBtu)",
          "yref": "y"
         },
         {
          "font": {
           "color": "#FFFFFF"
          },
          "showarrow": false,
          "text": "0.09",
          "x": "SourceEUIWN(kBtu/sf)",
          "xref": "x",
          "y": "SteamUse(kBtu)",
          "yref": "y"
         },
         {
          "font": {
           "color": "#000000"
          },
          "showarrow": false,
          "text": "0.54",
          "x": "SiteEnergyUse(kBtu)",
          "xref": "x",
          "y": "SteamUse(kBtu)",
          "yref": "y"
         },
         {
          "font": {
           "color": "#000000"
          },
          "showarrow": false,
          "text": "0.54",
          "x": "SiteEnergyUseWN(kBtu)",
          "xref": "x",
          "y": "SteamUse(kBtu)",
          "yref": "y"
         },
         {
          "font": {
           "color": "#000000"
          },
          "showarrow": false,
          "text": "1.0",
          "x": "SteamUse(kBtu)",
          "xref": "x",
          "y": "SteamUse(kBtu)",
          "yref": "y"
         },
         {
          "font": {
           "color": "#FFFFFF"
          },
          "showarrow": false,
          "text": "0.04",
          "x": "NaturalGas(therms)",
          "xref": "x",
          "y": "SteamUse(kBtu)",
          "yref": "y"
         },
         {
          "font": {
           "color": "#FFFFFF"
          },
          "showarrow": false,
          "text": "0.04",
          "x": "NaturalGas(kBtu)",
          "xref": "x",
          "y": "SteamUse(kBtu)",
          "yref": "y"
         },
         {
          "font": {
           "color": "#000000"
          },
          "showarrow": false,
          "text": "0.66",
          "x": "TotalGHGEmissions",
          "xref": "x",
          "y": "SteamUse(kBtu)",
          "yref": "y"
         },
         {
          "font": {
           "color": "#FFFFFF"
          },
          "showarrow": false,
          "text": "0.24",
          "x": "GHGEmissionsIntensity",
          "xref": "x",
          "y": "SteamUse(kBtu)",
          "yref": "y"
         },
         {
          "font": {
           "color": "#FFFFFF"
          },
          "showarrow": false,
          "text": "-0.01",
          "x": "Neighborhood_BALLARD",
          "xref": "x",
          "y": "SteamUse(kBtu)",
          "yref": "y"
         },
         {
          "font": {
           "color": "#FFFFFF"
          },
          "showarrow": false,
          "text": "-0.01",
          "x": "Neighborhood_CENTRAL",
          "xref": "x",
          "y": "SteamUse(kBtu)",
          "yref": "y"
         },
         {
          "font": {
           "color": "#FFFFFF"
          },
          "showarrow": false,
          "text": "-0.01",
          "x": "Neighborhood_DELRIDGE",
          "xref": "x",
          "y": "SteamUse(kBtu)",
          "yref": "y"
         },
         {
          "font": {
           "color": "#FFFFFF"
          },
          "showarrow": false,
          "text": "0.04",
          "x": "Neighborhood_DOWNTOWN",
          "xref": "x",
          "y": "SteamUse(kBtu)",
          "yref": "y"
         },
         {
          "font": {
           "color": "#FFFFFF"
          },
          "showarrow": false,
          "text": "0.08",
          "x": "Neighborhood_EAST",
          "xref": "x",
          "y": "SteamUse(kBtu)",
          "yref": "y"
         },
         {
          "font": {
           "color": "#FFFFFF"
          },
          "showarrow": false,
          "text": "-0.02",
          "x": "Neighborhood_GREATER DUWAMISH",
          "xref": "x",
          "y": "SteamUse(kBtu)",
          "yref": "y"
         },
         {
          "font": {
           "color": "#FFFFFF"
          },
          "showarrow": false,
          "text": "-0.02",
          "x": "Neighborhood_LAKE UNION",
          "xref": "x",
          "y": "SteamUse(kBtu)",
          "yref": "y"
         },
         {
          "font": {
           "color": "#FFFFFF"
          },
          "showarrow": false,
          "text": "-0.02",
          "x": "Neighborhood_MAGNOLIA / QUEEN ANNE",
          "xref": "x",
          "y": "SteamUse(kBtu)",
          "yref": "y"
         },
         {
          "font": {
           "color": "#FFFFFF"
          },
          "showarrow": false,
          "text": "-0.02",
          "x": "Neighborhood_NORTH",
          "xref": "x",
          "y": "SteamUse(kBtu)",
          "yref": "y"
         },
         {
          "font": {
           "color": "#FFFFFF"
          },
          "showarrow": false,
          "text": "-0.02",
          "x": "Neighborhood_NORTHEAST",
          "xref": "x",
          "y": "SteamUse(kBtu)",
          "yref": "y"
         },
         {
          "font": {
           "color": "#FFFFFF"
          },
          "showarrow": false,
          "text": "-0.02",
          "x": "Neighborhood_NORTHWEST",
          "xref": "x",
          "y": "SteamUse(kBtu)",
          "yref": "y"
         },
         {
          "font": {
           "color": "#FFFFFF"
          },
          "showarrow": false,
          "text": "-0.01",
          "x": "Neighborhood_SOUTHEAST",
          "xref": "x",
          "y": "SteamUse(kBtu)",
          "yref": "y"
         },
         {
          "font": {
           "color": "#FFFFFF"
          },
          "showarrow": false,
          "text": "-0.01",
          "x": "Neighborhood_SOUTHWEST",
          "xref": "x",
          "y": "SteamUse(kBtu)",
          "yref": "y"
         },
         {
          "font": {
           "color": "#FFFFFF"
          },
          "showarrow": false,
          "text": "0.01",
          "x": "Age",
          "xref": "x",
          "y": "SteamUse(kBtu)",
          "yref": "y"
         },
         {
          "font": {
           "color": "#FFFFFF"
          },
          "showarrow": false,
          "text": "0.12",
          "x": "EnergyUse_Age_Ratio",
          "xref": "x",
          "y": "SteamUse(kBtu)",
          "yref": "y"
         },
         {
          "font": {
           "color": "#FFFFFF"
          },
          "showarrow": false,
          "text": "0.08",
          "x": "BuildingType",
          "xref": "x",
          "y": "NaturalGas(therms)",
          "yref": "y"
         },
         {
          "font": {
           "color": "#FFFFFF"
          },
          "showarrow": false,
          "text": "0.07",
          "x": "PrimaryPropertyType",
          "xref": "x",
          "y": "NaturalGas(therms)",
          "yref": "y"
         },
         {
          "font": {
           "color": "#FFFFFF"
          },
          "showarrow": false,
          "text": "0.15",
          "x": "NumberofBuildings",
          "xref": "x",
          "y": "NaturalGas(therms)",
          "yref": "y"
         },
         {
          "font": {
           "color": "#FFFFFF"
          },
          "showarrow": false,
          "text": "0.03",
          "x": "NumberofFloors",
          "xref": "x",
          "y": "NaturalGas(therms)",
          "yref": "y"
         },
         {
          "font": {
           "color": "#FFFFFF"
          },
          "showarrow": false,
          "text": "0.04",
          "x": "PropertyGFAParking",
          "xref": "x",
          "y": "NaturalGas(therms)",
          "yref": "y"
         },
         {
          "font": {
           "color": "#FFFFFF"
          },
          "showarrow": false,
          "text": "0.23",
          "x": "SiteEUI(kBtu/sf)",
          "xref": "x",
          "y": "NaturalGas(therms)",
          "yref": "y"
         },
         {
          "font": {
           "color": "#FFFFFF"
          },
          "showarrow": false,
          "text": "0.23",
          "x": "SiteEUIWN(kBtu/sf)",
          "xref": "x",
          "y": "NaturalGas(therms)",
          "yref": "y"
         },
         {
          "font": {
           "color": "#FFFFFF"
          },
          "showarrow": false,
          "text": "0.14",
          "x": "SourceEUI(kBtu/sf)",
          "xref": "x",
          "y": "NaturalGas(therms)",
          "yref": "y"
         },
         {
          "font": {
           "color": "#FFFFFF"
          },
          "showarrow": false,
          "text": "0.14",
          "x": "SourceEUIWN(kBtu/sf)",
          "xref": "x",
          "y": "NaturalGas(therms)",
          "yref": "y"
         },
         {
          "font": {
           "color": "#000000"
          },
          "showarrow": false,
          "text": "0.71",
          "x": "SiteEnergyUse(kBtu)",
          "xref": "x",
          "y": "NaturalGas(therms)",
          "yref": "y"
         },
         {
          "font": {
           "color": "#000000"
          },
          "showarrow": false,
          "text": "0.72",
          "x": "SiteEnergyUseWN(kBtu)",
          "xref": "x",
          "y": "NaturalGas(therms)",
          "yref": "y"
         },
         {
          "font": {
           "color": "#FFFFFF"
          },
          "showarrow": false,
          "text": "0.04",
          "x": "SteamUse(kBtu)",
          "xref": "x",
          "y": "NaturalGas(therms)",
          "yref": "y"
         },
         {
          "font": {
           "color": "#000000"
          },
          "showarrow": false,
          "text": "1.0",
          "x": "NaturalGas(therms)",
          "xref": "x",
          "y": "NaturalGas(therms)",
          "yref": "y"
         },
         {
          "font": {
           "color": "#000000"
          },
          "showarrow": false,
          "text": "1.0",
          "x": "NaturalGas(kBtu)",
          "xref": "x",
          "y": "NaturalGas(therms)",
          "yref": "y"
         },
         {
          "font": {
           "color": "#000000"
          },
          "showarrow": false,
          "text": "0.77",
          "x": "TotalGHGEmissions",
          "xref": "x",
          "y": "NaturalGas(therms)",
          "yref": "y"
         },
         {
          "font": {
           "color": "#000000"
          },
          "showarrow": false,
          "text": "0.59",
          "x": "GHGEmissionsIntensity",
          "xref": "x",
          "y": "NaturalGas(therms)",
          "yref": "y"
         },
         {
          "font": {
           "color": "#FFFFFF"
          },
          "showarrow": false,
          "text": "0.0",
          "x": "Neighborhood_BALLARD",
          "xref": "x",
          "y": "NaturalGas(therms)",
          "yref": "y"
         },
         {
          "font": {
           "color": "#FFFFFF"
          },
          "showarrow": false,
          "text": "0.01",
          "x": "Neighborhood_CENTRAL",
          "xref": "x",
          "y": "NaturalGas(therms)",
          "yref": "y"
         },
         {
          "font": {
           "color": "#FFFFFF"
          },
          "showarrow": false,
          "text": "-0.01",
          "x": "Neighborhood_DELRIDGE",
          "xref": "x",
          "y": "NaturalGas(therms)",
          "yref": "y"
         },
         {
          "font": {
           "color": "#FFFFFF"
          },
          "showarrow": false,
          "text": "0.01",
          "x": "Neighborhood_DOWNTOWN",
          "xref": "x",
          "y": "NaturalGas(therms)",
          "yref": "y"
         },
         {
          "font": {
           "color": "#FFFFFF"
          },
          "showarrow": false,
          "text": "-0.0",
          "x": "Neighborhood_EAST",
          "xref": "x",
          "y": "NaturalGas(therms)",
          "yref": "y"
         },
         {
          "font": {
           "color": "#FFFFFF"
          },
          "showarrow": false,
          "text": "0.03",
          "x": "Neighborhood_GREATER DUWAMISH",
          "xref": "x",
          "y": "NaturalGas(therms)",
          "yref": "y"
         },
         {
          "font": {
           "color": "#FFFFFF"
          },
          "showarrow": false,
          "text": "-0.01",
          "x": "Neighborhood_LAKE UNION",
          "xref": "x",
          "y": "NaturalGas(therms)",
          "yref": "y"
         },
         {
          "font": {
           "color": "#FFFFFF"
          },
          "showarrow": false,
          "text": "-0.03",
          "x": "Neighborhood_MAGNOLIA / QUEEN ANNE",
          "xref": "x",
          "y": "NaturalGas(therms)",
          "yref": "y"
         },
         {
          "font": {
           "color": "#FFFFFF"
          },
          "showarrow": false,
          "text": "-0.02",
          "x": "Neighborhood_NORTH",
          "xref": "x",
          "y": "NaturalGas(therms)",
          "yref": "y"
         },
         {
          "font": {
           "color": "#FFFFFF"
          },
          "showarrow": false,
          "text": "0.01",
          "x": "Neighborhood_NORTHEAST",
          "xref": "x",
          "y": "NaturalGas(therms)",
          "yref": "y"
         },
         {
          "font": {
           "color": "#FFFFFF"
          },
          "showarrow": false,
          "text": "0.0",
          "x": "Neighborhood_NORTHWEST",
          "xref": "x",
          "y": "NaturalGas(therms)",
          "yref": "y"
         },
         {
          "font": {
           "color": "#FFFFFF"
          },
          "showarrow": false,
          "text": "-0.0",
          "x": "Neighborhood_SOUTHEAST",
          "xref": "x",
          "y": "NaturalGas(therms)",
          "yref": "y"
         },
         {
          "font": {
           "color": "#FFFFFF"
          },
          "showarrow": false,
          "text": "-0.02",
          "x": "Neighborhood_SOUTHWEST",
          "xref": "x",
          "y": "NaturalGas(therms)",
          "yref": "y"
         },
         {
          "font": {
           "color": "#FFFFFF"
          },
          "showarrow": false,
          "text": "-0.02",
          "x": "Age",
          "xref": "x",
          "y": "NaturalGas(therms)",
          "yref": "y"
         },
         {
          "font": {
           "color": "#FFFFFF"
          },
          "showarrow": false,
          "text": "0.23",
          "x": "EnergyUse_Age_Ratio",
          "xref": "x",
          "y": "NaturalGas(therms)",
          "yref": "y"
         },
         {
          "font": {
           "color": "#FFFFFF"
          },
          "showarrow": false,
          "text": "0.08",
          "x": "BuildingType",
          "xref": "x",
          "y": "NaturalGas(kBtu)",
          "yref": "y"
         },
         {
          "font": {
           "color": "#FFFFFF"
          },
          "showarrow": false,
          "text": "0.07",
          "x": "PrimaryPropertyType",
          "xref": "x",
          "y": "NaturalGas(kBtu)",
          "yref": "y"
         },
         {
          "font": {
           "color": "#FFFFFF"
          },
          "showarrow": false,
          "text": "0.15",
          "x": "NumberofBuildings",
          "xref": "x",
          "y": "NaturalGas(kBtu)",
          "yref": "y"
         },
         {
          "font": {
           "color": "#FFFFFF"
          },
          "showarrow": false,
          "text": "0.03",
          "x": "NumberofFloors",
          "xref": "x",
          "y": "NaturalGas(kBtu)",
          "yref": "y"
         },
         {
          "font": {
           "color": "#FFFFFF"
          },
          "showarrow": false,
          "text": "0.04",
          "x": "PropertyGFAParking",
          "xref": "x",
          "y": "NaturalGas(kBtu)",
          "yref": "y"
         },
         {
          "font": {
           "color": "#FFFFFF"
          },
          "showarrow": false,
          "text": "0.23",
          "x": "SiteEUI(kBtu/sf)",
          "xref": "x",
          "y": "NaturalGas(kBtu)",
          "yref": "y"
         },
         {
          "font": {
           "color": "#FFFFFF"
          },
          "showarrow": false,
          "text": "0.23",
          "x": "SiteEUIWN(kBtu/sf)",
          "xref": "x",
          "y": "NaturalGas(kBtu)",
          "yref": "y"
         },
         {
          "font": {
           "color": "#FFFFFF"
          },
          "showarrow": false,
          "text": "0.14",
          "x": "SourceEUI(kBtu/sf)",
          "xref": "x",
          "y": "NaturalGas(kBtu)",
          "yref": "y"
         },
         {
          "font": {
           "color": "#FFFFFF"
          },
          "showarrow": false,
          "text": "0.14",
          "x": "SourceEUIWN(kBtu/sf)",
          "xref": "x",
          "y": "NaturalGas(kBtu)",
          "yref": "y"
         },
         {
          "font": {
           "color": "#000000"
          },
          "showarrow": false,
          "text": "0.71",
          "x": "SiteEnergyUse(kBtu)",
          "xref": "x",
          "y": "NaturalGas(kBtu)",
          "yref": "y"
         },
         {
          "font": {
           "color": "#000000"
          },
          "showarrow": false,
          "text": "0.72",
          "x": "SiteEnergyUseWN(kBtu)",
          "xref": "x",
          "y": "NaturalGas(kBtu)",
          "yref": "y"
         },
         {
          "font": {
           "color": "#FFFFFF"
          },
          "showarrow": false,
          "text": "0.04",
          "x": "SteamUse(kBtu)",
          "xref": "x",
          "y": "NaturalGas(kBtu)",
          "yref": "y"
         },
         {
          "font": {
           "color": "#000000"
          },
          "showarrow": false,
          "text": "1.0",
          "x": "NaturalGas(therms)",
          "xref": "x",
          "y": "NaturalGas(kBtu)",
          "yref": "y"
         },
         {
          "font": {
           "color": "#000000"
          },
          "showarrow": false,
          "text": "1.0",
          "x": "NaturalGas(kBtu)",
          "xref": "x",
          "y": "NaturalGas(kBtu)",
          "yref": "y"
         },
         {
          "font": {
           "color": "#000000"
          },
          "showarrow": false,
          "text": "0.77",
          "x": "TotalGHGEmissions",
          "xref": "x",
          "y": "NaturalGas(kBtu)",
          "yref": "y"
         },
         {
          "font": {
           "color": "#000000"
          },
          "showarrow": false,
          "text": "0.59",
          "x": "GHGEmissionsIntensity",
          "xref": "x",
          "y": "NaturalGas(kBtu)",
          "yref": "y"
         },
         {
          "font": {
           "color": "#FFFFFF"
          },
          "showarrow": false,
          "text": "0.0",
          "x": "Neighborhood_BALLARD",
          "xref": "x",
          "y": "NaturalGas(kBtu)",
          "yref": "y"
         },
         {
          "font": {
           "color": "#FFFFFF"
          },
          "showarrow": false,
          "text": "0.01",
          "x": "Neighborhood_CENTRAL",
          "xref": "x",
          "y": "NaturalGas(kBtu)",
          "yref": "y"
         },
         {
          "font": {
           "color": "#FFFFFF"
          },
          "showarrow": false,
          "text": "-0.01",
          "x": "Neighborhood_DELRIDGE",
          "xref": "x",
          "y": "NaturalGas(kBtu)",
          "yref": "y"
         },
         {
          "font": {
           "color": "#FFFFFF"
          },
          "showarrow": false,
          "text": "0.01",
          "x": "Neighborhood_DOWNTOWN",
          "xref": "x",
          "y": "NaturalGas(kBtu)",
          "yref": "y"
         },
         {
          "font": {
           "color": "#FFFFFF"
          },
          "showarrow": false,
          "text": "-0.0",
          "x": "Neighborhood_EAST",
          "xref": "x",
          "y": "NaturalGas(kBtu)",
          "yref": "y"
         },
         {
          "font": {
           "color": "#FFFFFF"
          },
          "showarrow": false,
          "text": "0.03",
          "x": "Neighborhood_GREATER DUWAMISH",
          "xref": "x",
          "y": "NaturalGas(kBtu)",
          "yref": "y"
         },
         {
          "font": {
           "color": "#FFFFFF"
          },
          "showarrow": false,
          "text": "-0.01",
          "x": "Neighborhood_LAKE UNION",
          "xref": "x",
          "y": "NaturalGas(kBtu)",
          "yref": "y"
         },
         {
          "font": {
           "color": "#FFFFFF"
          },
          "showarrow": false,
          "text": "-0.03",
          "x": "Neighborhood_MAGNOLIA / QUEEN ANNE",
          "xref": "x",
          "y": "NaturalGas(kBtu)",
          "yref": "y"
         },
         {
          "font": {
           "color": "#FFFFFF"
          },
          "showarrow": false,
          "text": "-0.02",
          "x": "Neighborhood_NORTH",
          "xref": "x",
          "y": "NaturalGas(kBtu)",
          "yref": "y"
         },
         {
          "font": {
           "color": "#FFFFFF"
          },
          "showarrow": false,
          "text": "0.01",
          "x": "Neighborhood_NORTHEAST",
          "xref": "x",
          "y": "NaturalGas(kBtu)",
          "yref": "y"
         },
         {
          "font": {
           "color": "#FFFFFF"
          },
          "showarrow": false,
          "text": "0.0",
          "x": "Neighborhood_NORTHWEST",
          "xref": "x",
          "y": "NaturalGas(kBtu)",
          "yref": "y"
         },
         {
          "font": {
           "color": "#FFFFFF"
          },
          "showarrow": false,
          "text": "-0.0",
          "x": "Neighborhood_SOUTHEAST",
          "xref": "x",
          "y": "NaturalGas(kBtu)",
          "yref": "y"
         },
         {
          "font": {
           "color": "#FFFFFF"
          },
          "showarrow": false,
          "text": "-0.02",
          "x": "Neighborhood_SOUTHWEST",
          "xref": "x",
          "y": "NaturalGas(kBtu)",
          "yref": "y"
         },
         {
          "font": {
           "color": "#FFFFFF"
          },
          "showarrow": false,
          "text": "-0.02",
          "x": "Age",
          "xref": "x",
          "y": "NaturalGas(kBtu)",
          "yref": "y"
         },
         {
          "font": {
           "color": "#FFFFFF"
          },
          "showarrow": false,
          "text": "0.23",
          "x": "EnergyUse_Age_Ratio",
          "xref": "x",
          "y": "NaturalGas(kBtu)",
          "yref": "y"
         },
         {
          "font": {
           "color": "#FFFFFF"
          },
          "showarrow": false,
          "text": "0.11",
          "x": "BuildingType",
          "xref": "x",
          "y": "TotalGHGEmissions",
          "yref": "y"
         },
         {
          "font": {
           "color": "#FFFFFF"
          },
          "showarrow": false,
          "text": "0.09",
          "x": "PrimaryPropertyType",
          "xref": "x",
          "y": "TotalGHGEmissions",
          "yref": "y"
         },
         {
          "font": {
           "color": "#FFFFFF"
          },
          "showarrow": false,
          "text": "0.29",
          "x": "NumberofBuildings",
          "xref": "x",
          "y": "TotalGHGEmissions",
          "yref": "y"
         },
         {
          "font": {
           "color": "#FFFFFF"
          },
          "showarrow": false,
          "text": "0.08",
          "x": "NumberofFloors",
          "xref": "x",
          "y": "TotalGHGEmissions",
          "yref": "y"
         },
         {
          "font": {
           "color": "#FFFFFF"
          },
          "showarrow": false,
          "text": "0.09",
          "x": "PropertyGFAParking",
          "xref": "x",
          "y": "TotalGHGEmissions",
          "yref": "y"
         },
         {
          "font": {
           "color": "#FFFFFF"
          },
          "showarrow": false,
          "text": "0.29",
          "x": "SiteEUI(kBtu/sf)",
          "xref": "x",
          "y": "TotalGHGEmissions",
          "yref": "y"
         },
         {
          "font": {
           "color": "#FFFFFF"
          },
          "showarrow": false,
          "text": "0.28",
          "x": "SiteEUIWN(kBtu/sf)",
          "xref": "x",
          "y": "TotalGHGEmissions",
          "yref": "y"
         },
         {
          "font": {
           "color": "#FFFFFF"
          },
          "showarrow": false,
          "text": "0.21",
          "x": "SourceEUI(kBtu/sf)",
          "xref": "x",
          "y": "TotalGHGEmissions",
          "yref": "y"
         },
         {
          "font": {
           "color": "#FFFFFF"
          },
          "showarrow": false,
          "text": "0.21",
          "x": "SourceEUIWN(kBtu/sf)",
          "xref": "x",
          "y": "TotalGHGEmissions",
          "yref": "y"
         },
         {
          "font": {
           "color": "#000000"
          },
          "showarrow": false,
          "text": "0.92",
          "x": "SiteEnergyUse(kBtu)",
          "xref": "x",
          "y": "TotalGHGEmissions",
          "yref": "y"
         },
         {
          "font": {
           "color": "#000000"
          },
          "showarrow": false,
          "text": "0.92",
          "x": "SiteEnergyUseWN(kBtu)",
          "xref": "x",
          "y": "TotalGHGEmissions",
          "yref": "y"
         },
         {
          "font": {
           "color": "#000000"
          },
          "showarrow": false,
          "text": "0.66",
          "x": "SteamUse(kBtu)",
          "xref": "x",
          "y": "TotalGHGEmissions",
          "yref": "y"
         },
         {
          "font": {
           "color": "#000000"
          },
          "showarrow": false,
          "text": "0.77",
          "x": "NaturalGas(therms)",
          "xref": "x",
          "y": "TotalGHGEmissions",
          "yref": "y"
         },
         {
          "font": {
           "color": "#000000"
          },
          "showarrow": false,
          "text": "0.77",
          "x": "NaturalGas(kBtu)",
          "xref": "x",
          "y": "TotalGHGEmissions",
          "yref": "y"
         },
         {
          "font": {
           "color": "#000000"
          },
          "showarrow": false,
          "text": "1.0",
          "x": "TotalGHGEmissions",
          "xref": "x",
          "y": "TotalGHGEmissions",
          "yref": "y"
         },
         {
          "font": {
           "color": "#000000"
          },
          "showarrow": false,
          "text": "0.59",
          "x": "GHGEmissionsIntensity",
          "xref": "x",
          "y": "TotalGHGEmissions",
          "yref": "y"
         },
         {
          "font": {
           "color": "#FFFFFF"
          },
          "showarrow": false,
          "text": "-0.01",
          "x": "Neighborhood_BALLARD",
          "xref": "x",
          "y": "TotalGHGEmissions",
          "yref": "y"
         },
         {
          "font": {
           "color": "#FFFFFF"
          },
          "showarrow": false,
          "text": "-0.0",
          "x": "Neighborhood_CENTRAL",
          "xref": "x",
          "y": "TotalGHGEmissions",
          "yref": "y"
         },
         {
          "font": {
           "color": "#FFFFFF"
          },
          "showarrow": false,
          "text": "-0.02",
          "x": "Neighborhood_DELRIDGE",
          "xref": "x",
          "y": "TotalGHGEmissions",
          "yref": "y"
         },
         {
          "font": {
           "color": "#FFFFFF"
          },
          "showarrow": false,
          "text": "0.06",
          "x": "Neighborhood_DOWNTOWN",
          "xref": "x",
          "y": "TotalGHGEmissions",
          "yref": "y"
         },
         {
          "font": {
           "color": "#FFFFFF"
          },
          "showarrow": false,
          "text": "0.04",
          "x": "Neighborhood_EAST",
          "xref": "x",
          "y": "TotalGHGEmissions",
          "yref": "y"
         },
         {
          "font": {
           "color": "#FFFFFF"
          },
          "showarrow": false,
          "text": "0.01",
          "x": "Neighborhood_GREATER DUWAMISH",
          "xref": "x",
          "y": "TotalGHGEmissions",
          "yref": "y"
         },
         {
          "font": {
           "color": "#FFFFFF"
          },
          "showarrow": false,
          "text": "-0.01",
          "x": "Neighborhood_LAKE UNION",
          "xref": "x",
          "y": "TotalGHGEmissions",
          "yref": "y"
         },
         {
          "font": {
           "color": "#FFFFFF"
          },
          "showarrow": false,
          "text": "-0.04",
          "x": "Neighborhood_MAGNOLIA / QUEEN ANNE",
          "xref": "x",
          "y": "TotalGHGEmissions",
          "yref": "y"
         },
         {
          "font": {
           "color": "#FFFFFF"
          },
          "showarrow": false,
          "text": "-0.03",
          "x": "Neighborhood_NORTH",
          "xref": "x",
          "y": "TotalGHGEmissions",
          "yref": "y"
         },
         {
          "font": {
           "color": "#FFFFFF"
          },
          "showarrow": false,
          "text": "-0.0",
          "x": "Neighborhood_NORTHEAST",
          "xref": "x",
          "y": "TotalGHGEmissions",
          "yref": "y"
         },
         {
          "font": {
           "color": "#FFFFFF"
          },
          "showarrow": false,
          "text": "-0.01",
          "x": "Neighborhood_NORTHWEST",
          "xref": "x",
          "y": "TotalGHGEmissions",
          "yref": "y"
         },
         {
          "font": {
           "color": "#FFFFFF"
          },
          "showarrow": false,
          "text": "-0.01",
          "x": "Neighborhood_SOUTHEAST",
          "xref": "x",
          "y": "TotalGHGEmissions",
          "yref": "y"
         },
         {
          "font": {
           "color": "#FFFFFF"
          },
          "showarrow": false,
          "text": "-0.03",
          "x": "Neighborhood_SOUTHWEST",
          "xref": "x",
          "y": "TotalGHGEmissions",
          "yref": "y"
         },
         {
          "font": {
           "color": "#FFFFFF"
          },
          "showarrow": false,
          "text": "-0.02",
          "x": "Age",
          "xref": "x",
          "y": "TotalGHGEmissions",
          "yref": "y"
         },
         {
          "font": {
           "color": "#FFFFFF"
          },
          "showarrow": false,
          "text": "0.29",
          "x": "EnergyUse_Age_Ratio",
          "xref": "x",
          "y": "TotalGHGEmissions",
          "yref": "y"
         },
         {
          "font": {
           "color": "#FFFFFF"
          },
          "showarrow": false,
          "text": "0.21",
          "x": "BuildingType",
          "xref": "x",
          "y": "GHGEmissionsIntensity",
          "yref": "y"
         },
         {
          "font": {
           "color": "#FFFFFF"
          },
          "showarrow": false,
          "text": "0.19",
          "x": "PrimaryPropertyType",
          "xref": "x",
          "y": "GHGEmissionsIntensity",
          "yref": "y"
         },
         {
          "font": {
           "color": "#FFFFFF"
          },
          "showarrow": false,
          "text": "0.1",
          "x": "NumberofBuildings",
          "xref": "x",
          "y": "GHGEmissionsIntensity",
          "yref": "y"
         },
         {
          "font": {
           "color": "#FFFFFF"
          },
          "showarrow": false,
          "text": "-0.09",
          "x": "NumberofFloors",
          "xref": "x",
          "y": "GHGEmissionsIntensity",
          "yref": "y"
         },
         {
          "font": {
           "color": "#FFFFFF"
          },
          "showarrow": false,
          "text": "-0.05",
          "x": "PropertyGFAParking",
          "xref": "x",
          "y": "GHGEmissionsIntensity",
          "yref": "y"
         },
         {
          "font": {
           "color": "#000000"
          },
          "showarrow": false,
          "text": "0.63",
          "x": "SiteEUI(kBtu/sf)",
          "xref": "x",
          "y": "GHGEmissionsIntensity",
          "yref": "y"
         },
         {
          "font": {
           "color": "#000000"
          },
          "showarrow": false,
          "text": "0.64",
          "x": "SiteEUIWN(kBtu/sf)",
          "xref": "x",
          "y": "GHGEmissionsIntensity",
          "yref": "y"
         },
         {
          "font": {
           "color": "#000000"
          },
          "showarrow": false,
          "text": "0.42",
          "x": "SourceEUI(kBtu/sf)",
          "xref": "x",
          "y": "GHGEmissionsIntensity",
          "yref": "y"
         },
         {
          "font": {
           "color": "#000000"
          },
          "showarrow": false,
          "text": "0.43",
          "x": "SourceEUIWN(kBtu/sf)",
          "xref": "x",
          "y": "GHGEmissionsIntensity",
          "yref": "y"
         },
         {
          "font": {
           "color": "#000000"
          },
          "showarrow": false,
          "text": "0.52",
          "x": "SiteEnergyUse(kBtu)",
          "xref": "x",
          "y": "GHGEmissionsIntensity",
          "yref": "y"
         },
         {
          "font": {
           "color": "#000000"
          },
          "showarrow": false,
          "text": "0.52",
          "x": "SiteEnergyUseWN(kBtu)",
          "xref": "x",
          "y": "GHGEmissionsIntensity",
          "yref": "y"
         },
         {
          "font": {
           "color": "#FFFFFF"
          },
          "showarrow": false,
          "text": "0.24",
          "x": "SteamUse(kBtu)",
          "xref": "x",
          "y": "GHGEmissionsIntensity",
          "yref": "y"
         },
         {
          "font": {
           "color": "#000000"
          },
          "showarrow": false,
          "text": "0.59",
          "x": "NaturalGas(therms)",
          "xref": "x",
          "y": "GHGEmissionsIntensity",
          "yref": "y"
         },
         {
          "font": {
           "color": "#000000"
          },
          "showarrow": false,
          "text": "0.59",
          "x": "NaturalGas(kBtu)",
          "xref": "x",
          "y": "GHGEmissionsIntensity",
          "yref": "y"
         },
         {
          "font": {
           "color": "#000000"
          },
          "showarrow": false,
          "text": "0.59",
          "x": "TotalGHGEmissions",
          "xref": "x",
          "y": "GHGEmissionsIntensity",
          "yref": "y"
         },
         {
          "font": {
           "color": "#000000"
          },
          "showarrow": false,
          "text": "1.0",
          "x": "GHGEmissionsIntensity",
          "xref": "x",
          "y": "GHGEmissionsIntensity",
          "yref": "y"
         },
         {
          "font": {
           "color": "#FFFFFF"
          },
          "showarrow": false,
          "text": "0.01",
          "x": "Neighborhood_BALLARD",
          "xref": "x",
          "y": "GHGEmissionsIntensity",
          "yref": "y"
         },
         {
          "font": {
           "color": "#FFFFFF"
          },
          "showarrow": false,
          "text": "0.0",
          "x": "Neighborhood_CENTRAL",
          "xref": "x",
          "y": "GHGEmissionsIntensity",
          "yref": "y"
         },
         {
          "font": {
           "color": "#FFFFFF"
          },
          "showarrow": false,
          "text": "-0.02",
          "x": "Neighborhood_DELRIDGE",
          "xref": "x",
          "y": "GHGEmissionsIntensity",
          "yref": "y"
         },
         {
          "font": {
           "color": "#FFFFFF"
          },
          "showarrow": false,
          "text": "0.03",
          "x": "Neighborhood_DOWNTOWN",
          "xref": "x",
          "y": "GHGEmissionsIntensity",
          "yref": "y"
         },
         {
          "font": {
           "color": "#FFFFFF"
          },
          "showarrow": false,
          "text": "0.08",
          "x": "Neighborhood_EAST",
          "xref": "x",
          "y": "GHGEmissionsIntensity",
          "yref": "y"
         },
         {
          "font": {
           "color": "#FFFFFF"
          },
          "showarrow": false,
          "text": "0.02",
          "x": "Neighborhood_GREATER DUWAMISH",
          "xref": "x",
          "y": "GHGEmissionsIntensity",
          "yref": "y"
         },
         {
          "font": {
           "color": "#FFFFFF"
          },
          "showarrow": false,
          "text": "-0.04",
          "x": "Neighborhood_LAKE UNION",
          "xref": "x",
          "y": "GHGEmissionsIntensity",
          "yref": "y"
         },
         {
          "font": {
           "color": "#FFFFFF"
          },
          "showarrow": false,
          "text": "-0.04",
          "x": "Neighborhood_MAGNOLIA / QUEEN ANNE",
          "xref": "x",
          "y": "GHGEmissionsIntensity",
          "yref": "y"
         },
         {
          "font": {
           "color": "#FFFFFF"
          },
          "showarrow": false,
          "text": "-0.06",
          "x": "Neighborhood_NORTH",
          "xref": "x",
          "y": "GHGEmissionsIntensity",
          "yref": "y"
         },
         {
          "font": {
           "color": "#FFFFFF"
          },
          "showarrow": false,
          "text": "0.02",
          "x": "Neighborhood_NORTHEAST",
          "xref": "x",
          "y": "GHGEmissionsIntensity",
          "yref": "y"
         },
         {
          "font": {
           "color": "#FFFFFF"
          },
          "showarrow": false,
          "text": "-0.01",
          "x": "Neighborhood_NORTHWEST",
          "xref": "x",
          "y": "GHGEmissionsIntensity",
          "yref": "y"
         },
         {
          "font": {
           "color": "#FFFFFF"
          },
          "showarrow": false,
          "text": "-0.0",
          "x": "Neighborhood_SOUTHEAST",
          "xref": "x",
          "y": "GHGEmissionsIntensity",
          "yref": "y"
         },
         {
          "font": {
           "color": "#FFFFFF"
          },
          "showarrow": false,
          "text": "-0.05",
          "x": "Neighborhood_SOUTHWEST",
          "xref": "x",
          "y": "GHGEmissionsIntensity",
          "yref": "y"
         },
         {
          "font": {
           "color": "#FFFFFF"
          },
          "showarrow": false,
          "text": "0.16",
          "x": "Age",
          "xref": "x",
          "y": "GHGEmissionsIntensity",
          "yref": "y"
         },
         {
          "font": {
           "color": "#000000"
          },
          "showarrow": false,
          "text": "0.57",
          "x": "EnergyUse_Age_Ratio",
          "xref": "x",
          "y": "GHGEmissionsIntensity",
          "yref": "y"
         },
         {
          "font": {
           "color": "#FFFFFF"
          },
          "showarrow": false,
          "text": "-0.0",
          "x": "BuildingType",
          "xref": "x",
          "y": "Neighborhood_BALLARD",
          "yref": "y"
         },
         {
          "font": {
           "color": "#FFFFFF"
          },
          "showarrow": false,
          "text": "0.03",
          "x": "PrimaryPropertyType",
          "xref": "x",
          "y": "Neighborhood_BALLARD",
          "yref": "y"
         },
         {
          "font": {
           "color": "#FFFFFF"
          },
          "showarrow": false,
          "text": "0.01",
          "x": "NumberofBuildings",
          "xref": "x",
          "y": "Neighborhood_BALLARD",
          "yref": "y"
         },
         {
          "font": {
           "color": "#FFFFFF"
          },
          "showarrow": false,
          "text": "-0.03",
          "x": "NumberofFloors",
          "xref": "x",
          "y": "Neighborhood_BALLARD",
          "yref": "y"
         },
         {
          "font": {
           "color": "#FFFFFF"
          },
          "showarrow": false,
          "text": "-0.03",
          "x": "PropertyGFAParking",
          "xref": "x",
          "y": "Neighborhood_BALLARD",
          "yref": "y"
         },
         {
          "font": {
           "color": "#FFFFFF"
          },
          "showarrow": false,
          "text": "0.01",
          "x": "SiteEUI(kBtu/sf)",
          "xref": "x",
          "y": "Neighborhood_BALLARD",
          "yref": "y"
         },
         {
          "font": {
           "color": "#FFFFFF"
          },
          "showarrow": false,
          "text": "0.01",
          "x": "SiteEUIWN(kBtu/sf)",
          "xref": "x",
          "y": "Neighborhood_BALLARD",
          "yref": "y"
         },
         {
          "font": {
           "color": "#FFFFFF"
          },
          "showarrow": false,
          "text": "0.01",
          "x": "SourceEUI(kBtu/sf)",
          "xref": "x",
          "y": "Neighborhood_BALLARD",
          "yref": "y"
         },
         {
          "font": {
           "color": "#FFFFFF"
          },
          "showarrow": false,
          "text": "0.01",
          "x": "SourceEUIWN(kBtu/sf)",
          "xref": "x",
          "y": "Neighborhood_BALLARD",
          "yref": "y"
         },
         {
          "font": {
           "color": "#FFFFFF"
          },
          "showarrow": false,
          "text": "-0.01",
          "x": "SiteEnergyUse(kBtu)",
          "xref": "x",
          "y": "Neighborhood_BALLARD",
          "yref": "y"
         },
         {
          "font": {
           "color": "#FFFFFF"
          },
          "showarrow": false,
          "text": "-0.02",
          "x": "SiteEnergyUseWN(kBtu)",
          "xref": "x",
          "y": "Neighborhood_BALLARD",
          "yref": "y"
         },
         {
          "font": {
           "color": "#FFFFFF"
          },
          "showarrow": false,
          "text": "-0.01",
          "x": "SteamUse(kBtu)",
          "xref": "x",
          "y": "Neighborhood_BALLARD",
          "yref": "y"
         },
         {
          "font": {
           "color": "#FFFFFF"
          },
          "showarrow": false,
          "text": "0.0",
          "x": "NaturalGas(therms)",
          "xref": "x",
          "y": "Neighborhood_BALLARD",
          "yref": "y"
         },
         {
          "font": {
           "color": "#FFFFFF"
          },
          "showarrow": false,
          "text": "0.0",
          "x": "NaturalGas(kBtu)",
          "xref": "x",
          "y": "Neighborhood_BALLARD",
          "yref": "y"
         },
         {
          "font": {
           "color": "#FFFFFF"
          },
          "showarrow": false,
          "text": "-0.01",
          "x": "TotalGHGEmissions",
          "xref": "x",
          "y": "Neighborhood_BALLARD",
          "yref": "y"
         },
         {
          "font": {
           "color": "#FFFFFF"
          },
          "showarrow": false,
          "text": "0.01",
          "x": "GHGEmissionsIntensity",
          "xref": "x",
          "y": "Neighborhood_BALLARD",
          "yref": "y"
         },
         {
          "font": {
           "color": "#000000"
          },
          "showarrow": false,
          "text": "1.0",
          "x": "Neighborhood_BALLARD",
          "xref": "x",
          "y": "Neighborhood_BALLARD",
          "yref": "y"
         },
         {
          "font": {
           "color": "#FFFFFF"
          },
          "showarrow": false,
          "text": "-0.04",
          "x": "Neighborhood_CENTRAL",
          "xref": "x",
          "y": "Neighborhood_BALLARD",
          "yref": "y"
         },
         {
          "font": {
           "color": "#FFFFFF"
          },
          "showarrow": false,
          "text": "-0.03",
          "x": "Neighborhood_DELRIDGE",
          "xref": "x",
          "y": "Neighborhood_BALLARD",
          "yref": "y"
         },
         {
          "font": {
           "color": "#FFFFFF"
          },
          "showarrow": false,
          "text": "-0.09",
          "x": "Neighborhood_DOWNTOWN",
          "xref": "x",
          "y": "Neighborhood_BALLARD",
          "yref": "y"
         },
         {
          "font": {
           "color": "#FFFFFF"
          },
          "showarrow": false,
          "text": "-0.08",
          "x": "Neighborhood_EAST",
          "xref": "x",
          "y": "Neighborhood_BALLARD",
          "yref": "y"
         },
         {
          "font": {
           "color": "#FFFFFF"
          },
          "showarrow": false,
          "text": "-0.06",
          "x": "Neighborhood_GREATER DUWAMISH",
          "xref": "x",
          "y": "Neighborhood_BALLARD",
          "yref": "y"
         },
         {
          "font": {
           "color": "#FFFFFF"
          },
          "showarrow": false,
          "text": "-0.06",
          "x": "Neighborhood_LAKE UNION",
          "xref": "x",
          "y": "Neighborhood_BALLARD",
          "yref": "y"
         },
         {
          "font": {
           "color": "#FFFFFF"
          },
          "showarrow": false,
          "text": "-0.08",
          "x": "Neighborhood_MAGNOLIA / QUEEN ANNE",
          "xref": "x",
          "y": "Neighborhood_BALLARD",
          "yref": "y"
         },
         {
          "font": {
           "color": "#FFFFFF"
          },
          "showarrow": false,
          "text": "-0.05",
          "x": "Neighborhood_NORTH",
          "xref": "x",
          "y": "Neighborhood_BALLARD",
          "yref": "y"
         },
         {
          "font": {
           "color": "#FFFFFF"
          },
          "showarrow": false,
          "text": "-0.06",
          "x": "Neighborhood_NORTHEAST",
          "xref": "x",
          "y": "Neighborhood_BALLARD",
          "yref": "y"
         },
         {
          "font": {
           "color": "#FFFFFF"
          },
          "showarrow": false,
          "text": "-0.05",
          "x": "Neighborhood_NORTHWEST",
          "xref": "x",
          "y": "Neighborhood_BALLARD",
          "yref": "y"
         },
         {
          "font": {
           "color": "#FFFFFF"
          },
          "showarrow": false,
          "text": "-0.04",
          "x": "Neighborhood_SOUTHEAST",
          "xref": "x",
          "y": "Neighborhood_BALLARD",
          "yref": "y"
         },
         {
          "font": {
           "color": "#FFFFFF"
          },
          "showarrow": false,
          "text": "-0.04",
          "x": "Neighborhood_SOUTHWEST",
          "xref": "x",
          "y": "Neighborhood_BALLARD",
          "yref": "y"
         },
         {
          "font": {
           "color": "#FFFFFF"
          },
          "showarrow": false,
          "text": "-0.06",
          "x": "Age",
          "xref": "x",
          "y": "Neighborhood_BALLARD",
          "yref": "y"
         },
         {
          "font": {
           "color": "#FFFFFF"
          },
          "showarrow": false,
          "text": "0.03",
          "x": "EnergyUse_Age_Ratio",
          "xref": "x",
          "y": "Neighborhood_BALLARD",
          "yref": "y"
         },
         {
          "font": {
           "color": "#FFFFFF"
          },
          "showarrow": false,
          "text": "-0.04",
          "x": "BuildingType",
          "xref": "x",
          "y": "Neighborhood_CENTRAL",
          "yref": "y"
         },
         {
          "font": {
           "color": "#FFFFFF"
          },
          "showarrow": false,
          "text": "-0.04",
          "x": "PrimaryPropertyType",
          "xref": "x",
          "y": "Neighborhood_CENTRAL",
          "yref": "y"
         },
         {
          "font": {
           "color": "#FFFFFF"
          },
          "showarrow": false,
          "text": "0.01",
          "x": "NumberofBuildings",
          "xref": "x",
          "y": "Neighborhood_CENTRAL",
          "yref": "y"
         },
         {
          "font": {
           "color": "#FFFFFF"
          },
          "showarrow": false,
          "text": "-0.02",
          "x": "NumberofFloors",
          "xref": "x",
          "y": "Neighborhood_CENTRAL",
          "yref": "y"
         },
         {
          "font": {
           "color": "#FFFFFF"
          },
          "showarrow": false,
          "text": "-0.03",
          "x": "PropertyGFAParking",
          "xref": "x",
          "y": "Neighborhood_CENTRAL",
          "yref": "y"
         },
         {
          "font": {
           "color": "#FFFFFF"
          },
          "showarrow": false,
          "text": "-0.01",
          "x": "SiteEUI(kBtu/sf)",
          "xref": "x",
          "y": "Neighborhood_CENTRAL",
          "yref": "y"
         },
         {
          "font": {
           "color": "#FFFFFF"
          },
          "showarrow": false,
          "text": "-0.0",
          "x": "SiteEUIWN(kBtu/sf)",
          "xref": "x",
          "y": "Neighborhood_CENTRAL",
          "yref": "y"
         },
         {
          "font": {
           "color": "#FFFFFF"
          },
          "showarrow": false,
          "text": "-0.01",
          "x": "SourceEUI(kBtu/sf)",
          "xref": "x",
          "y": "Neighborhood_CENTRAL",
          "yref": "y"
         },
         {
          "font": {
           "color": "#FFFFFF"
          },
          "showarrow": false,
          "text": "-0.01",
          "x": "SourceEUIWN(kBtu/sf)",
          "xref": "x",
          "y": "Neighborhood_CENTRAL",
          "yref": "y"
         },
         {
          "font": {
           "color": "#FFFFFF"
          },
          "showarrow": false,
          "text": "-0.01",
          "x": "SiteEnergyUse(kBtu)",
          "xref": "x",
          "y": "Neighborhood_CENTRAL",
          "yref": "y"
         },
         {
          "font": {
           "color": "#FFFFFF"
          },
          "showarrow": false,
          "text": "-0.01",
          "x": "SiteEnergyUseWN(kBtu)",
          "xref": "x",
          "y": "Neighborhood_CENTRAL",
          "yref": "y"
         },
         {
          "font": {
           "color": "#FFFFFF"
          },
          "showarrow": false,
          "text": "-0.01",
          "x": "SteamUse(kBtu)",
          "xref": "x",
          "y": "Neighborhood_CENTRAL",
          "yref": "y"
         },
         {
          "font": {
           "color": "#FFFFFF"
          },
          "showarrow": false,
          "text": "0.01",
          "x": "NaturalGas(therms)",
          "xref": "x",
          "y": "Neighborhood_CENTRAL",
          "yref": "y"
         },
         {
          "font": {
           "color": "#FFFFFF"
          },
          "showarrow": false,
          "text": "0.01",
          "x": "NaturalGas(kBtu)",
          "xref": "x",
          "y": "Neighborhood_CENTRAL",
          "yref": "y"
         },
         {
          "font": {
           "color": "#FFFFFF"
          },
          "showarrow": false,
          "text": "-0.0",
          "x": "TotalGHGEmissions",
          "xref": "x",
          "y": "Neighborhood_CENTRAL",
          "yref": "y"
         },
         {
          "font": {
           "color": "#FFFFFF"
          },
          "showarrow": false,
          "text": "0.0",
          "x": "GHGEmissionsIntensity",
          "xref": "x",
          "y": "Neighborhood_CENTRAL",
          "yref": "y"
         },
         {
          "font": {
           "color": "#FFFFFF"
          },
          "showarrow": false,
          "text": "-0.04",
          "x": "Neighborhood_BALLARD",
          "xref": "x",
          "y": "Neighborhood_CENTRAL",
          "yref": "y"
         },
         {
          "font": {
           "color": "#000000"
          },
          "showarrow": false,
          "text": "1.0",
          "x": "Neighborhood_CENTRAL",
          "xref": "x",
          "y": "Neighborhood_CENTRAL",
          "yref": "y"
         },
         {
          "font": {
           "color": "#FFFFFF"
          },
          "showarrow": false,
          "text": "-0.03",
          "x": "Neighborhood_DELRIDGE",
          "xref": "x",
          "y": "Neighborhood_CENTRAL",
          "yref": "y"
         },
         {
          "font": {
           "color": "#FFFFFF"
          },
          "showarrow": false,
          "text": "-0.09",
          "x": "Neighborhood_DOWNTOWN",
          "xref": "x",
          "y": "Neighborhood_CENTRAL",
          "yref": "y"
         },
         {
          "font": {
           "color": "#FFFFFF"
          },
          "showarrow": false,
          "text": "-0.08",
          "x": "Neighborhood_EAST",
          "xref": "x",
          "y": "Neighborhood_CENTRAL",
          "yref": "y"
         },
         {
          "font": {
           "color": "#FFFFFF"
          },
          "showarrow": false,
          "text": "-0.07",
          "x": "Neighborhood_GREATER DUWAMISH",
          "xref": "x",
          "y": "Neighborhood_CENTRAL",
          "yref": "y"
         },
         {
          "font": {
           "color": "#FFFFFF"
          },
          "showarrow": false,
          "text": "-0.06",
          "x": "Neighborhood_LAKE UNION",
          "xref": "x",
          "y": "Neighborhood_CENTRAL",
          "yref": "y"
         },
         {
          "font": {
           "color": "#FFFFFF"
          },
          "showarrow": false,
          "text": "-0.08",
          "x": "Neighborhood_MAGNOLIA / QUEEN ANNE",
          "xref": "x",
          "y": "Neighborhood_CENTRAL",
          "yref": "y"
         },
         {
          "font": {
           "color": "#FFFFFF"
          },
          "showarrow": false,
          "text": "-0.05",
          "x": "Neighborhood_NORTH",
          "xref": "x",
          "y": "Neighborhood_CENTRAL",
          "yref": "y"
         },
         {
          "font": {
           "color": "#FFFFFF"
          },
          "showarrow": false,
          "text": "-0.06",
          "x": "Neighborhood_NORTHEAST",
          "xref": "x",
          "y": "Neighborhood_CENTRAL",
          "yref": "y"
         },
         {
          "font": {
           "color": "#FFFFFF"
          },
          "showarrow": false,
          "text": "-0.05",
          "x": "Neighborhood_NORTHWEST",
          "xref": "x",
          "y": "Neighborhood_CENTRAL",
          "yref": "y"
         },
         {
          "font": {
           "color": "#FFFFFF"
          },
          "showarrow": false,
          "text": "-0.04",
          "x": "Neighborhood_SOUTHEAST",
          "xref": "x",
          "y": "Neighborhood_CENTRAL",
          "yref": "y"
         },
         {
          "font": {
           "color": "#FFFFFF"
          },
          "showarrow": false,
          "text": "-0.04",
          "x": "Neighborhood_SOUTHWEST",
          "xref": "x",
          "y": "Neighborhood_CENTRAL",
          "yref": "y"
         },
         {
          "font": {
           "color": "#FFFFFF"
          },
          "showarrow": false,
          "text": "-0.0",
          "x": "Age",
          "xref": "x",
          "y": "Neighborhood_CENTRAL",
          "yref": "y"
         },
         {
          "font": {
           "color": "#FFFFFF"
          },
          "showarrow": false,
          "text": "-0.01",
          "x": "EnergyUse_Age_Ratio",
          "xref": "x",
          "y": "Neighborhood_CENTRAL",
          "yref": "y"
         },
         {
          "font": {
           "color": "#FFFFFF"
          },
          "showarrow": false,
          "text": "0.02",
          "x": "BuildingType",
          "xref": "x",
          "y": "Neighborhood_DELRIDGE",
          "yref": "y"
         },
         {
          "font": {
           "color": "#FFFFFF"
          },
          "showarrow": false,
          "text": "0.03",
          "x": "PrimaryPropertyType",
          "xref": "x",
          "y": "Neighborhood_DELRIDGE",
          "yref": "y"
         },
         {
          "font": {
           "color": "#FFFFFF"
          },
          "showarrow": false,
          "text": "0.02",
          "x": "NumberofBuildings",
          "xref": "x",
          "y": "Neighborhood_DELRIDGE",
          "yref": "y"
         },
         {
          "font": {
           "color": "#FFFFFF"
          },
          "showarrow": false,
          "text": "-0.08",
          "x": "NumberofFloors",
          "xref": "x",
          "y": "Neighborhood_DELRIDGE",
          "yref": "y"
         },
         {
          "font": {
           "color": "#FFFFFF"
          },
          "showarrow": false,
          "text": "-0.04",
          "x": "PropertyGFAParking",
          "xref": "x",
          "y": "Neighborhood_DELRIDGE",
          "yref": "y"
         },
         {
          "font": {
           "color": "#FFFFFF"
          },
          "showarrow": false,
          "text": "-0.0",
          "x": "SiteEUI(kBtu/sf)",
          "xref": "x",
          "y": "Neighborhood_DELRIDGE",
          "yref": "y"
         },
         {
          "font": {
           "color": "#FFFFFF"
          },
          "showarrow": false,
          "text": "-0.0",
          "x": "SiteEUIWN(kBtu/sf)",
          "xref": "x",
          "y": "Neighborhood_DELRIDGE",
          "yref": "y"
         },
         {
          "font": {
           "color": "#FFFFFF"
          },
          "showarrow": false,
          "text": "-0.01",
          "x": "SourceEUI(kBtu/sf)",
          "xref": "x",
          "y": "Neighborhood_DELRIDGE",
          "yref": "y"
         },
         {
          "font": {
           "color": "#FFFFFF"
          },
          "showarrow": false,
          "text": "-0.0",
          "x": "SourceEUIWN(kBtu/sf)",
          "xref": "x",
          "y": "Neighborhood_DELRIDGE",
          "yref": "y"
         },
         {
          "font": {
           "color": "#FFFFFF"
          },
          "showarrow": false,
          "text": "-0.02",
          "x": "SiteEnergyUse(kBtu)",
          "xref": "x",
          "y": "Neighborhood_DELRIDGE",
          "yref": "y"
         },
         {
          "font": {
           "color": "#FFFFFF"
          },
          "showarrow": false,
          "text": "-0.01",
          "x": "SiteEnergyUseWN(kBtu)",
          "xref": "x",
          "y": "Neighborhood_DELRIDGE",
          "yref": "y"
         },
         {
          "font": {
           "color": "#FFFFFF"
          },
          "showarrow": false,
          "text": "-0.01",
          "x": "SteamUse(kBtu)",
          "xref": "x",
          "y": "Neighborhood_DELRIDGE",
          "yref": "y"
         },
         {
          "font": {
           "color": "#FFFFFF"
          },
          "showarrow": false,
          "text": "-0.01",
          "x": "NaturalGas(therms)",
          "xref": "x",
          "y": "Neighborhood_DELRIDGE",
          "yref": "y"
         },
         {
          "font": {
           "color": "#FFFFFF"
          },
          "showarrow": false,
          "text": "-0.01",
          "x": "NaturalGas(kBtu)",
          "xref": "x",
          "y": "Neighborhood_DELRIDGE",
          "yref": "y"
         },
         {
          "font": {
           "color": "#FFFFFF"
          },
          "showarrow": false,
          "text": "-0.02",
          "x": "TotalGHGEmissions",
          "xref": "x",
          "y": "Neighborhood_DELRIDGE",
          "yref": "y"
         },
         {
          "font": {
           "color": "#FFFFFF"
          },
          "showarrow": false,
          "text": "-0.02",
          "x": "GHGEmissionsIntensity",
          "xref": "x",
          "y": "Neighborhood_DELRIDGE",
          "yref": "y"
         },
         {
          "font": {
           "color": "#FFFFFF"
          },
          "showarrow": false,
          "text": "-0.03",
          "x": "Neighborhood_BALLARD",
          "xref": "x",
          "y": "Neighborhood_DELRIDGE",
          "yref": "y"
         },
         {
          "font": {
           "color": "#FFFFFF"
          },
          "showarrow": false,
          "text": "-0.03",
          "x": "Neighborhood_CENTRAL",
          "xref": "x",
          "y": "Neighborhood_DELRIDGE",
          "yref": "y"
         },
         {
          "font": {
           "color": "#000000"
          },
          "showarrow": false,
          "text": "1.0",
          "x": "Neighborhood_DELRIDGE",
          "xref": "x",
          "y": "Neighborhood_DELRIDGE",
          "yref": "y"
         },
         {
          "font": {
           "color": "#FFFFFF"
          },
          "showarrow": false,
          "text": "-0.07",
          "x": "Neighborhood_DOWNTOWN",
          "xref": "x",
          "y": "Neighborhood_DELRIDGE",
          "yref": "y"
         },
         {
          "font": {
           "color": "#FFFFFF"
          },
          "showarrow": false,
          "text": "-0.07",
          "x": "Neighborhood_EAST",
          "xref": "x",
          "y": "Neighborhood_DELRIDGE",
          "yref": "y"
         },
         {
          "font": {
           "color": "#FFFFFF"
          },
          "showarrow": false,
          "text": "-0.05",
          "x": "Neighborhood_GREATER DUWAMISH",
          "xref": "x",
          "y": "Neighborhood_DELRIDGE",
          "yref": "y"
         },
         {
          "font": {
           "color": "#FFFFFF"
          },
          "showarrow": false,
          "text": "-0.05",
          "x": "Neighborhood_LAKE UNION",
          "xref": "x",
          "y": "Neighborhood_DELRIDGE",
          "yref": "y"
         },
         {
          "font": {
           "color": "#FFFFFF"
          },
          "showarrow": false,
          "text": "-0.06",
          "x": "Neighborhood_MAGNOLIA / QUEEN ANNE",
          "xref": "x",
          "y": "Neighborhood_DELRIDGE",
          "yref": "y"
         },
         {
          "font": {
           "color": "#FFFFFF"
          },
          "showarrow": false,
          "text": "-0.04",
          "x": "Neighborhood_NORTH",
          "xref": "x",
          "y": "Neighborhood_DELRIDGE",
          "yref": "y"
         },
         {
          "font": {
           "color": "#FFFFFF"
          },
          "showarrow": false,
          "text": "-0.05",
          "x": "Neighborhood_NORTHEAST",
          "xref": "x",
          "y": "Neighborhood_DELRIDGE",
          "yref": "y"
         },
         {
          "font": {
           "color": "#FFFFFF"
          },
          "showarrow": false,
          "text": "-0.05",
          "x": "Neighborhood_NORTHWEST",
          "xref": "x",
          "y": "Neighborhood_DELRIDGE",
          "yref": "y"
         },
         {
          "font": {
           "color": "#FFFFFF"
          },
          "showarrow": false,
          "text": "-0.03",
          "x": "Neighborhood_SOUTHEAST",
          "xref": "x",
          "y": "Neighborhood_DELRIDGE",
          "yref": "y"
         },
         {
          "font": {
           "color": "#FFFFFF"
          },
          "showarrow": false,
          "text": "-0.04",
          "x": "Neighborhood_SOUTHWEST",
          "xref": "x",
          "y": "Neighborhood_DELRIDGE",
          "yref": "y"
         },
         {
          "font": {
           "color": "#FFFFFF"
          },
          "showarrow": false,
          "text": "-0.04",
          "x": "Age",
          "xref": "x",
          "y": "Neighborhood_DELRIDGE",
          "yref": "y"
         },
         {
          "font": {
           "color": "#FFFFFF"
          },
          "showarrow": false,
          "text": "-0.0",
          "x": "EnergyUse_Age_Ratio",
          "xref": "x",
          "y": "Neighborhood_DELRIDGE",
          "yref": "y"
         },
         {
          "font": {
           "color": "#FFFFFF"
          },
          "showarrow": false,
          "text": "0.16",
          "x": "BuildingType",
          "xref": "x",
          "y": "Neighborhood_DOWNTOWN",
          "yref": "y"
         },
         {
          "font": {
           "color": "#FFFFFF"
          },
          "showarrow": false,
          "text": "-0.01",
          "x": "PrimaryPropertyType",
          "xref": "x",
          "y": "Neighborhood_DOWNTOWN",
          "yref": "y"
         },
         {
          "font": {
           "color": "#FFFFFF"
          },
          "showarrow": false,
          "text": "-0.04",
          "x": "NumberofBuildings",
          "xref": "x",
          "y": "Neighborhood_DOWNTOWN",
          "yref": "y"
         },
         {
          "font": {
           "color": "#000000"
          },
          "showarrow": false,
          "text": "0.33",
          "x": "NumberofFloors",
          "xref": "x",
          "y": "Neighborhood_DOWNTOWN",
          "yref": "y"
         },
         {
          "font": {
           "color": "#FFFFFF"
          },
          "showarrow": false,
          "text": "0.19",
          "x": "PropertyGFAParking",
          "xref": "x",
          "y": "Neighborhood_DOWNTOWN",
          "yref": "y"
         },
         {
          "font": {
           "color": "#FFFFFF"
          },
          "showarrow": false,
          "text": "0.09",
          "x": "SiteEUI(kBtu/sf)",
          "xref": "x",
          "y": "Neighborhood_DOWNTOWN",
          "yref": "y"
         },
         {
          "font": {
           "color": "#FFFFFF"
          },
          "showarrow": false,
          "text": "0.08",
          "x": "SiteEUIWN(kBtu/sf)",
          "xref": "x",
          "y": "Neighborhood_DOWNTOWN",
          "yref": "y"
         },
         {
          "font": {
           "color": "#FFFFFF"
          },
          "showarrow": false,
          "text": "0.1",
          "x": "SourceEUI(kBtu/sf)",
          "xref": "x",
          "y": "Neighborhood_DOWNTOWN",
          "yref": "y"
         },
         {
          "font": {
           "color": "#FFFFFF"
          },
          "showarrow": false,
          "text": "0.09",
          "x": "SourceEUIWN(kBtu/sf)",
          "xref": "x",
          "y": "Neighborhood_DOWNTOWN",
          "yref": "y"
         },
         {
          "font": {
           "color": "#FFFFFF"
          },
          "showarrow": false,
          "text": "0.14",
          "x": "SiteEnergyUse(kBtu)",
          "xref": "x",
          "y": "Neighborhood_DOWNTOWN",
          "yref": "y"
         },
         {
          "font": {
           "color": "#FFFFFF"
          },
          "showarrow": false,
          "text": "0.14",
          "x": "SiteEnergyUseWN(kBtu)",
          "xref": "x",
          "y": "Neighborhood_DOWNTOWN",
          "yref": "y"
         },
         {
          "font": {
           "color": "#FFFFFF"
          },
          "showarrow": false,
          "text": "0.04",
          "x": "SteamUse(kBtu)",
          "xref": "x",
          "y": "Neighborhood_DOWNTOWN",
          "yref": "y"
         },
         {
          "font": {
           "color": "#FFFFFF"
          },
          "showarrow": false,
          "text": "0.01",
          "x": "NaturalGas(therms)",
          "xref": "x",
          "y": "Neighborhood_DOWNTOWN",
          "yref": "y"
         },
         {
          "font": {
           "color": "#FFFFFF"
          },
          "showarrow": false,
          "text": "0.01",
          "x": "NaturalGas(kBtu)",
          "xref": "x",
          "y": "Neighborhood_DOWNTOWN",
          "yref": "y"
         },
         {
          "font": {
           "color": "#FFFFFF"
          },
          "showarrow": false,
          "text": "0.06",
          "x": "TotalGHGEmissions",
          "xref": "x",
          "y": "Neighborhood_DOWNTOWN",
          "yref": "y"
         },
         {
          "font": {
           "color": "#FFFFFF"
          },
          "showarrow": false,
          "text": "0.03",
          "x": "GHGEmissionsIntensity",
          "xref": "x",
          "y": "Neighborhood_DOWNTOWN",
          "yref": "y"
         },
         {
          "font": {
           "color": "#FFFFFF"
          },
          "showarrow": false,
          "text": "-0.09",
          "x": "Neighborhood_BALLARD",
          "xref": "x",
          "y": "Neighborhood_DOWNTOWN",
          "yref": "y"
         },
         {
          "font": {
           "color": "#FFFFFF"
          },
          "showarrow": false,
          "text": "-0.09",
          "x": "Neighborhood_CENTRAL",
          "xref": "x",
          "y": "Neighborhood_DOWNTOWN",
          "yref": "y"
         },
         {
          "font": {
           "color": "#FFFFFF"
          },
          "showarrow": false,
          "text": "-0.07",
          "x": "Neighborhood_DELRIDGE",
          "xref": "x",
          "y": "Neighborhood_DOWNTOWN",
          "yref": "y"
         },
         {
          "font": {
           "color": "#000000"
          },
          "showarrow": false,
          "text": "1.0",
          "x": "Neighborhood_DOWNTOWN",
          "xref": "x",
          "y": "Neighborhood_DOWNTOWN",
          "yref": "y"
         },
         {
          "font": {
           "color": "#FFFFFF"
          },
          "showarrow": false,
          "text": "-0.18",
          "x": "Neighborhood_EAST",
          "xref": "x",
          "y": "Neighborhood_DOWNTOWN",
          "yref": "y"
         },
         {
          "font": {
           "color": "#FFFFFF"
          },
          "showarrow": false,
          "text": "-0.14",
          "x": "Neighborhood_GREATER DUWAMISH",
          "xref": "x",
          "y": "Neighborhood_DOWNTOWN",
          "yref": "y"
         },
         {
          "font": {
           "color": "#FFFFFF"
          },
          "showarrow": false,
          "text": "-0.13",
          "x": "Neighborhood_LAKE UNION",
          "xref": "x",
          "y": "Neighborhood_DOWNTOWN",
          "yref": "y"
         },
         {
          "font": {
           "color": "#FFFFFF"
          },
          "showarrow": false,
          "text": "-0.17",
          "x": "Neighborhood_MAGNOLIA / QUEEN ANNE",
          "xref": "x",
          "y": "Neighborhood_DOWNTOWN",
          "yref": "y"
         },
         {
          "font": {
           "color": "#FFFFFF"
          },
          "showarrow": false,
          "text": "-0.11",
          "x": "Neighborhood_NORTH",
          "xref": "x",
          "y": "Neighborhood_DOWNTOWN",
          "yref": "y"
         },
         {
          "font": {
           "color": "#FFFFFF"
          },
          "showarrow": false,
          "text": "-0.13",
          "x": "Neighborhood_NORTHEAST",
          "xref": "x",
          "y": "Neighborhood_DOWNTOWN",
          "yref": "y"
         },
         {
          "font": {
           "color": "#FFFFFF"
          },
          "showarrow": false,
          "text": "-0.12",
          "x": "Neighborhood_NORTHWEST",
          "xref": "x",
          "y": "Neighborhood_DOWNTOWN",
          "yref": "y"
         },
         {
          "font": {
           "color": "#FFFFFF"
          },
          "showarrow": false,
          "text": "-0.08",
          "x": "Neighborhood_SOUTHEAST",
          "xref": "x",
          "y": "Neighborhood_DOWNTOWN",
          "yref": "y"
         },
         {
          "font": {
           "color": "#FFFFFF"
          },
          "showarrow": false,
          "text": "-0.1",
          "x": "Neighborhood_SOUTHWEST",
          "xref": "x",
          "y": "Neighborhood_DOWNTOWN",
          "yref": "y"
         },
         {
          "font": {
           "color": "#FFFFFF"
          },
          "showarrow": false,
          "text": "0.13",
          "x": "Age",
          "xref": "x",
          "y": "Neighborhood_DOWNTOWN",
          "yref": "y"
         },
         {
          "font": {
           "color": "#FFFFFF"
          },
          "showarrow": false,
          "text": "0.06",
          "x": "EnergyUse_Age_Ratio",
          "xref": "x",
          "y": "Neighborhood_DOWNTOWN",
          "yref": "y"
         },
         {
          "font": {
           "color": "#FFFFFF"
          },
          "showarrow": false,
          "text": "-0.2",
          "x": "BuildingType",
          "xref": "x",
          "y": "Neighborhood_EAST",
          "yref": "y"
         },
         {
          "font": {
           "color": "#FFFFFF"
          },
          "showarrow": false,
          "text": "-0.17",
          "x": "PrimaryPropertyType",
          "xref": "x",
          "y": "Neighborhood_EAST",
          "yref": "y"
         },
         {
          "font": {
           "color": "#FFFFFF"
          },
          "showarrow": false,
          "text": "-0.01",
          "x": "NumberofBuildings",
          "xref": "x",
          "y": "Neighborhood_EAST",
          "yref": "y"
         },
         {
          "font": {
           "color": "#FFFFFF"
          },
          "showarrow": false,
          "text": "0.07",
          "x": "NumberofFloors",
          "xref": "x",
          "y": "Neighborhood_EAST",
          "yref": "y"
         },
         {
          "font": {
           "color": "#FFFFFF"
          },
          "showarrow": false,
          "text": "-0.02",
          "x": "PropertyGFAParking",
          "xref": "x",
          "y": "Neighborhood_EAST",
          "yref": "y"
         },
         {
          "font": {
           "color": "#FFFFFF"
          },
          "showarrow": false,
          "text": "-0.01",
          "x": "SiteEUI(kBtu/sf)",
          "xref": "x",
          "y": "Neighborhood_EAST",
          "yref": "y"
         },
         {
          "font": {
           "color": "#FFFFFF"
          },
          "showarrow": false,
          "text": "0.0",
          "x": "SiteEUIWN(kBtu/sf)",
          "xref": "x",
          "y": "Neighborhood_EAST",
          "yref": "y"
         },
         {
          "font": {
           "color": "#FFFFFF"
          },
          "showarrow": false,
          "text": "-0.05",
          "x": "SourceEUI(kBtu/sf)",
          "xref": "x",
          "y": "Neighborhood_EAST",
          "yref": "y"
         },
         {
          "font": {
           "color": "#FFFFFF"
          },
          "showarrow": false,
          "text": "-0.04",
          "x": "SourceEUIWN(kBtu/sf)",
          "xref": "x",
          "y": "Neighborhood_EAST",
          "yref": "y"
         },
         {
          "font": {
           "color": "#FFFFFF"
          },
          "showarrow": false,
          "text": "0.01",
          "x": "SiteEnergyUse(kBtu)",
          "xref": "x",
          "y": "Neighborhood_EAST",
          "yref": "y"
         },
         {
          "font": {
           "color": "#FFFFFF"
          },
          "showarrow": false,
          "text": "0.01",
          "x": "SiteEnergyUseWN(kBtu)",
          "xref": "x",
          "y": "Neighborhood_EAST",
          "yref": "y"
         },
         {
          "font": {
           "color": "#FFFFFF"
          },
          "showarrow": false,
          "text": "0.08",
          "x": "SteamUse(kBtu)",
          "xref": "x",
          "y": "Neighborhood_EAST",
          "yref": "y"
         },
         {
          "font": {
           "color": "#FFFFFF"
          },
          "showarrow": false,
          "text": "-0.0",
          "x": "NaturalGas(therms)",
          "xref": "x",
          "y": "Neighborhood_EAST",
          "yref": "y"
         },
         {
          "font": {
           "color": "#FFFFFF"
          },
          "showarrow": false,
          "text": "-0.0",
          "x": "NaturalGas(kBtu)",
          "xref": "x",
          "y": "Neighborhood_EAST",
          "yref": "y"
         },
         {
          "font": {
           "color": "#FFFFFF"
          },
          "showarrow": false,
          "text": "0.04",
          "x": "TotalGHGEmissions",
          "xref": "x",
          "y": "Neighborhood_EAST",
          "yref": "y"
         },
         {
          "font": {
           "color": "#FFFFFF"
          },
          "showarrow": false,
          "text": "0.08",
          "x": "GHGEmissionsIntensity",
          "xref": "x",
          "y": "Neighborhood_EAST",
          "yref": "y"
         },
         {
          "font": {
           "color": "#FFFFFF"
          },
          "showarrow": false,
          "text": "-0.08",
          "x": "Neighborhood_BALLARD",
          "xref": "x",
          "y": "Neighborhood_EAST",
          "yref": "y"
         },
         {
          "font": {
           "color": "#FFFFFF"
          },
          "showarrow": false,
          "text": "-0.08",
          "x": "Neighborhood_CENTRAL",
          "xref": "x",
          "y": "Neighborhood_EAST",
          "yref": "y"
         },
         {
          "font": {
           "color": "#FFFFFF"
          },
          "showarrow": false,
          "text": "-0.07",
          "x": "Neighborhood_DELRIDGE",
          "xref": "x",
          "y": "Neighborhood_EAST",
          "yref": "y"
         },
         {
          "font": {
           "color": "#FFFFFF"
          },
          "showarrow": false,
          "text": "-0.18",
          "x": "Neighborhood_DOWNTOWN",
          "xref": "x",
          "y": "Neighborhood_EAST",
          "yref": "y"
         },
         {
          "font": {
           "color": "#000000"
          },
          "showarrow": false,
          "text": "1.0",
          "x": "Neighborhood_EAST",
          "xref": "x",
          "y": "Neighborhood_EAST",
          "yref": "y"
         },
         {
          "font": {
           "color": "#FFFFFF"
          },
          "showarrow": false,
          "text": "-0.13",
          "x": "Neighborhood_GREATER DUWAMISH",
          "xref": "x",
          "y": "Neighborhood_EAST",
          "yref": "y"
         },
         {
          "font": {
           "color": "#FFFFFF"
          },
          "showarrow": false,
          "text": "-0.12",
          "x": "Neighborhood_LAKE UNION",
          "xref": "x",
          "y": "Neighborhood_EAST",
          "yref": "y"
         },
         {
          "font": {
           "color": "#FFFFFF"
          },
          "showarrow": false,
          "text": "-0.16",
          "x": "Neighborhood_MAGNOLIA / QUEEN ANNE",
          "xref": "x",
          "y": "Neighborhood_EAST",
          "yref": "y"
         },
         {
          "font": {
           "color": "#FFFFFF"
          },
          "showarrow": false,
          "text": "-0.1",
          "x": "Neighborhood_NORTH",
          "xref": "x",
          "y": "Neighborhood_EAST",
          "yref": "y"
         },
         {
          "font": {
           "color": "#FFFFFF"
          },
          "showarrow": false,
          "text": "-0.13",
          "x": "Neighborhood_NORTHEAST",
          "xref": "x",
          "y": "Neighborhood_EAST",
          "yref": "y"
         },
         {
          "font": {
           "color": "#FFFFFF"
          },
          "showarrow": false,
          "text": "-0.11",
          "x": "Neighborhood_NORTHWEST",
          "xref": "x",
          "y": "Neighborhood_EAST",
          "yref": "y"
         },
         {
          "font": {
           "color": "#FFFFFF"
          },
          "showarrow": false,
          "text": "-0.07",
          "x": "Neighborhood_SOUTHEAST",
          "xref": "x",
          "y": "Neighborhood_EAST",
          "yref": "y"
         },
         {
          "font": {
           "color": "#FFFFFF"
          },
          "showarrow": false,
          "text": "-0.09",
          "x": "Neighborhood_SOUTHWEST",
          "xref": "x",
          "y": "Neighborhood_EAST",
          "yref": "y"
         },
         {
          "font": {
           "color": "#FFFFFF"
          },
          "showarrow": false,
          "text": "0.1",
          "x": "Age",
          "xref": "x",
          "y": "Neighborhood_EAST",
          "yref": "y"
         },
         {
          "font": {
           "color": "#FFFFFF"
          },
          "showarrow": false,
          "text": "-0.02",
          "x": "EnergyUse_Age_Ratio",
          "xref": "x",
          "y": "Neighborhood_EAST",
          "yref": "y"
         },
         {
          "font": {
           "color": "#FFFFFF"
          },
          "showarrow": false,
          "text": "0.31",
          "x": "BuildingType",
          "xref": "x",
          "y": "Neighborhood_GREATER DUWAMISH",
          "yref": "y"
         },
         {
          "font": {
           "color": "#000000"
          },
          "showarrow": false,
          "text": "0.44",
          "x": "PrimaryPropertyType",
          "xref": "x",
          "y": "Neighborhood_GREATER DUWAMISH",
          "yref": "y"
         },
         {
          "font": {
           "color": "#FFFFFF"
          },
          "showarrow": false,
          "text": "-0.04",
          "x": "NumberofBuildings",
          "xref": "x",
          "y": "Neighborhood_GREATER DUWAMISH",
          "yref": "y"
         },
         {
          "font": {
           "color": "#FFFFFF"
          },
          "showarrow": false,
          "text": "-0.27",
          "x": "NumberofFloors",
          "xref": "x",
          "y": "Neighborhood_GREATER DUWAMISH",
          "yref": "y"
         },
         {
          "font": {
           "color": "#FFFFFF"
          },
          "showarrow": false,
          "text": "-0.07",
          "x": "PropertyGFAParking",
          "xref": "x",
          "y": "Neighborhood_GREATER DUWAMISH",
          "yref": "y"
         },
         {
          "font": {
           "color": "#FFFFFF"
          },
          "showarrow": false,
          "text": "-0.03",
          "x": "SiteEUI(kBtu/sf)",
          "xref": "x",
          "y": "Neighborhood_GREATER DUWAMISH",
          "yref": "y"
         },
         {
          "font": {
           "color": "#FFFFFF"
          },
          "showarrow": false,
          "text": "-0.03",
          "x": "SiteEUIWN(kBtu/sf)",
          "xref": "x",
          "y": "Neighborhood_GREATER DUWAMISH",
          "yref": "y"
         },
         {
          "font": {
           "color": "#FFFFFF"
          },
          "showarrow": false,
          "text": "-0.04",
          "x": "SourceEUI(kBtu/sf)",
          "xref": "x",
          "y": "Neighborhood_GREATER DUWAMISH",
          "yref": "y"
         },
         {
          "font": {
           "color": "#FFFFFF"
          },
          "showarrow": false,
          "text": "-0.04",
          "x": "SourceEUIWN(kBtu/sf)",
          "xref": "x",
          "y": "Neighborhood_GREATER DUWAMISH",
          "yref": "y"
         },
         {
          "font": {
           "color": "#FFFFFF"
          },
          "showarrow": false,
          "text": "-0.01",
          "x": "SiteEnergyUse(kBtu)",
          "xref": "x",
          "y": "Neighborhood_GREATER DUWAMISH",
          "yref": "y"
         },
         {
          "font": {
           "color": "#FFFFFF"
          },
          "showarrow": false,
          "text": "-0.0",
          "x": "SiteEnergyUseWN(kBtu)",
          "xref": "x",
          "y": "Neighborhood_GREATER DUWAMISH",
          "yref": "y"
         },
         {
          "font": {
           "color": "#FFFFFF"
          },
          "showarrow": false,
          "text": "-0.02",
          "x": "SteamUse(kBtu)",
          "xref": "x",
          "y": "Neighborhood_GREATER DUWAMISH",
          "yref": "y"
         },
         {
          "font": {
           "color": "#FFFFFF"
          },
          "showarrow": false,
          "text": "0.03",
          "x": "NaturalGas(therms)",
          "xref": "x",
          "y": "Neighborhood_GREATER DUWAMISH",
          "yref": "y"
         },
         {
          "font": {
           "color": "#FFFFFF"
          },
          "showarrow": false,
          "text": "0.03",
          "x": "NaturalGas(kBtu)",
          "xref": "x",
          "y": "Neighborhood_GREATER DUWAMISH",
          "yref": "y"
         },
         {
          "font": {
           "color": "#FFFFFF"
          },
          "showarrow": false,
          "text": "0.01",
          "x": "TotalGHGEmissions",
          "xref": "x",
          "y": "Neighborhood_GREATER DUWAMISH",
          "yref": "y"
         },
         {
          "font": {
           "color": "#FFFFFF"
          },
          "showarrow": false,
          "text": "0.02",
          "x": "GHGEmissionsIntensity",
          "xref": "x",
          "y": "Neighborhood_GREATER DUWAMISH",
          "yref": "y"
         },
         {
          "font": {
           "color": "#FFFFFF"
          },
          "showarrow": false,
          "text": "-0.06",
          "x": "Neighborhood_BALLARD",
          "xref": "x",
          "y": "Neighborhood_GREATER DUWAMISH",
          "yref": "y"
         },
         {
          "font": {
           "color": "#FFFFFF"
          },
          "showarrow": false,
          "text": "-0.07",
          "x": "Neighborhood_CENTRAL",
          "xref": "x",
          "y": "Neighborhood_GREATER DUWAMISH",
          "yref": "y"
         },
         {
          "font": {
           "color": "#FFFFFF"
          },
          "showarrow": false,
          "text": "-0.05",
          "x": "Neighborhood_DELRIDGE",
          "xref": "x",
          "y": "Neighborhood_GREATER DUWAMISH",
          "yref": "y"
         },
         {
          "font": {
           "color": "#FFFFFF"
          },
          "showarrow": false,
          "text": "-0.14",
          "x": "Neighborhood_DOWNTOWN",
          "xref": "x",
          "y": "Neighborhood_GREATER DUWAMISH",
          "yref": "y"
         },
         {
          "font": {
           "color": "#FFFFFF"
          },
          "showarrow": false,
          "text": "-0.13",
          "x": "Neighborhood_EAST",
          "xref": "x",
          "y": "Neighborhood_GREATER DUWAMISH",
          "yref": "y"
         },
         {
          "font": {
           "color": "#000000"
          },
          "showarrow": false,
          "text": "1.0",
          "x": "Neighborhood_GREATER DUWAMISH",
          "xref": "x",
          "y": "Neighborhood_GREATER DUWAMISH",
          "yref": "y"
         },
         {
          "font": {
           "color": "#FFFFFF"
          },
          "showarrow": false,
          "text": "-0.09",
          "x": "Neighborhood_LAKE UNION",
          "xref": "x",
          "y": "Neighborhood_GREATER DUWAMISH",
          "yref": "y"
         },
         {
          "font": {
           "color": "#FFFFFF"
          },
          "showarrow": false,
          "text": "-0.12",
          "x": "Neighborhood_MAGNOLIA / QUEEN ANNE",
          "xref": "x",
          "y": "Neighborhood_GREATER DUWAMISH",
          "yref": "y"
         },
         {
          "font": {
           "color": "#FFFFFF"
          },
          "showarrow": false,
          "text": "-0.08",
          "x": "Neighborhood_NORTH",
          "xref": "x",
          "y": "Neighborhood_GREATER DUWAMISH",
          "yref": "y"
         },
         {
          "font": {
           "color": "#FFFFFF"
          },
          "showarrow": false,
          "text": "-0.1",
          "x": "Neighborhood_NORTHEAST",
          "xref": "x",
          "y": "Neighborhood_GREATER DUWAMISH",
          "yref": "y"
         },
         {
          "font": {
           "color": "#FFFFFF"
          },
          "showarrow": false,
          "text": "-0.09",
          "x": "Neighborhood_NORTHWEST",
          "xref": "x",
          "y": "Neighborhood_GREATER DUWAMISH",
          "yref": "y"
         },
         {
          "font": {
           "color": "#FFFFFF"
          },
          "showarrow": false,
          "text": "-0.06",
          "x": "Neighborhood_SOUTHEAST",
          "xref": "x",
          "y": "Neighborhood_GREATER DUWAMISH",
          "yref": "y"
         },
         {
          "font": {
           "color": "#FFFFFF"
          },
          "showarrow": false,
          "text": "-0.07",
          "x": "Neighborhood_SOUTHWEST",
          "xref": "x",
          "y": "Neighborhood_GREATER DUWAMISH",
          "yref": "y"
         },
         {
          "font": {
           "color": "#FFFFFF"
          },
          "showarrow": false,
          "text": "0.09",
          "x": "Age",
          "xref": "x",
          "y": "Neighborhood_GREATER DUWAMISH",
          "yref": "y"
         },
         {
          "font": {
           "color": "#FFFFFF"
          },
          "showarrow": false,
          "text": "-0.05",
          "x": "EnergyUse_Age_Ratio",
          "xref": "x",
          "y": "Neighborhood_GREATER DUWAMISH",
          "yref": "y"
         },
         {
          "font": {
           "color": "#FFFFFF"
          },
          "showarrow": false,
          "text": "0.06",
          "x": "BuildingType",
          "xref": "x",
          "y": "Neighborhood_LAKE UNION",
          "yref": "y"
         },
         {
          "font": {
           "color": "#FFFFFF"
          },
          "showarrow": false,
          "text": "-0.01",
          "x": "PrimaryPropertyType",
          "xref": "x",
          "y": "Neighborhood_LAKE UNION",
          "yref": "y"
         },
         {
          "font": {
           "color": "#FFFFFF"
          },
          "showarrow": false,
          "text": "-0.0",
          "x": "NumberofBuildings",
          "xref": "x",
          "y": "Neighborhood_LAKE UNION",
          "yref": "y"
         },
         {
          "font": {
           "color": "#FFFFFF"
          },
          "showarrow": false,
          "text": "0.04",
          "x": "NumberofFloors",
          "xref": "x",
          "y": "Neighborhood_LAKE UNION",
          "yref": "y"
         },
         {
          "font": {
           "color": "#FFFFFF"
          },
          "showarrow": false,
          "text": "0.1",
          "x": "PropertyGFAParking",
          "xref": "x",
          "y": "Neighborhood_LAKE UNION",
          "yref": "y"
         },
         {
          "font": {
           "color": "#FFFFFF"
          },
          "showarrow": false,
          "text": "0.02",
          "x": "SiteEUI(kBtu/sf)",
          "xref": "x",
          "y": "Neighborhood_LAKE UNION",
          "yref": "y"
         },
         {
          "font": {
           "color": "#FFFFFF"
          },
          "showarrow": false,
          "text": "0.02",
          "x": "SiteEUIWN(kBtu/sf)",
          "xref": "x",
          "y": "Neighborhood_LAKE UNION",
          "yref": "y"
         },
         {
          "font": {
           "color": "#FFFFFF"
          },
          "showarrow": false,
          "text": "0.04",
          "x": "SourceEUI(kBtu/sf)",
          "xref": "x",
          "y": "Neighborhood_LAKE UNION",
          "yref": "y"
         },
         {
          "font": {
           "color": "#FFFFFF"
          },
          "showarrow": false,
          "text": "0.04",
          "x": "SourceEUIWN(kBtu/sf)",
          "xref": "x",
          "y": "Neighborhood_LAKE UNION",
          "yref": "y"
         },
         {
          "font": {
           "color": "#FFFFFF"
          },
          "showarrow": false,
          "text": "0.0",
          "x": "SiteEnergyUse(kBtu)",
          "xref": "x",
          "y": "Neighborhood_LAKE UNION",
          "yref": "y"
         },
         {
          "font": {
           "color": "#FFFFFF"
          },
          "showarrow": false,
          "text": "0.0",
          "x": "SiteEnergyUseWN(kBtu)",
          "xref": "x",
          "y": "Neighborhood_LAKE UNION",
          "yref": "y"
         },
         {
          "font": {
           "color": "#FFFFFF"
          },
          "showarrow": false,
          "text": "-0.02",
          "x": "SteamUse(kBtu)",
          "xref": "x",
          "y": "Neighborhood_LAKE UNION",
          "yref": "y"
         },
         {
          "font": {
           "color": "#FFFFFF"
          },
          "showarrow": false,
          "text": "-0.01",
          "x": "NaturalGas(therms)",
          "xref": "x",
          "y": "Neighborhood_LAKE UNION",
          "yref": "y"
         },
         {
          "font": {
           "color": "#FFFFFF"
          },
          "showarrow": false,
          "text": "-0.01",
          "x": "NaturalGas(kBtu)",
          "xref": "x",
          "y": "Neighborhood_LAKE UNION",
          "yref": "y"
         },
         {
          "font": {
           "color": "#FFFFFF"
          },
          "showarrow": false,
          "text": "-0.01",
          "x": "TotalGHGEmissions",
          "xref": "x",
          "y": "Neighborhood_LAKE UNION",
          "yref": "y"
         },
         {
          "font": {
           "color": "#FFFFFF"
          },
          "showarrow": false,
          "text": "-0.04",
          "x": "GHGEmissionsIntensity",
          "xref": "x",
          "y": "Neighborhood_LAKE UNION",
          "yref": "y"
         },
         {
          "font": {
           "color": "#FFFFFF"
          },
          "showarrow": false,
          "text": "-0.06",
          "x": "Neighborhood_BALLARD",
          "xref": "x",
          "y": "Neighborhood_LAKE UNION",
          "yref": "y"
         },
         {
          "font": {
           "color": "#FFFFFF"
          },
          "showarrow": false,
          "text": "-0.06",
          "x": "Neighborhood_CENTRAL",
          "xref": "x",
          "y": "Neighborhood_LAKE UNION",
          "yref": "y"
         },
         {
          "font": {
           "color": "#FFFFFF"
          },
          "showarrow": false,
          "text": "-0.05",
          "x": "Neighborhood_DELRIDGE",
          "xref": "x",
          "y": "Neighborhood_LAKE UNION",
          "yref": "y"
         },
         {
          "font": {
           "color": "#FFFFFF"
          },
          "showarrow": false,
          "text": "-0.13",
          "x": "Neighborhood_DOWNTOWN",
          "xref": "x",
          "y": "Neighborhood_LAKE UNION",
          "yref": "y"
         },
         {
          "font": {
           "color": "#FFFFFF"
          },
          "showarrow": false,
          "text": "-0.12",
          "x": "Neighborhood_EAST",
          "xref": "x",
          "y": "Neighborhood_LAKE UNION",
          "yref": "y"
         },
         {
          "font": {
           "color": "#FFFFFF"
          },
          "showarrow": false,
          "text": "-0.09",
          "x": "Neighborhood_GREATER DUWAMISH",
          "xref": "x",
          "y": "Neighborhood_LAKE UNION",
          "yref": "y"
         },
         {
          "font": {
           "color": "#000000"
          },
          "showarrow": false,
          "text": "1.0",
          "x": "Neighborhood_LAKE UNION",
          "xref": "x",
          "y": "Neighborhood_LAKE UNION",
          "yref": "y"
         },
         {
          "font": {
           "color": "#FFFFFF"
          },
          "showarrow": false,
          "text": "-0.11",
          "x": "Neighborhood_MAGNOLIA / QUEEN ANNE",
          "xref": "x",
          "y": "Neighborhood_LAKE UNION",
          "yref": "y"
         },
         {
          "font": {
           "color": "#FFFFFF"
          },
          "showarrow": false,
          "text": "-0.07",
          "x": "Neighborhood_NORTH",
          "xref": "x",
          "y": "Neighborhood_LAKE UNION",
          "yref": "y"
         },
         {
          "font": {
           "color": "#FFFFFF"
          },
          "showarrow": false,
          "text": "-0.09",
          "x": "Neighborhood_NORTHEAST",
          "xref": "x",
          "y": "Neighborhood_LAKE UNION",
          "yref": "y"
         },
         {
          "font": {
           "color": "#FFFFFF"
          },
          "showarrow": false,
          "text": "-0.08",
          "x": "Neighborhood_NORTHWEST",
          "xref": "x",
          "y": "Neighborhood_LAKE UNION",
          "yref": "y"
         },
         {
          "font": {
           "color": "#FFFFFF"
          },
          "showarrow": false,
          "text": "-0.05",
          "x": "Neighborhood_SOUTHEAST",
          "xref": "x",
          "y": "Neighborhood_LAKE UNION",
          "yref": "y"
         },
         {
          "font": {
           "color": "#FFFFFF"
          },
          "showarrow": false,
          "text": "-0.07",
          "x": "Neighborhood_SOUTHWEST",
          "xref": "x",
          "y": "Neighborhood_LAKE UNION",
          "yref": "y"
         },
         {
          "font": {
           "color": "#FFFFFF"
          },
          "showarrow": false,
          "text": "-0.17",
          "x": "Age",
          "xref": "x",
          "y": "Neighborhood_LAKE UNION",
          "yref": "y"
         },
         {
          "font": {
           "color": "#FFFFFF"
          },
          "showarrow": false,
          "text": "0.06",
          "x": "EnergyUse_Age_Ratio",
          "xref": "x",
          "y": "Neighborhood_LAKE UNION",
          "yref": "y"
         },
         {
          "font": {
           "color": "#FFFFFF"
          },
          "showarrow": false,
          "text": "-0.11",
          "x": "BuildingType",
          "xref": "x",
          "y": "Neighborhood_MAGNOLIA / QUEEN ANNE",
          "yref": "y"
         },
         {
          "font": {
           "color": "#FFFFFF"
          },
          "showarrow": false,
          "text": "-0.1",
          "x": "PrimaryPropertyType",
          "xref": "x",
          "y": "Neighborhood_MAGNOLIA / QUEEN ANNE",
          "yref": "y"
         },
         {
          "font": {
           "color": "#FFFFFF"
          },
          "showarrow": false,
          "text": "-0.01",
          "x": "NumberofBuildings",
          "xref": "x",
          "y": "Neighborhood_MAGNOLIA / QUEEN ANNE",
          "yref": "y"
         },
         {
          "font": {
           "color": "#FFFFFF"
          },
          "showarrow": false,
          "text": "0.03",
          "x": "NumberofFloors",
          "xref": "x",
          "y": "Neighborhood_MAGNOLIA / QUEEN ANNE",
          "yref": "y"
         },
         {
          "font": {
           "color": "#FFFFFF"
          },
          "showarrow": false,
          "text": "-0.02",
          "x": "PropertyGFAParking",
          "xref": "x",
          "y": "Neighborhood_MAGNOLIA / QUEEN ANNE",
          "yref": "y"
         },
         {
          "font": {
           "color": "#FFFFFF"
          },
          "showarrow": false,
          "text": "-0.03",
          "x": "SiteEUI(kBtu/sf)",
          "xref": "x",
          "y": "Neighborhood_MAGNOLIA / QUEEN ANNE",
          "yref": "y"
         },
         {
          "font": {
           "color": "#FFFFFF"
          },
          "showarrow": false,
          "text": "-0.03",
          "x": "SiteEUIWN(kBtu/sf)",
          "xref": "x",
          "y": "Neighborhood_MAGNOLIA / QUEEN ANNE",
          "yref": "y"
         },
         {
          "font": {
           "color": "#FFFFFF"
          },
          "showarrow": false,
          "text": "-0.03",
          "x": "SourceEUI(kBtu/sf)",
          "xref": "x",
          "y": "Neighborhood_MAGNOLIA / QUEEN ANNE",
          "yref": "y"
         },
         {
          "font": {
           "color": "#FFFFFF"
          },
          "showarrow": false,
          "text": "-0.03",
          "x": "SourceEUIWN(kBtu/sf)",
          "xref": "x",
          "y": "Neighborhood_MAGNOLIA / QUEEN ANNE",
          "yref": "y"
         },
         {
          "font": {
           "color": "#FFFFFF"
          },
          "showarrow": false,
          "text": "-0.05",
          "x": "SiteEnergyUse(kBtu)",
          "xref": "x",
          "y": "Neighborhood_MAGNOLIA / QUEEN ANNE",
          "yref": "y"
         },
         {
          "font": {
           "color": "#FFFFFF"
          },
          "showarrow": false,
          "text": "-0.05",
          "x": "SiteEnergyUseWN(kBtu)",
          "xref": "x",
          "y": "Neighborhood_MAGNOLIA / QUEEN ANNE",
          "yref": "y"
         },
         {
          "font": {
           "color": "#FFFFFF"
          },
          "showarrow": false,
          "text": "-0.02",
          "x": "SteamUse(kBtu)",
          "xref": "x",
          "y": "Neighborhood_MAGNOLIA / QUEEN ANNE",
          "yref": "y"
         },
         {
          "font": {
           "color": "#FFFFFF"
          },
          "showarrow": false,
          "text": "-0.03",
          "x": "NaturalGas(therms)",
          "xref": "x",
          "y": "Neighborhood_MAGNOLIA / QUEEN ANNE",
          "yref": "y"
         },
         {
          "font": {
           "color": "#FFFFFF"
          },
          "showarrow": false,
          "text": "-0.03",
          "x": "NaturalGas(kBtu)",
          "xref": "x",
          "y": "Neighborhood_MAGNOLIA / QUEEN ANNE",
          "yref": "y"
         },
         {
          "font": {
           "color": "#FFFFFF"
          },
          "showarrow": false,
          "text": "-0.04",
          "x": "TotalGHGEmissions",
          "xref": "x",
          "y": "Neighborhood_MAGNOLIA / QUEEN ANNE",
          "yref": "y"
         },
         {
          "font": {
           "color": "#FFFFFF"
          },
          "showarrow": false,
          "text": "-0.04",
          "x": "GHGEmissionsIntensity",
          "xref": "x",
          "y": "Neighborhood_MAGNOLIA / QUEEN ANNE",
          "yref": "y"
         },
         {
          "font": {
           "color": "#FFFFFF"
          },
          "showarrow": false,
          "text": "-0.08",
          "x": "Neighborhood_BALLARD",
          "xref": "x",
          "y": "Neighborhood_MAGNOLIA / QUEEN ANNE",
          "yref": "y"
         },
         {
          "font": {
           "color": "#FFFFFF"
          },
          "showarrow": false,
          "text": "-0.08",
          "x": "Neighborhood_CENTRAL",
          "xref": "x",
          "y": "Neighborhood_MAGNOLIA / QUEEN ANNE",
          "yref": "y"
         },
         {
          "font": {
           "color": "#FFFFFF"
          },
          "showarrow": false,
          "text": "-0.06",
          "x": "Neighborhood_DELRIDGE",
          "xref": "x",
          "y": "Neighborhood_MAGNOLIA / QUEEN ANNE",
          "yref": "y"
         },
         {
          "font": {
           "color": "#FFFFFF"
          },
          "showarrow": false,
          "text": "-0.17",
          "x": "Neighborhood_DOWNTOWN",
          "xref": "x",
          "y": "Neighborhood_MAGNOLIA / QUEEN ANNE",
          "yref": "y"
         },
         {
          "font": {
           "color": "#FFFFFF"
          },
          "showarrow": false,
          "text": "-0.16",
          "x": "Neighborhood_EAST",
          "xref": "x",
          "y": "Neighborhood_MAGNOLIA / QUEEN ANNE",
          "yref": "y"
         },
         {
          "font": {
           "color": "#FFFFFF"
          },
          "showarrow": false,
          "text": "-0.12",
          "x": "Neighborhood_GREATER DUWAMISH",
          "xref": "x",
          "y": "Neighborhood_MAGNOLIA / QUEEN ANNE",
          "yref": "y"
         },
         {
          "font": {
           "color": "#FFFFFF"
          },
          "showarrow": false,
          "text": "-0.11",
          "x": "Neighborhood_LAKE UNION",
          "xref": "x",
          "y": "Neighborhood_MAGNOLIA / QUEEN ANNE",
          "yref": "y"
         },
         {
          "font": {
           "color": "#000000"
          },
          "showarrow": false,
          "text": "1.0",
          "x": "Neighborhood_MAGNOLIA / QUEEN ANNE",
          "xref": "x",
          "y": "Neighborhood_MAGNOLIA / QUEEN ANNE",
          "yref": "y"
         },
         {
          "font": {
           "color": "#FFFFFF"
          },
          "showarrow": false,
          "text": "-0.09",
          "x": "Neighborhood_NORTH",
          "xref": "x",
          "y": "Neighborhood_MAGNOLIA / QUEEN ANNE",
          "yref": "y"
         },
         {
          "font": {
           "color": "#FFFFFF"
          },
          "showarrow": false,
          "text": "-0.12",
          "x": "Neighborhood_NORTHEAST",
          "xref": "x",
          "y": "Neighborhood_MAGNOLIA / QUEEN ANNE",
          "yref": "y"
         },
         {
          "font": {
           "color": "#FFFFFF"
          },
          "showarrow": false,
          "text": "-0.1",
          "x": "Neighborhood_NORTHWEST",
          "xref": "x",
          "y": "Neighborhood_MAGNOLIA / QUEEN ANNE",
          "yref": "y"
         },
         {
          "font": {
           "color": "#FFFFFF"
          },
          "showarrow": false,
          "text": "-0.07",
          "x": "Neighborhood_SOUTHEAST",
          "xref": "x",
          "y": "Neighborhood_MAGNOLIA / QUEEN ANNE",
          "yref": "y"
         },
         {
          "font": {
           "color": "#FFFFFF"
          },
          "showarrow": false,
          "text": "-0.09",
          "x": "Neighborhood_SOUTHWEST",
          "xref": "x",
          "y": "Neighborhood_MAGNOLIA / QUEEN ANNE",
          "yref": "y"
         },
         {
          "font": {
           "color": "#FFFFFF"
          },
          "showarrow": false,
          "text": "-0.02",
          "x": "Age",
          "xref": "x",
          "y": "Neighborhood_MAGNOLIA / QUEEN ANNE",
          "yref": "y"
         },
         {
          "font": {
           "color": "#FFFFFF"
          },
          "showarrow": false,
          "text": "-0.03",
          "x": "EnergyUse_Age_Ratio",
          "xref": "x",
          "y": "Neighborhood_MAGNOLIA / QUEEN ANNE",
          "yref": "y"
         },
         {
          "font": {
           "color": "#FFFFFF"
          },
          "showarrow": false,
          "text": "-0.07",
          "x": "BuildingType",
          "xref": "x",
          "y": "Neighborhood_NORTH",
          "yref": "y"
         },
         {
          "font": {
           "color": "#FFFFFF"
          },
          "showarrow": false,
          "text": "-0.07",
          "x": "PrimaryPropertyType",
          "xref": "x",
          "y": "Neighborhood_NORTH",
          "yref": "y"
         },
         {
          "font": {
           "color": "#FFFFFF"
          },
          "showarrow": false,
          "text": "0.01",
          "x": "NumberofBuildings",
          "xref": "x",
          "y": "Neighborhood_NORTH",
          "yref": "y"
         },
         {
          "font": {
           "color": "#FFFFFF"
          },
          "showarrow": false,
          "text": "-0.03",
          "x": "NumberofFloors",
          "xref": "x",
          "y": "Neighborhood_NORTH",
          "yref": "y"
         },
         {
          "font": {
           "color": "#FFFFFF"
          },
          "showarrow": false,
          "text": "-0.04",
          "x": "PropertyGFAParking",
          "xref": "x",
          "y": "Neighborhood_NORTH",
          "yref": "y"
         },
         {
          "font": {
           "color": "#FFFFFF"
          },
          "showarrow": false,
          "text": "-0.04",
          "x": "SiteEUI(kBtu/sf)",
          "xref": "x",
          "y": "Neighborhood_NORTH",
          "yref": "y"
         },
         {
          "font": {
           "color": "#FFFFFF"
          },
          "showarrow": false,
          "text": "-0.04",
          "x": "SiteEUIWN(kBtu/sf)",
          "xref": "x",
          "y": "Neighborhood_NORTH",
          "yref": "y"
         },
         {
          "font": {
           "color": "#FFFFFF"
          },
          "showarrow": false,
          "text": "-0.02",
          "x": "SourceEUI(kBtu/sf)",
          "xref": "x",
          "y": "Neighborhood_NORTH",
          "yref": "y"
         },
         {
          "font": {
           "color": "#FFFFFF"
          },
          "showarrow": false,
          "text": "-0.02",
          "x": "SourceEUIWN(kBtu/sf)",
          "xref": "x",
          "y": "Neighborhood_NORTH",
          "yref": "y"
         },
         {
          "font": {
           "color": "#FFFFFF"
          },
          "showarrow": false,
          "text": "-0.03",
          "x": "SiteEnergyUse(kBtu)",
          "xref": "x",
          "y": "Neighborhood_NORTH",
          "yref": "y"
         },
         {
          "font": {
           "color": "#FFFFFF"
          },
          "showarrow": false,
          "text": "-0.03",
          "x": "SiteEnergyUseWN(kBtu)",
          "xref": "x",
          "y": "Neighborhood_NORTH",
          "yref": "y"
         },
         {
          "font": {
           "color": "#FFFFFF"
          },
          "showarrow": false,
          "text": "-0.02",
          "x": "SteamUse(kBtu)",
          "xref": "x",
          "y": "Neighborhood_NORTH",
          "yref": "y"
         },
         {
          "font": {
           "color": "#FFFFFF"
          },
          "showarrow": false,
          "text": "-0.02",
          "x": "NaturalGas(therms)",
          "xref": "x",
          "y": "Neighborhood_NORTH",
          "yref": "y"
         },
         {
          "font": {
           "color": "#FFFFFF"
          },
          "showarrow": false,
          "text": "-0.02",
          "x": "NaturalGas(kBtu)",
          "xref": "x",
          "y": "Neighborhood_NORTH",
          "yref": "y"
         },
         {
          "font": {
           "color": "#FFFFFF"
          },
          "showarrow": false,
          "text": "-0.03",
          "x": "TotalGHGEmissions",
          "xref": "x",
          "y": "Neighborhood_NORTH",
          "yref": "y"
         },
         {
          "font": {
           "color": "#FFFFFF"
          },
          "showarrow": false,
          "text": "-0.06",
          "x": "GHGEmissionsIntensity",
          "xref": "x",
          "y": "Neighborhood_NORTH",
          "yref": "y"
         },
         {
          "font": {
           "color": "#FFFFFF"
          },
          "showarrow": false,
          "text": "-0.05",
          "x": "Neighborhood_BALLARD",
          "xref": "x",
          "y": "Neighborhood_NORTH",
          "yref": "y"
         },
         {
          "font": {
           "color": "#FFFFFF"
          },
          "showarrow": false,
          "text": "-0.05",
          "x": "Neighborhood_CENTRAL",
          "xref": "x",
          "y": "Neighborhood_NORTH",
          "yref": "y"
         },
         {
          "font": {
           "color": "#FFFFFF"
          },
          "showarrow": false,
          "text": "-0.04",
          "x": "Neighborhood_DELRIDGE",
          "xref": "x",
          "y": "Neighborhood_NORTH",
          "yref": "y"
         },
         {
          "font": {
           "color": "#FFFFFF"
          },
          "showarrow": false,
          "text": "-0.11",
          "x": "Neighborhood_DOWNTOWN",
          "xref": "x",
          "y": "Neighborhood_NORTH",
          "yref": "y"
         },
         {
          "font": {
           "color": "#FFFFFF"
          },
          "showarrow": false,
          "text": "-0.1",
          "x": "Neighborhood_EAST",
          "xref": "x",
          "y": "Neighborhood_NORTH",
          "yref": "y"
         },
         {
          "font": {
           "color": "#FFFFFF"
          },
          "showarrow": false,
          "text": "-0.08",
          "x": "Neighborhood_GREATER DUWAMISH",
          "xref": "x",
          "y": "Neighborhood_NORTH",
          "yref": "y"
         },
         {
          "font": {
           "color": "#FFFFFF"
          },
          "showarrow": false,
          "text": "-0.07",
          "x": "Neighborhood_LAKE UNION",
          "xref": "x",
          "y": "Neighborhood_NORTH",
          "yref": "y"
         },
         {
          "font": {
           "color": "#FFFFFF"
          },
          "showarrow": false,
          "text": "-0.09",
          "x": "Neighborhood_MAGNOLIA / QUEEN ANNE",
          "xref": "x",
          "y": "Neighborhood_NORTH",
          "yref": "y"
         },
         {
          "font": {
           "color": "#000000"
          },
          "showarrow": false,
          "text": "1.0",
          "x": "Neighborhood_NORTH",
          "xref": "x",
          "y": "Neighborhood_NORTH",
          "yref": "y"
         },
         {
          "font": {
           "color": "#FFFFFF"
          },
          "showarrow": false,
          "text": "-0.07",
          "x": "Neighborhood_NORTHEAST",
          "xref": "x",
          "y": "Neighborhood_NORTH",
          "yref": "y"
         },
         {
          "font": {
           "color": "#FFFFFF"
          },
          "showarrow": false,
          "text": "-0.07",
          "x": "Neighborhood_NORTHWEST",
          "xref": "x",
          "y": "Neighborhood_NORTH",
          "yref": "y"
         },
         {
          "font": {
           "color": "#FFFFFF"
          },
          "showarrow": false,
          "text": "-0.04",
          "x": "Neighborhood_SOUTHEAST",
          "xref": "x",
          "y": "Neighborhood_NORTH",
          "yref": "y"
         },
         {
          "font": {
           "color": "#FFFFFF"
          },
          "showarrow": false,
          "text": "-0.05",
          "x": "Neighborhood_SOUTHWEST",
          "xref": "x",
          "y": "Neighborhood_NORTH",
          "yref": "y"
         },
         {
          "font": {
           "color": "#FFFFFF"
          },
          "showarrow": false,
          "text": "-0.03",
          "x": "Age",
          "xref": "x",
          "y": "Neighborhood_NORTH",
          "yref": "y"
         },
         {
          "font": {
           "color": "#FFFFFF"
          },
          "showarrow": false,
          "text": "-0.03",
          "x": "EnergyUse_Age_Ratio",
          "xref": "x",
          "y": "Neighborhood_NORTH",
          "yref": "y"
         },
         {
          "font": {
           "color": "#FFFFFF"
          },
          "showarrow": false,
          "text": "-0.01",
          "x": "BuildingType",
          "xref": "x",
          "y": "Neighborhood_NORTHEAST",
          "yref": "y"
         },
         {
          "font": {
           "color": "#FFFFFF"
          },
          "showarrow": false,
          "text": "-0.01",
          "x": "PrimaryPropertyType",
          "xref": "x",
          "y": "Neighborhood_NORTHEAST",
          "yref": "y"
         },
         {
          "font": {
           "color": "#FFFFFF"
          },
          "showarrow": false,
          "text": "0.05",
          "x": "NumberofBuildings",
          "xref": "x",
          "y": "Neighborhood_NORTHEAST",
          "yref": "y"
         },
         {
          "font": {
           "color": "#FFFFFF"
          },
          "showarrow": false,
          "text": "-0.12",
          "x": "NumberofFloors",
          "xref": "x",
          "y": "Neighborhood_NORTHEAST",
          "yref": "y"
         },
         {
          "font": {
           "color": "#FFFFFF"
          },
          "showarrow": false,
          "text": "-0.04",
          "x": "PropertyGFAParking",
          "xref": "x",
          "y": "Neighborhood_NORTHEAST",
          "yref": "y"
         },
         {
          "font": {
           "color": "#FFFFFF"
          },
          "showarrow": false,
          "text": "0.05",
          "x": "SiteEUI(kBtu/sf)",
          "xref": "x",
          "y": "Neighborhood_NORTHEAST",
          "yref": "y"
         },
         {
          "font": {
           "color": "#FFFFFF"
          },
          "showarrow": false,
          "text": "0.05",
          "x": "SiteEUIWN(kBtu/sf)",
          "xref": "x",
          "y": "Neighborhood_NORTHEAST",
          "yref": "y"
         },
         {
          "font": {
           "color": "#FFFFFF"
          },
          "showarrow": false,
          "text": "0.05",
          "x": "SourceEUI(kBtu/sf)",
          "xref": "x",
          "y": "Neighborhood_NORTHEAST",
          "yref": "y"
         },
         {
          "font": {
           "color": "#FFFFFF"
          },
          "showarrow": false,
          "text": "0.06",
          "x": "SourceEUIWN(kBtu/sf)",
          "xref": "x",
          "y": "Neighborhood_NORTHEAST",
          "yref": "y"
         },
         {
          "font": {
           "color": "#FFFFFF"
          },
          "showarrow": false,
          "text": "-0.01",
          "x": "SiteEnergyUse(kBtu)",
          "xref": "x",
          "y": "Neighborhood_NORTHEAST",
          "yref": "y"
         },
         {
          "font": {
           "color": "#FFFFFF"
          },
          "showarrow": false,
          "text": "-0.01",
          "x": "SiteEnergyUseWN(kBtu)",
          "xref": "x",
          "y": "Neighborhood_NORTHEAST",
          "yref": "y"
         },
         {
          "font": {
           "color": "#FFFFFF"
          },
          "showarrow": false,
          "text": "-0.02",
          "x": "SteamUse(kBtu)",
          "xref": "x",
          "y": "Neighborhood_NORTHEAST",
          "yref": "y"
         },
         {
          "font": {
           "color": "#FFFFFF"
          },
          "showarrow": false,
          "text": "0.01",
          "x": "NaturalGas(therms)",
          "xref": "x",
          "y": "Neighborhood_NORTHEAST",
          "yref": "y"
         },
         {
          "font": {
           "color": "#FFFFFF"
          },
          "showarrow": false,
          "text": "0.01",
          "x": "NaturalGas(kBtu)",
          "xref": "x",
          "y": "Neighborhood_NORTHEAST",
          "yref": "y"
         },
         {
          "font": {
           "color": "#FFFFFF"
          },
          "showarrow": false,
          "text": "-0.0",
          "x": "TotalGHGEmissions",
          "xref": "x",
          "y": "Neighborhood_NORTHEAST",
          "yref": "y"
         },
         {
          "font": {
           "color": "#FFFFFF"
          },
          "showarrow": false,
          "text": "0.02",
          "x": "GHGEmissionsIntensity",
          "xref": "x",
          "y": "Neighborhood_NORTHEAST",
          "yref": "y"
         },
         {
          "font": {
           "color": "#FFFFFF"
          },
          "showarrow": false,
          "text": "-0.06",
          "x": "Neighborhood_BALLARD",
          "xref": "x",
          "y": "Neighborhood_NORTHEAST",
          "yref": "y"
         },
         {
          "font": {
           "color": "#FFFFFF"
          },
          "showarrow": false,
          "text": "-0.06",
          "x": "Neighborhood_CENTRAL",
          "xref": "x",
          "y": "Neighborhood_NORTHEAST",
          "yref": "y"
         },
         {
          "font": {
           "color": "#FFFFFF"
          },
          "showarrow": false,
          "text": "-0.05",
          "x": "Neighborhood_DELRIDGE",
          "xref": "x",
          "y": "Neighborhood_NORTHEAST",
          "yref": "y"
         },
         {
          "font": {
           "color": "#FFFFFF"
          },
          "showarrow": false,
          "text": "-0.13",
          "x": "Neighborhood_DOWNTOWN",
          "xref": "x",
          "y": "Neighborhood_NORTHEAST",
          "yref": "y"
         },
         {
          "font": {
           "color": "#FFFFFF"
          },
          "showarrow": false,
          "text": "-0.13",
          "x": "Neighborhood_EAST",
          "xref": "x",
          "y": "Neighborhood_NORTHEAST",
          "yref": "y"
         },
         {
          "font": {
           "color": "#FFFFFF"
          },
          "showarrow": false,
          "text": "-0.1",
          "x": "Neighborhood_GREATER DUWAMISH",
          "xref": "x",
          "y": "Neighborhood_NORTHEAST",
          "yref": "y"
         },
         {
          "font": {
           "color": "#FFFFFF"
          },
          "showarrow": false,
          "text": "-0.09",
          "x": "Neighborhood_LAKE UNION",
          "xref": "x",
          "y": "Neighborhood_NORTHEAST",
          "yref": "y"
         },
         {
          "font": {
           "color": "#FFFFFF"
          },
          "showarrow": false,
          "text": "-0.12",
          "x": "Neighborhood_MAGNOLIA / QUEEN ANNE",
          "xref": "x",
          "y": "Neighborhood_NORTHEAST",
          "yref": "y"
         },
         {
          "font": {
           "color": "#FFFFFF"
          },
          "showarrow": false,
          "text": "-0.07",
          "x": "Neighborhood_NORTH",
          "xref": "x",
          "y": "Neighborhood_NORTHEAST",
          "yref": "y"
         },
         {
          "font": {
           "color": "#000000"
          },
          "showarrow": false,
          "text": "1.0",
          "x": "Neighborhood_NORTHEAST",
          "xref": "x",
          "y": "Neighborhood_NORTHEAST",
          "yref": "y"
         },
         {
          "font": {
           "color": "#FFFFFF"
          },
          "showarrow": false,
          "text": "-0.08",
          "x": "Neighborhood_NORTHWEST",
          "xref": "x",
          "y": "Neighborhood_NORTHEAST",
          "yref": "y"
         },
         {
          "font": {
           "color": "#FFFFFF"
          },
          "showarrow": false,
          "text": "-0.05",
          "x": "Neighborhood_SOUTHEAST",
          "xref": "x",
          "y": "Neighborhood_NORTHEAST",
          "yref": "y"
         },
         {
          "font": {
           "color": "#FFFFFF"
          },
          "showarrow": false,
          "text": "-0.07",
          "x": "Neighborhood_SOUTHWEST",
          "xref": "x",
          "y": "Neighborhood_NORTHEAST",
          "yref": "y"
         },
         {
          "font": {
           "color": "#FFFFFF"
          },
          "showarrow": false,
          "text": "-0.03",
          "x": "Age",
          "xref": "x",
          "y": "Neighborhood_NORTHEAST",
          "yref": "y"
         },
         {
          "font": {
           "color": "#FFFFFF"
          },
          "showarrow": false,
          "text": "0.05",
          "x": "EnergyUse_Age_Ratio",
          "xref": "x",
          "y": "Neighborhood_NORTHEAST",
          "yref": "y"
         },
         {
          "font": {
           "color": "#FFFFFF"
          },
          "showarrow": false,
          "text": "-0.04",
          "x": "BuildingType",
          "xref": "x",
          "y": "Neighborhood_NORTHWEST",
          "yref": "y"
         },
         {
          "font": {
           "color": "#FFFFFF"
          },
          "showarrow": false,
          "text": "-0.02",
          "x": "PrimaryPropertyType",
          "xref": "x",
          "y": "Neighborhood_NORTHWEST",
          "yref": "y"
         },
         {
          "font": {
           "color": "#FFFFFF"
          },
          "showarrow": false,
          "text": "0.07",
          "x": "NumberofBuildings",
          "xref": "x",
          "y": "Neighborhood_NORTHWEST",
          "yref": "y"
         },
         {
          "font": {
           "color": "#FFFFFF"
          },
          "showarrow": false,
          "text": "-0.05",
          "x": "NumberofFloors",
          "xref": "x",
          "y": "Neighborhood_NORTHWEST",
          "yref": "y"
         },
         {
          "font": {
           "color": "#FFFFFF"
          },
          "showarrow": false,
          "text": "-0.05",
          "x": "PropertyGFAParking",
          "xref": "x",
          "y": "Neighborhood_NORTHWEST",
          "yref": "y"
         },
         {
          "font": {
           "color": "#FFFFFF"
          },
          "showarrow": false,
          "text": "-0.03",
          "x": "SiteEUI(kBtu/sf)",
          "xref": "x",
          "y": "Neighborhood_NORTHWEST",
          "yref": "y"
         },
         {
          "font": {
           "color": "#FFFFFF"
          },
          "showarrow": false,
          "text": "-0.03",
          "x": "SiteEUIWN(kBtu/sf)",
          "xref": "x",
          "y": "Neighborhood_NORTHWEST",
          "yref": "y"
         },
         {
          "font": {
           "color": "#FFFFFF"
          },
          "showarrow": false,
          "text": "-0.03",
          "x": "SourceEUI(kBtu/sf)",
          "xref": "x",
          "y": "Neighborhood_NORTHWEST",
          "yref": "y"
         },
         {
          "font": {
           "color": "#FFFFFF"
          },
          "showarrow": false,
          "text": "-0.03",
          "x": "SourceEUIWN(kBtu/sf)",
          "xref": "x",
          "y": "Neighborhood_NORTHWEST",
          "yref": "y"
         },
         {
          "font": {
           "color": "#FFFFFF"
          },
          "showarrow": false,
          "text": "-0.03",
          "x": "SiteEnergyUse(kBtu)",
          "xref": "x",
          "y": "Neighborhood_NORTHWEST",
          "yref": "y"
         },
         {
          "font": {
           "color": "#FFFFFF"
          },
          "showarrow": false,
          "text": "-0.02",
          "x": "SiteEnergyUseWN(kBtu)",
          "xref": "x",
          "y": "Neighborhood_NORTHWEST",
          "yref": "y"
         },
         {
          "font": {
           "color": "#FFFFFF"
          },
          "showarrow": false,
          "text": "-0.02",
          "x": "SteamUse(kBtu)",
          "xref": "x",
          "y": "Neighborhood_NORTHWEST",
          "yref": "y"
         },
         {
          "font": {
           "color": "#FFFFFF"
          },
          "showarrow": false,
          "text": "0.0",
          "x": "NaturalGas(therms)",
          "xref": "x",
          "y": "Neighborhood_NORTHWEST",
          "yref": "y"
         },
         {
          "font": {
           "color": "#FFFFFF"
          },
          "showarrow": false,
          "text": "0.0",
          "x": "NaturalGas(kBtu)",
          "xref": "x",
          "y": "Neighborhood_NORTHWEST",
          "yref": "y"
         },
         {
          "font": {
           "color": "#FFFFFF"
          },
          "showarrow": false,
          "text": "-0.01",
          "x": "TotalGHGEmissions",
          "xref": "x",
          "y": "Neighborhood_NORTHWEST",
          "yref": "y"
         },
         {
          "font": {
           "color": "#FFFFFF"
          },
          "showarrow": false,
          "text": "-0.01",
          "x": "GHGEmissionsIntensity",
          "xref": "x",
          "y": "Neighborhood_NORTHWEST",
          "yref": "y"
         },
         {
          "font": {
           "color": "#FFFFFF"
          },
          "showarrow": false,
          "text": "-0.05",
          "x": "Neighborhood_BALLARD",
          "xref": "x",
          "y": "Neighborhood_NORTHWEST",
          "yref": "y"
         },
         {
          "font": {
           "color": "#FFFFFF"
          },
          "showarrow": false,
          "text": "-0.05",
          "x": "Neighborhood_CENTRAL",
          "xref": "x",
          "y": "Neighborhood_NORTHWEST",
          "yref": "y"
         },
         {
          "font": {
           "color": "#FFFFFF"
          },
          "showarrow": false,
          "text": "-0.05",
          "x": "Neighborhood_DELRIDGE",
          "xref": "x",
          "y": "Neighborhood_NORTHWEST",
          "yref": "y"
         },
         {
          "font": {
           "color": "#FFFFFF"
          },
          "showarrow": false,
          "text": "-0.12",
          "x": "Neighborhood_DOWNTOWN",
          "xref": "x",
          "y": "Neighborhood_NORTHWEST",
          "yref": "y"
         },
         {
          "font": {
           "color": "#FFFFFF"
          },
          "showarrow": false,
          "text": "-0.11",
          "x": "Neighborhood_EAST",
          "xref": "x",
          "y": "Neighborhood_NORTHWEST",
          "yref": "y"
         },
         {
          "font": {
           "color": "#FFFFFF"
          },
          "showarrow": false,
          "text": "-0.09",
          "x": "Neighborhood_GREATER DUWAMISH",
          "xref": "x",
          "y": "Neighborhood_NORTHWEST",
          "yref": "y"
         },
         {
          "font": {
           "color": "#FFFFFF"
          },
          "showarrow": false,
          "text": "-0.08",
          "x": "Neighborhood_LAKE UNION",
          "xref": "x",
          "y": "Neighborhood_NORTHWEST",
          "yref": "y"
         },
         {
          "font": {
           "color": "#FFFFFF"
          },
          "showarrow": false,
          "text": "-0.1",
          "x": "Neighborhood_MAGNOLIA / QUEEN ANNE",
          "xref": "x",
          "y": "Neighborhood_NORTHWEST",
          "yref": "y"
         },
         {
          "font": {
           "color": "#FFFFFF"
          },
          "showarrow": false,
          "text": "-0.07",
          "x": "Neighborhood_NORTH",
          "xref": "x",
          "y": "Neighborhood_NORTHWEST",
          "yref": "y"
         },
         {
          "font": {
           "color": "#FFFFFF"
          },
          "showarrow": false,
          "text": "-0.08",
          "x": "Neighborhood_NORTHEAST",
          "xref": "x",
          "y": "Neighborhood_NORTHWEST",
          "yref": "y"
         },
         {
          "font": {
           "color": "#000000"
          },
          "showarrow": false,
          "text": "1.0",
          "x": "Neighborhood_NORTHWEST",
          "xref": "x",
          "y": "Neighborhood_NORTHWEST",
          "yref": "y"
         },
         {
          "font": {
           "color": "#FFFFFF"
          },
          "showarrow": false,
          "text": "-0.05",
          "x": "Neighborhood_SOUTHEAST",
          "xref": "x",
          "y": "Neighborhood_NORTHWEST",
          "yref": "y"
         },
         {
          "font": {
           "color": "#FFFFFF"
          },
          "showarrow": false,
          "text": "-0.06",
          "x": "Neighborhood_SOUTHWEST",
          "xref": "x",
          "y": "Neighborhood_NORTHWEST",
          "yref": "y"
         },
         {
          "font": {
           "color": "#FFFFFF"
          },
          "showarrow": false,
          "text": "-0.04",
          "x": "Age",
          "xref": "x",
          "y": "Neighborhood_NORTHWEST",
          "yref": "y"
         },
         {
          "font": {
           "color": "#FFFFFF"
          },
          "showarrow": false,
          "text": "-0.03",
          "x": "EnergyUse_Age_Ratio",
          "xref": "x",
          "y": "Neighborhood_NORTHWEST",
          "yref": "y"
         },
         {
          "font": {
           "color": "#FFFFFF"
          },
          "showarrow": false,
          "text": "0.01",
          "x": "BuildingType",
          "xref": "x",
          "y": "Neighborhood_SOUTHEAST",
          "yref": "y"
         },
         {
          "font": {
           "color": "#FFFFFF"
          },
          "showarrow": false,
          "text": "0.02",
          "x": "PrimaryPropertyType",
          "xref": "x",
          "y": "Neighborhood_SOUTHEAST",
          "yref": "y"
         },
         {
          "font": {
           "color": "#FFFFFF"
          },
          "showarrow": false,
          "text": "-0.0",
          "x": "NumberofBuildings",
          "xref": "x",
          "y": "Neighborhood_SOUTHEAST",
          "yref": "y"
         },
         {
          "font": {
           "color": "#FFFFFF"
          },
          "showarrow": false,
          "text": "-0.05",
          "x": "NumberofFloors",
          "xref": "x",
          "y": "Neighborhood_SOUTHEAST",
          "yref": "y"
         },
         {
          "font": {
           "color": "#FFFFFF"
          },
          "showarrow": false,
          "text": "-0.03",
          "x": "PropertyGFAParking",
          "xref": "x",
          "y": "Neighborhood_SOUTHEAST",
          "yref": "y"
         },
         {
          "font": {
           "color": "#FFFFFF"
          },
          "showarrow": false,
          "text": "-0.01",
          "x": "SiteEUI(kBtu/sf)",
          "xref": "x",
          "y": "Neighborhood_SOUTHEAST",
          "yref": "y"
         },
         {
          "font": {
           "color": "#FFFFFF"
          },
          "showarrow": false,
          "text": "-0.01",
          "x": "SiteEUIWN(kBtu/sf)",
          "xref": "x",
          "y": "Neighborhood_SOUTHEAST",
          "yref": "y"
         },
         {
          "font": {
           "color": "#FFFFFF"
          },
          "showarrow": false,
          "text": "-0.01",
          "x": "SourceEUI(kBtu/sf)",
          "xref": "x",
          "y": "Neighborhood_SOUTHEAST",
          "yref": "y"
         },
         {
          "font": {
           "color": "#FFFFFF"
          },
          "showarrow": false,
          "text": "-0.01",
          "x": "SourceEUIWN(kBtu/sf)",
          "xref": "x",
          "y": "Neighborhood_SOUTHEAST",
          "yref": "y"
         },
         {
          "font": {
           "color": "#FFFFFF"
          },
          "showarrow": false,
          "text": "-0.02",
          "x": "SiteEnergyUse(kBtu)",
          "xref": "x",
          "y": "Neighborhood_SOUTHEAST",
          "yref": "y"
         },
         {
          "font": {
           "color": "#FFFFFF"
          },
          "showarrow": false,
          "text": "-0.02",
          "x": "SiteEnergyUseWN(kBtu)",
          "xref": "x",
          "y": "Neighborhood_SOUTHEAST",
          "yref": "y"
         },
         {
          "font": {
           "color": "#FFFFFF"
          },
          "showarrow": false,
          "text": "-0.01",
          "x": "SteamUse(kBtu)",
          "xref": "x",
          "y": "Neighborhood_SOUTHEAST",
          "yref": "y"
         },
         {
          "font": {
           "color": "#FFFFFF"
          },
          "showarrow": false,
          "text": "-0.0",
          "x": "NaturalGas(therms)",
          "xref": "x",
          "y": "Neighborhood_SOUTHEAST",
          "yref": "y"
         },
         {
          "font": {
           "color": "#FFFFFF"
          },
          "showarrow": false,
          "text": "-0.0",
          "x": "NaturalGas(kBtu)",
          "xref": "x",
          "y": "Neighborhood_SOUTHEAST",
          "yref": "y"
         },
         {
          "font": {
           "color": "#FFFFFF"
          },
          "showarrow": false,
          "text": "-0.01",
          "x": "TotalGHGEmissions",
          "xref": "x",
          "y": "Neighborhood_SOUTHEAST",
          "yref": "y"
         },
         {
          "font": {
           "color": "#FFFFFF"
          },
          "showarrow": false,
          "text": "-0.0",
          "x": "GHGEmissionsIntensity",
          "xref": "x",
          "y": "Neighborhood_SOUTHEAST",
          "yref": "y"
         },
         {
          "font": {
           "color": "#FFFFFF"
          },
          "showarrow": false,
          "text": "-0.04",
          "x": "Neighborhood_BALLARD",
          "xref": "x",
          "y": "Neighborhood_SOUTHEAST",
          "yref": "y"
         },
         {
          "font": {
           "color": "#FFFFFF"
          },
          "showarrow": false,
          "text": "-0.04",
          "x": "Neighborhood_CENTRAL",
          "xref": "x",
          "y": "Neighborhood_SOUTHEAST",
          "yref": "y"
         },
         {
          "font": {
           "color": "#FFFFFF"
          },
          "showarrow": false,
          "text": "-0.03",
          "x": "Neighborhood_DELRIDGE",
          "xref": "x",
          "y": "Neighborhood_SOUTHEAST",
          "yref": "y"
         },
         {
          "font": {
           "color": "#FFFFFF"
          },
          "showarrow": false,
          "text": "-0.08",
          "x": "Neighborhood_DOWNTOWN",
          "xref": "x",
          "y": "Neighborhood_SOUTHEAST",
          "yref": "y"
         },
         {
          "font": {
           "color": "#FFFFFF"
          },
          "showarrow": false,
          "text": "-0.07",
          "x": "Neighborhood_EAST",
          "xref": "x",
          "y": "Neighborhood_SOUTHEAST",
          "yref": "y"
         },
         {
          "font": {
           "color": "#FFFFFF"
          },
          "showarrow": false,
          "text": "-0.06",
          "x": "Neighborhood_GREATER DUWAMISH",
          "xref": "x",
          "y": "Neighborhood_SOUTHEAST",
          "yref": "y"
         },
         {
          "font": {
           "color": "#FFFFFF"
          },
          "showarrow": false,
          "text": "-0.05",
          "x": "Neighborhood_LAKE UNION",
          "xref": "x",
          "y": "Neighborhood_SOUTHEAST",
          "yref": "y"
         },
         {
          "font": {
           "color": "#FFFFFF"
          },
          "showarrow": false,
          "text": "-0.07",
          "x": "Neighborhood_MAGNOLIA / QUEEN ANNE",
          "xref": "x",
          "y": "Neighborhood_SOUTHEAST",
          "yref": "y"
         },
         {
          "font": {
           "color": "#FFFFFF"
          },
          "showarrow": false,
          "text": "-0.04",
          "x": "Neighborhood_NORTH",
          "xref": "x",
          "y": "Neighborhood_SOUTHEAST",
          "yref": "y"
         },
         {
          "font": {
           "color": "#FFFFFF"
          },
          "showarrow": false,
          "text": "-0.05",
          "x": "Neighborhood_NORTHEAST",
          "xref": "x",
          "y": "Neighborhood_SOUTHEAST",
          "yref": "y"
         },
         {
          "font": {
           "color": "#FFFFFF"
          },
          "showarrow": false,
          "text": "-0.05",
          "x": "Neighborhood_NORTHWEST",
          "xref": "x",
          "y": "Neighborhood_SOUTHEAST",
          "yref": "y"
         },
         {
          "font": {
           "color": "#000000"
          },
          "showarrow": false,
          "text": "1.0",
          "x": "Neighborhood_SOUTHEAST",
          "xref": "x",
          "y": "Neighborhood_SOUTHEAST",
          "yref": "y"
         },
         {
          "font": {
           "color": "#FFFFFF"
          },
          "showarrow": false,
          "text": "-0.04",
          "x": "Neighborhood_SOUTHWEST",
          "xref": "x",
          "y": "Neighborhood_SOUTHEAST",
          "yref": "y"
         },
         {
          "font": {
           "color": "#FFFFFF"
          },
          "showarrow": false,
          "text": "-0.02",
          "x": "Age",
          "xref": "x",
          "y": "Neighborhood_SOUTHEAST",
          "yref": "y"
         },
         {
          "font": {
           "color": "#FFFFFF"
          },
          "showarrow": false,
          "text": "-0.01",
          "x": "EnergyUse_Age_Ratio",
          "xref": "x",
          "y": "Neighborhood_SOUTHEAST",
          "yref": "y"
         },
         {
          "font": {
           "color": "#FFFFFF"
          },
          "showarrow": false,
          "text": "-0.09",
          "x": "BuildingType",
          "xref": "x",
          "y": "Neighborhood_SOUTHWEST",
          "yref": "y"
         },
         {
          "font": {
           "color": "#FFFFFF"
          },
          "showarrow": false,
          "text": "-0.03",
          "x": "PrimaryPropertyType",
          "xref": "x",
          "y": "Neighborhood_SOUTHWEST",
          "yref": "y"
         },
         {
          "font": {
           "color": "#FFFFFF"
          },
          "showarrow": false,
          "text": "-0.01",
          "x": "NumberofBuildings",
          "xref": "x",
          "y": "Neighborhood_SOUTHWEST",
          "yref": "y"
         },
         {
          "font": {
           "color": "#FFFFFF"
          },
          "showarrow": false,
          "text": "-0.01",
          "x": "NumberofFloors",
          "xref": "x",
          "y": "Neighborhood_SOUTHWEST",
          "yref": "y"
         },
         {
          "font": {
           "color": "#FFFFFF"
          },
          "showarrow": false,
          "text": "-0.04",
          "x": "PropertyGFAParking",
          "xref": "x",
          "y": "Neighborhood_SOUTHWEST",
          "yref": "y"
         },
         {
          "font": {
           "color": "#FFFFFF"
          },
          "showarrow": false,
          "text": "-0.05",
          "x": "SiteEUI(kBtu/sf)",
          "xref": "x",
          "y": "Neighborhood_SOUTHWEST",
          "yref": "y"
         },
         {
          "font": {
           "color": "#FFFFFF"
          },
          "showarrow": false,
          "text": "-0.05",
          "x": "SiteEUIWN(kBtu/sf)",
          "xref": "x",
          "y": "Neighborhood_SOUTHWEST",
          "yref": "y"
         },
         {
          "font": {
           "color": "#FFFFFF"
          },
          "showarrow": false,
          "text": "-0.04",
          "x": "SourceEUI(kBtu/sf)",
          "xref": "x",
          "y": "Neighborhood_SOUTHWEST",
          "yref": "y"
         },
         {
          "font": {
           "color": "#FFFFFF"
          },
          "showarrow": false,
          "text": "-0.04",
          "x": "SourceEUIWN(kBtu/sf)",
          "xref": "x",
          "y": "Neighborhood_SOUTHWEST",
          "yref": "y"
         },
         {
          "font": {
           "color": "#FFFFFF"
          },
          "showarrow": false,
          "text": "-0.04",
          "x": "SiteEnergyUse(kBtu)",
          "xref": "x",
          "y": "Neighborhood_SOUTHWEST",
          "yref": "y"
         },
         {
          "font": {
           "color": "#FFFFFF"
          },
          "showarrow": false,
          "text": "-0.04",
          "x": "SiteEnergyUseWN(kBtu)",
          "xref": "x",
          "y": "Neighborhood_SOUTHWEST",
          "yref": "y"
         },
         {
          "font": {
           "color": "#FFFFFF"
          },
          "showarrow": false,
          "text": "-0.01",
          "x": "SteamUse(kBtu)",
          "xref": "x",
          "y": "Neighborhood_SOUTHWEST",
          "yref": "y"
         },
         {
          "font": {
           "color": "#FFFFFF"
          },
          "showarrow": false,
          "text": "-0.02",
          "x": "NaturalGas(therms)",
          "xref": "x",
          "y": "Neighborhood_SOUTHWEST",
          "yref": "y"
         },
         {
          "font": {
           "color": "#FFFFFF"
          },
          "showarrow": false,
          "text": "-0.02",
          "x": "NaturalGas(kBtu)",
          "xref": "x",
          "y": "Neighborhood_SOUTHWEST",
          "yref": "y"
         },
         {
          "font": {
           "color": "#FFFFFF"
          },
          "showarrow": false,
          "text": "-0.03",
          "x": "TotalGHGEmissions",
          "xref": "x",
          "y": "Neighborhood_SOUTHWEST",
          "yref": "y"
         },
         {
          "font": {
           "color": "#FFFFFF"
          },
          "showarrow": false,
          "text": "-0.05",
          "x": "GHGEmissionsIntensity",
          "xref": "x",
          "y": "Neighborhood_SOUTHWEST",
          "yref": "y"
         },
         {
          "font": {
           "color": "#FFFFFF"
          },
          "showarrow": false,
          "text": "-0.04",
          "x": "Neighborhood_BALLARD",
          "xref": "x",
          "y": "Neighborhood_SOUTHWEST",
          "yref": "y"
         },
         {
          "font": {
           "color": "#FFFFFF"
          },
          "showarrow": false,
          "text": "-0.04",
          "x": "Neighborhood_CENTRAL",
          "xref": "x",
          "y": "Neighborhood_SOUTHWEST",
          "yref": "y"
         },
         {
          "font": {
           "color": "#FFFFFF"
          },
          "showarrow": false,
          "text": "-0.04",
          "x": "Neighborhood_DELRIDGE",
          "xref": "x",
          "y": "Neighborhood_SOUTHWEST",
          "yref": "y"
         },
         {
          "font": {
           "color": "#FFFFFF"
          },
          "showarrow": false,
          "text": "-0.1",
          "x": "Neighborhood_DOWNTOWN",
          "xref": "x",
          "y": "Neighborhood_SOUTHWEST",
          "yref": "y"
         },
         {
          "font": {
           "color": "#FFFFFF"
          },
          "showarrow": false,
          "text": "-0.09",
          "x": "Neighborhood_EAST",
          "xref": "x",
          "y": "Neighborhood_SOUTHWEST",
          "yref": "y"
         },
         {
          "font": {
           "color": "#FFFFFF"
          },
          "showarrow": false,
          "text": "-0.07",
          "x": "Neighborhood_GREATER DUWAMISH",
          "xref": "x",
          "y": "Neighborhood_SOUTHWEST",
          "yref": "y"
         },
         {
          "font": {
           "color": "#FFFFFF"
          },
          "showarrow": false,
          "text": "-0.07",
          "x": "Neighborhood_LAKE UNION",
          "xref": "x",
          "y": "Neighborhood_SOUTHWEST",
          "yref": "y"
         },
         {
          "font": {
           "color": "#FFFFFF"
          },
          "showarrow": false,
          "text": "-0.09",
          "x": "Neighborhood_MAGNOLIA / QUEEN ANNE",
          "xref": "x",
          "y": "Neighborhood_SOUTHWEST",
          "yref": "y"
         },
         {
          "font": {
           "color": "#FFFFFF"
          },
          "showarrow": false,
          "text": "-0.05",
          "x": "Neighborhood_NORTH",
          "xref": "x",
          "y": "Neighborhood_SOUTHWEST",
          "yref": "y"
         },
         {
          "font": {
           "color": "#FFFFFF"
          },
          "showarrow": false,
          "text": "-0.07",
          "x": "Neighborhood_NORTHEAST",
          "xref": "x",
          "y": "Neighborhood_SOUTHWEST",
          "yref": "y"
         },
         {
          "font": {
           "color": "#FFFFFF"
          },
          "showarrow": false,
          "text": "-0.06",
          "x": "Neighborhood_NORTHWEST",
          "xref": "x",
          "y": "Neighborhood_SOUTHWEST",
          "yref": "y"
         },
         {
          "font": {
           "color": "#FFFFFF"
          },
          "showarrow": false,
          "text": "-0.04",
          "x": "Neighborhood_SOUTHEAST",
          "xref": "x",
          "y": "Neighborhood_SOUTHWEST",
          "yref": "y"
         },
         {
          "font": {
           "color": "#000000"
          },
          "showarrow": false,
          "text": "1.0",
          "x": "Neighborhood_SOUTHWEST",
          "xref": "x",
          "y": "Neighborhood_SOUTHWEST",
          "yref": "y"
         },
         {
          "font": {
           "color": "#FFFFFF"
          },
          "showarrow": false,
          "text": "-0.05",
          "x": "Age",
          "xref": "x",
          "y": "Neighborhood_SOUTHWEST",
          "yref": "y"
         },
         {
          "font": {
           "color": "#FFFFFF"
          },
          "showarrow": false,
          "text": "-0.04",
          "x": "EnergyUse_Age_Ratio",
          "xref": "x",
          "y": "Neighborhood_SOUTHWEST",
          "yref": "y"
         },
         {
          "font": {
           "color": "#FFFFFF"
          },
          "showarrow": false,
          "text": "0.19",
          "x": "BuildingType",
          "xref": "x",
          "y": "Age",
          "yref": "y"
         },
         {
          "font": {
           "color": "#FFFFFF"
          },
          "showarrow": false,
          "text": "0.17",
          "x": "PrimaryPropertyType",
          "xref": "x",
          "y": "Age",
          "yref": "y"
         },
         {
          "font": {
           "color": "#FFFFFF"
          },
          "showarrow": false,
          "text": "-0.03",
          "x": "NumberofBuildings",
          "xref": "x",
          "y": "Age",
          "yref": "y"
         },
         {
          "font": {
           "color": "#FFFFFF"
          },
          "showarrow": false,
          "text": "-0.18",
          "x": "NumberofFloors",
          "xref": "x",
          "y": "Age",
          "yref": "y"
         },
         {
          "font": {
           "color": "#FFFFFF"
          },
          "showarrow": false,
          "text": "-0.18",
          "x": "PropertyGFAParking",
          "xref": "x",
          "y": "Age",
          "yref": "y"
         },
         {
          "font": {
           "color": "#FFFFFF"
          },
          "showarrow": false,
          "text": "0.03",
          "x": "SiteEUI(kBtu/sf)",
          "xref": "x",
          "y": "Age",
          "yref": "y"
         },
         {
          "font": {
           "color": "#FFFFFF"
          },
          "showarrow": false,
          "text": "0.04",
          "x": "SiteEUIWN(kBtu/sf)",
          "xref": "x",
          "y": "Age",
          "yref": "y"
         },
         {
          "font": {
           "color": "#FFFFFF"
          },
          "showarrow": false,
          "text": "-0.03",
          "x": "SourceEUI(kBtu/sf)",
          "xref": "x",
          "y": "Age",
          "yref": "y"
         },
         {
          "font": {
           "color": "#FFFFFF"
          },
          "showarrow": false,
          "text": "-0.02",
          "x": "SourceEUIWN(kBtu/sf)",
          "xref": "x",
          "y": "Age",
          "yref": "y"
         },
         {
          "font": {
           "color": "#FFFFFF"
          },
          "showarrow": false,
          "text": "-0.06",
          "x": "SiteEnergyUse(kBtu)",
          "xref": "x",
          "y": "Age",
          "yref": "y"
         },
         {
          "font": {
           "color": "#FFFFFF"
          },
          "showarrow": false,
          "text": "-0.06",
          "x": "SiteEnergyUseWN(kBtu)",
          "xref": "x",
          "y": "Age",
          "yref": "y"
         },
         {
          "font": {
           "color": "#FFFFFF"
          },
          "showarrow": false,
          "text": "0.01",
          "x": "SteamUse(kBtu)",
          "xref": "x",
          "y": "Age",
          "yref": "y"
         },
         {
          "font": {
           "color": "#FFFFFF"
          },
          "showarrow": false,
          "text": "-0.02",
          "x": "NaturalGas(therms)",
          "xref": "x",
          "y": "Age",
          "yref": "y"
         },
         {
          "font": {
           "color": "#FFFFFF"
          },
          "showarrow": false,
          "text": "-0.02",
          "x": "NaturalGas(kBtu)",
          "xref": "x",
          "y": "Age",
          "yref": "y"
         },
         {
          "font": {
           "color": "#FFFFFF"
          },
          "showarrow": false,
          "text": "-0.02",
          "x": "TotalGHGEmissions",
          "xref": "x",
          "y": "Age",
          "yref": "y"
         },
         {
          "font": {
           "color": "#FFFFFF"
          },
          "showarrow": false,
          "text": "0.16",
          "x": "GHGEmissionsIntensity",
          "xref": "x",
          "y": "Age",
          "yref": "y"
         },
         {
          "font": {
           "color": "#FFFFFF"
          },
          "showarrow": false,
          "text": "-0.06",
          "x": "Neighborhood_BALLARD",
          "xref": "x",
          "y": "Age",
          "yref": "y"
         },
         {
          "font": {
           "color": "#FFFFFF"
          },
          "showarrow": false,
          "text": "-0.0",
          "x": "Neighborhood_CENTRAL",
          "xref": "x",
          "y": "Age",
          "yref": "y"
         },
         {
          "font": {
           "color": "#FFFFFF"
          },
          "showarrow": false,
          "text": "-0.04",
          "x": "Neighborhood_DELRIDGE",
          "xref": "x",
          "y": "Age",
          "yref": "y"
         },
         {
          "font": {
           "color": "#FFFFFF"
          },
          "showarrow": false,
          "text": "0.13",
          "x": "Neighborhood_DOWNTOWN",
          "xref": "x",
          "y": "Age",
          "yref": "y"
         },
         {
          "font": {
           "color": "#FFFFFF"
          },
          "showarrow": false,
          "text": "0.1",
          "x": "Neighborhood_EAST",
          "xref": "x",
          "y": "Age",
          "yref": "y"
         },
         {
          "font": {
           "color": "#FFFFFF"
          },
          "showarrow": false,
          "text": "0.09",
          "x": "Neighborhood_GREATER DUWAMISH",
          "xref": "x",
          "y": "Age",
          "yref": "y"
         },
         {
          "font": {
           "color": "#FFFFFF"
          },
          "showarrow": false,
          "text": "-0.17",
          "x": "Neighborhood_LAKE UNION",
          "xref": "x",
          "y": "Age",
          "yref": "y"
         },
         {
          "font": {
           "color": "#FFFFFF"
          },
          "showarrow": false,
          "text": "-0.02",
          "x": "Neighborhood_MAGNOLIA / QUEEN ANNE",
          "xref": "x",
          "y": "Age",
          "yref": "y"
         },
         {
          "font": {
           "color": "#FFFFFF"
          },
          "showarrow": false,
          "text": "-0.03",
          "x": "Neighborhood_NORTH",
          "xref": "x",
          "y": "Age",
          "yref": "y"
         },
         {
          "font": {
           "color": "#FFFFFF"
          },
          "showarrow": false,
          "text": "-0.03",
          "x": "Neighborhood_NORTHEAST",
          "xref": "x",
          "y": "Age",
          "yref": "y"
         },
         {
          "font": {
           "color": "#FFFFFF"
          },
          "showarrow": false,
          "text": "-0.04",
          "x": "Neighborhood_NORTHWEST",
          "xref": "x",
          "y": "Age",
          "yref": "y"
         },
         {
          "font": {
           "color": "#FFFFFF"
          },
          "showarrow": false,
          "text": "-0.02",
          "x": "Neighborhood_SOUTHEAST",
          "xref": "x",
          "y": "Age",
          "yref": "y"
         },
         {
          "font": {
           "color": "#FFFFFF"
          },
          "showarrow": false,
          "text": "-0.05",
          "x": "Neighborhood_SOUTHWEST",
          "xref": "x",
          "y": "Age",
          "yref": "y"
         },
         {
          "font": {
           "color": "#000000"
          },
          "showarrow": false,
          "text": "1.0",
          "x": "Age",
          "xref": "x",
          "y": "Age",
          "yref": "y"
         },
         {
          "font": {
           "color": "#FFFFFF"
          },
          "showarrow": false,
          "text": "-0.18",
          "x": "EnergyUse_Age_Ratio",
          "xref": "x",
          "y": "Age",
          "yref": "y"
         },
         {
          "font": {
           "color": "#FFFFFF"
          },
          "showarrow": false,
          "text": "0.25",
          "x": "BuildingType",
          "xref": "x",
          "y": "EnergyUse_Age_Ratio",
          "yref": "y"
         },
         {
          "font": {
           "color": "#FFFFFF"
          },
          "showarrow": false,
          "text": "0.21",
          "x": "PrimaryPropertyType",
          "xref": "x",
          "y": "EnergyUse_Age_Ratio",
          "yref": "y"
         },
         {
          "font": {
           "color": "#FFFFFF"
          },
          "showarrow": false,
          "text": "0.06",
          "x": "NumberofBuildings",
          "xref": "x",
          "y": "EnergyUse_Age_Ratio",
          "yref": "y"
         },
         {
          "font": {
           "color": "#FFFFFF"
          },
          "showarrow": false,
          "text": "0.0",
          "x": "NumberofFloors",
          "xref": "x",
          "y": "EnergyUse_Age_Ratio",
          "yref": "y"
         },
         {
          "font": {
           "color": "#FFFFFF"
          },
          "showarrow": false,
          "text": "0.14",
          "x": "PropertyGFAParking",
          "xref": "x",
          "y": "EnergyUse_Age_Ratio",
          "yref": "y"
         },
         {
          "font": {
           "color": "#000000"
          },
          "showarrow": false,
          "text": "0.97",
          "x": "SiteEUI(kBtu/sf)",
          "xref": "x",
          "y": "EnergyUse_Age_Ratio",
          "yref": "y"
         },
         {
          "font": {
           "color": "#000000"
          },
          "showarrow": false,
          "text": "0.96",
          "x": "SiteEUIWN(kBtu/sf)",
          "xref": "x",
          "y": "EnergyUse_Age_Ratio",
          "yref": "y"
         },
         {
          "font": {
           "color": "#000000"
          },
          "showarrow": false,
          "text": "0.93",
          "x": "SourceEUI(kBtu/sf)",
          "xref": "x",
          "y": "EnergyUse_Age_Ratio",
          "yref": "y"
         },
         {
          "font": {
           "color": "#000000"
          },
          "showarrow": false,
          "text": "0.92",
          "x": "SourceEUIWN(kBtu/sf)",
          "xref": "x",
          "y": "EnergyUse_Age_Ratio",
          "yref": "y"
         },
         {
          "font": {
           "color": "#000000"
          },
          "showarrow": false,
          "text": "0.42",
          "x": "SiteEnergyUse(kBtu)",
          "xref": "x",
          "y": "EnergyUse_Age_Ratio",
          "yref": "y"
         },
         {
          "font": {
           "color": "#000000"
          },
          "showarrow": false,
          "text": "0.41",
          "x": "SiteEnergyUseWN(kBtu)",
          "xref": "x",
          "y": "EnergyUse_Age_Ratio",
          "yref": "y"
         },
         {
          "font": {
           "color": "#FFFFFF"
          },
          "showarrow": false,
          "text": "0.12",
          "x": "SteamUse(kBtu)",
          "xref": "x",
          "y": "EnergyUse_Age_Ratio",
          "yref": "y"
         },
         {
          "font": {
           "color": "#FFFFFF"
          },
          "showarrow": false,
          "text": "0.23",
          "x": "NaturalGas(therms)",
          "xref": "x",
          "y": "EnergyUse_Age_Ratio",
          "yref": "y"
         },
         {
          "font": {
           "color": "#FFFFFF"
          },
          "showarrow": false,
          "text": "0.23",
          "x": "NaturalGas(kBtu)",
          "xref": "x",
          "y": "EnergyUse_Age_Ratio",
          "yref": "y"
         },
         {
          "font": {
           "color": "#FFFFFF"
          },
          "showarrow": false,
          "text": "0.29",
          "x": "TotalGHGEmissions",
          "xref": "x",
          "y": "EnergyUse_Age_Ratio",
          "yref": "y"
         },
         {
          "font": {
           "color": "#000000"
          },
          "showarrow": false,
          "text": "0.57",
          "x": "GHGEmissionsIntensity",
          "xref": "x",
          "y": "EnergyUse_Age_Ratio",
          "yref": "y"
         },
         {
          "font": {
           "color": "#FFFFFF"
          },
          "showarrow": false,
          "text": "0.03",
          "x": "Neighborhood_BALLARD",
          "xref": "x",
          "y": "EnergyUse_Age_Ratio",
          "yref": "y"
         },
         {
          "font": {
           "color": "#FFFFFF"
          },
          "showarrow": false,
          "text": "-0.01",
          "x": "Neighborhood_CENTRAL",
          "xref": "x",
          "y": "EnergyUse_Age_Ratio",
          "yref": "y"
         },
         {
          "font": {
           "color": "#FFFFFF"
          },
          "showarrow": false,
          "text": "-0.0",
          "x": "Neighborhood_DELRIDGE",
          "xref": "x",
          "y": "EnergyUse_Age_Ratio",
          "yref": "y"
         },
         {
          "font": {
           "color": "#FFFFFF"
          },
          "showarrow": false,
          "text": "0.06",
          "x": "Neighborhood_DOWNTOWN",
          "xref": "x",
          "y": "EnergyUse_Age_Ratio",
          "yref": "y"
         },
         {
          "font": {
           "color": "#FFFFFF"
          },
          "showarrow": false,
          "text": "-0.02",
          "x": "Neighborhood_EAST",
          "xref": "x",
          "y": "EnergyUse_Age_Ratio",
          "yref": "y"
         },
         {
          "font": {
           "color": "#FFFFFF"
          },
          "showarrow": false,
          "text": "-0.05",
          "x": "Neighborhood_GREATER DUWAMISH",
          "xref": "x",
          "y": "EnergyUse_Age_Ratio",
          "yref": "y"
         },
         {
          "font": {
           "color": "#FFFFFF"
          },
          "showarrow": false,
          "text": "0.06",
          "x": "Neighborhood_LAKE UNION",
          "xref": "x",
          "y": "EnergyUse_Age_Ratio",
          "yref": "y"
         },
         {
          "font": {
           "color": "#FFFFFF"
          },
          "showarrow": false,
          "text": "-0.03",
          "x": "Neighborhood_MAGNOLIA / QUEEN ANNE",
          "xref": "x",
          "y": "EnergyUse_Age_Ratio",
          "yref": "y"
         },
         {
          "font": {
           "color": "#FFFFFF"
          },
          "showarrow": false,
          "text": "-0.03",
          "x": "Neighborhood_NORTH",
          "xref": "x",
          "y": "EnergyUse_Age_Ratio",
          "yref": "y"
         },
         {
          "font": {
           "color": "#FFFFFF"
          },
          "showarrow": false,
          "text": "0.05",
          "x": "Neighborhood_NORTHEAST",
          "xref": "x",
          "y": "EnergyUse_Age_Ratio",
          "yref": "y"
         },
         {
          "font": {
           "color": "#FFFFFF"
          },
          "showarrow": false,
          "text": "-0.03",
          "x": "Neighborhood_NORTHWEST",
          "xref": "x",
          "y": "EnergyUse_Age_Ratio",
          "yref": "y"
         },
         {
          "font": {
           "color": "#FFFFFF"
          },
          "showarrow": false,
          "text": "-0.01",
          "x": "Neighborhood_SOUTHEAST",
          "xref": "x",
          "y": "EnergyUse_Age_Ratio",
          "yref": "y"
         },
         {
          "font": {
           "color": "#FFFFFF"
          },
          "showarrow": false,
          "text": "-0.04",
          "x": "Neighborhood_SOUTHWEST",
          "xref": "x",
          "y": "EnergyUse_Age_Ratio",
          "yref": "y"
         },
         {
          "font": {
           "color": "#FFFFFF"
          },
          "showarrow": false,
          "text": "-0.18",
          "x": "Age",
          "xref": "x",
          "y": "EnergyUse_Age_Ratio",
          "yref": "y"
         },
         {
          "font": {
           "color": "#000000"
          },
          "showarrow": false,
          "text": "1.0",
          "x": "EnergyUse_Age_Ratio",
          "xref": "x",
          "y": "EnergyUse_Age_Ratio",
          "yref": "y"
         }
        ],
        "autosize": false,
        "height": 900,
        "template": {
         "data": {
          "bar": [
           {
            "error_x": {
             "color": "#2a3f5f"
            },
            "error_y": {
             "color": "#2a3f5f"
            },
            "marker": {
             "line": {
              "color": "#E5ECF6",
              "width": 0.5
             },
             "pattern": {
              "fillmode": "overlay",
              "size": 10,
              "solidity": 0.2
             }
            },
            "type": "bar"
           }
          ],
          "barpolar": [
           {
            "marker": {
             "line": {
              "color": "#E5ECF6",
              "width": 0.5
             },
             "pattern": {
              "fillmode": "overlay",
              "size": 10,
              "solidity": 0.2
             }
            },
            "type": "barpolar"
           }
          ],
          "carpet": [
           {
            "aaxis": {
             "endlinecolor": "#2a3f5f",
             "gridcolor": "white",
             "linecolor": "white",
             "minorgridcolor": "white",
             "startlinecolor": "#2a3f5f"
            },
            "baxis": {
             "endlinecolor": "#2a3f5f",
             "gridcolor": "white",
             "linecolor": "white",
             "minorgridcolor": "white",
             "startlinecolor": "#2a3f5f"
            },
            "type": "carpet"
           }
          ],
          "choropleth": [
           {
            "colorbar": {
             "outlinewidth": 0,
             "ticks": ""
            },
            "type": "choropleth"
           }
          ],
          "contour": [
           {
            "colorbar": {
             "outlinewidth": 0,
             "ticks": ""
            },
            "colorscale": [
             [
              0,
              "#0d0887"
             ],
             [
              0.1111111111111111,
              "#46039f"
             ],
             [
              0.2222222222222222,
              "#7201a8"
             ],
             [
              0.3333333333333333,
              "#9c179e"
             ],
             [
              0.4444444444444444,
              "#bd3786"
             ],
             [
              0.5555555555555556,
              "#d8576b"
             ],
             [
              0.6666666666666666,
              "#ed7953"
             ],
             [
              0.7777777777777778,
              "#fb9f3a"
             ],
             [
              0.8888888888888888,
              "#fdca26"
             ],
             [
              1,
              "#f0f921"
             ]
            ],
            "type": "contour"
           }
          ],
          "contourcarpet": [
           {
            "colorbar": {
             "outlinewidth": 0,
             "ticks": ""
            },
            "type": "contourcarpet"
           }
          ],
          "heatmap": [
           {
            "colorbar": {
             "outlinewidth": 0,
             "ticks": ""
            },
            "colorscale": [
             [
              0,
              "#0d0887"
             ],
             [
              0.1111111111111111,
              "#46039f"
             ],
             [
              0.2222222222222222,
              "#7201a8"
             ],
             [
              0.3333333333333333,
              "#9c179e"
             ],
             [
              0.4444444444444444,
              "#bd3786"
             ],
             [
              0.5555555555555556,
              "#d8576b"
             ],
             [
              0.6666666666666666,
              "#ed7953"
             ],
             [
              0.7777777777777778,
              "#fb9f3a"
             ],
             [
              0.8888888888888888,
              "#fdca26"
             ],
             [
              1,
              "#f0f921"
             ]
            ],
            "type": "heatmap"
           }
          ],
          "heatmapgl": [
           {
            "colorbar": {
             "outlinewidth": 0,
             "ticks": ""
            },
            "colorscale": [
             [
              0,
              "#0d0887"
             ],
             [
              0.1111111111111111,
              "#46039f"
             ],
             [
              0.2222222222222222,
              "#7201a8"
             ],
             [
              0.3333333333333333,
              "#9c179e"
             ],
             [
              0.4444444444444444,
              "#bd3786"
             ],
             [
              0.5555555555555556,
              "#d8576b"
             ],
             [
              0.6666666666666666,
              "#ed7953"
             ],
             [
              0.7777777777777778,
              "#fb9f3a"
             ],
             [
              0.8888888888888888,
              "#fdca26"
             ],
             [
              1,
              "#f0f921"
             ]
            ],
            "type": "heatmapgl"
           }
          ],
          "histogram": [
           {
            "marker": {
             "pattern": {
              "fillmode": "overlay",
              "size": 10,
              "solidity": 0.2
             }
            },
            "type": "histogram"
           }
          ],
          "histogram2d": [
           {
            "colorbar": {
             "outlinewidth": 0,
             "ticks": ""
            },
            "colorscale": [
             [
              0,
              "#0d0887"
             ],
             [
              0.1111111111111111,
              "#46039f"
             ],
             [
              0.2222222222222222,
              "#7201a8"
             ],
             [
              0.3333333333333333,
              "#9c179e"
             ],
             [
              0.4444444444444444,
              "#bd3786"
             ],
             [
              0.5555555555555556,
              "#d8576b"
             ],
             [
              0.6666666666666666,
              "#ed7953"
             ],
             [
              0.7777777777777778,
              "#fb9f3a"
             ],
             [
              0.8888888888888888,
              "#fdca26"
             ],
             [
              1,
              "#f0f921"
             ]
            ],
            "type": "histogram2d"
           }
          ],
          "histogram2dcontour": [
           {
            "colorbar": {
             "outlinewidth": 0,
             "ticks": ""
            },
            "colorscale": [
             [
              0,
              "#0d0887"
             ],
             [
              0.1111111111111111,
              "#46039f"
             ],
             [
              0.2222222222222222,
              "#7201a8"
             ],
             [
              0.3333333333333333,
              "#9c179e"
             ],
             [
              0.4444444444444444,
              "#bd3786"
             ],
             [
              0.5555555555555556,
              "#d8576b"
             ],
             [
              0.6666666666666666,
              "#ed7953"
             ],
             [
              0.7777777777777778,
              "#fb9f3a"
             ],
             [
              0.8888888888888888,
              "#fdca26"
             ],
             [
              1,
              "#f0f921"
             ]
            ],
            "type": "histogram2dcontour"
           }
          ],
          "mesh3d": [
           {
            "colorbar": {
             "outlinewidth": 0,
             "ticks": ""
            },
            "type": "mesh3d"
           }
          ],
          "parcoords": [
           {
            "line": {
             "colorbar": {
              "outlinewidth": 0,
              "ticks": ""
             }
            },
            "type": "parcoords"
           }
          ],
          "pie": [
           {
            "automargin": true,
            "type": "pie"
           }
          ],
          "scatter": [
           {
            "fillpattern": {
             "fillmode": "overlay",
             "size": 10,
             "solidity": 0.2
            },
            "type": "scatter"
           }
          ],
          "scatter3d": [
           {
            "line": {
             "colorbar": {
              "outlinewidth": 0,
              "ticks": ""
             }
            },
            "marker": {
             "colorbar": {
              "outlinewidth": 0,
              "ticks": ""
             }
            },
            "type": "scatter3d"
           }
          ],
          "scattercarpet": [
           {
            "marker": {
             "colorbar": {
              "outlinewidth": 0,
              "ticks": ""
             }
            },
            "type": "scattercarpet"
           }
          ],
          "scattergeo": [
           {
            "marker": {
             "colorbar": {
              "outlinewidth": 0,
              "ticks": ""
             }
            },
            "type": "scattergeo"
           }
          ],
          "scattergl": [
           {
            "marker": {
             "colorbar": {
              "outlinewidth": 0,
              "ticks": ""
             }
            },
            "type": "scattergl"
           }
          ],
          "scattermapbox": [
           {
            "marker": {
             "colorbar": {
              "outlinewidth": 0,
              "ticks": ""
             }
            },
            "type": "scattermapbox"
           }
          ],
          "scatterpolar": [
           {
            "marker": {
             "colorbar": {
              "outlinewidth": 0,
              "ticks": ""
             }
            },
            "type": "scatterpolar"
           }
          ],
          "scatterpolargl": [
           {
            "marker": {
             "colorbar": {
              "outlinewidth": 0,
              "ticks": ""
             }
            },
            "type": "scatterpolargl"
           }
          ],
          "scatterternary": [
           {
            "marker": {
             "colorbar": {
              "outlinewidth": 0,
              "ticks": ""
             }
            },
            "type": "scatterternary"
           }
          ],
          "surface": [
           {
            "colorbar": {
             "outlinewidth": 0,
             "ticks": ""
            },
            "colorscale": [
             [
              0,
              "#0d0887"
             ],
             [
              0.1111111111111111,
              "#46039f"
             ],
             [
              0.2222222222222222,
              "#7201a8"
             ],
             [
              0.3333333333333333,
              "#9c179e"
             ],
             [
              0.4444444444444444,
              "#bd3786"
             ],
             [
              0.5555555555555556,
              "#d8576b"
             ],
             [
              0.6666666666666666,
              "#ed7953"
             ],
             [
              0.7777777777777778,
              "#fb9f3a"
             ],
             [
              0.8888888888888888,
              "#fdca26"
             ],
             [
              1,
              "#f0f921"
             ]
            ],
            "type": "surface"
           }
          ],
          "table": [
           {
            "cells": {
             "fill": {
              "color": "#EBF0F8"
             },
             "line": {
              "color": "white"
             }
            },
            "header": {
             "fill": {
              "color": "#C8D4E3"
             },
             "line": {
              "color": "white"
             }
            },
            "type": "table"
           }
          ]
         },
         "layout": {
          "annotationdefaults": {
           "arrowcolor": "#2a3f5f",
           "arrowhead": 0,
           "arrowwidth": 1
          },
          "autotypenumbers": "strict",
          "coloraxis": {
           "colorbar": {
            "outlinewidth": 0,
            "ticks": ""
           }
          },
          "colorscale": {
           "diverging": [
            [
             0,
             "#8e0152"
            ],
            [
             0.1,
             "#c51b7d"
            ],
            [
             0.2,
             "#de77ae"
            ],
            [
             0.3,
             "#f1b6da"
            ],
            [
             0.4,
             "#fde0ef"
            ],
            [
             0.5,
             "#f7f7f7"
            ],
            [
             0.6,
             "#e6f5d0"
            ],
            [
             0.7,
             "#b8e186"
            ],
            [
             0.8,
             "#7fbc41"
            ],
            [
             0.9,
             "#4d9221"
            ],
            [
             1,
             "#276419"
            ]
           ],
           "sequential": [
            [
             0,
             "#0d0887"
            ],
            [
             0.1111111111111111,
             "#46039f"
            ],
            [
             0.2222222222222222,
             "#7201a8"
            ],
            [
             0.3333333333333333,
             "#9c179e"
            ],
            [
             0.4444444444444444,
             "#bd3786"
            ],
            [
             0.5555555555555556,
             "#d8576b"
            ],
            [
             0.6666666666666666,
             "#ed7953"
            ],
            [
             0.7777777777777778,
             "#fb9f3a"
            ],
            [
             0.8888888888888888,
             "#fdca26"
            ],
            [
             1,
             "#f0f921"
            ]
           ],
           "sequentialminus": [
            [
             0,
             "#0d0887"
            ],
            [
             0.1111111111111111,
             "#46039f"
            ],
            [
             0.2222222222222222,
             "#7201a8"
            ],
            [
             0.3333333333333333,
             "#9c179e"
            ],
            [
             0.4444444444444444,
             "#bd3786"
            ],
            [
             0.5555555555555556,
             "#d8576b"
            ],
            [
             0.6666666666666666,
             "#ed7953"
            ],
            [
             0.7777777777777778,
             "#fb9f3a"
            ],
            [
             0.8888888888888888,
             "#fdca26"
            ],
            [
             1,
             "#f0f921"
            ]
           ]
          },
          "colorway": [
           "#636efa",
           "#EF553B",
           "#00cc96",
           "#ab63fa",
           "#FFA15A",
           "#19d3f3",
           "#FF6692",
           "#B6E880",
           "#FF97FF",
           "#FECB52"
          ],
          "font": {
           "color": "#2a3f5f"
          },
          "geo": {
           "bgcolor": "white",
           "lakecolor": "white",
           "landcolor": "#E5ECF6",
           "showlakes": true,
           "showland": true,
           "subunitcolor": "white"
          },
          "hoverlabel": {
           "align": "left"
          },
          "hovermode": "closest",
          "mapbox": {
           "style": "light"
          },
          "paper_bgcolor": "white",
          "plot_bgcolor": "#E5ECF6",
          "polar": {
           "angularaxis": {
            "gridcolor": "white",
            "linecolor": "white",
            "ticks": ""
           },
           "bgcolor": "#E5ECF6",
           "radialaxis": {
            "gridcolor": "white",
            "linecolor": "white",
            "ticks": ""
           }
          },
          "scene": {
           "xaxis": {
            "backgroundcolor": "#E5ECF6",
            "gridcolor": "white",
            "gridwidth": 2,
            "linecolor": "white",
            "showbackground": true,
            "ticks": "",
            "zerolinecolor": "white"
           },
           "yaxis": {
            "backgroundcolor": "#E5ECF6",
            "gridcolor": "white",
            "gridwidth": 2,
            "linecolor": "white",
            "showbackground": true,
            "ticks": "",
            "zerolinecolor": "white"
           },
           "zaxis": {
            "backgroundcolor": "#E5ECF6",
            "gridcolor": "white",
            "gridwidth": 2,
            "linecolor": "white",
            "showbackground": true,
            "ticks": "",
            "zerolinecolor": "white"
           }
          },
          "shapedefaults": {
           "line": {
            "color": "#2a3f5f"
           }
          },
          "ternary": {
           "aaxis": {
            "gridcolor": "white",
            "linecolor": "white",
            "ticks": ""
           },
           "baxis": {
            "gridcolor": "white",
            "linecolor": "white",
            "ticks": ""
           },
           "bgcolor": "#E5ECF6",
           "caxis": {
            "gridcolor": "white",
            "linecolor": "white",
            "ticks": ""
           }
          },
          "title": {
           "x": 0.05
          },
          "xaxis": {
           "automargin": true,
           "gridcolor": "white",
           "linecolor": "white",
           "ticks": "",
           "title": {
            "standoff": 15
           },
           "zerolinecolor": "white",
           "zerolinewidth": 2
          },
          "yaxis": {
           "automargin": true,
           "gridcolor": "white",
           "linecolor": "white",
           "ticks": "",
           "title": {
            "standoff": 15
           },
           "zerolinecolor": "white",
           "zerolinewidth": 2
          }
         }
        },
        "title": {
         "text": "Matrice de corrélation agrandie",
         "x": 0.5
        },
        "width": 1800,
        "xaxis": {
         "dtick": 1,
         "gridcolor": "rgb(0, 0, 0)",
         "side": "top",
         "ticks": ""
        },
        "yaxis": {
         "dtick": 1,
         "ticks": "",
         "ticksuffix": "  "
        }
       }
      }
     },
     "metadata": {},
     "output_type": "display_data"
    }
   ],
   "source": [
    "import plotly.figure_factory as ff\n",
    "\n",
    "# Création de la figure Plotly pour la grande matrice de corrélation\n",
    "fig_large = ff.create_annotated_heatmap(\n",
    "    z=correlation_matrix.values,\n",
    "    x=correlation_matrix.columns.tolist(),\n",
    "    y=correlation_matrix.columns.tolist(),\n",
    "    colorscale='Viridis',\n",
    "    annotation_text=correlation_matrix.round(2).values,\n",
    "    showscale=True\n",
    ")\n",
    "\n",
    "# Ajustement des dimensions de la figure pour améliorer l'affichage\n",
    "fig_large.update_layout(\n",
    "    title_text='Matrice de corrélation agrandie',\n",
    "    title_x=0.5,\n",
    "    width=1800, # Ajustement de la largeur\n",
    "    height=900, # Ajustement de la hauteur\n",
    "    autosize=False\n",
    ")\n",
    "\n",
    "# Affichage de la figure\n",
    "fig_large.show()\n",
    "\n"
   ]
  },
  {
   "cell_type": "markdown",
   "metadata": {},
   "source": [
    "#### Nous constatons que les colonnes TotalGHGEmission et SiteEnergyUse sont comme prévu très correllées. Nous allons donc les éliminer pour établir les modèles de prédiction de l'une ou de l'autre.\n",
    "\n",
    "Nous observons également que les colonnes suivantes sont fortement correllées :\n",
    "- SiteEUI et SiteEUIWN\n",
    "- SourceEUI et SourceEUIWN\n",
    "- SiteEnergyUse et SiteEnergyUseWN\n",
    "- NaturalGas(Kbtu) et NaturalGas(therms)\n",
    "\n",
    "Nous allons donc supprimer les colonnes WN ainsi que NaturalGas(therms)"
   ]
  },
  {
   "cell_type": "code",
   "execution_count": 14,
   "metadata": {},
   "outputs": [],
   "source": [
    "# drop columns SiteEUIWN(kBtu/sf), SourceEUIWN(kBtu/sf), SiteEnergyUseWN(kBtu), NaturalGas(therms)\n",
    "df_scaled_without_energystarscore = df_scaled_without_energystarscore.drop(['SiteEUIWN(kBtu/sf)', 'SourceEUIWN(kBtu/sf)', 'SiteEnergyUseWN(kBtu)', 'NaturalGas(therms)'], axis=1)"
   ]
  },
  {
   "cell_type": "markdown",
   "metadata": {},
   "source": [
    "# Analyse des features importance locale avec SHAP pour le SiteEnergyUse(kBtu)"
   ]
  },
  {
   "cell_type": "code",
   "execution_count": 15,
   "metadata": {},
   "outputs": [
    {
     "name": "stderr",
     "output_type": "stream",
     "text": [
      " 96%|=================== | 485/505 [00:13<00:00]       "
     ]
    },
    {
     "data": {
      "image/png": "[encoded data removed]",
      "text/plain": [
       "<Figure size 800x950 with 2 Axes>"
      ]
     },
     "metadata": {},
     "output_type": "display_data"
    }
   ],
   "source": [
    "\n",
    "import pandas as pd\n",
    "from sklearn.model_selection import train_test_split\n",
    "from sklearn.ensemble import RandomForestRegressor\n",
    "import shap\n",
    "\n",
    "# Séparation des caractéristiques et de la cible\n",
    "X = df_scaled_without_energystarscore.drop(['SiteEnergyUse(kBtu)', 'TotalGHGEmissions'], axis=1)\n",
    "y = df_scaled_without_energystarscore['SiteEnergyUse(kBtu)']\n",
    "\n",
    "# Division en ensemble d'entraînement et de test\n",
    "X_train, X_test, y_train, y_test = train_test_split(X, y, test_size=0.2, random_state=62)\n",
    "\n",
    "# Entraînement du modèle\n",
    "model = RandomForestRegressor(n_estimators=100,random_state=42)\n",
    "model.fit(X_train, y_train)\n",
    "\n",
    "# Calcul des valeurs SHAP\n",
    "explainer = shap.Explainer(model, X_train)\n",
    "shap_values = explainer(X_test)\n",
    "\n",
    "# Visualisation\n",
    "shap.summary_plot(shap_values, X_test)"
   ]
  },
  {
   "cell_type": "markdown",
   "metadata": {},
   "source": [
    "# Analyse des features importance locale avec SHAP pour le TotalGHGEmissions"
   ]
  },
  {
   "cell_type": "code",
   "execution_count": 16,
   "metadata": {},
   "outputs": [
    {
     "name": "stderr",
     "output_type": "stream",
     "text": [
      " 94%|=================== | 473/505 [00:11<00:00]       "
     ]
    },
    {
     "data": {
      "image/png": "[encoded data removed]",
      "text/plain": [
       "<Figure size 800x950 with 2 Axes>"
      ]
     },
     "metadata": {},
     "output_type": "display_data"
    }
   ],
   "source": [
    "\n",
    "import pandas as pd\n",
    "from sklearn.model_selection import train_test_split\n",
    "from sklearn.ensemble import RandomForestRegressor\n",
    "import shap\n",
    "\n",
    "# Séparation des caractéristiques et de la cible\n",
    "X = df_scaled_without_energystarscore.drop(['SiteEnergyUse(kBtu)', 'TotalGHGEmissions'], axis=1)\n",
    "y = df_scaled_without_energystarscore['TotalGHGEmissions']\n",
    "\n",
    "# Division en ensemble d'entraînement et de test\n",
    "X_train, X_test, y_train, y_test = train_test_split(X, y, test_size=0.2, random_state=62)\n",
    "\n",
    "# Entraînement du modèle\n",
    "model = RandomForestRegressor(n_estimators=100,random_state=42)\n",
    "model.fit(X_train, y_train)\n",
    "\n",
    "# Calcul des valeurs SHAP\n",
    "explainer = shap.Explainer(model, X_train)\n",
    "shap_values = explainer(X_test)\n",
    "\n",
    "# Visualisation\n",
    "shap.summary_plot(shap_values, X_test)"
   ]
  },
  {
   "cell_type": "markdown",
   "metadata": {},
   "source": [
    "## Features importance globales pour le calcul du SiteEnergyUse"
   ]
  },
  {
   "cell_type": "code",
   "execution_count": 17,
   "metadata": {},
   "outputs": [
    {
     "data": {
      "application/vnd.plotly.v1+json": {
       "config": {
        "plotlyServerURL": "https://plot.ly"
       },
       "data": [
        {
         "alignmentgroup": "True",
         "hovertemplate": "Importance=%{x}<br>Feature=%{y}<extra></extra>",
         "legendgroup": "",
         "marker": {
          "color": "#636efa",
          "pattern": {
           "shape": ""
          }
         },
         "name": "",
         "offsetgroup": "",
         "orientation": "h",
         "showlegend": false,
         "textposition": "auto",
         "type": "bar",
         "x": [
          0.3422211295170271,
          0.2567479619153273,
          0.15686261309199906,
          0.08185706333320449,
          0.04623260645203909,
          0.03482520104981087,
          0.023399646983719043,
          0.01830573684236586,
          0.01527390748420165,
          0.0066127302260004005,
          0.006321524969895121,
          0.0030554057921979003,
          0.0023040903108457757,
          0.002257147447532358,
          0.0012854881821285516,
          0.0009427071871717188,
          0.000404244117691816,
          0.0003424621502970091,
          0.0002209310459349514,
          0.0001240687794009256,
          0.0001136769369499699,
          0.00009089478524787067,
          0.00008313132421703237,
          0.00006702852007464399,
          0.000048601554719580984
         ],
         "xaxis": "x",
         "y": [
          "NaturalGas(kBtu)",
          "SteamUse(kBtu)",
          "GHGEmissionsIntensity",
          "NumberofFloors",
          "NumberofBuildings",
          "SourceEUI(kBtu/sf)",
          "EnergyUse_Age_Ratio",
          "PropertyGFAParking",
          "Age",
          "PrimaryPropertyType",
          "SiteEUI(kBtu/sf)",
          "Neighborhood_GREATER DUWAMISH",
          "Neighborhood_CENTRAL",
          "Neighborhood_EAST",
          "Neighborhood_NORTHEAST",
          "BuildingType",
          "Neighborhood_LAKE UNION",
          "Neighborhood_DOWNTOWN",
          "Neighborhood_MAGNOLIA / QUEEN ANNE",
          "Neighborhood_SOUTHEAST",
          "Neighborhood_BALLARD",
          "Neighborhood_DELRIDGE",
          "Neighborhood_NORTHWEST",
          "Neighborhood_NORTH",
          "Neighborhood_SOUTHWEST"
         ],
         "yaxis": "y"
        }
       ],
       "layout": {
        "barmode": "relative",
        "height": 800,
        "legend": {
         "tracegroupgap": 0
        },
        "template": {
         "data": {
          "bar": [
           {
            "error_x": {
             "color": "#2a3f5f"
            },
            "error_y": {
             "color": "#2a3f5f"
            },
            "marker": {
             "line": {
              "color": "#E5ECF6",
              "width": 0.5
             },
             "pattern": {
              "fillmode": "overlay",
              "size": 10,
              "solidity": 0.2
             }
            },
            "type": "bar"
           }
          ],
          "barpolar": [
           {
            "marker": {
             "line": {
              "color": "#E5ECF6",
              "width": 0.5
             },
             "pattern": {
              "fillmode": "overlay",
              "size": 10,
              "solidity": 0.2
             }
            },
            "type": "barpolar"
           }
          ],
          "carpet": [
           {
            "aaxis": {
             "endlinecolor": "#2a3f5f",
             "gridcolor": "white",
             "linecolor": "white",
             "minorgridcolor": "white",
             "startlinecolor": "#2a3f5f"
            },
            "baxis": {
             "endlinecolor": "#2a3f5f",
             "gridcolor": "white",
             "linecolor": "white",
             "minorgridcolor": "white",
             "startlinecolor": "#2a3f5f"
            },
            "type": "carpet"
           }
          ],
          "choropleth": [
           {
            "colorbar": {
             "outlinewidth": 0,
             "ticks": ""
            },
            "type": "choropleth"
           }
          ],
          "contour": [
           {
            "colorbar": {
             "outlinewidth": 0,
             "ticks": ""
            },
            "colorscale": [
             [
              0,
              "#0d0887"
             ],
             [
              0.1111111111111111,
              "#46039f"
             ],
             [
              0.2222222222222222,
              "#7201a8"
             ],
             [
              0.3333333333333333,
              "#9c179e"
             ],
             [
              0.4444444444444444,
              "#bd3786"
             ],
             [
              0.5555555555555556,
              "#d8576b"
             ],
             [
              0.6666666666666666,
              "#ed7953"
             ],
             [
              0.7777777777777778,
              "#fb9f3a"
             ],
             [
              0.8888888888888888,
              "#fdca26"
             ],
             [
              1,
              "#f0f921"
             ]
            ],
            "type": "contour"
           }
          ],
          "contourcarpet": [
           {
            "colorbar": {
             "outlinewidth": 0,
             "ticks": ""
            },
            "type": "contourcarpet"
           }
          ],
          "heatmap": [
           {
            "colorbar": {
             "outlinewidth": 0,
             "ticks": ""
            },
            "colorscale": [
             [
              0,
              "#0d0887"
             ],
             [
              0.1111111111111111,
              "#46039f"
             ],
             [
              0.2222222222222222,
              "#7201a8"
             ],
             [
              0.3333333333333333,
              "#9c179e"
             ],
             [
              0.4444444444444444,
              "#bd3786"
             ],
             [
              0.5555555555555556,
              "#d8576b"
             ],
             [
              0.6666666666666666,
              "#ed7953"
             ],
             [
              0.7777777777777778,
              "#fb9f3a"
             ],
             [
              0.8888888888888888,
              "#fdca26"
             ],
             [
              1,
              "#f0f921"
             ]
            ],
            "type": "heatmap"
           }
          ],
          "heatmapgl": [
           {
            "colorbar": {
             "outlinewidth": 0,
             "ticks": ""
            },
            "colorscale": [
             [
              0,
              "#0d0887"
             ],
             [
              0.1111111111111111,
              "#46039f"
             ],
             [
              0.2222222222222222,
              "#7201a8"
             ],
             [
              0.3333333333333333,
              "#9c179e"
             ],
             [
              0.4444444444444444,
              "#bd3786"
             ],
             [
              0.5555555555555556,
              "#d8576b"
             ],
             [
              0.6666666666666666,
              "#ed7953"
             ],
             [
              0.7777777777777778,
              "#fb9f3a"
             ],
             [
              0.8888888888888888,
              "#fdca26"
             ],
             [
              1,
              "#f0f921"
             ]
            ],
            "type": "heatmapgl"
           }
          ],
          "histogram": [
           {
            "marker": {
             "pattern": {
              "fillmode": "overlay",
              "size": 10,
              "solidity": 0.2
             }
            },
            "type": "histogram"
           }
          ],
          "histogram2d": [
           {
            "colorbar": {
             "outlinewidth": 0,
             "ticks": ""
            },
            "colorscale": [
             [
              0,
              "#0d0887"
             ],
             [
              0.1111111111111111,
              "#46039f"
             ],
             [
              0.2222222222222222,
              "#7201a8"
             ],
             [
              0.3333333333333333,
              "#9c179e"
             ],
             [
              0.4444444444444444,
              "#bd3786"
             ],
             [
              0.5555555555555556,
              "#d8576b"
             ],
             [
              0.6666666666666666,
              "#ed7953"
             ],
             [
              0.7777777777777778,
              "#fb9f3a"
             ],
             [
              0.8888888888888888,
              "#fdca26"
             ],
             [
              1,
              "#f0f921"
             ]
            ],
            "type": "histogram2d"
           }
          ],
          "histogram2dcontour": [
           {
            "colorbar": {
             "outlinewidth": 0,
             "ticks": ""
            },
            "colorscale": [
             [
              0,
              "#0d0887"
             ],
             [
              0.1111111111111111,
              "#46039f"
             ],
             [
              0.2222222222222222,
              "#7201a8"
             ],
             [
              0.3333333333333333,
              "#9c179e"
             ],
             [
              0.4444444444444444,
              "#bd3786"
             ],
             [
              0.5555555555555556,
              "#d8576b"
             ],
             [
              0.6666666666666666,
              "#ed7953"
             ],
             [
              0.7777777777777778,
              "#fb9f3a"
             ],
             [
              0.8888888888888888,
              "#fdca26"
             ],
             [
              1,
              "#f0f921"
             ]
            ],
            "type": "histogram2dcontour"
           }
          ],
          "mesh3d": [
           {
            "colorbar": {
             "outlinewidth": 0,
             "ticks": ""
            },
            "type": "mesh3d"
           }
          ],
          "parcoords": [
           {
            "line": {
             "colorbar": {
              "outlinewidth": 0,
              "ticks": ""
             }
            },
            "type": "parcoords"
           }
          ],
          "pie": [
           {
            "automargin": true,
            "type": "pie"
           }
          ],
          "scatter": [
           {
            "fillpattern": {
             "fillmode": "overlay",
             "size": 10,
             "solidity": 0.2
            },
            "type": "scatter"
           }
          ],
          "scatter3d": [
           {
            "line": {
             "colorbar": {
              "outlinewidth": 0,
              "ticks": ""
             }
            },
            "marker": {
             "colorbar": {
              "outlinewidth": 0,
              "ticks": ""
             }
            },
            "type": "scatter3d"
           }
          ],
          "scattercarpet": [
           {
            "marker": {
             "colorbar": {
              "outlinewidth": 0,
              "ticks": ""
             }
            },
            "type": "scattercarpet"
           }
          ],
          "scattergeo": [
           {
            "marker": {
             "colorbar": {
              "outlinewidth": 0,
              "ticks": ""
             }
            },
            "type": "scattergeo"
           }
          ],
          "scattergl": [
           {
            "marker": {
             "colorbar": {
              "outlinewidth": 0,
              "ticks": ""
             }
            },
            "type": "scattergl"
           }
          ],
          "scattermapbox": [
           {
            "marker": {
             "colorbar": {
              "outlinewidth": 0,
              "ticks": ""
             }
            },
            "type": "scattermapbox"
           }
          ],
          "scatterpolar": [
           {
            "marker": {
             "colorbar": {
              "outlinewidth": 0,
              "ticks": ""
             }
            },
            "type": "scatterpolar"
           }
          ],
          "scatterpolargl": [
           {
            "marker": {
             "colorbar": {
              "outlinewidth": 0,
              "ticks": ""
             }
            },
            "type": "scatterpolargl"
           }
          ],
          "scatterternary": [
           {
            "marker": {
             "colorbar": {
              "outlinewidth": 0,
              "ticks": ""
             }
            },
            "type": "scatterternary"
           }
          ],
          "surface": [
           {
            "colorbar": {
             "outlinewidth": 0,
             "ticks": ""
            },
            "colorscale": [
             [
              0,
              "#0d0887"
             ],
             [
              0.1111111111111111,
              "#46039f"
             ],
             [
              0.2222222222222222,
              "#7201a8"
             ],
             [
              0.3333333333333333,
              "#9c179e"
             ],
             [
              0.4444444444444444,
              "#bd3786"
             ],
             [
              0.5555555555555556,
              "#d8576b"
             ],
             [
              0.6666666666666666,
              "#ed7953"
             ],
             [
              0.7777777777777778,
              "#fb9f3a"
             ],
             [
              0.8888888888888888,
              "#fdca26"
             ],
             [
              1,
              "#f0f921"
             ]
            ],
            "type": "surface"
           }
          ],
          "table": [
           {
            "cells": {
             "fill": {
              "color": "#EBF0F8"
             },
             "line": {
              "color": "white"
             }
            },
            "header": {
             "fill": {
              "color": "#C8D4E3"
             },
             "line": {
              "color": "white"
             }
            },
            "type": "table"
           }
          ]
         },
         "layout": {
          "annotationdefaults": {
           "arrowcolor": "#2a3f5f",
           "arrowhead": 0,
           "arrowwidth": 1
          },
          "autotypenumbers": "strict",
          "coloraxis": {
           "colorbar": {
            "outlinewidth": 0,
            "ticks": ""
           }
          },
          "colorscale": {
           "diverging": [
            [
             0,
             "#8e0152"
            ],
            [
             0.1,
             "#c51b7d"
            ],
            [
             0.2,
             "#de77ae"
            ],
            [
             0.3,
             "#f1b6da"
            ],
            [
             0.4,
             "#fde0ef"
            ],
            [
             0.5,
             "#f7f7f7"
            ],
            [
             0.6,
             "#e6f5d0"
            ],
            [
             0.7,
             "#b8e186"
            ],
            [
             0.8,
             "#7fbc41"
            ],
            [
             0.9,
             "#4d9221"
            ],
            [
             1,
             "#276419"
            ]
           ],
           "sequential": [
            [
             0,
             "#0d0887"
            ],
            [
             0.1111111111111111,
             "#46039f"
            ],
            [
             0.2222222222222222,
             "#7201a8"
            ],
            [
             0.3333333333333333,
             "#9c179e"
            ],
            [
             0.4444444444444444,
             "#bd3786"
            ],
            [
             0.5555555555555556,
             "#d8576b"
            ],
            [
             0.6666666666666666,
             "#ed7953"
            ],
            [
             0.7777777777777778,
             "#fb9f3a"
            ],
            [
             0.8888888888888888,
             "#fdca26"
            ],
            [
             1,
             "#f0f921"
            ]
           ],
           "sequentialminus": [
            [
             0,
             "#0d0887"
            ],
            [
             0.1111111111111111,
             "#46039f"
            ],
            [
             0.2222222222222222,
             "#7201a8"
            ],
            [
             0.3333333333333333,
             "#9c179e"
            ],
            [
             0.4444444444444444,
             "#bd3786"
            ],
            [
             0.5555555555555556,
             "#d8576b"
            ],
            [
             0.6666666666666666,
             "#ed7953"
            ],
            [
             0.7777777777777778,
             "#fb9f3a"
            ],
            [
             0.8888888888888888,
             "#fdca26"
            ],
            [
             1,
             "#f0f921"
            ]
           ]
          },
          "colorway": [
           "#636efa",
           "#EF553B",
           "#00cc96",
           "#ab63fa",
           "#FFA15A",
           "#19d3f3",
           "#FF6692",
           "#B6E880",
           "#FF97FF",
           "#FECB52"
          ],
          "font": {
           "color": "#2a3f5f"
          },
          "geo": {
           "bgcolor": "white",
           "lakecolor": "white",
           "landcolor": "#E5ECF6",
           "showlakes": true,
           "showland": true,
           "subunitcolor": "white"
          },
          "hoverlabel": {
           "align": "left"
          },
          "hovermode": "closest",
          "mapbox": {
           "style": "light"
          },
          "paper_bgcolor": "white",
          "plot_bgcolor": "#E5ECF6",
          "polar": {
           "angularaxis": {
            "gridcolor": "white",
            "linecolor": "white",
            "ticks": ""
           },
           "bgcolor": "#E5ECF6",
           "radialaxis": {
            "gridcolor": "white",
            "linecolor": "white",
            "ticks": ""
           }
          },
          "scene": {
           "xaxis": {
            "backgroundcolor": "#E5ECF6",
            "gridcolor": "white",
            "gridwidth": 2,
            "linecolor": "white",
            "showbackground": true,
            "ticks": "",
            "zerolinecolor": "white"
           },
           "yaxis": {
            "backgroundcolor": "#E5ECF6",
            "gridcolor": "white",
            "gridwidth": 2,
            "linecolor": "white",
            "showbackground": true,
            "ticks": "",
            "zerolinecolor": "white"
           },
           "zaxis": {
            "backgroundcolor": "#E5ECF6",
            "gridcolor": "white",
            "gridwidth": 2,
            "linecolor": "white",
            "showbackground": true,
            "ticks": "",
            "zerolinecolor": "white"
           }
          },
          "shapedefaults": {
           "line": {
            "color": "#2a3f5f"
           }
          },
          "ternary": {
           "aaxis": {
            "gridcolor": "white",
            "linecolor": "white",
            "ticks": ""
           },
           "baxis": {
            "gridcolor": "white",
            "linecolor": "white",
            "ticks": ""
           },
           "bgcolor": "#E5ECF6",
           "caxis": {
            "gridcolor": "white",
            "linecolor": "white",
            "ticks": ""
           }
          },
          "title": {
           "x": 0.05
          },
          "xaxis": {
           "automargin": true,
           "gridcolor": "white",
           "linecolor": "white",
           "ticks": "",
           "title": {
            "standoff": 15
           },
           "zerolinecolor": "white",
           "zerolinewidth": 2
          },
          "yaxis": {
           "automargin": true,
           "gridcolor": "white",
           "linecolor": "white",
           "ticks": "",
           "title": {
            "standoff": 15
           },
           "zerolinecolor": "white",
           "zerolinewidth": 2
          }
         }
        },
        "title": {
         "text": "Feature Importances using RandomForestRegressor"
        },
        "xaxis": {
         "anchor": "y",
         "domain": [
          0,
          1
         ],
         "title": {
          "text": "Importance"
         }
        },
        "yaxis": {
         "anchor": "x",
         "domain": [
          0,
          1
         ],
         "title": {
          "text": "Feature"
         }
        }
       }
      }
     },
     "metadata": {},
     "output_type": "display_data"
    }
   ],
   "source": [
    "import pandas as pd\n",
    "import numpy as np\n",
    "from sklearn.model_selection import train_test_split\n",
    "from sklearn.ensemble import RandomForestRegressor\n",
    "import plotly.express as px\n",
    "\n",
    "\n",
    "\n",
    "y = df_scaled_without_energystarscore['SiteEnergyUse(kBtu)']  # Supposition pour l'exemple\n",
    "X = df_scaled_without_energystarscore.drop(columns=['SiteEnergyUse(kBtu)', 'TotalGHGEmissions'])\n",
    "\n",
    "# Division en ensembles d'entraînement et de test\n",
    "X_train, X_test, y_train, y_test = train_test_split(X, y, test_size=0.2, random_state=42)\n",
    "\n",
    "# Entraînement du modèle RandomForestRegressor\n",
    "model = RandomForestRegressor(n_estimators=100, random_state=42)\n",
    "model.fit(X_train, y_train)\n",
    "\n",
    "# Obtention de l'importance des caractéristiques\n",
    "feature_importances = model.feature_importances_\n",
    "features = X.columns\n",
    "importances_df = pd.DataFrame({'Feature': features, 'Importance': feature_importances})\n",
    "\n",
    "# Visualisation de l'importance des caractéristiques avec Plotly\n",
    "fig = px.bar(importances_df.sort_values('Importance', ascending=False), \n",
    "             x='Importance', \n",
    "             y='Feature', \n",
    "             height=800,\n",
    "             title=\"Feature Importances using RandomForestRegressor\",\n",
    "             labels={'Feature':'Feature', 'Importance':'Importance'},\n",
    "             orientation='h')\n",
    "fig.show()\n"
   ]
  },
  {
   "cell_type": "markdown",
   "metadata": {},
   "source": [
    "# Nos analyses des features importances locales et globales nous permettent de choisir les variables importantes"
   ]
  },
  {
   "cell_type": "code",
   "execution_count": 18,
   "metadata": {},
   "outputs": [],
   "source": [
    "# create a new dataframes with columns that have an importance greater than 0.01\n",
    "# columns 'NaturalGas(kBtu)', 'SteamUse(kBtu)', 'GHGEmissionsIntensity', 'NumberofBuildings', 'NumberofFloors', 'Age', 'SiteEUI(kBtu/sf)', 'SourceEUI(kBtu/sf)', 'SiteEnergyUse(kBtu)'\n",
    "df_SEU = df_scaled_without_energystarscore[['NaturalGas(kBtu)', 'SteamUse(kBtu)', 'GHGEmissionsIntensity', 'NumberofBuildings', 'NumberofFloors', 'Age', 'SiteEUI(kBtu/sf)', 'SourceEUI(kBtu/sf)', 'SiteEnergyUse(kBtu)']]"
   ]
  },
  {
   "cell_type": "markdown",
   "metadata": {},
   "source": [
    "## Features importance pour le calcul du TotalGHGEmissions"
   ]
  },
  {
   "cell_type": "code",
   "execution_count": 19,
   "metadata": {},
   "outputs": [
    {
     "data": {
      "application/vnd.plotly.v1+json": {
       "config": {
        "plotlyServerURL": "https://plot.ly"
       },
       "data": [
        {
         "alignmentgroup": "True",
         "hovertemplate": "Importance=%{x}<br>Feature=%{y}<extra></extra>",
         "legendgroup": "",
         "marker": {
          "color": "#636efa",
          "pattern": {
           "shape": ""
          }
         },
         "name": "",
         "offsetgroup": "",
         "orientation": "h",
         "showlegend": false,
         "textposition": "auto",
         "type": "bar",
         "x": [
          0.42529867455604614,
          0.3736681273561831,
          0.08057655103306094,
          0.04363767711797796,
          0.016347374710657687,
          0.012148438026233225,
          0.01151498806473186,
          0.01119275140391505,
          0.007499830269950119,
          0.0074608352010277984,
          0.003427072578560885,
          0.002410731534580079,
          0.0013388364704700459,
          0.0011697420257061376,
          0.0011383956312634794,
          0.0009211688048057926,
          0.00007481935076150918,
          0.00005936382590968851,
          0.00005338628275777132,
          0.000038557194769969017,
          0.0000061160095992094,
          0.00000609110041918073,
          0.000004220766690627705,
          0.0000032398825419346058,
          0.0000030108013798234944
         ],
         "xaxis": "x",
         "y": [
          "NaturalGas(kBtu)",
          "SteamUse(kBtu)",
          "GHGEmissionsIntensity",
          "NumberofBuildings",
          "Age",
          "NumberofFloors",
          "SourceEUI(kBtu/sf)",
          "EnergyUse_Age_Ratio",
          "SiteEUI(kBtu/sf)",
          "PrimaryPropertyType",
          "Neighborhood_GREATER DUWAMISH",
          "Neighborhood_EAST",
          "Neighborhood_DOWNTOWN",
          "Neighborhood_NORTHEAST",
          "PropertyGFAParking",
          "Neighborhood_CENTRAL",
          "BuildingType",
          "Neighborhood_BALLARD",
          "Neighborhood_SOUTHWEST",
          "Neighborhood_LAKE UNION",
          "Neighborhood_MAGNOLIA / QUEEN ANNE",
          "Neighborhood_SOUTHEAST",
          "Neighborhood_NORTHWEST",
          "Neighborhood_NORTH",
          "Neighborhood_DELRIDGE"
         ],
         "yaxis": "y"
        }
       ],
       "layout": {
        "barmode": "relative",
        "height": 800,
        "legend": {
         "tracegroupgap": 0
        },
        "template": {
         "data": {
          "bar": [
           {
            "error_x": {
             "color": "#2a3f5f"
            },
            "error_y": {
             "color": "#2a3f5f"
            },
            "marker": {
             "line": {
              "color": "#E5ECF6",
              "width": 0.5
             },
             "pattern": {
              "fillmode": "overlay",
              "size": 10,
              "solidity": 0.2
             }
            },
            "type": "bar"
           }
          ],
          "barpolar": [
           {
            "marker": {
             "line": {
              "color": "#E5ECF6",
              "width": 0.5
             },
             "pattern": {
              "fillmode": "overlay",
              "size": 10,
              "solidity": 0.2
             }
            },
            "type": "barpolar"
           }
          ],
          "carpet": [
           {
            "aaxis": {
             "endlinecolor": "#2a3f5f",
             "gridcolor": "white",
             "linecolor": "white",
             "minorgridcolor": "white",
             "startlinecolor": "#2a3f5f"
            },
            "baxis": {
             "endlinecolor": "#2a3f5f",
             "gridcolor": "white",
             "linecolor": "white",
             "minorgridcolor": "white",
             "startlinecolor": "#2a3f5f"
            },
            "type": "carpet"
           }
          ],
          "choropleth": [
           {
            "colorbar": {
             "outlinewidth": 0,
             "ticks": ""
            },
            "type": "choropleth"
           }
          ],
          "contour": [
           {
            "colorbar": {
             "outlinewidth": 0,
             "ticks": ""
            },
            "colorscale": [
             [
              0,
              "#0d0887"
             ],
             [
              0.1111111111111111,
              "#46039f"
             ],
             [
              0.2222222222222222,
              "#7201a8"
             ],
             [
              0.3333333333333333,
              "#9c179e"
             ],
             [
              0.4444444444444444,
              "#bd3786"
             ],
             [
              0.5555555555555556,
              "#d8576b"
             ],
             [
              0.6666666666666666,
              "#ed7953"
             ],
             [
              0.7777777777777778,
              "#fb9f3a"
             ],
             [
              0.8888888888888888,
              "#fdca26"
             ],
             [
              1,
              "#f0f921"
             ]
            ],
            "type": "contour"
           }
          ],
          "contourcarpet": [
           {
            "colorbar": {
             "outlinewidth": 0,
             "ticks": ""
            },
            "type": "contourcarpet"
           }
          ],
          "heatmap": [
           {
            "colorbar": {
             "outlinewidth": 0,
             "ticks": ""
            },
            "colorscale": [
             [
              0,
              "#0d0887"
             ],
             [
              0.1111111111111111,
              "#46039f"
             ],
             [
              0.2222222222222222,
              "#7201a8"
             ],
             [
              0.3333333333333333,
              "#9c179e"
             ],
             [
              0.4444444444444444,
              "#bd3786"
             ],
             [
              0.5555555555555556,
              "#d8576b"
             ],
             [
              0.6666666666666666,
              "#ed7953"
             ],
             [
              0.7777777777777778,
              "#fb9f3a"
             ],
             [
              0.8888888888888888,
              "#fdca26"
             ],
             [
              1,
              "#f0f921"
             ]
            ],
            "type": "heatmap"
           }
          ],
          "heatmapgl": [
           {
            "colorbar": {
             "outlinewidth": 0,
             "ticks": ""
            },
            "colorscale": [
             [
              0,
              "#0d0887"
             ],
             [
              0.1111111111111111,
              "#46039f"
             ],
             [
              0.2222222222222222,
              "#7201a8"
             ],
             [
              0.3333333333333333,
              "#9c179e"
             ],
             [
              0.4444444444444444,
              "#bd3786"
             ],
             [
              0.5555555555555556,
              "#d8576b"
             ],
             [
              0.6666666666666666,
              "#ed7953"
             ],
             [
              0.7777777777777778,
              "#fb9f3a"
             ],
             [
              0.8888888888888888,
              "#fdca26"
             ],
             [
              1,
              "#f0f921"
             ]
            ],
            "type": "heatmapgl"
           }
          ],
          "histogram": [
           {
            "marker": {
             "pattern": {
              "fillmode": "overlay",
              "size": 10,
              "solidity": 0.2
             }
            },
            "type": "histogram"
           }
          ],
          "histogram2d": [
           {
            "colorbar": {
             "outlinewidth": 0,
             "ticks": ""
            },
            "colorscale": [
             [
              0,
              "#0d0887"
             ],
             [
              0.1111111111111111,
              "#46039f"
             ],
             [
              0.2222222222222222,
              "#7201a8"
             ],
             [
              0.3333333333333333,
              "#9c179e"
             ],
             [
              0.4444444444444444,
              "#bd3786"
             ],
             [
              0.5555555555555556,
              "#d8576b"
             ],
             [
              0.6666666666666666,
              "#ed7953"
             ],
             [
              0.7777777777777778,
              "#fb9f3a"
             ],
             [
              0.8888888888888888,
              "#fdca26"
             ],
             [
              1,
              "#f0f921"
             ]
            ],
            "type": "histogram2d"
           }
          ],
          "histogram2dcontour": [
           {
            "colorbar": {
             "outlinewidth": 0,
             "ticks": ""
            },
            "colorscale": [
             [
              0,
              "#0d0887"
             ],
             [
              0.1111111111111111,
              "#46039f"
             ],
             [
              0.2222222222222222,
              "#7201a8"
             ],
             [
              0.3333333333333333,
              "#9c179e"
             ],
             [
              0.4444444444444444,
              "#bd3786"
             ],
             [
              0.5555555555555556,
              "#d8576b"
             ],
             [
              0.6666666666666666,
              "#ed7953"
             ],
             [
              0.7777777777777778,
              "#fb9f3a"
             ],
             [
              0.8888888888888888,
              "#fdca26"
             ],
             [
              1,
              "#f0f921"
             ]
            ],
            "type": "histogram2dcontour"
           }
          ],
          "mesh3d": [
           {
            "colorbar": {
             "outlinewidth": 0,
             "ticks": ""
            },
            "type": "mesh3d"
           }
          ],
          "parcoords": [
           {
            "line": {
             "colorbar": {
              "outlinewidth": 0,
              "ticks": ""
             }
            },
            "type": "parcoords"
           }
          ],
          "pie": [
           {
            "automargin": true,
            "type": "pie"
           }
          ],
          "scatter": [
           {
            "fillpattern": {
             "fillmode": "overlay",
             "size": 10,
             "solidity": 0.2
            },
            "type": "scatter"
           }
          ],
          "scatter3d": [
           {
            "line": {
             "colorbar": {
              "outlinewidth": 0,
              "ticks": ""
             }
            },
            "marker": {
             "colorbar": {
              "outlinewidth": 0,
              "ticks": ""
             }
            },
            "type": "scatter3d"
           }
          ],
          "scattercarpet": [
           {
            "marker": {
             "colorbar": {
              "outlinewidth": 0,
              "ticks": ""
             }
            },
            "type": "scattercarpet"
           }
          ],
          "scattergeo": [
           {
            "marker": {
             "colorbar": {
              "outlinewidth": 0,
              "ticks": ""
             }
            },
            "type": "scattergeo"
           }
          ],
          "scattergl": [
           {
            "marker": {
             "colorbar": {
              "outlinewidth": 0,
              "ticks": ""
             }
            },
            "type": "scattergl"
           }
          ],
          "scattermapbox": [
           {
            "marker": {
             "colorbar": {
              "outlinewidth": 0,
              "ticks": ""
             }
            },
            "type": "scattermapbox"
           }
          ],
          "scatterpolar": [
           {
            "marker": {
             "colorbar": {
              "outlinewidth": 0,
              "ticks": ""
             }
            },
            "type": "scatterpolar"
           }
          ],
          "scatterpolargl": [
           {
            "marker": {
             "colorbar": {
              "outlinewidth": 0,
              "ticks": ""
             }
            },
            "type": "scatterpolargl"
           }
          ],
          "scatterternary": [
           {
            "marker": {
             "colorbar": {
              "outlinewidth": 0,
              "ticks": ""
             }
            },
            "type": "scatterternary"
           }
          ],
          "surface": [
           {
            "colorbar": {
             "outlinewidth": 0,
             "ticks": ""
            },
            "colorscale": [
             [
              0,
              "#0d0887"
             ],
             [
              0.1111111111111111,
              "#46039f"
             ],
             [
              0.2222222222222222,
              "#7201a8"
             ],
             [
              0.3333333333333333,
              "#9c179e"
             ],
             [
              0.4444444444444444,
              "#bd3786"
             ],
             [
              0.5555555555555556,
              "#d8576b"
             ],
             [
              0.6666666666666666,
              "#ed7953"
             ],
             [
              0.7777777777777778,
              "#fb9f3a"
             ],
             [
              0.8888888888888888,
              "#fdca26"
             ],
             [
              1,
              "#f0f921"
             ]
            ],
            "type": "surface"
           }
          ],
          "table": [
           {
            "cells": {
             "fill": {
              "color": "#EBF0F8"
             },
             "line": {
              "color": "white"
             }
            },
            "header": {
             "fill": {
              "color": "#C8D4E3"
             },
             "line": {
              "color": "white"
             }
            },
            "type": "table"
           }
          ]
         },
         "layout": {
          "annotationdefaults": {
           "arrowcolor": "#2a3f5f",
           "arrowhead": 0,
           "arrowwidth": 1
          },
          "autotypenumbers": "strict",
          "coloraxis": {
           "colorbar": {
            "outlinewidth": 0,
            "ticks": ""
           }
          },
          "colorscale": {
           "diverging": [
            [
             0,
             "#8e0152"
            ],
            [
             0.1,
             "#c51b7d"
            ],
            [
             0.2,
             "#de77ae"
            ],
            [
             0.3,
             "#f1b6da"
            ],
            [
             0.4,
             "#fde0ef"
            ],
            [
             0.5,
             "#f7f7f7"
            ],
            [
             0.6,
             "#e6f5d0"
            ],
            [
             0.7,
             "#b8e186"
            ],
            [
             0.8,
             "#7fbc41"
            ],
            [
             0.9,
             "#4d9221"
            ],
            [
             1,
             "#276419"
            ]
           ],
           "sequential": [
            [
             0,
             "#0d0887"
            ],
            [
             0.1111111111111111,
             "#46039f"
            ],
            [
             0.2222222222222222,
             "#7201a8"
            ],
            [
             0.3333333333333333,
             "#9c179e"
            ],
            [
             0.4444444444444444,
             "#bd3786"
            ],
            [
             0.5555555555555556,
             "#d8576b"
            ],
            [
             0.6666666666666666,
             "#ed7953"
            ],
            [
             0.7777777777777778,
             "#fb9f3a"
            ],
            [
             0.8888888888888888,
             "#fdca26"
            ],
            [
             1,
             "#f0f921"
            ]
           ],
           "sequentialminus": [
            [
             0,
             "#0d0887"
            ],
            [
             0.1111111111111111,
             "#46039f"
            ],
            [
             0.2222222222222222,
             "#7201a8"
            ],
            [
             0.3333333333333333,
             "#9c179e"
            ],
            [
             0.4444444444444444,
             "#bd3786"
            ],
            [
             0.5555555555555556,
             "#d8576b"
            ],
            [
             0.6666666666666666,
             "#ed7953"
            ],
            [
             0.7777777777777778,
             "#fb9f3a"
            ],
            [
             0.8888888888888888,
             "#fdca26"
            ],
            [
             1,
             "#f0f921"
            ]
           ]
          },
          "colorway": [
           "#636efa",
           "#EF553B",
           "#00cc96",
           "#ab63fa",
           "#FFA15A",
           "#19d3f3",
           "#FF6692",
           "#B6E880",
           "#FF97FF",
           "#FECB52"
          ],
          "font": {
           "color": "#2a3f5f"
          },
          "geo": {
           "bgcolor": "white",
           "lakecolor": "white",
           "landcolor": "#E5ECF6",
           "showlakes": true,
           "showland": true,
           "subunitcolor": "white"
          },
          "hoverlabel": {
           "align": "left"
          },
          "hovermode": "closest",
          "mapbox": {
           "style": "light"
          },
          "paper_bgcolor": "white",
          "plot_bgcolor": "#E5ECF6",
          "polar": {
           "angularaxis": {
            "gridcolor": "white",
            "linecolor": "white",
            "ticks": ""
           },
           "bgcolor": "#E5ECF6",
           "radialaxis": {
            "gridcolor": "white",
            "linecolor": "white",
            "ticks": ""
           }
          },
          "scene": {
           "xaxis": {
            "backgroundcolor": "#E5ECF6",
            "gridcolor": "white",
            "gridwidth": 2,
            "linecolor": "white",
            "showbackground": true,
            "ticks": "",
            "zerolinecolor": "white"
           },
           "yaxis": {
            "backgroundcolor": "#E5ECF6",
            "gridcolor": "white",
            "gridwidth": 2,
            "linecolor": "white",
            "showbackground": true,
            "ticks": "",
            "zerolinecolor": "white"
           },
           "zaxis": {
            "backgroundcolor": "#E5ECF6",
            "gridcolor": "white",
            "gridwidth": 2,
            "linecolor": "white",
            "showbackground": true,
            "ticks": "",
            "zerolinecolor": "white"
           }
          },
          "shapedefaults": {
           "line": {
            "color": "#2a3f5f"
           }
          },
          "ternary": {
           "aaxis": {
            "gridcolor": "white",
            "linecolor": "white",
            "ticks": ""
           },
           "baxis": {
            "gridcolor": "white",
            "linecolor": "white",
            "ticks": ""
           },
           "bgcolor": "#E5ECF6",
           "caxis": {
            "gridcolor": "white",
            "linecolor": "white",
            "ticks": ""
           }
          },
          "title": {
           "x": 0.05
          },
          "xaxis": {
           "automargin": true,
           "gridcolor": "white",
           "linecolor": "white",
           "ticks": "",
           "title": {
            "standoff": 15
           },
           "zerolinecolor": "white",
           "zerolinewidth": 2
          },
          "yaxis": {
           "automargin": true,
           "gridcolor": "white",
           "linecolor": "white",
           "ticks": "",
           "title": {
            "standoff": 15
           },
           "zerolinecolor": "white",
           "zerolinewidth": 2
          }
         }
        },
        "title": {
         "text": "Feature Importances using RandomForestRegressor"
        },
        "xaxis": {
         "anchor": "y",
         "domain": [
          0,
          1
         ],
         "title": {
          "text": "Importance"
         }
        },
        "yaxis": {
         "anchor": "x",
         "domain": [
          0,
          1
         ],
         "title": {
          "text": "Feature"
         }
        }
       }
      }
     },
     "metadata": {},
     "output_type": "display_data"
    }
   ],
   "source": [
    "import pandas as pd\n",
    "import numpy as np\n",
    "from sklearn.model_selection import train_test_split\n",
    "from sklearn.ensemble import RandomForestRegressor\n",
    "import plotly.express as px\n",
    "\n",
    "\n",
    "\n",
    "y = df_scaled_without_energystarscore['TotalGHGEmissions']  # Supposition pour l'exemple\n",
    "X = df_scaled_without_energystarscore.drop(columns=['TotalGHGEmissions', 'SiteEnergyUse(kBtu)'])\n",
    "\n",
    "# Division en ensembles d'entraînement et de test\n",
    "X_train, X_test, y_train, y_test = train_test_split(X, y, test_size=0.2, random_state=42)\n",
    "\n",
    "# Entraînement du modèle RandomForestRegressor\n",
    "model = RandomForestRegressor(n_estimators=100, random_state=42)\n",
    "model.fit(X_train, y_train)\n",
    "\n",
    "# Obtention de l'importance des caractéristiques\n",
    "feature_importances = model.feature_importances_\n",
    "features = X.columns\n",
    "importances_df = pd.DataFrame({'Feature': features, 'Importance': feature_importances})\n",
    "\n",
    "# Visualisation de l'importance des caractéristiques avec Plotly\n",
    "fig = px.bar(importances_df.sort_values('Importance', ascending=False), \n",
    "             x='Importance', \n",
    "             y='Feature', \n",
    "             height=800,\n",
    "             title=\"Feature Importances using RandomForestRegressor\",\n",
    "             labels={'Feature':'Feature', 'Importance':'Importance'},\n",
    "             orientation='h')\n",
    "fig.show()\n"
   ]
  },
  {
   "cell_type": "markdown",
   "metadata": {},
   "source": [
    "# Nos analyses des features importances locales et globales nous permettent de choisir les variables importantes"
   ]
  },
  {
   "cell_type": "code",
   "execution_count": 20,
   "metadata": {},
   "outputs": [],
   "source": [
    "# create a new dataframe, with data from df_scaled_without_energystarscore with columns that have an importance greater than 0.01\n",
    "\n",
    "df_TGE = df_scaled_without_energystarscore[['NaturalGas(kBtu)', 'SteamUse(kBtu)', 'GHGEmissionsIntensity', 'NumberofBuildings', 'NumberofFloors', 'Age', 'SiteEUI(kBtu/sf)', 'TotalGHGEmissions']]"
   ]
  },
  {
   "cell_type": "markdown",
   "metadata": {},
   "source": [
    "## Nous avons maintenant nos deux datasets sur lesquels nous allons créer nos modèles\n",
    "- Pour SiteEnergyUse, nous avons le dataset df_SEU\n",
    "- Pour TotalGHGEmissions, nous avons le data df_TGE"
   ]
  },
  {
   "cell_type": "code",
   "execution_count": 21,
   "metadata": {},
   "outputs": [
    {
     "data": {
      "image/png": "[encoded data removed]",
      "text/plain": [
       "<Figure size 2500x1000 with 3 Axes>"
      ]
     },
     "metadata": {},
     "output_type": "display_data"
    }
   ],
   "source": [
    "DataAnalysis.show_columns_population(df_SEU, type=\"bar\")"
   ]
  },
  {
   "cell_type": "code",
   "execution_count": 22,
   "metadata": {},
   "outputs": [
    {
     "data": {
      "image/png": "[encoded data removed]",
      "text/plain": [
       "<Figure size 2500x1000 with 3 Axes>"
      ]
     },
     "metadata": {},
     "output_type": "display_data"
    }
   ],
   "source": [
    "DataAnalysis.show_columns_population(df_TGE, type=\"bar\")"
   ]
  },
  {
   "cell_type": "markdown",
   "metadata": {},
   "source": [
    "# Nos datasets sont prêts pour l'exploration des modèles consécutive. Il n'y a pas de valeur manquante, les valeurs sont normalisées, nous avons pris en compte l'importance des variables et leur correlations"
   ]
  },
  {
   "cell_type": "markdown",
   "metadata": {},
   "source": [
    "## Nous avons 2524 observations pour chacun des datasets."
   ]
  },
  {
   "cell_type": "code",
   "execution_count": 23,
   "metadata": {},
   "outputs": [],
   "source": [
    "df_TGE.to_csv('data/df_TGE.csv', index=False)\n",
    "df_SEU.to_csv('data/df_SEU.csv', index=False)"
   ]
  }
 ],
 "metadata": {
  "kernelspec": {
   "display_name": "oc-p3",
   "language": "python",
   "name": "python3"
  },
  "language_info": {
   "codemirror_mode": {
    "name": "ipython",
    "version": 3
   },
   "file_extension": ".py",
   "mimetype": "text/x-python",
   "name": "python",
   "nbconvert_exporter": "python",
   "pygments_lexer": "ipython3",
   "version": "3.10.13"
  }
 },
 "nbformat": 4,
 "nbformat_minor": 2
}
