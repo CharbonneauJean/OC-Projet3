{
 "cells": [
  {
   "cell_type": "markdown",
   "metadata": {},
   "source": [
    "# Projet 3 - Anticipez les besoins en consommation de bâtiments\n",
    "\n",
    "## Notebook de predictions\n",
    "\n",
    "Le but de ce notebook est d'utiliser le dataset clean généré par l'analyse exploratoire, et de créer des modèles prédictifs pour les consommations énergétiques et l'émission de CO2."
   ]
  },
  {
   "cell_type": "code",
   "execution_count": 169,
   "metadata": {},
   "outputs": [],
   "source": [
    "import pandas as pd\n",
    "from MLUtils import DataAnalysis, DataEngineering\n",
    "\n",
    "import warnings\n",
    "warnings.filterwarnings(\"ignore\")"
   ]
  },
  {
   "cell_type": "code",
   "execution_count": 170,
   "metadata": {},
   "outputs": [],
   "source": [
    "# Importation du jeu de données\n",
    "df = pd.read_csv('data/clean.csv')"
   ]
  },
  {
   "cell_type": "code",
   "execution_count": 171,
   "metadata": {},
   "outputs": [
    {
     "name": "stdout",
     "output_type": "stream",
     "text": [
      "<class 'pandas.core.frame.DataFrame'>\n",
      "RangeIndex: 3337 entries, 0 to 3336\n",
      "Data columns (total 32 columns):\n",
      " #   Column                              Non-Null Count  Dtype  \n",
      "---  ------                              --------------  -----  \n",
      " 0   BuildingType                        3337 non-null   int64  \n",
      " 1   PrimaryPropertyType                 3337 non-null   int64  \n",
      " 2   NumberofBuildings                   3337 non-null   float64\n",
      " 3   NumberofFloors                      3337 non-null   float64\n",
      " 4   PropertyGFAParking                  3337 non-null   int64  \n",
      " 5   ENERGYSTARScore                     2524 non-null   float64\n",
      " 6   SiteEUI(kBtu/sf)                    3337 non-null   float64\n",
      " 7   SiteEUIWN(kBtu/sf)                  3337 non-null   float64\n",
      " 8   SourceEUI(kBtu/sf)                  3337 non-null   float64\n",
      " 9   SourceEUIWN(kBtu/sf)                3337 non-null   float64\n",
      " 10  SiteEnergyUse(kBtu)                 3337 non-null   float64\n",
      " 11  SiteEnergyUseWN(kBtu)               3337 non-null   float64\n",
      " 12  SteamUse(kBtu)                      3337 non-null   float64\n",
      " 13  NaturalGas(therms)                  3337 non-null   float64\n",
      " 14  NaturalGas(kBtu)                    3337 non-null   float64\n",
      " 15  TotalGHGEmissions                   3337 non-null   float64\n",
      " 16  GHGEmissionsIntensity               3337 non-null   float64\n",
      " 17  Neighborhood_BALLARD                3337 non-null   float64\n",
      " 18  Neighborhood_CENTRAL                3337 non-null   float64\n",
      " 19  Neighborhood_DELRIDGE               3337 non-null   float64\n",
      " 20  Neighborhood_DOWNTOWN               3337 non-null   float64\n",
      " 21  Neighborhood_EAST                   3337 non-null   float64\n",
      " 22  Neighborhood_GREATER DUWAMISH       3337 non-null   float64\n",
      " 23  Neighborhood_LAKE UNION             3337 non-null   float64\n",
      " 24  Neighborhood_MAGNOLIA / QUEEN ANNE  3337 non-null   float64\n",
      " 25  Neighborhood_NORTH                  3337 non-null   float64\n",
      " 26  Neighborhood_NORTHEAST              3337 non-null   float64\n",
      " 27  Neighborhood_NORTHWEST              3337 non-null   float64\n",
      " 28  Neighborhood_SOUTHEAST              3337 non-null   float64\n",
      " 29  Neighborhood_SOUTHWEST              3337 non-null   float64\n",
      " 30  Age                                 3337 non-null   int64  \n",
      " 31  EnergyUse_Age_Ratio                 3337 non-null   float64\n",
      "dtypes: float64(28), int64(4)\n",
      "memory usage: 834.4 KB\n"
     ]
    }
   ],
   "source": [
    "df.info()"
   ]
  },
  {
   "cell_type": "code",
   "execution_count": 172,
   "metadata": {},
   "outputs": [
    {
     "data": {
      "text/html": [
       "<div>\n",
       "<style scoped>\n",
       "    .dataframe tbody tr th:only-of-type {\n",
       "        vertical-align: middle;\n",
       "    }\n",
       "\n",
       "    .dataframe tbody tr th {\n",
       "        vertical-align: top;\n",
       "    }\n",
       "\n",
       "    .dataframe thead th {\n",
       "        text-align: right;\n",
       "    }\n",
       "</style>\n",
       "<table border=\"1\" class=\"dataframe\">\n",
       "  <thead>\n",
       "    <tr style=\"text-align: right;\">\n",
       "      <th></th>\n",
       "      <th>BuildingType</th>\n",
       "      <th>PrimaryPropertyType</th>\n",
       "      <th>NumberofBuildings</th>\n",
       "      <th>NumberofFloors</th>\n",
       "      <th>PropertyGFAParking</th>\n",
       "      <th>ENERGYSTARScore</th>\n",
       "      <th>SiteEUI(kBtu/sf)</th>\n",
       "      <th>SiteEUIWN(kBtu/sf)</th>\n",
       "      <th>SourceEUI(kBtu/sf)</th>\n",
       "      <th>SourceEUIWN(kBtu/sf)</th>\n",
       "      <th>...</th>\n",
       "      <th>Neighborhood_GREATER DUWAMISH</th>\n",
       "      <th>Neighborhood_LAKE UNION</th>\n",
       "      <th>Neighborhood_MAGNOLIA / QUEEN ANNE</th>\n",
       "      <th>Neighborhood_NORTH</th>\n",
       "      <th>Neighborhood_NORTHEAST</th>\n",
       "      <th>Neighborhood_NORTHWEST</th>\n",
       "      <th>Neighborhood_SOUTHEAST</th>\n",
       "      <th>Neighborhood_SOUTHWEST</th>\n",
       "      <th>Age</th>\n",
       "      <th>EnergyUse_Age_Ratio</th>\n",
       "    </tr>\n",
       "  </thead>\n",
       "  <tbody>\n",
       "    <tr>\n",
       "      <th>count</th>\n",
       "      <td>3337.000000</td>\n",
       "      <td>3337.000000</td>\n",
       "      <td>3337.000000</td>\n",
       "      <td>3337.000000</td>\n",
       "      <td>3337.000000</td>\n",
       "      <td>2524.000000</td>\n",
       "      <td>3337.000000</td>\n",
       "      <td>3337.000000</td>\n",
       "      <td>3337.000000</td>\n",
       "      <td>3337.000000</td>\n",
       "      <td>...</td>\n",
       "      <td>3337.000000</td>\n",
       "      <td>3337.000000</td>\n",
       "      <td>3337.000000</td>\n",
       "      <td>3337.000000</td>\n",
       "      <td>3337.000000</td>\n",
       "      <td>3337.000000</td>\n",
       "      <td>3337.000000</td>\n",
       "      <td>3337.000000</td>\n",
       "      <td>3337.000000</td>\n",
       "      <td>3337.000000</td>\n",
       "    </tr>\n",
       "    <tr>\n",
       "      <th>mean</th>\n",
       "      <td>0.492958</td>\n",
       "      <td>1.002098</td>\n",
       "      <td>1.107582</td>\n",
       "      <td>1.198690</td>\n",
       "      <td>8063.891819</td>\n",
       "      <td>67.947306</td>\n",
       "      <td>55.075187</td>\n",
       "      <td>57.418430</td>\n",
       "      <td>135.028289</td>\n",
       "      <td>138.631885</td>\n",
       "      <td>...</td>\n",
       "      <td>0.112376</td>\n",
       "      <td>0.074618</td>\n",
       "      <td>0.125562</td>\n",
       "      <td>0.054840</td>\n",
       "      <td>0.082709</td>\n",
       "      <td>0.065328</td>\n",
       "      <td>0.028169</td>\n",
       "      <td>0.048846</td>\n",
       "      <td>54.464789</td>\n",
       "      <td>1.611193</td>\n",
       "    </tr>\n",
       "    <tr>\n",
       "      <th>std</th>\n",
       "      <td>0.500025</td>\n",
       "      <td>1.221925</td>\n",
       "      <td>2.118095</td>\n",
       "      <td>1.029832</td>\n",
       "      <td>32475.541333</td>\n",
       "      <td>26.851849</td>\n",
       "      <td>56.393783</td>\n",
       "      <td>57.270796</td>\n",
       "      <td>139.534209</td>\n",
       "      <td>139.315264</td>\n",
       "      <td>...</td>\n",
       "      <td>0.315876</td>\n",
       "      <td>0.262813</td>\n",
       "      <td>0.331405</td>\n",
       "      <td>0.227701</td>\n",
       "      <td>0.275483</td>\n",
       "      <td>0.247141</td>\n",
       "      <td>0.165480</td>\n",
       "      <td>0.215579</td>\n",
       "      <td>33.148610</td>\n",
       "      <td>2.348184</td>\n",
       "    </tr>\n",
       "    <tr>\n",
       "      <th>min</th>\n",
       "      <td>0.000000</td>\n",
       "      <td>0.000000</td>\n",
       "      <td>0.000000</td>\n",
       "      <td>-9.210340</td>\n",
       "      <td>0.000000</td>\n",
       "      <td>1.000000</td>\n",
       "      <td>0.400000</td>\n",
       "      <td>0.000000</td>\n",
       "      <td>0.000000</td>\n",
       "      <td>-2.100000</td>\n",
       "      <td>...</td>\n",
       "      <td>0.000000</td>\n",
       "      <td>0.000000</td>\n",
       "      <td>0.000000</td>\n",
       "      <td>0.000000</td>\n",
       "      <td>0.000000</td>\n",
       "      <td>0.000000</td>\n",
       "      <td>0.000000</td>\n",
       "      <td>0.000000</td>\n",
       "      <td>8.000000</td>\n",
       "      <td>0.006195</td>\n",
       "    </tr>\n",
       "    <tr>\n",
       "      <th>25%</th>\n",
       "      <td>0.000000</td>\n",
       "      <td>0.000000</td>\n",
       "      <td>1.000000</td>\n",
       "      <td>0.693197</td>\n",
       "      <td>0.000000</td>\n",
       "      <td>53.000000</td>\n",
       "      <td>28.000000</td>\n",
       "      <td>29.500000</td>\n",
       "      <td>74.900002</td>\n",
       "      <td>78.699997</td>\n",
       "      <td>...</td>\n",
       "      <td>0.000000</td>\n",
       "      <td>0.000000</td>\n",
       "      <td>0.000000</td>\n",
       "      <td>0.000000</td>\n",
       "      <td>0.000000</td>\n",
       "      <td>0.000000</td>\n",
       "      <td>0.000000</td>\n",
       "      <td>0.000000</td>\n",
       "      <td>26.000000</td>\n",
       "      <td>0.507143</td>\n",
       "    </tr>\n",
       "    <tr>\n",
       "      <th>50%</th>\n",
       "      <td>0.000000</td>\n",
       "      <td>0.000000</td>\n",
       "      <td>1.000000</td>\n",
       "      <td>1.386319</td>\n",
       "      <td>0.000000</td>\n",
       "      <td>75.000000</td>\n",
       "      <td>38.799999</td>\n",
       "      <td>41.000000</td>\n",
       "      <td>96.500000</td>\n",
       "      <td>101.400002</td>\n",
       "      <td>...</td>\n",
       "      <td>0.000000</td>\n",
       "      <td>0.000000</td>\n",
       "      <td>0.000000</td>\n",
       "      <td>0.000000</td>\n",
       "      <td>0.000000</td>\n",
       "      <td>0.000000</td>\n",
       "      <td>0.000000</td>\n",
       "      <td>0.000000</td>\n",
       "      <td>49.000000</td>\n",
       "      <td>0.861702</td>\n",
       "    </tr>\n",
       "    <tr>\n",
       "      <th>75%</th>\n",
       "      <td>1.000000</td>\n",
       "      <td>2.000000</td>\n",
       "      <td>1.000000</td>\n",
       "      <td>1.609458</td>\n",
       "      <td>0.000000</td>\n",
       "      <td>90.000000</td>\n",
       "      <td>60.599998</td>\n",
       "      <td>64.500000</td>\n",
       "      <td>144.800003</td>\n",
       "      <td>149.000000</td>\n",
       "      <td>...</td>\n",
       "      <td>0.000000</td>\n",
       "      <td>0.000000</td>\n",
       "      <td>0.000000</td>\n",
       "      <td>0.000000</td>\n",
       "      <td>0.000000</td>\n",
       "      <td>0.000000</td>\n",
       "      <td>0.000000</td>\n",
       "      <td>0.000000</td>\n",
       "      <td>75.000000</td>\n",
       "      <td>1.857778</td>\n",
       "    </tr>\n",
       "    <tr>\n",
       "      <th>max</th>\n",
       "      <td>1.000000</td>\n",
       "      <td>3.000000</td>\n",
       "      <td>111.000000</td>\n",
       "      <td>4.595121</td>\n",
       "      <td>512608.000000</td>\n",
       "      <td>100.000000</td>\n",
       "      <td>834.400024</td>\n",
       "      <td>834.400024</td>\n",
       "      <td>2620.000000</td>\n",
       "      <td>2620.000000</td>\n",
       "      <td>...</td>\n",
       "      <td>1.000000</td>\n",
       "      <td>1.000000</td>\n",
       "      <td>1.000000</td>\n",
       "      <td>1.000000</td>\n",
       "      <td>1.000000</td>\n",
       "      <td>1.000000</td>\n",
       "      <td>1.000000</td>\n",
       "      <td>1.000000</td>\n",
       "      <td>123.000000</td>\n",
       "      <td>53.963634</td>\n",
       "    </tr>\n",
       "  </tbody>\n",
       "</table>\n",
       "<p>8 rows × 32 columns</p>\n",
       "</div>"
      ],
      "text/plain": [
       "       BuildingType  PrimaryPropertyType  NumberofBuildings  NumberofFloors  \\\n",
       "count   3337.000000          3337.000000        3337.000000     3337.000000   \n",
       "mean       0.492958             1.002098           1.107582        1.198690   \n",
       "std        0.500025             1.221925           2.118095        1.029832   \n",
       "min        0.000000             0.000000           0.000000       -9.210340   \n",
       "25%        0.000000             0.000000           1.000000        0.693197   \n",
       "50%        0.000000             0.000000           1.000000        1.386319   \n",
       "75%        1.000000             2.000000           1.000000        1.609458   \n",
       "max        1.000000             3.000000         111.000000        4.595121   \n",
       "\n",
       "       PropertyGFAParking  ENERGYSTARScore  SiteEUI(kBtu/sf)  \\\n",
       "count         3337.000000      2524.000000       3337.000000   \n",
       "mean          8063.891819        67.947306         55.075187   \n",
       "std          32475.541333        26.851849         56.393783   \n",
       "min              0.000000         1.000000          0.400000   \n",
       "25%              0.000000        53.000000         28.000000   \n",
       "50%              0.000000        75.000000         38.799999   \n",
       "75%              0.000000        90.000000         60.599998   \n",
       "max         512608.000000       100.000000        834.400024   \n",
       "\n",
       "       SiteEUIWN(kBtu/sf)  SourceEUI(kBtu/sf)  SourceEUIWN(kBtu/sf)  ...  \\\n",
       "count         3337.000000         3337.000000           3337.000000  ...   \n",
       "mean            57.418430          135.028289            138.631885  ...   \n",
       "std             57.270796          139.534209            139.315264  ...   \n",
       "min              0.000000            0.000000             -2.100000  ...   \n",
       "25%             29.500000           74.900002             78.699997  ...   \n",
       "50%             41.000000           96.500000            101.400002  ...   \n",
       "75%             64.500000          144.800003            149.000000  ...   \n",
       "max            834.400024         2620.000000           2620.000000  ...   \n",
       "\n",
       "       Neighborhood_GREATER DUWAMISH  Neighborhood_LAKE UNION  \\\n",
       "count                    3337.000000              3337.000000   \n",
       "mean                        0.112376                 0.074618   \n",
       "std                         0.315876                 0.262813   \n",
       "min                         0.000000                 0.000000   \n",
       "25%                         0.000000                 0.000000   \n",
       "50%                         0.000000                 0.000000   \n",
       "75%                         0.000000                 0.000000   \n",
       "max                         1.000000                 1.000000   \n",
       "\n",
       "       Neighborhood_MAGNOLIA / QUEEN ANNE  Neighborhood_NORTH  \\\n",
       "count                         3337.000000         3337.000000   \n",
       "mean                             0.125562            0.054840   \n",
       "std                              0.331405            0.227701   \n",
       "min                              0.000000            0.000000   \n",
       "25%                              0.000000            0.000000   \n",
       "50%                              0.000000            0.000000   \n",
       "75%                              0.000000            0.000000   \n",
       "max                              1.000000            1.000000   \n",
       "\n",
       "       Neighborhood_NORTHEAST  Neighborhood_NORTHWEST  Neighborhood_SOUTHEAST  \\\n",
       "count             3337.000000             3337.000000             3337.000000   \n",
       "mean                 0.082709                0.065328                0.028169   \n",
       "std                  0.275483                0.247141                0.165480   \n",
       "min                  0.000000                0.000000                0.000000   \n",
       "25%                  0.000000                0.000000                0.000000   \n",
       "50%                  0.000000                0.000000                0.000000   \n",
       "75%                  0.000000                0.000000                0.000000   \n",
       "max                  1.000000                1.000000                1.000000   \n",
       "\n",
       "       Neighborhood_SOUTHWEST          Age  EnergyUse_Age_Ratio  \n",
       "count             3337.000000  3337.000000          3337.000000  \n",
       "mean                 0.048846    54.464789             1.611193  \n",
       "std                  0.215579    33.148610             2.348184  \n",
       "min                  0.000000     8.000000             0.006195  \n",
       "25%                  0.000000    26.000000             0.507143  \n",
       "50%                  0.000000    49.000000             0.861702  \n",
       "75%                  0.000000    75.000000             1.857778  \n",
       "max                  1.000000   123.000000            53.963634  \n",
       "\n",
       "[8 rows x 32 columns]"
      ]
     },
     "execution_count": 172,
     "metadata": {},
     "output_type": "execute_result"
    }
   ],
   "source": [
    "df.describe()"
   ]
  },
  {
   "cell_type": "markdown",
   "metadata": {},
   "source": [
    "#### Normalisation des données avec MinMaxScaler"
   ]
  },
  {
   "cell_type": "code",
   "execution_count": 173,
   "metadata": {},
   "outputs": [
    {
     "name": "stdout",
     "output_type": "stream",
     "text": [
      "   BuildingType  PrimaryPropertyType  NumberofBuildings  NumberofFloors  \\\n",
      "0           1.0             0.333333           0.009009        0.847147   \n",
      "1           1.0             0.333333           0.009009        0.840844   \n",
      "2           1.0             0.333333           0.009009        0.936145   \n",
      "3           1.0             0.333333           0.009009        0.833941   \n",
      "4           1.0             0.333333           0.009009        0.876517   \n",
      "\n",
      "   PropertyGFAParking  ENERGYSTARScore  SiteEUI(kBtu/sf)  SiteEUIWN(kBtu/sf)  \\\n",
      "0            0.000000         0.595960          0.097482            0.101031   \n",
      "1            0.029387         0.606061          0.113189            0.117330   \n",
      "2            0.383759         0.424242          0.114628            0.117090   \n",
      "3            0.000000         0.555556          0.132374            0.135786   \n",
      "4            0.120950         0.747475          0.137170            0.142258   \n",
      "\n",
      "   SourceEUI(kBtu/sf)  SourceEUIWN(kBtu/sf)  ...  Neighborhood_LAKE UNION  \\\n",
      "0            0.069656              0.072881  ...                      0.0   \n",
      "1            0.067214              0.069219  ...                      0.0   \n",
      "2            0.092328              0.093894  ...                      0.0   \n",
      "3            0.082519              0.086229  ...                      0.0   \n",
      "4            0.080687              0.083025  ...                      0.0   \n",
      "\n",
      "   Neighborhood_MAGNOLIA / QUEEN ANNE  Neighborhood_NORTH  \\\n",
      "0                                 0.0                 0.0   \n",
      "1                                 0.0                 0.0   \n",
      "2                                 0.0                 0.0   \n",
      "3                                 0.0                 0.0   \n",
      "4                                 0.0                 0.0   \n",
      "\n",
      "   Neighborhood_NORTHEAST  Neighborhood_NORTHWEST  Neighborhood_SOUTHEAST  \\\n",
      "0                     0.0                     0.0                     0.0   \n",
      "1                     0.0                     0.0                     0.0   \n",
      "2                     0.0                     0.0                     0.0   \n",
      "3                     0.0                     0.0                     0.0   \n",
      "4                     0.0                     0.0                     0.0   \n",
      "\n",
      "   Neighborhood_SOUTHWEST       Age  EnergyUse_Age_Ratio  index  \n",
      "0                     0.0  0.765217             0.015658      0  \n",
      "1                     0.0  0.165217             0.064957      1  \n",
      "2                     0.0  0.400000             0.032833      2  \n",
      "3                     0.0  0.773913             0.021055      3  \n",
      "4                     0.0  0.304348             0.049364      4  \n",
      "\n",
      "[5 rows x 33 columns]\n"
     ]
    }
   ],
   "source": [
    "from sklearn.preprocessing import MinMaxScaler\n",
    "import pandas as pd\n",
    "\n",
    "# Sélection des colonnes numériques\n",
    "numeric_columns = df.select_dtypes(include=['int64', 'float64']).columns\n",
    "\n",
    "# Sélection des colonnes non numériques\n",
    "non_numeric_columns = df.select_dtypes(exclude=['int64', 'float64']).columns\n",
    "\n",
    "# Création du scaler\n",
    "scaler = MinMaxScaler()\n",
    "\n",
    "# Application de la normalisation sur les colonnes numériques\n",
    "scaled_numeric_data = scaler.fit_transform(df[numeric_columns])\n",
    "\n",
    "# Création d'un DataFrame pour les données normalisées\n",
    "df_scaled_numeric = pd.DataFrame(scaled_numeric_data, columns=numeric_columns)\n",
    "\n",
    "# Combinaison des données numériques normalisées avec les données non numériques\n",
    "df_scaled = pd.concat([df_scaled_numeric, df[non_numeric_columns].reset_index()], axis=1)\n",
    "\n",
    "# Affichage des premières lignes pour vérifier la création de df_scaled\n",
    "print(df_scaled.head())\n",
    "\n"
   ]
  },
  {
   "cell_type": "markdown",
   "metadata": {},
   "source": [
    "TODO: Dropper les lignes sans energystarscore.\n",
    "Faire une prédiction de la colonne TotalGHGEmission.\n",
    "Ensuite faire le feature importance (mesurer les features qui ont le plus d'impact).\n",
    "Puis, déterminer si la colonne energystarscore est importante ou pas.\n",
    "Conclure sur l'utilité de garder cette colonne."
   ]
  },
  {
   "cell_type": "markdown",
   "metadata": {},
   "source": [
    "# Remplissage de la colonne ENERGYSTARScore en fonction des autres colonnes.\n",
    "\n",
    "Le dataset ne contenait pas tous les scores ENERGYSTAR. Nous allons tout d'abord créer et appliquer un modèle qui va remplir cette colonne."
   ]
  },
  {
   "cell_type": "code",
   "execution_count": 174,
   "metadata": {},
   "outputs": [],
   "source": [
    "from sklearn.model_selection import train_test_split\n",
    "\n",
    "from sklearn.metrics import mean_squared_error\n",
    "\n",
    "# Séparation du DataFrame en deux ensembles\n",
    "df_scaled_with_score = df_scaled[df_scaled['ENERGYSTARScore'].notna()]\n",
    "df_scaled_without_score = df_scaled[df_scaled['ENERGYSTARScore'].isna()]\n",
    "\n",
    "# Séparation des caractéristiques (X) et de la cible (y) - Assurez-vous de retirer 'ENERGYSTARScore'\n",
    "X = df_scaled_with_score.drop('ENERGYSTARScore', axis=1)\n",
    "y = df_scaled_with_score['ENERGYSTARScore']\n",
    "\n",
    "# Division en ensembles d'entraînement et de test\n",
    "X_train, X_test, y_train, y_test = train_test_split(X, y, test_size=0.2, random_state=42)"
   ]
  },
  {
   "cell_type": "code",
   "execution_count": 175,
   "metadata": {},
   "outputs": [
    {
     "name": "stdout",
     "output_type": "stream",
     "text": [
      "Mean Squared Error: 0.07550808174141319\n"
     ]
    }
   ],
   "source": [
    "from sklearn.linear_model import LinearRegression\n",
    "\n",
    "# Création et entraînement du modèle\n",
    "model = LinearRegression()\n",
    "model.fit(X_train, y_train)\n",
    "\n",
    "# Évaluation du modèle\n",
    "y_pred = model.predict(X_test)\n",
    "mse = mean_squared_error(y_test, y_pred)\n",
    "print(f\"Mean Squared Error: {mse}\")"
   ]
  },
  {
   "cell_type": "code",
   "execution_count": 176,
   "metadata": {},
   "outputs": [
    {
     "name": "stdout",
     "output_type": "stream",
     "text": [
      "Mean Squared Error: 0.07669224003897797\n"
     ]
    }
   ],
   "source": [
    "from sklearn.model_selection import train_test_split\n",
    "from sklearn.linear_model import ElasticNet\n",
    "\n",
    "\n",
    "# alpha et l1_ratio doivent être ajustés en fonction de vos données\n",
    "elastic_net_model = ElasticNet(alpha=0.1, l1_ratio=0.5, random_state=42)\n",
    "elastic_net_model.fit(X_train, y_train)\n",
    "\n",
    "# Prédictions et évaluation\n",
    "y_pred = elastic_net_model.predict(X_test)\n",
    "mse = mean_squared_error(y_test, y_pred)\n",
    "print(f\"Mean Squared Error: {mse}\")"
   ]
  },
  {
   "cell_type": "code",
   "execution_count": 177,
   "metadata": {},
   "outputs": [
    {
     "name": "stdout",
     "output_type": "stream",
     "text": [
      "Mean Squared Error (Lasso): 0.07669057896141265\n"
     ]
    }
   ],
   "source": [
    "from sklearn.linear_model import Lasso\n",
    "\n",
    "# Création et entraînement du modèle Lasso\n",
    "lasso_model = Lasso(alpha=0.1, random_state=42)\n",
    "lasso_model.fit(X_train, y_train)\n",
    "\n",
    "# Prédictions et évaluation\n",
    "y_pred_lasso = lasso_model.predict(X_test)\n",
    "mse_lasso = mean_squared_error(y_test, y_pred_lasso)\n",
    "print(f\"Mean Squared Error (Lasso): {mse_lasso}\")"
   ]
  },
  {
   "cell_type": "code",
   "execution_count": 178,
   "metadata": {},
   "outputs": [
    {
     "name": "stdout",
     "output_type": "stream",
     "text": [
      "Mean Squared Error (Ridge): 0.0692006690704025\n"
     ]
    }
   ],
   "source": [
    "from sklearn.linear_model import Ridge\n",
    "\n",
    "# Création et entraînement du modèle Ridge\n",
    "ridge_model = Ridge(alpha=1.0, random_state=42)\n",
    "ridge_model.fit(X_train, y_train)\n",
    "\n",
    "# Prédictions et évaluation\n",
    "y_pred_ridge = ridge_model.predict(X_test)\n",
    "mse_ridge = mean_squared_error(y_test, y_pred_ridge)\n",
    "print(f\"Mean Squared Error (Ridge): {mse_ridge}\")"
   ]
  },
  {
   "cell_type": "code",
   "execution_count": 179,
   "metadata": {},
   "outputs": [
    {
     "name": "stdout",
     "output_type": "stream",
     "text": [
      "Mean Squared Error (SVR): 0.07866175600048271\n"
     ]
    }
   ],
   "source": [
    "from sklearn.svm import SVR\n",
    "\n",
    "# Création et entraînement du modèle SVR\n",
    "svr_model = SVR(kernel='rbf')\n",
    "svr_model.fit(X_train, y_train)\n",
    "\n",
    "# Prédictions et évaluation\n",
    "y_pred_svr = svr_model.predict(X_test)\n",
    "mse_svr = mean_squared_error(y_test, y_pred_svr)\n",
    "print(f\"Mean Squared Error (SVR): {mse_svr}\")"
   ]
  },
  {
   "cell_type": "code",
   "execution_count": 180,
   "metadata": {},
   "outputs": [
    {
     "name": "stdout",
     "output_type": "stream",
     "text": [
      "Mean Squared Error (XGBoost): 0.03821928501112798\n"
     ]
    }
   ],
   "source": [
    "from xgboost import XGBRegressor\n",
    "\n",
    "# Création et entraînement du modèle XGBoost\n",
    "xgb_model = XGBRegressor(n_estimators=100, random_state=42)\n",
    "xgb_model.fit(X_train, y_train)\n",
    "\n",
    "# Prédictions et évaluation\n",
    "y_pred_xgb = xgb_model.predict(X_test)\n",
    "mse_xgb = mean_squared_error(y_test, y_pred_xgb)\n",
    "print(f\"Mean Squared Error (XGBoost): {mse_xgb}\")"
   ]
  },
  {
   "cell_type": "markdown",
   "metadata": {},
   "source": [
    "Le modèle XGBoost donne les meilleurs résultats. TODO: On l'utilise pour remplir les valeurs manquantes."
   ]
  },
  {
   "cell_type": "code",
   "execution_count": 181,
   "metadata": {},
   "outputs": [
    {
     "data": {
      "text/html": [
       "<div>\n",
       "<style scoped>\n",
       "    .dataframe tbody tr th:only-of-type {\n",
       "        vertical-align: middle;\n",
       "    }\n",
       "\n",
       "    .dataframe tbody tr th {\n",
       "        vertical-align: top;\n",
       "    }\n",
       "\n",
       "    .dataframe thead th {\n",
       "        text-align: right;\n",
       "    }\n",
       "</style>\n",
       "<table border=\"1\" class=\"dataframe\">\n",
       "  <thead>\n",
       "    <tr style=\"text-align: right;\">\n",
       "      <th></th>\n",
       "      <th>BuildingType</th>\n",
       "      <th>PrimaryPropertyType</th>\n",
       "      <th>NumberofBuildings</th>\n",
       "      <th>NumberofFloors</th>\n",
       "      <th>PropertyGFAParking</th>\n",
       "      <th>ENERGYSTARScore</th>\n",
       "      <th>SiteEUI(kBtu/sf)</th>\n",
       "      <th>SiteEUIWN(kBtu/sf)</th>\n",
       "      <th>SourceEUI(kBtu/sf)</th>\n",
       "      <th>SourceEUIWN(kBtu/sf)</th>\n",
       "      <th>...</th>\n",
       "      <th>Neighborhood_GREATER DUWAMISH</th>\n",
       "      <th>Neighborhood_LAKE UNION</th>\n",
       "      <th>Neighborhood_MAGNOLIA / QUEEN ANNE</th>\n",
       "      <th>Neighborhood_NORTH</th>\n",
       "      <th>Neighborhood_NORTHEAST</th>\n",
       "      <th>Neighborhood_NORTHWEST</th>\n",
       "      <th>Neighborhood_SOUTHEAST</th>\n",
       "      <th>Neighborhood_SOUTHWEST</th>\n",
       "      <th>Age</th>\n",
       "      <th>EnergyUse_Age_Ratio</th>\n",
       "    </tr>\n",
       "  </thead>\n",
       "  <tbody>\n",
       "    <tr>\n",
       "      <th>312</th>\n",
       "      <td>1</td>\n",
       "      <td>1</td>\n",
       "      <td>1.0</td>\n",
       "      <td>1.791776</td>\n",
       "      <td>0</td>\n",
       "      <td>53.0</td>\n",
       "      <td>70.599998</td>\n",
       "      <td>74.400002</td>\n",
       "      <td>221.800003</td>\n",
       "      <td>233.800003</td>\n",
       "      <td>...</td>\n",
       "      <td>0.0</td>\n",
       "      <td>0.0</td>\n",
       "      <td>0.0</td>\n",
       "      <td>1.0</td>\n",
       "      <td>0.0</td>\n",
       "      <td>0.0</td>\n",
       "      <td>0.0</td>\n",
       "      <td>0.0</td>\n",
       "      <td>44</td>\n",
       "      <td>1.604545</td>\n",
       "    </tr>\n",
       "    <tr>\n",
       "      <th>2808</th>\n",
       "      <td>0</td>\n",
       "      <td>0</td>\n",
       "      <td>1.0</td>\n",
       "      <td>1.386319</td>\n",
       "      <td>0</td>\n",
       "      <td>80.0</td>\n",
       "      <td>26.100000</td>\n",
       "      <td>27.500000</td>\n",
       "      <td>82.000000</td>\n",
       "      <td>86.300003</td>\n",
       "      <td>...</td>\n",
       "      <td>0.0</td>\n",
       "      <td>0.0</td>\n",
       "      <td>0.0</td>\n",
       "      <td>0.0</td>\n",
       "      <td>0.0</td>\n",
       "      <td>0.0</td>\n",
       "      <td>0.0</td>\n",
       "      <td>0.0</td>\n",
       "      <td>58</td>\n",
       "      <td>0.450000</td>\n",
       "    </tr>\n",
       "    <tr>\n",
       "      <th>406</th>\n",
       "      <td>1</td>\n",
       "      <td>3</td>\n",
       "      <td>0.0</td>\n",
       "      <td>0.693197</td>\n",
       "      <td>0</td>\n",
       "      <td>NaN</td>\n",
       "      <td>55.299999</td>\n",
       "      <td>55.799999</td>\n",
       "      <td>169.800003</td>\n",
       "      <td>170.300003</td>\n",
       "      <td>...</td>\n",
       "      <td>0.0</td>\n",
       "      <td>0.0</td>\n",
       "      <td>0.0</td>\n",
       "      <td>1.0</td>\n",
       "      <td>0.0</td>\n",
       "      <td>0.0</td>\n",
       "      <td>0.0</td>\n",
       "      <td>0.0</td>\n",
       "      <td>54</td>\n",
       "      <td>1.024074</td>\n",
       "    </tr>\n",
       "    <tr>\n",
       "      <th>1184</th>\n",
       "      <td>0</td>\n",
       "      <td>0</td>\n",
       "      <td>1.0</td>\n",
       "      <td>1.945924</td>\n",
       "      <td>0</td>\n",
       "      <td>95.0</td>\n",
       "      <td>37.400002</td>\n",
       "      <td>39.099998</td>\n",
       "      <td>92.300003</td>\n",
       "      <td>96.599998</td>\n",
       "      <td>...</td>\n",
       "      <td>0.0</td>\n",
       "      <td>0.0</td>\n",
       "      <td>0.0</td>\n",
       "      <td>0.0</td>\n",
       "      <td>0.0</td>\n",
       "      <td>1.0</td>\n",
       "      <td>0.0</td>\n",
       "      <td>0.0</td>\n",
       "      <td>17</td>\n",
       "      <td>2.200000</td>\n",
       "    </tr>\n",
       "    <tr>\n",
       "      <th>1399</th>\n",
       "      <td>0</td>\n",
       "      <td>0</td>\n",
       "      <td>1.0</td>\n",
       "      <td>1.945924</td>\n",
       "      <td>22098</td>\n",
       "      <td>42.0</td>\n",
       "      <td>60.099998</td>\n",
       "      <td>64.900002</td>\n",
       "      <td>124.099998</td>\n",
       "      <td>135.699997</td>\n",
       "      <td>...</td>\n",
       "      <td>0.0</td>\n",
       "      <td>0.0</td>\n",
       "      <td>0.0</td>\n",
       "      <td>0.0</td>\n",
       "      <td>1.0</td>\n",
       "      <td>0.0</td>\n",
       "      <td>0.0</td>\n",
       "      <td>0.0</td>\n",
       "      <td>49</td>\n",
       "      <td>1.226531</td>\n",
       "    </tr>\n",
       "    <tr>\n",
       "      <th>2460</th>\n",
       "      <td>0</td>\n",
       "      <td>0</td>\n",
       "      <td>1.0</td>\n",
       "      <td>1.098646</td>\n",
       "      <td>0</td>\n",
       "      <td>75.0</td>\n",
       "      <td>61.500000</td>\n",
       "      <td>66.699997</td>\n",
       "      <td>93.599998</td>\n",
       "      <td>99.800003</td>\n",
       "      <td>...</td>\n",
       "      <td>0.0</td>\n",
       "      <td>0.0</td>\n",
       "      <td>0.0</td>\n",
       "      <td>0.0</td>\n",
       "      <td>0.0</td>\n",
       "      <td>0.0</td>\n",
       "      <td>0.0</td>\n",
       "      <td>0.0</td>\n",
       "      <td>113</td>\n",
       "      <td>0.544248</td>\n",
       "    </tr>\n",
       "    <tr>\n",
       "      <th>2233</th>\n",
       "      <td>0</td>\n",
       "      <td>0</td>\n",
       "      <td>0.0</td>\n",
       "      <td>1.098646</td>\n",
       "      <td>0</td>\n",
       "      <td>98.0</td>\n",
       "      <td>23.299999</td>\n",
       "      <td>24.500000</td>\n",
       "      <td>49.799999</td>\n",
       "      <td>52.700001</td>\n",
       "      <td>...</td>\n",
       "      <td>1.0</td>\n",
       "      <td>0.0</td>\n",
       "      <td>0.0</td>\n",
       "      <td>0.0</td>\n",
       "      <td>0.0</td>\n",
       "      <td>0.0</td>\n",
       "      <td>0.0</td>\n",
       "      <td>0.0</td>\n",
       "      <td>98</td>\n",
       "      <td>0.237755</td>\n",
       "    </tr>\n",
       "    <tr>\n",
       "      <th>921</th>\n",
       "      <td>0</td>\n",
       "      <td>0</td>\n",
       "      <td>1.0</td>\n",
       "      <td>1.098646</td>\n",
       "      <td>0</td>\n",
       "      <td>85.0</td>\n",
       "      <td>33.099998</td>\n",
       "      <td>35.299999</td>\n",
       "      <td>103.900002</td>\n",
       "      <td>110.800003</td>\n",
       "      <td>...</td>\n",
       "      <td>0.0</td>\n",
       "      <td>0.0</td>\n",
       "      <td>0.0</td>\n",
       "      <td>0.0</td>\n",
       "      <td>1.0</td>\n",
       "      <td>0.0</td>\n",
       "      <td>0.0</td>\n",
       "      <td>0.0</td>\n",
       "      <td>82</td>\n",
       "      <td>0.403659</td>\n",
       "    </tr>\n",
       "    <tr>\n",
       "      <th>2600</th>\n",
       "      <td>0</td>\n",
       "      <td>0</td>\n",
       "      <td>1.0</td>\n",
       "      <td>1.098646</td>\n",
       "      <td>0</td>\n",
       "      <td>46.0</td>\n",
       "      <td>30.200001</td>\n",
       "      <td>32.000000</td>\n",
       "      <td>94.900002</td>\n",
       "      <td>100.500000</td>\n",
       "      <td>...</td>\n",
       "      <td>0.0</td>\n",
       "      <td>0.0</td>\n",
       "      <td>0.0</td>\n",
       "      <td>0.0</td>\n",
       "      <td>0.0</td>\n",
       "      <td>0.0</td>\n",
       "      <td>0.0</td>\n",
       "      <td>0.0</td>\n",
       "      <td>54</td>\n",
       "      <td>0.559259</td>\n",
       "    </tr>\n",
       "    <tr>\n",
       "      <th>1747</th>\n",
       "      <td>0</td>\n",
       "      <td>0</td>\n",
       "      <td>1.0</td>\n",
       "      <td>1.609458</td>\n",
       "      <td>0</td>\n",
       "      <td>61.0</td>\n",
       "      <td>27.700001</td>\n",
       "      <td>30.100000</td>\n",
       "      <td>70.800003</td>\n",
       "      <td>76.000000</td>\n",
       "      <td>...</td>\n",
       "      <td>0.0</td>\n",
       "      <td>0.0</td>\n",
       "      <td>0.0</td>\n",
       "      <td>0.0</td>\n",
       "      <td>0.0</td>\n",
       "      <td>0.0</td>\n",
       "      <td>0.0</td>\n",
       "      <td>1.0</td>\n",
       "      <td>47</td>\n",
       "      <td>0.589362</td>\n",
       "    </tr>\n",
       "  </tbody>\n",
       "</table>\n",
       "<p>10 rows × 32 columns</p>\n",
       "</div>"
      ],
      "text/plain": [
       "      BuildingType  PrimaryPropertyType  NumberofBuildings  NumberofFloors  \\\n",
       "312              1                    1                1.0        1.791776   \n",
       "2808             0                    0                1.0        1.386319   \n",
       "406              1                    3                0.0        0.693197   \n",
       "1184             0                    0                1.0        1.945924   \n",
       "1399             0                    0                1.0        1.945924   \n",
       "2460             0                    0                1.0        1.098646   \n",
       "2233             0                    0                0.0        1.098646   \n",
       "921              0                    0                1.0        1.098646   \n",
       "2600             0                    0                1.0        1.098646   \n",
       "1747             0                    0                1.0        1.609458   \n",
       "\n",
       "      PropertyGFAParking  ENERGYSTARScore  SiteEUI(kBtu/sf)  \\\n",
       "312                    0             53.0         70.599998   \n",
       "2808                   0             80.0         26.100000   \n",
       "406                    0              NaN         55.299999   \n",
       "1184                   0             95.0         37.400002   \n",
       "1399               22098             42.0         60.099998   \n",
       "2460                   0             75.0         61.500000   \n",
       "2233                   0             98.0         23.299999   \n",
       "921                    0             85.0         33.099998   \n",
       "2600                   0             46.0         30.200001   \n",
       "1747                   0             61.0         27.700001   \n",
       "\n",
       "      SiteEUIWN(kBtu/sf)  SourceEUI(kBtu/sf)  SourceEUIWN(kBtu/sf)  ...  \\\n",
       "312            74.400002          221.800003            233.800003  ...   \n",
       "2808           27.500000           82.000000             86.300003  ...   \n",
       "406            55.799999          169.800003            170.300003  ...   \n",
       "1184           39.099998           92.300003             96.599998  ...   \n",
       "1399           64.900002          124.099998            135.699997  ...   \n",
       "2460           66.699997           93.599998             99.800003  ...   \n",
       "2233           24.500000           49.799999             52.700001  ...   \n",
       "921            35.299999          103.900002            110.800003  ...   \n",
       "2600           32.000000           94.900002            100.500000  ...   \n",
       "1747           30.100000           70.800003             76.000000  ...   \n",
       "\n",
       "      Neighborhood_GREATER DUWAMISH  Neighborhood_LAKE UNION  \\\n",
       "312                             0.0                      0.0   \n",
       "2808                            0.0                      0.0   \n",
       "406                             0.0                      0.0   \n",
       "1184                            0.0                      0.0   \n",
       "1399                            0.0                      0.0   \n",
       "2460                            0.0                      0.0   \n",
       "2233                            1.0                      0.0   \n",
       "921                             0.0                      0.0   \n",
       "2600                            0.0                      0.0   \n",
       "1747                            0.0                      0.0   \n",
       "\n",
       "      Neighborhood_MAGNOLIA / QUEEN ANNE  Neighborhood_NORTH  \\\n",
       "312                                  0.0                 1.0   \n",
       "2808                                 0.0                 0.0   \n",
       "406                                  0.0                 1.0   \n",
       "1184                                 0.0                 0.0   \n",
       "1399                                 0.0                 0.0   \n",
       "2460                                 0.0                 0.0   \n",
       "2233                                 0.0                 0.0   \n",
       "921                                  0.0                 0.0   \n",
       "2600                                 0.0                 0.0   \n",
       "1747                                 0.0                 0.0   \n",
       "\n",
       "      Neighborhood_NORTHEAST  Neighborhood_NORTHWEST  Neighborhood_SOUTHEAST  \\\n",
       "312                      0.0                     0.0                     0.0   \n",
       "2808                     0.0                     0.0                     0.0   \n",
       "406                      0.0                     0.0                     0.0   \n",
       "1184                     0.0                     1.0                     0.0   \n",
       "1399                     1.0                     0.0                     0.0   \n",
       "2460                     0.0                     0.0                     0.0   \n",
       "2233                     0.0                     0.0                     0.0   \n",
       "921                      1.0                     0.0                     0.0   \n",
       "2600                     0.0                     0.0                     0.0   \n",
       "1747                     0.0                     0.0                     0.0   \n",
       "\n",
       "      Neighborhood_SOUTHWEST  Age  EnergyUse_Age_Ratio  \n",
       "312                      0.0   44             1.604545  \n",
       "2808                     0.0   58             0.450000  \n",
       "406                      0.0   54             1.024074  \n",
       "1184                     0.0   17             2.200000  \n",
       "1399                     0.0   49             1.226531  \n",
       "2460                     0.0  113             0.544248  \n",
       "2233                     0.0   98             0.237755  \n",
       "921                      0.0   82             0.403659  \n",
       "2600                     0.0   54             0.559259  \n",
       "1747                     1.0   47             0.589362  \n",
       "\n",
       "[10 rows x 32 columns]"
      ]
     },
     "execution_count": 181,
     "metadata": {},
     "output_type": "execute_result"
    }
   ],
   "source": [
    "df.sample(10)"
   ]
  },
  {
   "cell_type": "code",
   "execution_count": 182,
   "metadata": {},
   "outputs": [
    {
     "data": {
      "text/html": [
       "<div>\n",
       "<style scoped>\n",
       "    .dataframe tbody tr th:only-of-type {\n",
       "        vertical-align: middle;\n",
       "    }\n",
       "\n",
       "    .dataframe tbody tr th {\n",
       "        vertical-align: top;\n",
       "    }\n",
       "\n",
       "    .dataframe thead th {\n",
       "        text-align: right;\n",
       "    }\n",
       "</style>\n",
       "<table border=\"1\" class=\"dataframe\">\n",
       "  <thead>\n",
       "    <tr style=\"text-align: right;\">\n",
       "      <th></th>\n",
       "      <th>BuildingType</th>\n",
       "      <th>PrimaryPropertyType</th>\n",
       "      <th>NumberofBuildings</th>\n",
       "      <th>NumberofFloors</th>\n",
       "      <th>PropertyGFAParking</th>\n",
       "      <th>ENERGYSTARScore</th>\n",
       "      <th>SiteEUI(kBtu/sf)</th>\n",
       "      <th>SiteEUIWN(kBtu/sf)</th>\n",
       "      <th>SourceEUI(kBtu/sf)</th>\n",
       "      <th>SourceEUIWN(kBtu/sf)</th>\n",
       "      <th>...</th>\n",
       "      <th>Neighborhood_GREATER DUWAMISH</th>\n",
       "      <th>Neighborhood_LAKE UNION</th>\n",
       "      <th>Neighborhood_MAGNOLIA / QUEEN ANNE</th>\n",
       "      <th>Neighborhood_NORTH</th>\n",
       "      <th>Neighborhood_NORTHEAST</th>\n",
       "      <th>Neighborhood_NORTHWEST</th>\n",
       "      <th>Neighborhood_SOUTHEAST</th>\n",
       "      <th>Neighborhood_SOUTHWEST</th>\n",
       "      <th>Age</th>\n",
       "      <th>EnergyUse_Age_Ratio</th>\n",
       "    </tr>\n",
       "  </thead>\n",
       "  <tbody>\n",
       "    <tr>\n",
       "      <th>count</th>\n",
       "      <td>3337.000000</td>\n",
       "      <td>3337.000000</td>\n",
       "      <td>3337.000000</td>\n",
       "      <td>3337.000000</td>\n",
       "      <td>3337.000000</td>\n",
       "      <td>2524.000000</td>\n",
       "      <td>3337.000000</td>\n",
       "      <td>3337.000000</td>\n",
       "      <td>3337.000000</td>\n",
       "      <td>3337.000000</td>\n",
       "      <td>...</td>\n",
       "      <td>3337.000000</td>\n",
       "      <td>3337.000000</td>\n",
       "      <td>3337.000000</td>\n",
       "      <td>3337.000000</td>\n",
       "      <td>3337.000000</td>\n",
       "      <td>3337.000000</td>\n",
       "      <td>3337.000000</td>\n",
       "      <td>3337.000000</td>\n",
       "      <td>3337.000000</td>\n",
       "      <td>3337.000000</td>\n",
       "    </tr>\n",
       "    <tr>\n",
       "      <th>mean</th>\n",
       "      <td>0.492958</td>\n",
       "      <td>1.002098</td>\n",
       "      <td>1.107582</td>\n",
       "      <td>1.198690</td>\n",
       "      <td>8063.891819</td>\n",
       "      <td>67.947306</td>\n",
       "      <td>55.075187</td>\n",
       "      <td>57.418430</td>\n",
       "      <td>135.028289</td>\n",
       "      <td>138.631885</td>\n",
       "      <td>...</td>\n",
       "      <td>0.112376</td>\n",
       "      <td>0.074618</td>\n",
       "      <td>0.125562</td>\n",
       "      <td>0.054840</td>\n",
       "      <td>0.082709</td>\n",
       "      <td>0.065328</td>\n",
       "      <td>0.028169</td>\n",
       "      <td>0.048846</td>\n",
       "      <td>54.464789</td>\n",
       "      <td>1.611193</td>\n",
       "    </tr>\n",
       "    <tr>\n",
       "      <th>std</th>\n",
       "      <td>0.500025</td>\n",
       "      <td>1.221925</td>\n",
       "      <td>2.118095</td>\n",
       "      <td>1.029832</td>\n",
       "      <td>32475.541333</td>\n",
       "      <td>26.851849</td>\n",
       "      <td>56.393783</td>\n",
       "      <td>57.270796</td>\n",
       "      <td>139.534209</td>\n",
       "      <td>139.315264</td>\n",
       "      <td>...</td>\n",
       "      <td>0.315876</td>\n",
       "      <td>0.262813</td>\n",
       "      <td>0.331405</td>\n",
       "      <td>0.227701</td>\n",
       "      <td>0.275483</td>\n",
       "      <td>0.247141</td>\n",
       "      <td>0.165480</td>\n",
       "      <td>0.215579</td>\n",
       "      <td>33.148610</td>\n",
       "      <td>2.348184</td>\n",
       "    </tr>\n",
       "    <tr>\n",
       "      <th>min</th>\n",
       "      <td>0.000000</td>\n",
       "      <td>0.000000</td>\n",
       "      <td>0.000000</td>\n",
       "      <td>-9.210340</td>\n",
       "      <td>0.000000</td>\n",
       "      <td>1.000000</td>\n",
       "      <td>0.400000</td>\n",
       "      <td>0.000000</td>\n",
       "      <td>0.000000</td>\n",
       "      <td>-2.100000</td>\n",
       "      <td>...</td>\n",
       "      <td>0.000000</td>\n",
       "      <td>0.000000</td>\n",
       "      <td>0.000000</td>\n",
       "      <td>0.000000</td>\n",
       "      <td>0.000000</td>\n",
       "      <td>0.000000</td>\n",
       "      <td>0.000000</td>\n",
       "      <td>0.000000</td>\n",
       "      <td>8.000000</td>\n",
       "      <td>0.006195</td>\n",
       "    </tr>\n",
       "    <tr>\n",
       "      <th>25%</th>\n",
       "      <td>0.000000</td>\n",
       "      <td>0.000000</td>\n",
       "      <td>1.000000</td>\n",
       "      <td>0.693197</td>\n",
       "      <td>0.000000</td>\n",
       "      <td>53.000000</td>\n",
       "      <td>28.000000</td>\n",
       "      <td>29.500000</td>\n",
       "      <td>74.900002</td>\n",
       "      <td>78.699997</td>\n",
       "      <td>...</td>\n",
       "      <td>0.000000</td>\n",
       "      <td>0.000000</td>\n",
       "      <td>0.000000</td>\n",
       "      <td>0.000000</td>\n",
       "      <td>0.000000</td>\n",
       "      <td>0.000000</td>\n",
       "      <td>0.000000</td>\n",
       "      <td>0.000000</td>\n",
       "      <td>26.000000</td>\n",
       "      <td>0.507143</td>\n",
       "    </tr>\n",
       "    <tr>\n",
       "      <th>50%</th>\n",
       "      <td>0.000000</td>\n",
       "      <td>0.000000</td>\n",
       "      <td>1.000000</td>\n",
       "      <td>1.386319</td>\n",
       "      <td>0.000000</td>\n",
       "      <td>75.000000</td>\n",
       "      <td>38.799999</td>\n",
       "      <td>41.000000</td>\n",
       "      <td>96.500000</td>\n",
       "      <td>101.400002</td>\n",
       "      <td>...</td>\n",
       "      <td>0.000000</td>\n",
       "      <td>0.000000</td>\n",
       "      <td>0.000000</td>\n",
       "      <td>0.000000</td>\n",
       "      <td>0.000000</td>\n",
       "      <td>0.000000</td>\n",
       "      <td>0.000000</td>\n",
       "      <td>0.000000</td>\n",
       "      <td>49.000000</td>\n",
       "      <td>0.861702</td>\n",
       "    </tr>\n",
       "    <tr>\n",
       "      <th>75%</th>\n",
       "      <td>1.000000</td>\n",
       "      <td>2.000000</td>\n",
       "      <td>1.000000</td>\n",
       "      <td>1.609458</td>\n",
       "      <td>0.000000</td>\n",
       "      <td>90.000000</td>\n",
       "      <td>60.599998</td>\n",
       "      <td>64.500000</td>\n",
       "      <td>144.800003</td>\n",
       "      <td>149.000000</td>\n",
       "      <td>...</td>\n",
       "      <td>0.000000</td>\n",
       "      <td>0.000000</td>\n",
       "      <td>0.000000</td>\n",
       "      <td>0.000000</td>\n",
       "      <td>0.000000</td>\n",
       "      <td>0.000000</td>\n",
       "      <td>0.000000</td>\n",
       "      <td>0.000000</td>\n",
       "      <td>75.000000</td>\n",
       "      <td>1.857778</td>\n",
       "    </tr>\n",
       "    <tr>\n",
       "      <th>max</th>\n",
       "      <td>1.000000</td>\n",
       "      <td>3.000000</td>\n",
       "      <td>111.000000</td>\n",
       "      <td>4.595121</td>\n",
       "      <td>512608.000000</td>\n",
       "      <td>100.000000</td>\n",
       "      <td>834.400024</td>\n",
       "      <td>834.400024</td>\n",
       "      <td>2620.000000</td>\n",
       "      <td>2620.000000</td>\n",
       "      <td>...</td>\n",
       "      <td>1.000000</td>\n",
       "      <td>1.000000</td>\n",
       "      <td>1.000000</td>\n",
       "      <td>1.000000</td>\n",
       "      <td>1.000000</td>\n",
       "      <td>1.000000</td>\n",
       "      <td>1.000000</td>\n",
       "      <td>1.000000</td>\n",
       "      <td>123.000000</td>\n",
       "      <td>53.963634</td>\n",
       "    </tr>\n",
       "  </tbody>\n",
       "</table>\n",
       "<p>8 rows × 32 columns</p>\n",
       "</div>"
      ],
      "text/plain": [
       "       BuildingType  PrimaryPropertyType  NumberofBuildings  NumberofFloors  \\\n",
       "count   3337.000000          3337.000000        3337.000000     3337.000000   \n",
       "mean       0.492958             1.002098           1.107582        1.198690   \n",
       "std        0.500025             1.221925           2.118095        1.029832   \n",
       "min        0.000000             0.000000           0.000000       -9.210340   \n",
       "25%        0.000000             0.000000           1.000000        0.693197   \n",
       "50%        0.000000             0.000000           1.000000        1.386319   \n",
       "75%        1.000000             2.000000           1.000000        1.609458   \n",
       "max        1.000000             3.000000         111.000000        4.595121   \n",
       "\n",
       "       PropertyGFAParking  ENERGYSTARScore  SiteEUI(kBtu/sf)  \\\n",
       "count         3337.000000      2524.000000       3337.000000   \n",
       "mean          8063.891819        67.947306         55.075187   \n",
       "std          32475.541333        26.851849         56.393783   \n",
       "min              0.000000         1.000000          0.400000   \n",
       "25%              0.000000        53.000000         28.000000   \n",
       "50%              0.000000        75.000000         38.799999   \n",
       "75%              0.000000        90.000000         60.599998   \n",
       "max         512608.000000       100.000000        834.400024   \n",
       "\n",
       "       SiteEUIWN(kBtu/sf)  SourceEUI(kBtu/sf)  SourceEUIWN(kBtu/sf)  ...  \\\n",
       "count         3337.000000         3337.000000           3337.000000  ...   \n",
       "mean            57.418430          135.028289            138.631885  ...   \n",
       "std             57.270796          139.534209            139.315264  ...   \n",
       "min              0.000000            0.000000             -2.100000  ...   \n",
       "25%             29.500000           74.900002             78.699997  ...   \n",
       "50%             41.000000           96.500000            101.400002  ...   \n",
       "75%             64.500000          144.800003            149.000000  ...   \n",
       "max            834.400024         2620.000000           2620.000000  ...   \n",
       "\n",
       "       Neighborhood_GREATER DUWAMISH  Neighborhood_LAKE UNION  \\\n",
       "count                    3337.000000              3337.000000   \n",
       "mean                        0.112376                 0.074618   \n",
       "std                         0.315876                 0.262813   \n",
       "min                         0.000000                 0.000000   \n",
       "25%                         0.000000                 0.000000   \n",
       "50%                         0.000000                 0.000000   \n",
       "75%                         0.000000                 0.000000   \n",
       "max                         1.000000                 1.000000   \n",
       "\n",
       "       Neighborhood_MAGNOLIA / QUEEN ANNE  Neighborhood_NORTH  \\\n",
       "count                         3337.000000         3337.000000   \n",
       "mean                             0.125562            0.054840   \n",
       "std                              0.331405            0.227701   \n",
       "min                              0.000000            0.000000   \n",
       "25%                              0.000000            0.000000   \n",
       "50%                              0.000000            0.000000   \n",
       "75%                              0.000000            0.000000   \n",
       "max                              1.000000            1.000000   \n",
       "\n",
       "       Neighborhood_NORTHEAST  Neighborhood_NORTHWEST  Neighborhood_SOUTHEAST  \\\n",
       "count             3337.000000             3337.000000             3337.000000   \n",
       "mean                 0.082709                0.065328                0.028169   \n",
       "std                  0.275483                0.247141                0.165480   \n",
       "min                  0.000000                0.000000                0.000000   \n",
       "25%                  0.000000                0.000000                0.000000   \n",
       "50%                  0.000000                0.000000                0.000000   \n",
       "75%                  0.000000                0.000000                0.000000   \n",
       "max                  1.000000                1.000000                1.000000   \n",
       "\n",
       "       Neighborhood_SOUTHWEST          Age  EnergyUse_Age_Ratio  \n",
       "count             3337.000000  3337.000000          3337.000000  \n",
       "mean                 0.048846    54.464789             1.611193  \n",
       "std                  0.215579    33.148610             2.348184  \n",
       "min                  0.000000     8.000000             0.006195  \n",
       "25%                  0.000000    26.000000             0.507143  \n",
       "50%                  0.000000    49.000000             0.861702  \n",
       "75%                  0.000000    75.000000             1.857778  \n",
       "max                  1.000000   123.000000            53.963634  \n",
       "\n",
       "[8 rows x 32 columns]"
      ]
     },
     "execution_count": 182,
     "metadata": {},
     "output_type": "execute_result"
    }
   ],
   "source": [
    "df.describe()"
   ]
  },
  {
   "cell_type": "markdown",
   "metadata": {},
   "source": []
  },
  {
   "cell_type": "code",
   "execution_count": 183,
   "metadata": {},
   "outputs": [],
   "source": [
    "# write the resulting dataframe to a csv file\n",
    "df.to_csv('data/clean_with_score.csv', index=False)"
   ]
  },
  {
   "cell_type": "markdown",
   "metadata": {},
   "source": [
    "## On reprend le dataset original, pour déterminer si la colonne energystarscore est pertinente"
   ]
  },
  {
   "cell_type": "markdown",
   "metadata": {},
   "source": [
    "On reprend le csv initial"
   ]
  },
  {
   "cell_type": "code",
   "execution_count": 184,
   "metadata": {},
   "outputs": [],
   "source": [
    "df = pd.read_csv('data/clean.csv')"
   ]
  },
  {
   "cell_type": "code",
   "execution_count": 185,
   "metadata": {},
   "outputs": [],
   "source": [
    "# remove empty lines for the column 'ENERGYSTARScore'\n",
    "df = df[df['ENERGYSTARScore'].notna()]"
   ]
  },
  {
   "cell_type": "code",
   "execution_count": 186,
   "metadata": {},
   "outputs": [
    {
     "data": {
      "image/png": "[encoded data removed]",
      "text/plain": [
       "<Figure size 2500x1000 with 3 Axes>"
      ]
     },
     "metadata": {},
     "output_type": "display_data"
    }
   ],
   "source": [
    "DataAnalysis.show_columns_population(df, type=\"bar\")"
   ]
  },
  {
   "cell_type": "code",
   "execution_count": 187,
   "metadata": {},
   "outputs": [
    {
     "name": "stdout",
     "output_type": "stream",
     "text": [
      "<class 'pandas.core.frame.DataFrame'>\n",
      "Index: 2524 entries, 0 to 3332\n",
      "Data columns (total 32 columns):\n",
      " #   Column                              Non-Null Count  Dtype  \n",
      "---  ------                              --------------  -----  \n",
      " 0   BuildingType                        2524 non-null   int64  \n",
      " 1   PrimaryPropertyType                 2524 non-null   int64  \n",
      " 2   NumberofBuildings                   2524 non-null   float64\n",
      " 3   NumberofFloors                      2524 non-null   float64\n",
      " 4   PropertyGFAParking                  2524 non-null   int64  \n",
      " 5   ENERGYSTARScore                     2524 non-null   float64\n",
      " 6   SiteEUI(kBtu/sf)                    2524 non-null   float64\n",
      " 7   SiteEUIWN(kBtu/sf)                  2524 non-null   float64\n",
      " 8   SourceEUI(kBtu/sf)                  2524 non-null   float64\n",
      " 9   SourceEUIWN(kBtu/sf)                2524 non-null   float64\n",
      " 10  SiteEnergyUse(kBtu)                 2524 non-null   float64\n",
      " 11  SiteEnergyUseWN(kBtu)               2524 non-null   float64\n",
      " 12  SteamUse(kBtu)                      2524 non-null   float64\n",
      " 13  NaturalGas(therms)                  2524 non-null   float64\n",
      " 14  NaturalGas(kBtu)                    2524 non-null   float64\n",
      " 15  TotalGHGEmissions                   2524 non-null   float64\n",
      " 16  GHGEmissionsIntensity               2524 non-null   float64\n",
      " 17  Neighborhood_BALLARD                2524 non-null   float64\n",
      " 18  Neighborhood_CENTRAL                2524 non-null   float64\n",
      " 19  Neighborhood_DELRIDGE               2524 non-null   float64\n",
      " 20  Neighborhood_DOWNTOWN               2524 non-null   float64\n",
      " 21  Neighborhood_EAST                   2524 non-null   float64\n",
      " 22  Neighborhood_GREATER DUWAMISH       2524 non-null   float64\n",
      " 23  Neighborhood_LAKE UNION             2524 non-null   float64\n",
      " 24  Neighborhood_MAGNOLIA / QUEEN ANNE  2524 non-null   float64\n",
      " 25  Neighborhood_NORTH                  2524 non-null   float64\n",
      " 26  Neighborhood_NORTHEAST              2524 non-null   float64\n",
      " 27  Neighborhood_NORTHWEST              2524 non-null   float64\n",
      " 28  Neighborhood_SOUTHEAST              2524 non-null   float64\n",
      " 29  Neighborhood_SOUTHWEST              2524 non-null   float64\n",
      " 30  Age                                 2524 non-null   int64  \n",
      " 31  EnergyUse_Age_Ratio                 2524 non-null   float64\n",
      "dtypes: float64(28), int64(4)\n",
      "memory usage: 650.7 KB\n"
     ]
    }
   ],
   "source": [
    "df.info()"
   ]
  },
  {
   "cell_type": "markdown",
   "metadata": {},
   "source": [
    "#### Après avoir enlever les observations ayant un EnergyStarScore vide, nous obtenons un jeu de 2524 données.\n",
    "Nous allons maintenant faire une prédiction pour la colonne TotalGHGEmissions.\n",
    "\n"
   ]
  },
  {
   "cell_type": "code",
   "execution_count": 188,
   "metadata": {},
   "outputs": [],
   "source": [
    "from sklearn.ensemble import RandomForestRegressor\n",
    "from sklearn.model_selection import train_test_split\n",
    "from sklearn.metrics import mean_squared_error\n",
    "from sklearn.inspection import permutation_importance\n",
    "\n",
    "# Assuming 'df' is your DataFrame\n",
    "y = df['TotalGHGEmissions']\n",
    "X = df.drop('TotalGHGEmissions', axis=1)\n",
    "X = X.drop('SiteEnergyUseWN(kBtu)', axis=1)\n",
    "X = X.drop('SiteEnergyUse(kBtu)', axis=1)\n",
    "X = X.drop('GHGEmissionsIntensity', axis=1)\n",
    "X = X.drop('SourceEUI(kBtu/sf)', axis=1)\n",
    "X = X.drop('SourceEUIWN(kBtu/sf)', axis=1)\n",
    "X = X.drop('SiteEUI(kBtu/sf)', axis=1)\n",
    "X = X.drop('SiteEUIWN(kBtu/sf)', axis=1)\n",
    "# X = X.drop('ENERGYSTARScore', axis=1)\n",
    "X = X.drop('EnergyUse_Age_Ratio', axis=1)\n",
    "\n",
    "# Splitting the dataset into training and testing sets\n",
    "X_train, X_test, y_train, y_test = train_test_split(X, y, test_size=0.2, random_state=42)\n",
    "\n",
    "# Creating and training the Random Forest model\n",
    "model = RandomForestRegressor(n_estimators=100, random_state=42)\n",
    "model.fit(X_train, y_train)\n",
    "\n",
    "# Predicting and evaluating the model\n",
    "y_pred = model.predict(X_test)\n",
    "mse = mean_squared_error(y_test, y_pred)\n",
    "\n",
    "# Computing feature importance\n",
    "feature_importance = permutation_importance(model, X_test, y_test, n_repeats=10, random_state=42)\n",
    "importance_df = pd.DataFrame({'feature': X.columns, 'importance': feature_importance.importances_mean})\n",
    "importance_df = importance_df.sort_values(by='importance', ascending=False)\n"
   ]
  },
  {
   "cell_type": "code",
   "execution_count": 189,
   "metadata": {},
   "outputs": [
    {
     "data": {
      "text/html": [
       "<div>\n",
       "<style scoped>\n",
       "    .dataframe tbody tr th:only-of-type {\n",
       "        vertical-align: middle;\n",
       "    }\n",
       "\n",
       "    .dataframe tbody tr th {\n",
       "        vertical-align: top;\n",
       "    }\n",
       "\n",
       "    .dataframe thead th {\n",
       "        text-align: right;\n",
       "    }\n",
       "</style>\n",
       "<table border=\"1\" class=\"dataframe\">\n",
       "  <thead>\n",
       "    <tr style=\"text-align: right;\">\n",
       "      <th></th>\n",
       "      <th>feature</th>\n",
       "      <th>importance</th>\n",
       "    </tr>\n",
       "  </thead>\n",
       "  <tbody>\n",
       "    <tr>\n",
       "      <th>8</th>\n",
       "      <td>NaturalGas(kBtu)</td>\n",
       "      <td>0.330624</td>\n",
       "    </tr>\n",
       "    <tr>\n",
       "      <th>7</th>\n",
       "      <td>NaturalGas(therms)</td>\n",
       "      <td>0.304399</td>\n",
       "    </tr>\n",
       "    <tr>\n",
       "      <th>6</th>\n",
       "      <td>SteamUse(kBtu)</td>\n",
       "      <td>0.091641</td>\n",
       "    </tr>\n",
       "    <tr>\n",
       "      <th>3</th>\n",
       "      <td>NumberofFloors</td>\n",
       "      <td>0.048816</td>\n",
       "    </tr>\n",
       "    <tr>\n",
       "      <th>2</th>\n",
       "      <td>NumberofBuildings</td>\n",
       "      <td>0.028611</td>\n",
       "    </tr>\n",
       "    <tr>\n",
       "      <th>4</th>\n",
       "      <td>PropertyGFAParking</td>\n",
       "      <td>0.016105</td>\n",
       "    </tr>\n",
       "    <tr>\n",
       "      <th>5</th>\n",
       "      <td>ENERGYSTARScore</td>\n",
       "      <td>0.003280</td>\n",
       "    </tr>\n",
       "    <tr>\n",
       "      <th>12</th>\n",
       "      <td>Neighborhood_DOWNTOWN</td>\n",
       "      <td>0.003160</td>\n",
       "    </tr>\n",
       "    <tr>\n",
       "      <th>1</th>\n",
       "      <td>PrimaryPropertyType</td>\n",
       "      <td>0.001609</td>\n",
       "    </tr>\n",
       "    <tr>\n",
       "      <th>0</th>\n",
       "      <td>BuildingType</td>\n",
       "      <td>0.001578</td>\n",
       "    </tr>\n",
       "    <tr>\n",
       "      <th>14</th>\n",
       "      <td>Neighborhood_GREATER DUWAMISH</td>\n",
       "      <td>0.001224</td>\n",
       "    </tr>\n",
       "    <tr>\n",
       "      <th>19</th>\n",
       "      <td>Neighborhood_NORTHWEST</td>\n",
       "      <td>0.001210</td>\n",
       "    </tr>\n",
       "    <tr>\n",
       "      <th>10</th>\n",
       "      <td>Neighborhood_CENTRAL</td>\n",
       "      <td>0.000060</td>\n",
       "    </tr>\n",
       "    <tr>\n",
       "      <th>15</th>\n",
       "      <td>Neighborhood_LAKE UNION</td>\n",
       "      <td>0.000043</td>\n",
       "    </tr>\n",
       "    <tr>\n",
       "      <th>21</th>\n",
       "      <td>Neighborhood_SOUTHWEST</td>\n",
       "      <td>0.000031</td>\n",
       "    </tr>\n",
       "    <tr>\n",
       "      <th>13</th>\n",
       "      <td>Neighborhood_EAST</td>\n",
       "      <td>0.000012</td>\n",
       "    </tr>\n",
       "    <tr>\n",
       "      <th>9</th>\n",
       "      <td>Neighborhood_BALLARD</td>\n",
       "      <td>0.000012</td>\n",
       "    </tr>\n",
       "    <tr>\n",
       "      <th>20</th>\n",
       "      <td>Neighborhood_SOUTHEAST</td>\n",
       "      <td>0.000008</td>\n",
       "    </tr>\n",
       "    <tr>\n",
       "      <th>17</th>\n",
       "      <td>Neighborhood_NORTH</td>\n",
       "      <td>0.000004</td>\n",
       "    </tr>\n",
       "    <tr>\n",
       "      <th>11</th>\n",
       "      <td>Neighborhood_DELRIDGE</td>\n",
       "      <td>-0.000005</td>\n",
       "    </tr>\n",
       "    <tr>\n",
       "      <th>18</th>\n",
       "      <td>Neighborhood_NORTHEAST</td>\n",
       "      <td>-0.000119</td>\n",
       "    </tr>\n",
       "    <tr>\n",
       "      <th>16</th>\n",
       "      <td>Neighborhood_MAGNOLIA / QUEEN ANNE</td>\n",
       "      <td>-0.000138</td>\n",
       "    </tr>\n",
       "    <tr>\n",
       "      <th>22</th>\n",
       "      <td>Age</td>\n",
       "      <td>-0.000289</td>\n",
       "    </tr>\n",
       "  </tbody>\n",
       "</table>\n",
       "</div>"
      ],
      "text/plain": [
       "                               feature  importance\n",
       "8                     NaturalGas(kBtu)    0.330624\n",
       "7                   NaturalGas(therms)    0.304399\n",
       "6                       SteamUse(kBtu)    0.091641\n",
       "3                       NumberofFloors    0.048816\n",
       "2                    NumberofBuildings    0.028611\n",
       "4                   PropertyGFAParking    0.016105\n",
       "5                      ENERGYSTARScore    0.003280\n",
       "12               Neighborhood_DOWNTOWN    0.003160\n",
       "1                  PrimaryPropertyType    0.001609\n",
       "0                         BuildingType    0.001578\n",
       "14       Neighborhood_GREATER DUWAMISH    0.001224\n",
       "19              Neighborhood_NORTHWEST    0.001210\n",
       "10                Neighborhood_CENTRAL    0.000060\n",
       "15             Neighborhood_LAKE UNION    0.000043\n",
       "21              Neighborhood_SOUTHWEST    0.000031\n",
       "13                   Neighborhood_EAST    0.000012\n",
       "9                 Neighborhood_BALLARD    0.000012\n",
       "20              Neighborhood_SOUTHEAST    0.000008\n",
       "17                  Neighborhood_NORTH    0.000004\n",
       "11               Neighborhood_DELRIDGE   -0.000005\n",
       "18              Neighborhood_NORTHEAST   -0.000119\n",
       "16  Neighborhood_MAGNOLIA / QUEEN ANNE   -0.000138\n",
       "22                                 Age   -0.000289"
      ]
     },
     "execution_count": 189,
     "metadata": {},
     "output_type": "execute_result"
    }
   ],
   "source": [
    "importance_df.head(30)"
   ]
  },
  {
   "cell_type": "code",
   "execution_count": 190,
   "metadata": {},
   "outputs": [
    {
     "data": {
      "application/vnd.plotly.v1+json": {
       "config": {
        "plotlyServerURL": "https://plot.ly"
       },
       "data": [
        {
         "alignmentgroup": "True",
         "hovertemplate": "importance=%{x}<br>feature=%{y}<extra></extra>",
         "legendgroup": "",
         "marker": {
          "color": "#636efa",
          "pattern": {
           "shape": ""
          }
         },
         "name": "",
         "offsetgroup": "",
         "orientation": "h",
         "showlegend": false,
         "textposition": "auto",
         "type": "bar",
         "x": [
          0.000004149654216034637,
          0.00000812868724276994,
          0.000011667196289233406,
          0.000012265471454586674,
          0.00003121199715908629,
          0.00004303553803921556,
          0.00005956493214642755,
          0.0012103439879847966,
          0.0012243492845628533,
          0.0015779148746248085,
          0.0016085885544802503,
          0.003160003839699366,
          0.003280434100449392,
          0.016104761208019493,
          0.028610678544591917,
          0.04881622596768572,
          0.09164051507757418,
          0.3043991347775599,
          0.3306242128457092
         ],
         "xaxis": "x",
         "y": [
          "Neighborhood_NORTH",
          "Neighborhood_SOUTHEAST",
          "Neighborhood_BALLARD",
          "Neighborhood_EAST",
          "Neighborhood_SOUTHWEST",
          "Neighborhood_LAKE UNION",
          "Neighborhood_CENTRAL",
          "Neighborhood_NORTHWEST",
          "Neighborhood_GREATER DUWAMISH",
          "BuildingType",
          "PrimaryPropertyType",
          "Neighborhood_DOWNTOWN",
          "ENERGYSTARScore",
          "PropertyGFAParking",
          "NumberofBuildings",
          "NumberofFloors",
          "SteamUse(kBtu)",
          "NaturalGas(therms)",
          "NaturalGas(kBtu)"
         ],
         "yaxis": "y"
        }
       ],
       "layout": {
        "barmode": "relative",
        "legend": {
         "tracegroupgap": 0
        },
        "template": {
         "data": {
          "bar": [
           {
            "error_x": {
             "color": "#2a3f5f"
            },
            "error_y": {
             "color": "#2a3f5f"
            },
            "marker": {
             "line": {
              "color": "#E5ECF6",
              "width": 0.5
             },
             "pattern": {
              "fillmode": "overlay",
              "size": 10,
              "solidity": 0.2
             }
            },
            "type": "bar"
           }
          ],
          "barpolar": [
           {
            "marker": {
             "line": {
              "color": "#E5ECF6",
              "width": 0.5
             },
             "pattern": {
              "fillmode": "overlay",
              "size": 10,
              "solidity": 0.2
             }
            },
            "type": "barpolar"
           }
          ],
          "carpet": [
           {
            "aaxis": {
             "endlinecolor": "#2a3f5f",
             "gridcolor": "white",
             "linecolor": "white",
             "minorgridcolor": "white",
             "startlinecolor": "#2a3f5f"
            },
            "baxis": {
             "endlinecolor": "#2a3f5f",
             "gridcolor": "white",
             "linecolor": "white",
             "minorgridcolor": "white",
             "startlinecolor": "#2a3f5f"
            },
            "type": "carpet"
           }
          ],
          "choropleth": [
           {
            "colorbar": {
             "outlinewidth": 0,
             "ticks": ""
            },
            "type": "choropleth"
           }
          ],
          "contour": [
           {
            "colorbar": {
             "outlinewidth": 0,
             "ticks": ""
            },
            "colorscale": [
             [
              0,
              "#0d0887"
             ],
             [
              0.1111111111111111,
              "#46039f"
             ],
             [
              0.2222222222222222,
              "#7201a8"
             ],
             [
              0.3333333333333333,
              "#9c179e"
             ],
             [
              0.4444444444444444,
              "#bd3786"
             ],
             [
              0.5555555555555556,
              "#d8576b"
             ],
             [
              0.6666666666666666,
              "#ed7953"
             ],
             [
              0.7777777777777778,
              "#fb9f3a"
             ],
             [
              0.8888888888888888,
              "#fdca26"
             ],
             [
              1,
              "#f0f921"
             ]
            ],
            "type": "contour"
           }
          ],
          "contourcarpet": [
           {
            "colorbar": {
             "outlinewidth": 0,
             "ticks": ""
            },
            "type": "contourcarpet"
           }
          ],
          "heatmap": [
           {
            "colorbar": {
             "outlinewidth": 0,
             "ticks": ""
            },
            "colorscale": [
             [
              0,
              "#0d0887"
             ],
             [
              0.1111111111111111,
              "#46039f"
             ],
             [
              0.2222222222222222,
              "#7201a8"
             ],
             [
              0.3333333333333333,
              "#9c179e"
             ],
             [
              0.4444444444444444,
              "#bd3786"
             ],
             [
              0.5555555555555556,
              "#d8576b"
             ],
             [
              0.6666666666666666,
              "#ed7953"
             ],
             [
              0.7777777777777778,
              "#fb9f3a"
             ],
             [
              0.8888888888888888,
              "#fdca26"
             ],
             [
              1,
              "#f0f921"
             ]
            ],
            "type": "heatmap"
           }
          ],
          "heatmapgl": [
           {
            "colorbar": {
             "outlinewidth": 0,
             "ticks": ""
            },
            "colorscale": [
             [
              0,
              "#0d0887"
             ],
             [
              0.1111111111111111,
              "#46039f"
             ],
             [
              0.2222222222222222,
              "#7201a8"
             ],
             [
              0.3333333333333333,
              "#9c179e"
             ],
             [
              0.4444444444444444,
              "#bd3786"
             ],
             [
              0.5555555555555556,
              "#d8576b"
             ],
             [
              0.6666666666666666,
              "#ed7953"
             ],
             [
              0.7777777777777778,
              "#fb9f3a"
             ],
             [
              0.8888888888888888,
              "#fdca26"
             ],
             [
              1,
              "#f0f921"
             ]
            ],
            "type": "heatmapgl"
           }
          ],
          "histogram": [
           {
            "marker": {
             "pattern": {
              "fillmode": "overlay",
              "size": 10,
              "solidity": 0.2
             }
            },
            "type": "histogram"
           }
          ],
          "histogram2d": [
           {
            "colorbar": {
             "outlinewidth": 0,
             "ticks": ""
            },
            "colorscale": [
             [
              0,
              "#0d0887"
             ],
             [
              0.1111111111111111,
              "#46039f"
             ],
             [
              0.2222222222222222,
              "#7201a8"
             ],
             [
              0.3333333333333333,
              "#9c179e"
             ],
             [
              0.4444444444444444,
              "#bd3786"
             ],
             [
              0.5555555555555556,
              "#d8576b"
             ],
             [
              0.6666666666666666,
              "#ed7953"
             ],
             [
              0.7777777777777778,
              "#fb9f3a"
             ],
             [
              0.8888888888888888,
              "#fdca26"
             ],
             [
              1,
              "#f0f921"
             ]
            ],
            "type": "histogram2d"
           }
          ],
          "histogram2dcontour": [
           {
            "colorbar": {
             "outlinewidth": 0,
             "ticks": ""
            },
            "colorscale": [
             [
              0,
              "#0d0887"
             ],
             [
              0.1111111111111111,
              "#46039f"
             ],
             [
              0.2222222222222222,
              "#7201a8"
             ],
             [
              0.3333333333333333,
              "#9c179e"
             ],
             [
              0.4444444444444444,
              "#bd3786"
             ],
             [
              0.5555555555555556,
              "#d8576b"
             ],
             [
              0.6666666666666666,
              "#ed7953"
             ],
             [
              0.7777777777777778,
              "#fb9f3a"
             ],
             [
              0.8888888888888888,
              "#fdca26"
             ],
             [
              1,
              "#f0f921"
             ]
            ],
            "type": "histogram2dcontour"
           }
          ],
          "mesh3d": [
           {
            "colorbar": {
             "outlinewidth": 0,
             "ticks": ""
            },
            "type": "mesh3d"
           }
          ],
          "parcoords": [
           {
            "line": {
             "colorbar": {
              "outlinewidth": 0,
              "ticks": ""
             }
            },
            "type": "parcoords"
           }
          ],
          "pie": [
           {
            "automargin": true,
            "type": "pie"
           }
          ],
          "scatter": [
           {
            "fillpattern": {
             "fillmode": "overlay",
             "size": 10,
             "solidity": 0.2
            },
            "type": "scatter"
           }
          ],
          "scatter3d": [
           {
            "line": {
             "colorbar": {
              "outlinewidth": 0,
              "ticks": ""
             }
            },
            "marker": {
             "colorbar": {
              "outlinewidth": 0,
              "ticks": ""
             }
            },
            "type": "scatter3d"
           }
          ],
          "scattercarpet": [
           {
            "marker": {
             "colorbar": {
              "outlinewidth": 0,
              "ticks": ""
             }
            },
            "type": "scattercarpet"
           }
          ],
          "scattergeo": [
           {
            "marker": {
             "colorbar": {
              "outlinewidth": 0,
              "ticks": ""
             }
            },
            "type": "scattergeo"
           }
          ],
          "scattergl": [
           {
            "marker": {
             "colorbar": {
              "outlinewidth": 0,
              "ticks": ""
             }
            },
            "type": "scattergl"
           }
          ],
          "scattermapbox": [
           {
            "marker": {
             "colorbar": {
              "outlinewidth": 0,
              "ticks": ""
             }
            },
            "type": "scattermapbox"
           }
          ],
          "scatterpolar": [
           {
            "marker": {
             "colorbar": {
              "outlinewidth": 0,
              "ticks": ""
             }
            },
            "type": "scatterpolar"
           }
          ],
          "scatterpolargl": [
           {
            "marker": {
             "colorbar": {
              "outlinewidth": 0,
              "ticks": ""
             }
            },
            "type": "scatterpolargl"
           }
          ],
          "scatterternary": [
           {
            "marker": {
             "colorbar": {
              "outlinewidth": 0,
              "ticks": ""
             }
            },
            "type": "scatterternary"
           }
          ],
          "surface": [
           {
            "colorbar": {
             "outlinewidth": 0,
             "ticks": ""
            },
            "colorscale": [
             [
              0,
              "#0d0887"
             ],
             [
              0.1111111111111111,
              "#46039f"
             ],
             [
              0.2222222222222222,
              "#7201a8"
             ],
             [
              0.3333333333333333,
              "#9c179e"
             ],
             [
              0.4444444444444444,
              "#bd3786"
             ],
             [
              0.5555555555555556,
              "#d8576b"
             ],
             [
              0.6666666666666666,
              "#ed7953"
             ],
             [
              0.7777777777777778,
              "#fb9f3a"
             ],
             [
              0.8888888888888888,
              "#fdca26"
             ],
             [
              1,
              "#f0f921"
             ]
            ],
            "type": "surface"
           }
          ],
          "table": [
           {
            "cells": {
             "fill": {
              "color": "#EBF0F8"
             },
             "line": {
              "color": "white"
             }
            },
            "header": {
             "fill": {
              "color": "#C8D4E3"
             },
             "line": {
              "color": "white"
             }
            },
            "type": "table"
           }
          ]
         },
         "layout": {
          "annotationdefaults": {
           "arrowcolor": "#2a3f5f",
           "arrowhead": 0,
           "arrowwidth": 1
          },
          "autotypenumbers": "strict",
          "coloraxis": {
           "colorbar": {
            "outlinewidth": 0,
            "ticks": ""
           }
          },
          "colorscale": {
           "diverging": [
            [
             0,
             "#8e0152"
            ],
            [
             0.1,
             "#c51b7d"
            ],
            [
             0.2,
             "#de77ae"
            ],
            [
             0.3,
             "#f1b6da"
            ],
            [
             0.4,
             "#fde0ef"
            ],
            [
             0.5,
             "#f7f7f7"
            ],
            [
             0.6,
             "#e6f5d0"
            ],
            [
             0.7,
             "#b8e186"
            ],
            [
             0.8,
             "#7fbc41"
            ],
            [
             0.9,
             "#4d9221"
            ],
            [
             1,
             "#276419"
            ]
           ],
           "sequential": [
            [
             0,
             "#0d0887"
            ],
            [
             0.1111111111111111,
             "#46039f"
            ],
            [
             0.2222222222222222,
             "#7201a8"
            ],
            [
             0.3333333333333333,
             "#9c179e"
            ],
            [
             0.4444444444444444,
             "#bd3786"
            ],
            [
             0.5555555555555556,
             "#d8576b"
            ],
            [
             0.6666666666666666,
             "#ed7953"
            ],
            [
             0.7777777777777778,
             "#fb9f3a"
            ],
            [
             0.8888888888888888,
             "#fdca26"
            ],
            [
             1,
             "#f0f921"
            ]
           ],
           "sequentialminus": [
            [
             0,
             "#0d0887"
            ],
            [
             0.1111111111111111,
             "#46039f"
            ],
            [
             0.2222222222222222,
             "#7201a8"
            ],
            [
             0.3333333333333333,
             "#9c179e"
            ],
            [
             0.4444444444444444,
             "#bd3786"
            ],
            [
             0.5555555555555556,
             "#d8576b"
            ],
            [
             0.6666666666666666,
             "#ed7953"
            ],
            [
             0.7777777777777778,
             "#fb9f3a"
            ],
            [
             0.8888888888888888,
             "#fdca26"
            ],
            [
             1,
             "#f0f921"
            ]
           ]
          },
          "colorway": [
           "#636efa",
           "#EF553B",
           "#00cc96",
           "#ab63fa",
           "#FFA15A",
           "#19d3f3",
           "#FF6692",
           "#B6E880",
           "#FF97FF",
           "#FECB52"
          ],
          "font": {
           "color": "#2a3f5f"
          },
          "geo": {
           "bgcolor": "white",
           "lakecolor": "white",
           "landcolor": "#E5ECF6",
           "showlakes": true,
           "showland": true,
           "subunitcolor": "white"
          },
          "hoverlabel": {
           "align": "left"
          },
          "hovermode": "closest",
          "mapbox": {
           "style": "light"
          },
          "paper_bgcolor": "white",
          "plot_bgcolor": "#E5ECF6",
          "polar": {
           "angularaxis": {
            "gridcolor": "white",
            "linecolor": "white",
            "ticks": ""
           },
           "bgcolor": "#E5ECF6",
           "radialaxis": {
            "gridcolor": "white",
            "linecolor": "white",
            "ticks": ""
           }
          },
          "scene": {
           "xaxis": {
            "backgroundcolor": "#E5ECF6",
            "gridcolor": "white",
            "gridwidth": 2,
            "linecolor": "white",
            "showbackground": true,
            "ticks": "",
            "zerolinecolor": "white"
           },
           "yaxis": {
            "backgroundcolor": "#E5ECF6",
            "gridcolor": "white",
            "gridwidth": 2,
            "linecolor": "white",
            "showbackground": true,
            "ticks": "",
            "zerolinecolor": "white"
           },
           "zaxis": {
            "backgroundcolor": "#E5ECF6",
            "gridcolor": "white",
            "gridwidth": 2,
            "linecolor": "white",
            "showbackground": true,
            "ticks": "",
            "zerolinecolor": "white"
           }
          },
          "shapedefaults": {
           "line": {
            "color": "#2a3f5f"
           }
          },
          "ternary": {
           "aaxis": {
            "gridcolor": "white",
            "linecolor": "white",
            "ticks": ""
           },
           "baxis": {
            "gridcolor": "white",
            "linecolor": "white",
            "ticks": ""
           },
           "bgcolor": "#E5ECF6",
           "caxis": {
            "gridcolor": "white",
            "linecolor": "white",
            "ticks": ""
           }
          },
          "title": {
           "x": 0.05
          },
          "xaxis": {
           "automargin": true,
           "gridcolor": "white",
           "linecolor": "white",
           "ticks": "",
           "title": {
            "standoff": 15
           },
           "zerolinecolor": "white",
           "zerolinewidth": 2
          },
          "yaxis": {
           "automargin": true,
           "gridcolor": "white",
           "linecolor": "white",
           "ticks": "",
           "title": {
            "standoff": 15
           },
           "zerolinecolor": "white",
           "zerolinewidth": 2
          }
         }
        },
        "title": {
         "text": "Feature Importances in Predicting Total GHG Emissions"
        },
        "xaxis": {
         "anchor": "y",
         "domain": [
          0,
          1
         ],
         "title": {
          "text": "importance"
         }
        },
        "yaxis": {
         "anchor": "x",
         "domain": [
          0,
          1
         ],
         "title": {
          "text": "feature"
         }
        }
       }
      }
     },
     "metadata": {},
     "output_type": "display_data"
    }
   ],
   "source": [
    "import plotly.express as px\n",
    "\n",
    "# Drop negative values from the DataFrame\n",
    "importance_df = importance_df[importance_df['importance'] > 0]\n",
    "\n",
    "# Sorting values for better visualization\n",
    "importance_df_sorted = importance_df.sort_values(by='importance')\n",
    "\n",
    "# Creating the plot\n",
    "fig = px.bar(importance_df_sorted, x='importance', y='feature', orientation='h', title=\"Feature Importances in Predicting Total GHG Emissions\")\n",
    "fig.show()\n"
   ]
  },
  {
   "cell_type": "markdown",
   "metadata": {},
   "source": [
    "Nous allons prendre en considération les features importantes uniquement pour la suite de nos recherches de modèles de prédiction.\n",
    "Etant donné l'aspect subjectif de la colonne ENERGYSTARScore (et malgré sa relative importance pour prédire les émissions de co²), nous allons aussi l'enlever."
   ]
  },
  {
   "cell_type": "code",
   "execution_count": 191,
   "metadata": {},
   "outputs": [],
   "source": [
    "from sklearn.ensemble import RandomForestRegressor\n",
    "from sklearn.model_selection import train_test_split\n",
    "from sklearn.metrics import mean_squared_error\n",
    "from sklearn.inspection import permutation_importance\n",
    "\n",
    "# Assuming 'df' is your DataFrame\n",
    "y = df['SiteEnergyUse(kBtu)']\n",
    "X = df.drop('TotalGHGEmissions', axis=1)\n",
    "X = X.drop('SiteEnergyUseWN(kBtu)', axis=1)\n",
    "X = X.drop('SiteEnergyUse(kBtu)', axis=1)\n",
    "X = X.drop('GHGEmissionsIntensity', axis=1)\n",
    "X = X.drop('SourceEUI(kBtu/sf)', axis=1)\n",
    "X = X.drop('SourceEUIWN(kBtu/sf)', axis=1)\n",
    "X = X.drop('SiteEUI(kBtu/sf)', axis=1)\n",
    "X = X.drop('SiteEUIWN(kBtu/sf)', axis=1)\n",
    "# X = X.drop('ENERGYSTARScore', axis=1)\n",
    "X = X.drop('EnergyUse_Age_Ratio', axis=1)\n",
    "\n",
    "# Splitting the dataset into training and testing sets\n",
    "X_train, X_test, y_train, y_test = train_test_split(X, y, test_size=0.2, random_state=42)\n",
    "\n",
    "# Creating and training the Random Forest model\n",
    "model = RandomForestRegressor(n_estimators=100, random_state=42)\n",
    "model.fit(X_train, y_train)\n",
    "\n",
    "# Predicting and evaluating the model\n",
    "y_pred = model.predict(X_test)\n",
    "mse = mean_squared_error(y_test, y_pred)\n",
    "\n",
    "# Computing feature importance\n",
    "feature_importance = permutation_importance(model, X_test, y_test, n_repeats=10, random_state=42)\n",
    "importance_df = pd.DataFrame({'feature': X.columns, 'importance': feature_importance.importances_mean})\n",
    "importance_df = importance_df.sort_values(by='importance', ascending=False)\n"
   ]
  },
  {
   "cell_type": "code",
   "execution_count": 192,
   "metadata": {},
   "outputs": [
    {
     "data": {
      "text/html": [
       "<div>\n",
       "<style scoped>\n",
       "    .dataframe tbody tr th:only-of-type {\n",
       "        vertical-align: middle;\n",
       "    }\n",
       "\n",
       "    .dataframe tbody tr th {\n",
       "        vertical-align: top;\n",
       "    }\n",
       "\n",
       "    .dataframe thead th {\n",
       "        text-align: right;\n",
       "    }\n",
       "</style>\n",
       "<table border=\"1\" class=\"dataframe\">\n",
       "  <thead>\n",
       "    <tr style=\"text-align: right;\">\n",
       "      <th></th>\n",
       "      <th>feature</th>\n",
       "      <th>importance</th>\n",
       "    </tr>\n",
       "  </thead>\n",
       "  <tbody>\n",
       "    <tr>\n",
       "      <th>3</th>\n",
       "      <td>NumberofFloors</td>\n",
       "      <td>0.231305</td>\n",
       "    </tr>\n",
       "    <tr>\n",
       "      <th>7</th>\n",
       "      <td>NaturalGas(therms)</td>\n",
       "      <td>0.060558</td>\n",
       "    </tr>\n",
       "    <tr>\n",
       "      <th>8</th>\n",
       "      <td>NaturalGas(kBtu)</td>\n",
       "      <td>0.054282</td>\n",
       "    </tr>\n",
       "    <tr>\n",
       "      <th>4</th>\n",
       "      <td>PropertyGFAParking</td>\n",
       "      <td>0.051944</td>\n",
       "    </tr>\n",
       "    <tr>\n",
       "      <th>5</th>\n",
       "      <td>ENERGYSTARScore</td>\n",
       "      <td>0.027396</td>\n",
       "    </tr>\n",
       "    <tr>\n",
       "      <th>1</th>\n",
       "      <td>PrimaryPropertyType</td>\n",
       "      <td>0.017891</td>\n",
       "    </tr>\n",
       "    <tr>\n",
       "      <th>0</th>\n",
       "      <td>BuildingType</td>\n",
       "      <td>0.012414</td>\n",
       "    </tr>\n",
       "    <tr>\n",
       "      <th>12</th>\n",
       "      <td>Neighborhood_DOWNTOWN</td>\n",
       "      <td>0.004391</td>\n",
       "    </tr>\n",
       "    <tr>\n",
       "      <th>2</th>\n",
       "      <td>NumberofBuildings</td>\n",
       "      <td>0.002739</td>\n",
       "    </tr>\n",
       "    <tr>\n",
       "      <th>6</th>\n",
       "      <td>SteamUse(kBtu)</td>\n",
       "      <td>0.002534</td>\n",
       "    </tr>\n",
       "    <tr>\n",
       "      <th>14</th>\n",
       "      <td>Neighborhood_GREATER DUWAMISH</td>\n",
       "      <td>0.001936</td>\n",
       "    </tr>\n",
       "    <tr>\n",
       "      <th>15</th>\n",
       "      <td>Neighborhood_LAKE UNION</td>\n",
       "      <td>0.000231</td>\n",
       "    </tr>\n",
       "    <tr>\n",
       "      <th>10</th>\n",
       "      <td>Neighborhood_CENTRAL</td>\n",
       "      <td>0.000072</td>\n",
       "    </tr>\n",
       "    <tr>\n",
       "      <th>9</th>\n",
       "      <td>Neighborhood_BALLARD</td>\n",
       "      <td>0.000059</td>\n",
       "    </tr>\n",
       "    <tr>\n",
       "      <th>20</th>\n",
       "      <td>Neighborhood_SOUTHEAST</td>\n",
       "      <td>0.000035</td>\n",
       "    </tr>\n",
       "    <tr>\n",
       "      <th>19</th>\n",
       "      <td>Neighborhood_NORTHWEST</td>\n",
       "      <td>0.000034</td>\n",
       "    </tr>\n",
       "    <tr>\n",
       "      <th>21</th>\n",
       "      <td>Neighborhood_SOUTHWEST</td>\n",
       "      <td>0.000017</td>\n",
       "    </tr>\n",
       "    <tr>\n",
       "      <th>17</th>\n",
       "      <td>Neighborhood_NORTH</td>\n",
       "      <td>-0.000008</td>\n",
       "    </tr>\n",
       "    <tr>\n",
       "      <th>13</th>\n",
       "      <td>Neighborhood_EAST</td>\n",
       "      <td>-0.000076</td>\n",
       "    </tr>\n",
       "    <tr>\n",
       "      <th>11</th>\n",
       "      <td>Neighborhood_DELRIDGE</td>\n",
       "      <td>-0.000093</td>\n",
       "    </tr>\n",
       "    <tr>\n",
       "      <th>16</th>\n",
       "      <td>Neighborhood_MAGNOLIA / QUEEN ANNE</td>\n",
       "      <td>-0.000104</td>\n",
       "    </tr>\n",
       "    <tr>\n",
       "      <th>18</th>\n",
       "      <td>Neighborhood_NORTHEAST</td>\n",
       "      <td>-0.000227</td>\n",
       "    </tr>\n",
       "    <tr>\n",
       "      <th>22</th>\n",
       "      <td>Age</td>\n",
       "      <td>-0.003610</td>\n",
       "    </tr>\n",
       "  </tbody>\n",
       "</table>\n",
       "</div>"
      ],
      "text/plain": [
       "                               feature  importance\n",
       "3                       NumberofFloors    0.231305\n",
       "7                   NaturalGas(therms)    0.060558\n",
       "8                     NaturalGas(kBtu)    0.054282\n",
       "4                   PropertyGFAParking    0.051944\n",
       "5                      ENERGYSTARScore    0.027396\n",
       "1                  PrimaryPropertyType    0.017891\n",
       "0                         BuildingType    0.012414\n",
       "12               Neighborhood_DOWNTOWN    0.004391\n",
       "2                    NumberofBuildings    0.002739\n",
       "6                       SteamUse(kBtu)    0.002534\n",
       "14       Neighborhood_GREATER DUWAMISH    0.001936\n",
       "15             Neighborhood_LAKE UNION    0.000231\n",
       "10                Neighborhood_CENTRAL    0.000072\n",
       "9                 Neighborhood_BALLARD    0.000059\n",
       "20              Neighborhood_SOUTHEAST    0.000035\n",
       "19              Neighborhood_NORTHWEST    0.000034\n",
       "21              Neighborhood_SOUTHWEST    0.000017\n",
       "17                  Neighborhood_NORTH   -0.000008\n",
       "13                   Neighborhood_EAST   -0.000076\n",
       "11               Neighborhood_DELRIDGE   -0.000093\n",
       "16  Neighborhood_MAGNOLIA / QUEEN ANNE   -0.000104\n",
       "18              Neighborhood_NORTHEAST   -0.000227\n",
       "22                                 Age   -0.003610"
      ]
     },
     "execution_count": 192,
     "metadata": {},
     "output_type": "execute_result"
    }
   ],
   "source": [
    "importance_df.head(30)"
   ]
  },
  {
   "cell_type": "code",
   "execution_count": 193,
   "metadata": {},
   "outputs": [
    {
     "data": {
      "application/vnd.plotly.v1+json": {
       "config": {
        "plotlyServerURL": "https://plot.ly"
       },
       "data": [
        {
         "alignmentgroup": "True",
         "hovertemplate": "importance=%{x}<br>feature=%{y}<extra></extra>",
         "legendgroup": "",
         "marker": {
          "color": "#636efa",
          "pattern": {
           "shape": ""
          }
         },
         "name": "",
         "offsetgroup": "",
         "orientation": "h",
         "showlegend": false,
         "textposition": "auto",
         "type": "bar",
         "x": [
          0.000017137805030398302,
          0.000034208493966148,
          0.000035155859856794705,
          0.00005868093706584698,
          0.00007242715726960559,
          0.00023058696190136896,
          0.0019361763701465473,
          0.002533596235139246,
          0.002739394064153122,
          0.004391002654630094,
          0.012413526595706815,
          0.017890966818730824,
          0.027395998976294265,
          0.05194365814870274,
          0.05428212822253801,
          0.060558466828175006,
          0.23130483957655792
         ],
         "xaxis": "x",
         "y": [
          "Neighborhood_SOUTHWEST",
          "Neighborhood_NORTHWEST",
          "Neighborhood_SOUTHEAST",
          "Neighborhood_BALLARD",
          "Neighborhood_CENTRAL",
          "Neighborhood_LAKE UNION",
          "Neighborhood_GREATER DUWAMISH",
          "SteamUse(kBtu)",
          "NumberofBuildings",
          "Neighborhood_DOWNTOWN",
          "BuildingType",
          "PrimaryPropertyType",
          "ENERGYSTARScore",
          "PropertyGFAParking",
          "NaturalGas(kBtu)",
          "NaturalGas(therms)",
          "NumberofFloors"
         ],
         "yaxis": "y"
        }
       ],
       "layout": {
        "barmode": "relative",
        "legend": {
         "tracegroupgap": 0
        },
        "template": {
         "data": {
          "bar": [
           {
            "error_x": {
             "color": "#2a3f5f"
            },
            "error_y": {
             "color": "#2a3f5f"
            },
            "marker": {
             "line": {
              "color": "#E5ECF6",
              "width": 0.5
             },
             "pattern": {
              "fillmode": "overlay",
              "size": 10,
              "solidity": 0.2
             }
            },
            "type": "bar"
           }
          ],
          "barpolar": [
           {
            "marker": {
             "line": {
              "color": "#E5ECF6",
              "width": 0.5
             },
             "pattern": {
              "fillmode": "overlay",
              "size": 10,
              "solidity": 0.2
             }
            },
            "type": "barpolar"
           }
          ],
          "carpet": [
           {
            "aaxis": {
             "endlinecolor": "#2a3f5f",
             "gridcolor": "white",
             "linecolor": "white",
             "minorgridcolor": "white",
             "startlinecolor": "#2a3f5f"
            },
            "baxis": {
             "endlinecolor": "#2a3f5f",
             "gridcolor": "white",
             "linecolor": "white",
             "minorgridcolor": "white",
             "startlinecolor": "#2a3f5f"
            },
            "type": "carpet"
           }
          ],
          "choropleth": [
           {
            "colorbar": {
             "outlinewidth": 0,
             "ticks": ""
            },
            "type": "choropleth"
           }
          ],
          "contour": [
           {
            "colorbar": {
             "outlinewidth": 0,
             "ticks": ""
            },
            "colorscale": [
             [
              0,
              "#0d0887"
             ],
             [
              0.1111111111111111,
              "#46039f"
             ],
             [
              0.2222222222222222,
              "#7201a8"
             ],
             [
              0.3333333333333333,
              "#9c179e"
             ],
             [
              0.4444444444444444,
              "#bd3786"
             ],
             [
              0.5555555555555556,
              "#d8576b"
             ],
             [
              0.6666666666666666,
              "#ed7953"
             ],
             [
              0.7777777777777778,
              "#fb9f3a"
             ],
             [
              0.8888888888888888,
              "#fdca26"
             ],
             [
              1,
              "#f0f921"
             ]
            ],
            "type": "contour"
           }
          ],
          "contourcarpet": [
           {
            "colorbar": {
             "outlinewidth": 0,
             "ticks": ""
            },
            "type": "contourcarpet"
           }
          ],
          "heatmap": [
           {
            "colorbar": {
             "outlinewidth": 0,
             "ticks": ""
            },
            "colorscale": [
             [
              0,
              "#0d0887"
             ],
             [
              0.1111111111111111,
              "#46039f"
             ],
             [
              0.2222222222222222,
              "#7201a8"
             ],
             [
              0.3333333333333333,
              "#9c179e"
             ],
             [
              0.4444444444444444,
              "#bd3786"
             ],
             [
              0.5555555555555556,
              "#d8576b"
             ],
             [
              0.6666666666666666,
              "#ed7953"
             ],
             [
              0.7777777777777778,
              "#fb9f3a"
             ],
             [
              0.8888888888888888,
              "#fdca26"
             ],
             [
              1,
              "#f0f921"
             ]
            ],
            "type": "heatmap"
           }
          ],
          "heatmapgl": [
           {
            "colorbar": {
             "outlinewidth": 0,
             "ticks": ""
            },
            "colorscale": [
             [
              0,
              "#0d0887"
             ],
             [
              0.1111111111111111,
              "#46039f"
             ],
             [
              0.2222222222222222,
              "#7201a8"
             ],
             [
              0.3333333333333333,
              "#9c179e"
             ],
             [
              0.4444444444444444,
              "#bd3786"
             ],
             [
              0.5555555555555556,
              "#d8576b"
             ],
             [
              0.6666666666666666,
              "#ed7953"
             ],
             [
              0.7777777777777778,
              "#fb9f3a"
             ],
             [
              0.8888888888888888,
              "#fdca26"
             ],
             [
              1,
              "#f0f921"
             ]
            ],
            "type": "heatmapgl"
           }
          ],
          "histogram": [
           {
            "marker": {
             "pattern": {
              "fillmode": "overlay",
              "size": 10,
              "solidity": 0.2
             }
            },
            "type": "histogram"
           }
          ],
          "histogram2d": [
           {
            "colorbar": {
             "outlinewidth": 0,
             "ticks": ""
            },
            "colorscale": [
             [
              0,
              "#0d0887"
             ],
             [
              0.1111111111111111,
              "#46039f"
             ],
             [
              0.2222222222222222,
              "#7201a8"
             ],
             [
              0.3333333333333333,
              "#9c179e"
             ],
             [
              0.4444444444444444,
              "#bd3786"
             ],
             [
              0.5555555555555556,
              "#d8576b"
             ],
             [
              0.6666666666666666,
              "#ed7953"
             ],
             [
              0.7777777777777778,
              "#fb9f3a"
             ],
             [
              0.8888888888888888,
              "#fdca26"
             ],
             [
              1,
              "#f0f921"
             ]
            ],
            "type": "histogram2d"
           }
          ],
          "histogram2dcontour": [
           {
            "colorbar": {
             "outlinewidth": 0,
             "ticks": ""
            },
            "colorscale": [
             [
              0,
              "#0d0887"
             ],
             [
              0.1111111111111111,
              "#46039f"
             ],
             [
              0.2222222222222222,
              "#7201a8"
             ],
             [
              0.3333333333333333,
              "#9c179e"
             ],
             [
              0.4444444444444444,
              "#bd3786"
             ],
             [
              0.5555555555555556,
              "#d8576b"
             ],
             [
              0.6666666666666666,
              "#ed7953"
             ],
             [
              0.7777777777777778,
              "#fb9f3a"
             ],
             [
              0.8888888888888888,
              "#fdca26"
             ],
             [
              1,
              "#f0f921"
             ]
            ],
            "type": "histogram2dcontour"
           }
          ],
          "mesh3d": [
           {
            "colorbar": {
             "outlinewidth": 0,
             "ticks": ""
            },
            "type": "mesh3d"
           }
          ],
          "parcoords": [
           {
            "line": {
             "colorbar": {
              "outlinewidth": 0,
              "ticks": ""
             }
            },
            "type": "parcoords"
           }
          ],
          "pie": [
           {
            "automargin": true,
            "type": "pie"
           }
          ],
          "scatter": [
           {
            "fillpattern": {
             "fillmode": "overlay",
             "size": 10,
             "solidity": 0.2
            },
            "type": "scatter"
           }
          ],
          "scatter3d": [
           {
            "line": {
             "colorbar": {
              "outlinewidth": 0,
              "ticks": ""
             }
            },
            "marker": {
             "colorbar": {
              "outlinewidth": 0,
              "ticks": ""
             }
            },
            "type": "scatter3d"
           }
          ],
          "scattercarpet": [
           {
            "marker": {
             "colorbar": {
              "outlinewidth": 0,
              "ticks": ""
             }
            },
            "type": "scattercarpet"
           }
          ],
          "scattergeo": [
           {
            "marker": {
             "colorbar": {
              "outlinewidth": 0,
              "ticks": ""
             }
            },
            "type": "scattergeo"
           }
          ],
          "scattergl": [
           {
            "marker": {
             "colorbar": {
              "outlinewidth": 0,
              "ticks": ""
             }
            },
            "type": "scattergl"
           }
          ],
          "scattermapbox": [
           {
            "marker": {
             "colorbar": {
              "outlinewidth": 0,
              "ticks": ""
             }
            },
            "type": "scattermapbox"
           }
          ],
          "scatterpolar": [
           {
            "marker": {
             "colorbar": {
              "outlinewidth": 0,
              "ticks": ""
             }
            },
            "type": "scatterpolar"
           }
          ],
          "scatterpolargl": [
           {
            "marker": {
             "colorbar": {
              "outlinewidth": 0,
              "ticks": ""
             }
            },
            "type": "scatterpolargl"
           }
          ],
          "scatterternary": [
           {
            "marker": {
             "colorbar": {
              "outlinewidth": 0,
              "ticks": ""
             }
            },
            "type": "scatterternary"
           }
          ],
          "surface": [
           {
            "colorbar": {
             "outlinewidth": 0,
             "ticks": ""
            },
            "colorscale": [
             [
              0,
              "#0d0887"
             ],
             [
              0.1111111111111111,
              "#46039f"
             ],
             [
              0.2222222222222222,
              "#7201a8"
             ],
             [
              0.3333333333333333,
              "#9c179e"
             ],
             [
              0.4444444444444444,
              "#bd3786"
             ],
             [
              0.5555555555555556,
              "#d8576b"
             ],
             [
              0.6666666666666666,
              "#ed7953"
             ],
             [
              0.7777777777777778,
              "#fb9f3a"
             ],
             [
              0.8888888888888888,
              "#fdca26"
             ],
             [
              1,
              "#f0f921"
             ]
            ],
            "type": "surface"
           }
          ],
          "table": [
           {
            "cells": {
             "fill": {
              "color": "#EBF0F8"
             },
             "line": {
              "color": "white"
             }
            },
            "header": {
             "fill": {
              "color": "#C8D4E3"
             },
             "line": {
              "color": "white"
             }
            },
            "type": "table"
           }
          ]
         },
         "layout": {
          "annotationdefaults": {
           "arrowcolor": "#2a3f5f",
           "arrowhead": 0,
           "arrowwidth": 1
          },
          "autotypenumbers": "strict",
          "coloraxis": {
           "colorbar": {
            "outlinewidth": 0,
            "ticks": ""
           }
          },
          "colorscale": {
           "diverging": [
            [
             0,
             "#8e0152"
            ],
            [
             0.1,
             "#c51b7d"
            ],
            [
             0.2,
             "#de77ae"
            ],
            [
             0.3,
             "#f1b6da"
            ],
            [
             0.4,
             "#fde0ef"
            ],
            [
             0.5,
             "#f7f7f7"
            ],
            [
             0.6,
             "#e6f5d0"
            ],
            [
             0.7,
             "#b8e186"
            ],
            [
             0.8,
             "#7fbc41"
            ],
            [
             0.9,
             "#4d9221"
            ],
            [
             1,
             "#276419"
            ]
           ],
           "sequential": [
            [
             0,
             "#0d0887"
            ],
            [
             0.1111111111111111,
             "#46039f"
            ],
            [
             0.2222222222222222,
             "#7201a8"
            ],
            [
             0.3333333333333333,
             "#9c179e"
            ],
            [
             0.4444444444444444,
             "#bd3786"
            ],
            [
             0.5555555555555556,
             "#d8576b"
            ],
            [
             0.6666666666666666,
             "#ed7953"
            ],
            [
             0.7777777777777778,
             "#fb9f3a"
            ],
            [
             0.8888888888888888,
             "#fdca26"
            ],
            [
             1,
             "#f0f921"
            ]
           ],
           "sequentialminus": [
            [
             0,
             "#0d0887"
            ],
            [
             0.1111111111111111,
             "#46039f"
            ],
            [
             0.2222222222222222,
             "#7201a8"
            ],
            [
             0.3333333333333333,
             "#9c179e"
            ],
            [
             0.4444444444444444,
             "#bd3786"
            ],
            [
             0.5555555555555556,
             "#d8576b"
            ],
            [
             0.6666666666666666,
             "#ed7953"
            ],
            [
             0.7777777777777778,
             "#fb9f3a"
            ],
            [
             0.8888888888888888,
             "#fdca26"
            ],
            [
             1,
             "#f0f921"
            ]
           ]
          },
          "colorway": [
           "#636efa",
           "#EF553B",
           "#00cc96",
           "#ab63fa",
           "#FFA15A",
           "#19d3f3",
           "#FF6692",
           "#B6E880",
           "#FF97FF",
           "#FECB52"
          ],
          "font": {
           "color": "#2a3f5f"
          },
          "geo": {
           "bgcolor": "white",
           "lakecolor": "white",
           "landcolor": "#E5ECF6",
           "showlakes": true,
           "showland": true,
           "subunitcolor": "white"
          },
          "hoverlabel": {
           "align": "left"
          },
          "hovermode": "closest",
          "mapbox": {
           "style": "light"
          },
          "paper_bgcolor": "white",
          "plot_bgcolor": "#E5ECF6",
          "polar": {
           "angularaxis": {
            "gridcolor": "white",
            "linecolor": "white",
            "ticks": ""
           },
           "bgcolor": "#E5ECF6",
           "radialaxis": {
            "gridcolor": "white",
            "linecolor": "white",
            "ticks": ""
           }
          },
          "scene": {
           "xaxis": {
            "backgroundcolor": "#E5ECF6",
            "gridcolor": "white",
            "gridwidth": 2,
            "linecolor": "white",
            "showbackground": true,
            "ticks": "",
            "zerolinecolor": "white"
           },
           "yaxis": {
            "backgroundcolor": "#E5ECF6",
            "gridcolor": "white",
            "gridwidth": 2,
            "linecolor": "white",
            "showbackground": true,
            "ticks": "",
            "zerolinecolor": "white"
           },
           "zaxis": {
            "backgroundcolor": "#E5ECF6",
            "gridcolor": "white",
            "gridwidth": 2,
            "linecolor": "white",
            "showbackground": true,
            "ticks": "",
            "zerolinecolor": "white"
           }
          },
          "shapedefaults": {
           "line": {
            "color": "#2a3f5f"
           }
          },
          "ternary": {
           "aaxis": {
            "gridcolor": "white",
            "linecolor": "white",
            "ticks": ""
           },
           "baxis": {
            "gridcolor": "white",
            "linecolor": "white",
            "ticks": ""
           },
           "bgcolor": "#E5ECF6",
           "caxis": {
            "gridcolor": "white",
            "linecolor": "white",
            "ticks": ""
           }
          },
          "title": {
           "x": 0.05
          },
          "xaxis": {
           "automargin": true,
           "gridcolor": "white",
           "linecolor": "white",
           "ticks": "",
           "title": {
            "standoff": 15
           },
           "zerolinecolor": "white",
           "zerolinewidth": 2
          },
          "yaxis": {
           "automargin": true,
           "gridcolor": "white",
           "linecolor": "white",
           "ticks": "",
           "title": {
            "standoff": 15
           },
           "zerolinecolor": "white",
           "zerolinewidth": 2
          }
         }
        },
        "title": {
         "text": "Feature Importances in Predicting Site Energy Use (kBtu)"
        },
        "xaxis": {
         "anchor": "y",
         "domain": [
          0,
          1
         ],
         "title": {
          "text": "importance"
         }
        },
        "yaxis": {
         "anchor": "x",
         "domain": [
          0,
          1
         ],
         "title": {
          "text": "feature"
         }
        }
       }
      }
     },
     "metadata": {},
     "output_type": "display_data"
    }
   ],
   "source": [
    "import plotly.express as px\n",
    "\n",
    "# Drop negative values from the DataFrame\n",
    "importance_df = importance_df[importance_df['importance'] > 0]\n",
    "\n",
    "# Sorting values for better visualization\n",
    "importance_df_sorted = importance_df.sort_values(by='importance')\n",
    "\n",
    "# Creating the plot\n",
    "fig = px.bar(importance_df_sorted, x='importance', y='feature', orientation='h', title=\"Feature Importances in Predicting Site Energy Use (kBtu)\")\n",
    "fig.show()"
   ]
  },
  {
   "cell_type": "markdown",
   "metadata": {},
   "source": [
    "Nos analyses nous permettent de constater que les colonnes utiles pour les prédictions de TotalGHGEmissions (Emission de co²) et de SiteEnergyUse(kBtu) (Utilisation totale d'énergie) sont les suivantes :\n",
    "- NumberofFloors\n",
    "- NaturalGas(therms)\n",
    "- PropertyGFAParking\n",
    "- NaturalGas(kBtu)\n",
    "- PrimaryPropertyType\n",
    "- BuildingType\n",
    "- Neighborhood_DOWNTOWN\n",
    "- Neighborhood_GREATER DUWAMISH\n",
    "- NumberofBuildings\n",
    "- SteamUse(kBtu)"
   ]
  },
  {
   "cell_type": "code",
   "execution_count": 194,
   "metadata": {},
   "outputs": [
    {
     "name": "stdout",
     "output_type": "stream",
     "text": [
      "<class 'pandas.core.frame.DataFrame'>\n",
      "RangeIndex: 3337 entries, 0 to 3336\n",
      "Data columns (total 12 columns):\n",
      " #   Column                         Non-Null Count  Dtype  \n",
      "---  ------                         --------------  -----  \n",
      " 0   TotalGHGEmissions              3337 non-null   float64\n",
      " 1   SiteEnergyUse(kBtu)            3337 non-null   float64\n",
      " 2   NumberofFloors                 3337 non-null   float64\n",
      " 3   NaturalGas(therms)             3337 non-null   float64\n",
      " 4   PropertyGFAParking             3337 non-null   int64  \n",
      " 5   NaturalGas(kBtu)               3337 non-null   float64\n",
      " 6   PrimaryPropertyType            3337 non-null   int64  \n",
      " 7   BuildingType                   3337 non-null   int64  \n",
      " 8   Neighborhood_DOWNTOWN          3337 non-null   float64\n",
      " 9   Neighborhood_GREATER DUWAMISH  3337 non-null   float64\n",
      " 10  NumberofBuildings              3337 non-null   float64\n",
      " 11  SteamUse(kBtu)                 3337 non-null   float64\n",
      "dtypes: float64(9), int64(3)\n",
      "memory usage: 313.0 KB\n"
     ]
    }
   ],
   "source": [
    "df = pd.read_csv('data/clean.csv')\n",
    "\n",
    "# Only keep the following columns : NumberofFloors, NaturalGas(therms), PropertyGFAParking, NaturalGas(kBtu), PrimaryPropertyType, BuildingType, Neighborhood_DOWNTOWN, Neighborhood_GREATER DUWAMISH, NumberofBuildings, SteamUse(kBtu)\n",
    "df = df[['TotalGHGEmissions', 'SiteEnergyUse(kBtu)', 'NumberofFloors', 'NaturalGas(therms)', 'PropertyGFAParking', 'NaturalGas(kBtu)', 'PrimaryPropertyType', 'BuildingType', 'Neighborhood_DOWNTOWN', 'Neighborhood_GREATER DUWAMISH', 'NumberofBuildings', 'SteamUse(kBtu)']]\n",
    "df.info()"
   ]
  },
  {
   "cell_type": "code",
   "execution_count": 195,
   "metadata": {},
   "outputs": [
    {
     "data": {
      "text/html": [
       "<div>\n",
       "<style scoped>\n",
       "    .dataframe tbody tr th:only-of-type {\n",
       "        vertical-align: middle;\n",
       "    }\n",
       "\n",
       "    .dataframe tbody tr th {\n",
       "        vertical-align: top;\n",
       "    }\n",
       "\n",
       "    .dataframe thead th {\n",
       "        text-align: right;\n",
       "    }\n",
       "</style>\n",
       "<table border=\"1\" class=\"dataframe\">\n",
       "  <thead>\n",
       "    <tr style=\"text-align: right;\">\n",
       "      <th></th>\n",
       "      <th>TotalGHGEmissions</th>\n",
       "      <th>SiteEnergyUse(kBtu)</th>\n",
       "      <th>NumberofFloors</th>\n",
       "      <th>NaturalGas(therms)</th>\n",
       "      <th>PropertyGFAParking</th>\n",
       "      <th>NaturalGas(kBtu)</th>\n",
       "      <th>PrimaryPropertyType</th>\n",
       "      <th>BuildingType</th>\n",
       "      <th>Neighborhood_DOWNTOWN</th>\n",
       "      <th>Neighborhood_GREATER DUWAMISH</th>\n",
       "      <th>NumberofBuildings</th>\n",
       "      <th>SteamUse(kBtu)</th>\n",
       "    </tr>\n",
       "  </thead>\n",
       "  <tbody>\n",
       "    <tr>\n",
       "      <th>count</th>\n",
       "      <td>3337.000000</td>\n",
       "      <td>3.337000e+03</td>\n",
       "      <td>3337.000000</td>\n",
       "      <td>3.337000e+03</td>\n",
       "      <td>3337.000000</td>\n",
       "      <td>3.337000e+03</td>\n",
       "      <td>3337.000000</td>\n",
       "      <td>3337.000000</td>\n",
       "      <td>3337.000000</td>\n",
       "      <td>3337.000000</td>\n",
       "      <td>3337.000000</td>\n",
       "      <td>3.337000e+03</td>\n",
       "    </tr>\n",
       "    <tr>\n",
       "      <th>mean</th>\n",
       "      <td>120.311768</td>\n",
       "      <td>5.446219e+06</td>\n",
       "      <td>1.198690</td>\n",
       "      <td>1.373151e+04</td>\n",
       "      <td>8063.891819</td>\n",
       "      <td>1.373151e+06</td>\n",
       "      <td>1.002098</td>\n",
       "      <td>0.492958</td>\n",
       "      <td>0.169613</td>\n",
       "      <td>0.112376</td>\n",
       "      <td>1.107582</td>\n",
       "      <td>2.770645e+05</td>\n",
       "    </tr>\n",
       "    <tr>\n",
       "      <th>std</th>\n",
       "      <td>541.137183</td>\n",
       "      <td>2.171484e+07</td>\n",
       "      <td>1.029832</td>\n",
       "      <td>6.737705e+04</td>\n",
       "      <td>32475.541333</td>\n",
       "      <td>6.737705e+06</td>\n",
       "      <td>1.221925</td>\n",
       "      <td>0.500025</td>\n",
       "      <td>0.375349</td>\n",
       "      <td>0.315876</td>\n",
       "      <td>2.118095</td>\n",
       "      <td>3.929638e+06</td>\n",
       "    </tr>\n",
       "    <tr>\n",
       "      <th>min</th>\n",
       "      <td>-0.800000</td>\n",
       "      <td>1.340900e+04</td>\n",
       "      <td>-9.210340</td>\n",
       "      <td>0.000000e+00</td>\n",
       "      <td>0.000000</td>\n",
       "      <td>0.000000e+00</td>\n",
       "      <td>0.000000</td>\n",
       "      <td>0.000000</td>\n",
       "      <td>0.000000</td>\n",
       "      <td>0.000000</td>\n",
       "      <td>0.000000</td>\n",
       "      <td>0.000000e+00</td>\n",
       "    </tr>\n",
       "    <tr>\n",
       "      <th>25%</th>\n",
       "      <td>9.580000</td>\n",
       "      <td>9.366165e+05</td>\n",
       "      <td>0.693197</td>\n",
       "      <td>0.000000e+00</td>\n",
       "      <td>0.000000</td>\n",
       "      <td>0.000000e+00</td>\n",
       "      <td>0.000000</td>\n",
       "      <td>0.000000</td>\n",
       "      <td>0.000000</td>\n",
       "      <td>0.000000</td>\n",
       "      <td>1.000000</td>\n",
       "      <td>0.000000e+00</td>\n",
       "    </tr>\n",
       "    <tr>\n",
       "      <th>50%</th>\n",
       "      <td>34.110000</td>\n",
       "      <td>1.814947e+06</td>\n",
       "      <td>1.386319</td>\n",
       "      <td>3.259356e+03</td>\n",
       "      <td>0.000000</td>\n",
       "      <td>3.259360e+05</td>\n",
       "      <td>0.000000</td>\n",
       "      <td>0.000000</td>\n",
       "      <td>0.000000</td>\n",
       "      <td>0.000000</td>\n",
       "      <td>1.000000</td>\n",
       "      <td>0.000000e+00</td>\n",
       "    </tr>\n",
       "    <tr>\n",
       "      <th>75%</th>\n",
       "      <td>94.020000</td>\n",
       "      <td>4.236396e+06</td>\n",
       "      <td>1.609458</td>\n",
       "      <td>1.189904e+04</td>\n",
       "      <td>0.000000</td>\n",
       "      <td>1.189904e+06</td>\n",
       "      <td>2.000000</td>\n",
       "      <td>1.000000</td>\n",
       "      <td>0.000000</td>\n",
       "      <td>0.000000</td>\n",
       "      <td>1.000000</td>\n",
       "      <td>0.000000e+00</td>\n",
       "    </tr>\n",
       "    <tr>\n",
       "      <th>max</th>\n",
       "      <td>16870.980000</td>\n",
       "      <td>8.739237e+08</td>\n",
       "      <td>4.595121</td>\n",
       "      <td>2.979090e+06</td>\n",
       "      <td>512608.000000</td>\n",
       "      <td>2.979090e+08</td>\n",
       "      <td>3.000000</td>\n",
       "      <td>1.000000</td>\n",
       "      <td>1.000000</td>\n",
       "      <td>1.000000</td>\n",
       "      <td>111.000000</td>\n",
       "      <td>1.349435e+08</td>\n",
       "    </tr>\n",
       "  </tbody>\n",
       "</table>\n",
       "</div>"
      ],
      "text/plain": [
       "       TotalGHGEmissions  SiteEnergyUse(kBtu)  NumberofFloors  \\\n",
       "count        3337.000000         3.337000e+03     3337.000000   \n",
       "mean          120.311768         5.446219e+06        1.198690   \n",
       "std           541.137183         2.171484e+07        1.029832   \n",
       "min            -0.800000         1.340900e+04       -9.210340   \n",
       "25%             9.580000         9.366165e+05        0.693197   \n",
       "50%            34.110000         1.814947e+06        1.386319   \n",
       "75%            94.020000         4.236396e+06        1.609458   \n",
       "max         16870.980000         8.739237e+08        4.595121   \n",
       "\n",
       "       NaturalGas(therms)  PropertyGFAParking  NaturalGas(kBtu)  \\\n",
       "count        3.337000e+03         3337.000000      3.337000e+03   \n",
       "mean         1.373151e+04         8063.891819      1.373151e+06   \n",
       "std          6.737705e+04        32475.541333      6.737705e+06   \n",
       "min          0.000000e+00            0.000000      0.000000e+00   \n",
       "25%          0.000000e+00            0.000000      0.000000e+00   \n",
       "50%          3.259356e+03            0.000000      3.259360e+05   \n",
       "75%          1.189904e+04            0.000000      1.189904e+06   \n",
       "max          2.979090e+06       512608.000000      2.979090e+08   \n",
       "\n",
       "       PrimaryPropertyType  BuildingType  Neighborhood_DOWNTOWN  \\\n",
       "count          3337.000000   3337.000000            3337.000000   \n",
       "mean              1.002098      0.492958               0.169613   \n",
       "std               1.221925      0.500025               0.375349   \n",
       "min               0.000000      0.000000               0.000000   \n",
       "25%               0.000000      0.000000               0.000000   \n",
       "50%               0.000000      0.000000               0.000000   \n",
       "75%               2.000000      1.000000               0.000000   \n",
       "max               3.000000      1.000000               1.000000   \n",
       "\n",
       "       Neighborhood_GREATER DUWAMISH  NumberofBuildings  SteamUse(kBtu)  \n",
       "count                    3337.000000        3337.000000    3.337000e+03  \n",
       "mean                        0.112376           1.107582    2.770645e+05  \n",
       "std                         0.315876           2.118095    3.929638e+06  \n",
       "min                         0.000000           0.000000    0.000000e+00  \n",
       "25%                         0.000000           1.000000    0.000000e+00  \n",
       "50%                         0.000000           1.000000    0.000000e+00  \n",
       "75%                         0.000000           1.000000    0.000000e+00  \n",
       "max                         1.000000         111.000000    1.349435e+08  "
      ]
     },
     "execution_count": 195,
     "metadata": {},
     "output_type": "execute_result"
    }
   ],
   "source": [
    "df.describe()"
   ]
  },
  {
   "cell_type": "code",
   "execution_count": 196,
   "metadata": {},
   "outputs": [
    {
     "name": "stdout",
     "output_type": "stream",
     "text": [
      "Fitting 3 folds for each of 48 candidates, totalling 144 fits\n"
     ]
    },
    {
     "data": {
      "text/html": [
       "<style>#sk-container-id-6 {color: black;}#sk-container-id-6 pre{padding: 0;}#sk-container-id-6 div.sk-toggleable {background-color: white;}#sk-container-id-6 label.sk-toggleable__label {cursor: pointer;display: block;width: 100%;margin-bottom: 0;padding: 0.3em;box-sizing: border-box;text-align: center;}#sk-container-id-6 label.sk-toggleable__label-arrow:before {content: \"▸\";float: left;margin-right: 0.25em;color: #696969;}#sk-container-id-6 label.sk-toggleable__label-arrow:hover:before {color: black;}#sk-container-id-6 div.sk-estimator:hover label.sk-toggleable__label-arrow:before {color: black;}#sk-container-id-6 div.sk-toggleable__content {max-height: 0;max-width: 0;overflow: hidden;text-align: left;background-color: #f0f8ff;}#sk-container-id-6 div.sk-toggleable__content pre {margin: 0.2em;color: black;border-radius: 0.25em;background-color: #f0f8ff;}#sk-container-id-6 input.sk-toggleable__control:checked~div.sk-toggleable__content {max-height: 200px;max-width: 100%;overflow: auto;}#sk-container-id-6 input.sk-toggleable__control:checked~label.sk-toggleable__label-arrow:before {content: \"▾\";}#sk-container-id-6 div.sk-estimator input.sk-toggleable__control:checked~label.sk-toggleable__label {background-color: #d4ebff;}#sk-container-id-6 div.sk-label input.sk-toggleable__control:checked~label.sk-toggleable__label {background-color: #d4ebff;}#sk-container-id-6 input.sk-hidden--visually {border: 0;clip: rect(1px 1px 1px 1px);clip: rect(1px, 1px, 1px, 1px);height: 1px;margin: -1px;overflow: hidden;padding: 0;position: absolute;width: 1px;}#sk-container-id-6 div.sk-estimator {font-family: monospace;background-color: #f0f8ff;border: 1px dotted black;border-radius: 0.25em;box-sizing: border-box;margin-bottom: 0.5em;}#sk-container-id-6 div.sk-estimator:hover {background-color: #d4ebff;}#sk-container-id-6 div.sk-parallel-item::after {content: \"\";width: 100%;border-bottom: 1px solid gray;flex-grow: 1;}#sk-container-id-6 div.sk-label:hover label.sk-toggleable__label {background-color: #d4ebff;}#sk-container-id-6 div.sk-serial::before {content: \"\";position: absolute;border-left: 1px solid gray;box-sizing: border-box;top: 0;bottom: 0;left: 50%;z-index: 0;}#sk-container-id-6 div.sk-serial {display: flex;flex-direction: column;align-items: center;background-color: white;padding-right: 0.2em;padding-left: 0.2em;position: relative;}#sk-container-id-6 div.sk-item {position: relative;z-index: 1;}#sk-container-id-6 div.sk-parallel {display: flex;align-items: stretch;justify-content: center;background-color: white;position: relative;}#sk-container-id-6 div.sk-item::before, #sk-container-id-6 div.sk-parallel-item::before {content: \"\";position: absolute;border-left: 1px solid gray;box-sizing: border-box;top: 0;bottom: 0;left: 50%;z-index: -1;}#sk-container-id-6 div.sk-parallel-item {display: flex;flex-direction: column;z-index: 1;position: relative;background-color: white;}#sk-container-id-6 div.sk-parallel-item:first-child::after {align-self: flex-end;width: 50%;}#sk-container-id-6 div.sk-parallel-item:last-child::after {align-self: flex-start;width: 50%;}#sk-container-id-6 div.sk-parallel-item:only-child::after {width: 0;}#sk-container-id-6 div.sk-dashed-wrapped {border: 1px dashed gray;margin: 0 0.4em 0.5em 0.4em;box-sizing: border-box;padding-bottom: 0.4em;background-color: white;}#sk-container-id-6 div.sk-label label {font-family: monospace;font-weight: bold;display: inline-block;line-height: 1.2em;}#sk-container-id-6 div.sk-label-container {text-align: center;}#sk-container-id-6 div.sk-container {/* jupyter's `normalize.less` sets `[hidden] { display: none; }` but bootstrap.min.css set `[hidden] { display: none !important; }` so we also need the `!important` here to be able to override the default hidden behavior on the sphinx rendered scikit-learn.org. See: https://github.com/scikit-learn/scikit-learn/issues/21755 */display: inline-block !important;position: relative;}#sk-container-id-6 div.sk-text-repr-fallback {display: none;}</style><div id=\"sk-container-id-6\" class=\"sk-top-container\"><div class=\"sk-text-repr-fallback\"><pre>GridSearchCV(cv=3, estimator=RandomForestRegressor(random_state=42), n_jobs=-1,\n",
       "             param_grid={&#x27;max_depth&#x27;: [13], &#x27;max_features&#x27;: [4, 5, 6, 7, 8, 9],\n",
       "                         &#x27;n_estimators&#x27;: [10, 20, 30, 40, 50, 60, 70, 80]},\n",
       "             verbose=2)</pre><b>In a Jupyter environment, please rerun this cell to show the HTML representation or trust the notebook. <br />On GitHub, the HTML representation is unable to render, please try loading this page with nbviewer.org.</b></div><div class=\"sk-container\" hidden><div class=\"sk-item sk-dashed-wrapped\"><div class=\"sk-label-container\"><div class=\"sk-label sk-toggleable\"><input class=\"sk-toggleable__control sk-hidden--visually\" id=\"sk-estimator-id-16\" type=\"checkbox\" ><label for=\"sk-estimator-id-16\" class=\"sk-toggleable__label sk-toggleable__label-arrow\">GridSearchCV</label><div class=\"sk-toggleable__content\"><pre>GridSearchCV(cv=3, estimator=RandomForestRegressor(random_state=42), n_jobs=-1,\n",
       "             param_grid={&#x27;max_depth&#x27;: [13], &#x27;max_features&#x27;: [4, 5, 6, 7, 8, 9],\n",
       "                         &#x27;n_estimators&#x27;: [10, 20, 30, 40, 50, 60, 70, 80]},\n",
       "             verbose=2)</pre></div></div></div><div class=\"sk-parallel\"><div class=\"sk-parallel-item\"><div class=\"sk-item\"><div class=\"sk-label-container\"><div class=\"sk-label sk-toggleable\"><input class=\"sk-toggleable__control sk-hidden--visually\" id=\"sk-estimator-id-17\" type=\"checkbox\" ><label for=\"sk-estimator-id-17\" class=\"sk-toggleable__label sk-toggleable__label-arrow\">estimator: RandomForestRegressor</label><div class=\"sk-toggleable__content\"><pre>RandomForestRegressor(random_state=42)</pre></div></div></div><div class=\"sk-serial\"><div class=\"sk-item\"><div class=\"sk-estimator sk-toggleable\"><input class=\"sk-toggleable__control sk-hidden--visually\" id=\"sk-estimator-id-18\" type=\"checkbox\" ><label for=\"sk-estimator-id-18\" class=\"sk-toggleable__label sk-toggleable__label-arrow\">RandomForestRegressor</label><div class=\"sk-toggleable__content\"><pre>RandomForestRegressor(random_state=42)</pre></div></div></div></div></div></div></div></div></div></div>"
      ],
      "text/plain": [
       "GridSearchCV(cv=3, estimator=RandomForestRegressor(random_state=42), n_jobs=-1,\n",
       "             param_grid={'max_depth': [13], 'max_features': [4, 5, 6, 7, 8, 9],\n",
       "                         'n_estimators': [10, 20, 30, 40, 50, 60, 70, 80]},\n",
       "             verbose=2)"
      ]
     },
     "execution_count": 196,
     "metadata": {},
     "output_type": "execute_result"
    }
   ],
   "source": [
    "# Make a GridSearch to find the best parameters for the model\n",
    "from sklearn.model_selection import GridSearchCV\n",
    "from sklearn.ensemble import RandomForestRegressor\n",
    "from sklearn.model_selection import train_test_split\n",
    "from sklearn.metrics import mean_squared_error\n",
    "\n",
    "# Assuming 'df' is your DataFrame\n",
    "y = df['TotalGHGEmissions']\n",
    "X = df.drop('TotalGHGEmissions', axis=1)\n",
    "\n",
    "# Splitting the dataset into training and testing sets\n",
    "X_train, X_test, y_train, y_test = train_test_split(X, y, test_size=0.2)\n",
    "\n",
    "# Creating the GridSearchCV object\n",
    "model = RandomForestRegressor(random_state=42)\n",
    "\n",
    "param_grid = {\n",
    "    'n_estimators': [10,20,30,40,50,60,70,80],\n",
    "    'max_depth': [13],\n",
    "    'max_features': [4, 5, 6, 7,8,9]\n",
    "}\n",
    "\n",
    "grid_search = GridSearchCV(estimator=model, param_grid=param_grid, cv=3, n_jobs=-1, verbose=2)\n",
    "\n",
    "# Training the model\n",
    "grid_search.fit(X_train, y_train)\n",
    "\n",
    "\n",
    "\n",
    "\n"
   ]
  },
  {
   "cell_type": "code",
   "execution_count": 197,
   "metadata": {},
   "outputs": [
    {
     "data": {
      "application/vnd.plotly.v1+json": {
       "config": {
        "plotlyServerURL": "https://plot.ly"
       },
       "data": [
        {
         "colorscale": [
          [
           0,
           "rgb(165,0,38)"
          ],
          [
           0.1,
           "rgb(215,48,39)"
          ],
          [
           0.2,
           "rgb(244,109,67)"
          ],
          [
           0.3,
           "rgb(253,174,97)"
          ],
          [
           0.4,
           "rgb(254,224,139)"
          ],
          [
           0.5,
           "rgb(255,255,191)"
          ],
          [
           0.6,
           "rgb(217,239,139)"
          ],
          [
           0.7,
           "rgb(166,217,106)"
          ],
          [
           0.8,
           "rgb(102,189,99)"
          ],
          [
           0.9,
           "rgb(26,152,80)"
          ],
          [
           1,
           "rgb(0,104,55)"
          ]
         ],
         "hoverinfo": "z+text",
         "reversescale": false,
         "text": [
          [
           "74.61%",
           "84.80%",
           "82.07%",
           "80.98%",
           "83.75%",
           "81.98%"
          ],
          [
           "75.92%",
           "81.48%",
           "82.34%",
           "82.77%",
           "84.05%",
           "82.74%"
          ],
          [
           "78.72%",
           "82.88%",
           "84.13%",
           "85.52%",
           "85.88%",
           "83.93%"
          ],
          [
           "80.04%",
           "84.26%",
           "84.34%",
           "86.83%",
           "86.26%",
           "84.68%"
          ],
          [
           "81.05%",
           "83.56%",
           "84.83%",
           "86.88%",
           "85.54%",
           "84.00%"
          ],
          [
           "81.40%",
           "83.07%",
           "84.18%",
           "86.26%",
           "84.65%",
           "83.29%"
          ],
          [
           "82.18%",
           "83.32%",
           "84.42%",
           "85.77%",
           "84.49%",
           "83.52%"
          ],
          [
           "82.03%",
           "83.23%",
           "84.29%",
           "85.54%",
           "84.45%",
           "83.41%"
          ]
         ],
         "texttemplate": "%{text}",
         "type": "heatmap",
         "x": [
          "4",
          "5",
          "6",
          "7",
          "8",
          "9"
         ],
         "y": [
          "10",
          "20",
          "30",
          "40",
          "50",
          "60",
          "70",
          "80"
         ],
         "z": [
          [
           0.7461087032879247,
           0.8480253777878358,
           0.8207223791854599,
           0.809778119789315,
           0.8374916156353601,
           0.8197694520268087
          ],
          [
           0.7592454699555203,
           0.8148479769356539,
           0.8233823346305558,
           0.8276861058083416,
           0.8404939834468007,
           0.8274343978255341
          ],
          [
           0.7872240792220725,
           0.8287902396213903,
           0.8413461837837244,
           0.855185863136243,
           0.8587859604953043,
           0.83928810275112
          ],
          [
           0.8004479489297006,
           0.8426115010580223,
           0.8434119440370607,
           0.868268042759409,
           0.862569139076284,
           0.8467764971969602
          ],
          [
           0.8104557429025232,
           0.8355864996732372,
           0.8483125223273685,
           0.8687775962781491,
           0.8554402395134745,
           0.8399707081940773
          ],
          [
           0.8140348047709045,
           0.8306681686779461,
           0.8417593981419689,
           0.8626480500810603,
           0.8464505211771959,
           0.8329211506862907
          ],
          [
           0.8217933990920415,
           0.8331679853863001,
           0.8442088519093298,
           0.8577229120498305,
           0.8449328261443911,
           0.8351839362922058
          ],
          [
           0.8202811937207937,
           0.832337856424925,
           0.8428774465971952,
           0.8553741627857677,
           0.844506769959047,
           0.8341089876589564
          ]
         ]
        }
       ],
       "layout": {
        "height": 500,
        "template": {
         "data": {
          "bar": [
           {
            "error_x": {
             "color": "#2a3f5f"
            },
            "error_y": {
             "color": "#2a3f5f"
            },
            "marker": {
             "line": {
              "color": "#E5ECF6",
              "width": 0.5
             },
             "pattern": {
              "fillmode": "overlay",
              "size": 10,
              "solidity": 0.2
             }
            },
            "type": "bar"
           }
          ],
          "barpolar": [
           {
            "marker": {
             "line": {
              "color": "#E5ECF6",
              "width": 0.5
             },
             "pattern": {
              "fillmode": "overlay",
              "size": 10,
              "solidity": 0.2
             }
            },
            "type": "barpolar"
           }
          ],
          "carpet": [
           {
            "aaxis": {
             "endlinecolor": "#2a3f5f",
             "gridcolor": "white",
             "linecolor": "white",
             "minorgridcolor": "white",
             "startlinecolor": "#2a3f5f"
            },
            "baxis": {
             "endlinecolor": "#2a3f5f",
             "gridcolor": "white",
             "linecolor": "white",
             "minorgridcolor": "white",
             "startlinecolor": "#2a3f5f"
            },
            "type": "carpet"
           }
          ],
          "choropleth": [
           {
            "colorbar": {
             "outlinewidth": 0,
             "ticks": ""
            },
            "type": "choropleth"
           }
          ],
          "contour": [
           {
            "colorbar": {
             "outlinewidth": 0,
             "ticks": ""
            },
            "colorscale": [
             [
              0,
              "#0d0887"
             ],
             [
              0.1111111111111111,
              "#46039f"
             ],
             [
              0.2222222222222222,
              "#7201a8"
             ],
             [
              0.3333333333333333,
              "#9c179e"
             ],
             [
              0.4444444444444444,
              "#bd3786"
             ],
             [
              0.5555555555555556,
              "#d8576b"
             ],
             [
              0.6666666666666666,
              "#ed7953"
             ],
             [
              0.7777777777777778,
              "#fb9f3a"
             ],
             [
              0.8888888888888888,
              "#fdca26"
             ],
             [
              1,
              "#f0f921"
             ]
            ],
            "type": "contour"
           }
          ],
          "contourcarpet": [
           {
            "colorbar": {
             "outlinewidth": 0,
             "ticks": ""
            },
            "type": "contourcarpet"
           }
          ],
          "heatmap": [
           {
            "colorbar": {
             "outlinewidth": 0,
             "ticks": ""
            },
            "colorscale": [
             [
              0,
              "#0d0887"
             ],
             [
              0.1111111111111111,
              "#46039f"
             ],
             [
              0.2222222222222222,
              "#7201a8"
             ],
             [
              0.3333333333333333,
              "#9c179e"
             ],
             [
              0.4444444444444444,
              "#bd3786"
             ],
             [
              0.5555555555555556,
              "#d8576b"
             ],
             [
              0.6666666666666666,
              "#ed7953"
             ],
             [
              0.7777777777777778,
              "#fb9f3a"
             ],
             [
              0.8888888888888888,
              "#fdca26"
             ],
             [
              1,
              "#f0f921"
             ]
            ],
            "type": "heatmap"
           }
          ],
          "heatmapgl": [
           {
            "colorbar": {
             "outlinewidth": 0,
             "ticks": ""
            },
            "colorscale": [
             [
              0,
              "#0d0887"
             ],
             [
              0.1111111111111111,
              "#46039f"
             ],
             [
              0.2222222222222222,
              "#7201a8"
             ],
             [
              0.3333333333333333,
              "#9c179e"
             ],
             [
              0.4444444444444444,
              "#bd3786"
             ],
             [
              0.5555555555555556,
              "#d8576b"
             ],
             [
              0.6666666666666666,
              "#ed7953"
             ],
             [
              0.7777777777777778,
              "#fb9f3a"
             ],
             [
              0.8888888888888888,
              "#fdca26"
             ],
             [
              1,
              "#f0f921"
             ]
            ],
            "type": "heatmapgl"
           }
          ],
          "histogram": [
           {
            "marker": {
             "pattern": {
              "fillmode": "overlay",
              "size": 10,
              "solidity": 0.2
             }
            },
            "type": "histogram"
           }
          ],
          "histogram2d": [
           {
            "colorbar": {
             "outlinewidth": 0,
             "ticks": ""
            },
            "colorscale": [
             [
              0,
              "#0d0887"
             ],
             [
              0.1111111111111111,
              "#46039f"
             ],
             [
              0.2222222222222222,
              "#7201a8"
             ],
             [
              0.3333333333333333,
              "#9c179e"
             ],
             [
              0.4444444444444444,
              "#bd3786"
             ],
             [
              0.5555555555555556,
              "#d8576b"
             ],
             [
              0.6666666666666666,
              "#ed7953"
             ],
             [
              0.7777777777777778,
              "#fb9f3a"
             ],
             [
              0.8888888888888888,
              "#fdca26"
             ],
             [
              1,
              "#f0f921"
             ]
            ],
            "type": "histogram2d"
           }
          ],
          "histogram2dcontour": [
           {
            "colorbar": {
             "outlinewidth": 0,
             "ticks": ""
            },
            "colorscale": [
             [
              0,
              "#0d0887"
             ],
             [
              0.1111111111111111,
              "#46039f"
             ],
             [
              0.2222222222222222,
              "#7201a8"
             ],
             [
              0.3333333333333333,
              "#9c179e"
             ],
             [
              0.4444444444444444,
              "#bd3786"
             ],
             [
              0.5555555555555556,
              "#d8576b"
             ],
             [
              0.6666666666666666,
              "#ed7953"
             ],
             [
              0.7777777777777778,
              "#fb9f3a"
             ],
             [
              0.8888888888888888,
              "#fdca26"
             ],
             [
              1,
              "#f0f921"
             ]
            ],
            "type": "histogram2dcontour"
           }
          ],
          "mesh3d": [
           {
            "colorbar": {
             "outlinewidth": 0,
             "ticks": ""
            },
            "type": "mesh3d"
           }
          ],
          "parcoords": [
           {
            "line": {
             "colorbar": {
              "outlinewidth": 0,
              "ticks": ""
             }
            },
            "type": "parcoords"
           }
          ],
          "pie": [
           {
            "automargin": true,
            "type": "pie"
           }
          ],
          "scatter": [
           {
            "fillpattern": {
             "fillmode": "overlay",
             "size": 10,
             "solidity": 0.2
            },
            "type": "scatter"
           }
          ],
          "scatter3d": [
           {
            "line": {
             "colorbar": {
              "outlinewidth": 0,
              "ticks": ""
             }
            },
            "marker": {
             "colorbar": {
              "outlinewidth": 0,
              "ticks": ""
             }
            },
            "type": "scatter3d"
           }
          ],
          "scattercarpet": [
           {
            "marker": {
             "colorbar": {
              "outlinewidth": 0,
              "ticks": ""
             }
            },
            "type": "scattercarpet"
           }
          ],
          "scattergeo": [
           {
            "marker": {
             "colorbar": {
              "outlinewidth": 0,
              "ticks": ""
             }
            },
            "type": "scattergeo"
           }
          ],
          "scattergl": [
           {
            "marker": {
             "colorbar": {
              "outlinewidth": 0,
              "ticks": ""
             }
            },
            "type": "scattergl"
           }
          ],
          "scattermapbox": [
           {
            "marker": {
             "colorbar": {
              "outlinewidth": 0,
              "ticks": ""
             }
            },
            "type": "scattermapbox"
           }
          ],
          "scatterpolar": [
           {
            "marker": {
             "colorbar": {
              "outlinewidth": 0,
              "ticks": ""
             }
            },
            "type": "scatterpolar"
           }
          ],
          "scatterpolargl": [
           {
            "marker": {
             "colorbar": {
              "outlinewidth": 0,
              "ticks": ""
             }
            },
            "type": "scatterpolargl"
           }
          ],
          "scatterternary": [
           {
            "marker": {
             "colorbar": {
              "outlinewidth": 0,
              "ticks": ""
             }
            },
            "type": "scatterternary"
           }
          ],
          "surface": [
           {
            "colorbar": {
             "outlinewidth": 0,
             "ticks": ""
            },
            "colorscale": [
             [
              0,
              "#0d0887"
             ],
             [
              0.1111111111111111,
              "#46039f"
             ],
             [
              0.2222222222222222,
              "#7201a8"
             ],
             [
              0.3333333333333333,
              "#9c179e"
             ],
             [
              0.4444444444444444,
              "#bd3786"
             ],
             [
              0.5555555555555556,
              "#d8576b"
             ],
             [
              0.6666666666666666,
              "#ed7953"
             ],
             [
              0.7777777777777778,
              "#fb9f3a"
             ],
             [
              0.8888888888888888,
              "#fdca26"
             ],
             [
              1,
              "#f0f921"
             ]
            ],
            "type": "surface"
           }
          ],
          "table": [
           {
            "cells": {
             "fill": {
              "color": "#EBF0F8"
             },
             "line": {
              "color": "white"
             }
            },
            "header": {
             "fill": {
              "color": "#C8D4E3"
             },
             "line": {
              "color": "white"
             }
            },
            "type": "table"
           }
          ]
         },
         "layout": {
          "annotationdefaults": {
           "arrowcolor": "#2a3f5f",
           "arrowhead": 0,
           "arrowwidth": 1
          },
          "autotypenumbers": "strict",
          "coloraxis": {
           "colorbar": {
            "outlinewidth": 0,
            "ticks": ""
           }
          },
          "colorscale": {
           "diverging": [
            [
             0,
             "#8e0152"
            ],
            [
             0.1,
             "#c51b7d"
            ],
            [
             0.2,
             "#de77ae"
            ],
            [
             0.3,
             "#f1b6da"
            ],
            [
             0.4,
             "#fde0ef"
            ],
            [
             0.5,
             "#f7f7f7"
            ],
            [
             0.6,
             "#e6f5d0"
            ],
            [
             0.7,
             "#b8e186"
            ],
            [
             0.8,
             "#7fbc41"
            ],
            [
             0.9,
             "#4d9221"
            ],
            [
             1,
             "#276419"
            ]
           ],
           "sequential": [
            [
             0,
             "#0d0887"
            ],
            [
             0.1111111111111111,
             "#46039f"
            ],
            [
             0.2222222222222222,
             "#7201a8"
            ],
            [
             0.3333333333333333,
             "#9c179e"
            ],
            [
             0.4444444444444444,
             "#bd3786"
            ],
            [
             0.5555555555555556,
             "#d8576b"
            ],
            [
             0.6666666666666666,
             "#ed7953"
            ],
            [
             0.7777777777777778,
             "#fb9f3a"
            ],
            [
             0.8888888888888888,
             "#fdca26"
            ],
            [
             1,
             "#f0f921"
            ]
           ],
           "sequentialminus": [
            [
             0,
             "#0d0887"
            ],
            [
             0.1111111111111111,
             "#46039f"
            ],
            [
             0.2222222222222222,
             "#7201a8"
            ],
            [
             0.3333333333333333,
             "#9c179e"
            ],
            [
             0.4444444444444444,
             "#bd3786"
            ],
            [
             0.5555555555555556,
             "#d8576b"
            ],
            [
             0.6666666666666666,
             "#ed7953"
            ],
            [
             0.7777777777777778,
             "#fb9f3a"
            ],
            [
             0.8888888888888888,
             "#fdca26"
            ],
            [
             1,
             "#f0f921"
            ]
           ]
          },
          "colorway": [
           "#636efa",
           "#EF553B",
           "#00cc96",
           "#ab63fa",
           "#FFA15A",
           "#19d3f3",
           "#FF6692",
           "#B6E880",
           "#FF97FF",
           "#FECB52"
          ],
          "font": {
           "color": "#2a3f5f"
          },
          "geo": {
           "bgcolor": "white",
           "lakecolor": "white",
           "landcolor": "#E5ECF6",
           "showlakes": true,
           "showland": true,
           "subunitcolor": "white"
          },
          "hoverlabel": {
           "align": "left"
          },
          "hovermode": "closest",
          "mapbox": {
           "style": "light"
          },
          "paper_bgcolor": "white",
          "plot_bgcolor": "#E5ECF6",
          "polar": {
           "angularaxis": {
            "gridcolor": "white",
            "linecolor": "white",
            "ticks": ""
           },
           "bgcolor": "#E5ECF6",
           "radialaxis": {
            "gridcolor": "white",
            "linecolor": "white",
            "ticks": ""
           }
          },
          "scene": {
           "xaxis": {
            "backgroundcolor": "#E5ECF6",
            "gridcolor": "white",
            "gridwidth": 2,
            "linecolor": "white",
            "showbackground": true,
            "ticks": "",
            "zerolinecolor": "white"
           },
           "yaxis": {
            "backgroundcolor": "#E5ECF6",
            "gridcolor": "white",
            "gridwidth": 2,
            "linecolor": "white",
            "showbackground": true,
            "ticks": "",
            "zerolinecolor": "white"
           },
           "zaxis": {
            "backgroundcolor": "#E5ECF6",
            "gridcolor": "white",
            "gridwidth": 2,
            "linecolor": "white",
            "showbackground": true,
            "ticks": "",
            "zerolinecolor": "white"
           }
          },
          "shapedefaults": {
           "line": {
            "color": "#2a3f5f"
           }
          },
          "ternary": {
           "aaxis": {
            "gridcolor": "white",
            "linecolor": "white",
            "ticks": ""
           },
           "baxis": {
            "gridcolor": "white",
            "linecolor": "white",
            "ticks": ""
           },
           "bgcolor": "#E5ECF6",
           "caxis": {
            "gridcolor": "white",
            "linecolor": "white",
            "ticks": ""
           }
          },
          "title": {
           "x": 0.05
          },
          "xaxis": {
           "automargin": true,
           "gridcolor": "white",
           "linecolor": "white",
           "ticks": "",
           "title": {
            "standoff": 15
           },
           "zerolinecolor": "white",
           "zerolinewidth": 2
          },
          "yaxis": {
           "automargin": true,
           "gridcolor": "white",
           "linecolor": "white",
           "ticks": "",
           "title": {
            "standoff": 15
           },
           "zerolinecolor": "white",
           "zerolinewidth": 2
          }
         }
        },
        "title": {
         "text": "Grid Search Results"
        },
        "xaxis": {
         "title": {
          "text": "max_features"
         }
        },
        "yaxis": {
         "title": {
          "text": "n_estimators"
         }
        }
       }
      }
     },
     "metadata": {},
     "output_type": "display_data"
    }
   ],
   "source": [
    "import pandas as pd\n",
    "import plotly.graph_objects as go\n",
    "\n",
    "# Assuming that grid_search.cv_results_ is defined elsewhere and contains the grid search results\n",
    "cv_results = pd.DataFrame(grid_search.cv_results_)\n",
    "\n",
    "cv_results['param_n_estimators'] = cv_results['param_n_estimators'].astype(int)\n",
    "cv_results['param_max_features'] = cv_results['param_max_features'].astype(str)\n",
    "\n",
    "pivot_df = cv_results.pivot(index='param_n_estimators', columns='param_max_features', values='mean_test_score')\n",
    "\n",
    "pivot_df.index = pivot_df.index.astype(str)\n",
    "pivot_df.columns = pivot_df.columns.astype(str)\n",
    "\n",
    "# Create a new DataFrame to hold the percentage format text\n",
    "text = [[f\"{val:.2%}\" for val in row] for row in pivot_df.values]\n",
    "\n",
    "fig = go.Figure(data=go.Heatmap(\n",
    "    z=pivot_df.values,\n",
    "    x=pivot_df.columns.tolist(),\n",
    "    y=pivot_df.index.tolist(),\n",
    "    colorscale='RdYlGn',\n",
    "    reversescale=False,\n",
    "    text=text,  # Add the percentage text\n",
    "    texttemplate=\"%{text}\",  # Use the text from the text argument\n",
    "    hoverinfo=\"z+text\"  # Show the percentage text on hover\n",
    "))\n",
    "\n",
    "fig.update_layout(\n",
    "    title='Grid Search Results',\n",
    "    xaxis_title='max_features',\n",
    "    yaxis_title='n_estimators',\n",
    "    height=500\n",
    ")\n",
    "\n",
    "fig.show()\n"
   ]
  }
 ],
 "metadata": {
  "kernelspec": {
   "display_name": "oc-p3",
   "language": "python",
   "name": "python3"
  },
  "language_info": {
   "codemirror_mode": {
    "name": "ipython",
    "version": 3
   },
   "file_extension": ".py",
   "mimetype": "text/x-python",
   "name": "python",
   "nbconvert_exporter": "python",
   "pygments_lexer": "ipython3",
   "version": "3.10.13"
  }
 },
 "nbformat": 4,
 "nbformat_minor": 2
}
